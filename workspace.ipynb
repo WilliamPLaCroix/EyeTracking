{
 "cells": [
  {
   "cell_type": "markdown",
   "metadata": {},
   "source": [
    "### Hi :)"
   ]
  },
  {
   "cell_type": "code",
   "execution_count": 29,
   "metadata": {},
   "outputs": [
    {
     "data": {
      "text/plain": [
       "Index(['RECORDING_SESSION_LABEL', 'trial', 'IA_ID', 'item', 'list', 'IA_LABEL',\n",
       "       'wordlength', 'condition', 'is_critical', 'is_spill1', 'is_spill2',\n",
       "       'is_spill3', 'filler', 'LF', 'HF', 'function_word', 'other_filler',\n",
       "       'composite', 'fixation_duration', 'duration_firstpass',\n",
       "       'duration_firstfixation', 'fix_count', 'avg_pupil',\n",
       "       'IA_REGRESSION_IN_COUNT', 'IA_REGRESSION_OUT_COUNT', 'saccade_length',\n",
       "       'saccade_duration', 'go_past_time', 'sentenceCondition'],\n",
       "      dtype='object')"
      ]
     },
     "execution_count": 29,
     "metadata": {},
     "output_type": "execute_result"
    }
   ],
   "source": [
    "# imports\n",
    "import pandas as pd\n",
    "from torch.utils.data import Dataset, DataLoader\n",
    "import torch\n",
    "import numpy as np\n",
    "from tqdm import tqdm\n",
    "from itertools import product\n",
    "from sklearn.metrics import accuracy_score, f1_score, confusion_matrix\n",
    "from sklearn.utils.class_weight import compute_class_weight\n",
    "\n",
    "device = torch.device('cuda' if torch.cuda.is_available() else 'cpu')\n",
    "seed = 42\n",
    "\n",
    "data = pd.read_csv('data.csv', delimiter=';')\n",
    "data.keys()"
   ]
  },
  {
   "cell_type": "code",
   "execution_count": 41,
   "metadata": {},
   "outputs": [
    {
     "name": "stdout",
     "output_type": "stream",
     "text": [
      "RECORDING_SESSION_LABEL    10m23r210m23r210m23r210m23r210m23r210m23r210m2...\n",
      "trial                                                                 155467\n",
      "IA_ID                                                                  81183\n",
      "item                                                                  164546\n",
      "list                                                                   27760\n",
      "IA_LABEL                   VielGeldwurdeinvestiert,bevorderSatellitendlic...\n",
      "wordlength                                                             63301\n",
      "condition                  nonenonenonenonenonenonecontrolnonenonenonenon...\n",
      "is_critical                                                              343\n",
      "is_spill1                                                                343\n",
      "is_spill2                                                                343\n",
      "is_spill3                                                                343\n",
      "filler                                                                   984\n",
      "LF                                                                       320\n",
      "HF                                                                       413\n",
      "function_word                                                              0\n",
      "other_filler                                                             251\n",
      "composite                                                         317.431597\n",
      "fixation_duration                                                    3913536\n",
      "duration_firstpass                                                   2784288\n",
      "duration_firstfixation                                               2177166\n",
      "fix_count                                                              17007\n",
      "avg_pupil                                                    11163129.161157\n",
      "IA_REGRESSION_IN_COUNT                                                  3197\n",
      "IA_REGRESSION_OUT_COUNT                                                 2266\n",
      "saccade_length                                                 715717.495032\n",
      "saccade_duration                                                      179464\n",
      "go_past_time                                                         4290918\n",
      "sentenceCondition          controlcontrolcontrolcontrolcontrolcontrolcont...\n",
      "dtype: object\n"
     ]
    }
   ],
   "source": [
    "print(data.sum())"
   ]
  },
  {
   "cell_type": "code",
   "execution_count": 38,
   "metadata": {},
   "outputs": [
    {
     "name": "stdout",
     "output_type": "stream",
     "text": [
      "343\n",
      "343\n"
     ]
    }
   ],
   "source": [
    "\n",
    "dropped = data.loc[data['is_critical'] == 1].copy()\n",
    "dropped.drop([\"RECORDING_SESSION_LABEL\", \"trial\", \"IA_ID\", \"item\", \"list\", \"IA_LABEL\", \"wordlength\", \"is_critical\", \n",
    "              'is_spill1', 'is_spill2', 'is_spill3', 'filler', 'LF', 'HF', 'function_word', 'other_filler', \"composite\"], axis=1, inplace=True)\n",
    "print(len(dropped))\n",
    "dropped[[\"condition\", \"sentenceCondition\"]] = dropped[[\"condition\", \"sentenceCondition\"]].map(lambda x: x.replace(\"none\", \"0\"))\n",
    "dropped[[\"condition\", \"sentenceCondition\"]] = dropped[[\"condition\", \"sentenceCondition\"]].map(lambda x: x.replace(\"control\", \"0\"))\n",
    "dropped[[\"condition\", \"sentenceCondition\"]] = dropped[[\"condition\", \"sentenceCondition\"]].map(lambda x: x.replace(\"pseudo\", \"1\"))\n",
    "dropped[[\"condition\", \"sentenceCondition\"]] = dropped[[\"condition\", \"sentenceCondition\"]].map(lambda x: x.replace(\"filler\", \"0\"))\n",
    "\n",
    "print(len(dropped))\n",
    "\n",
    "labels = dropped[\"condition\"].copy()\n",
    "labels = labels.astype('int')\n",
    "features = dropped.copy().drop([\"condition\", \"sentenceCondition\"], axis=1)\n",
    "features = features.astype('float')\n",
    "features = (features - features.mean()) / features.std()\n",
    "\n",
    "class CustomDataset(Dataset):\n",
    "    def __init__(self, features, labels):\n",
    "        self.features = features\n",
    "        self.labels = labels\n",
    "\n",
    "    def __getitem__(self, index):\n",
    "        features = self.features.iloc[index].to_numpy()\n",
    "        label = self.labels.iloc[index]\n",
    "        return features, label\n",
    "\n",
    "    def __len__(self):\n",
    "        return len(self.features)\n",
    "\n",
    "dataset = CustomDataset(features=features, labels=labels)\n",
    "input_size = len(features.columns)"
   ]
  },
  {
   "cell_type": "code",
   "execution_count": 5,
   "metadata": {},
   "outputs": [
    {
     "name": "stdout",
     "output_type": "stream",
     "text": [
      "Index(['fixation_duration', 'duration_firstpass', 'duration_firstfixation',\n",
      "       'fix_count', 'avg_pupil', 'IA_REGRESSION_IN_COUNT',\n",
      "       'IA_REGRESSION_OUT_COUNT', 'saccade_length', 'saccade_duration',\n",
      "       'go_past_time'],\n",
      "      dtype='object')\n"
     ]
    }
   ],
   "source": [
    "print(features.keys())"
   ]
  },
  {
   "cell_type": "code",
   "execution_count": 11,
   "metadata": {},
   "outputs": [],
   "source": [
    "def split_data(dataset, batch_size):\n",
    "    \n",
    "    generator = torch.Generator().manual_seed(42)\n",
    "    train_dataset, validation_dataset, test_dataset = torch.utils.data.random_split(dataset, [0.8, 0.1, 0.1], generator=generator)\n",
    "    #train_dataset, validation_dataset, test_dataset = torch.utils.data.random_split(dataset, [0.8, 0.1, 0.1])\n",
    "\n",
    "    y = torch.tensor([label for _, label in train_dataset], dtype=torch.long)\n",
    "\n",
    "    global class_weights\n",
    "    class_weights = compute_class_weight(class_weight='balanced', classes=np.unique(y), y=y.numpy())\n",
    "    class_weights = torch.tensor(class_weights, dtype=torch.float)\n",
    "\n",
    "    train_dataloader = DataLoader(train_dataset, batch_size=batch_size, shuffle=True)\n",
    "    validation_dataloader = DataLoader(validation_dataset, batch_size=batch_size, shuffle=True)\n",
    "    test_dataloader = DataLoader(test_dataset, batch_size=batch_size, shuffle=True)\n",
    "\n",
    "    return train_dataloader, validation_dataloader, test_dataloader"
   ]
  },
  {
   "cell_type": "code",
   "execution_count": 14,
   "metadata": {},
   "outputs": [],
   "source": [
    "def train_test(model, dataloader, optimizer, training=\"train\"):\n",
    "   \n",
    "    loss_function = torch.nn.CrossEntropyLoss(weight=class_weights.to(device))\n",
    "\n",
    "    if training == \"train\":\n",
    "        model.train()\n",
    "    elif training == \"validation\":\n",
    "        model.eval()\n",
    "    elif training == \"test\":\n",
    "        model.eval()\n",
    "    else:\n",
    "        raise ValueError(\"training argument must be either 'train', 'validation' or 'test'\")\n",
    "        \n",
    "    total = 0\n",
    "    correct = 0\n",
    "    cumulative_loss = 0\n",
    "    prediction_list = []\n",
    "    label_list = []\n",
    "    for sample in dataloader:\n",
    "        data, targets = sample[0].float().to(device), sample[1].type(torch.LongTensor).to(device)\n",
    "        output = model(data)\n",
    "        loss_value = loss_function(output, targets)\n",
    "        cumulative_loss += loss_value.item()\n",
    "\n",
    "        if training == \"train\":\n",
    "            optimizer.zero_grad()\n",
    "            loss_value.backward()\n",
    "            optimizer.step()\n",
    "            \n",
    "        predictions = output.to('cpu').detach().numpy().argmax(axis=1)\n",
    "        target_labels = targets.to('cpu').detach().numpy()\n",
    "        total += len(predictions)\n",
    "        correct += accuracy_score(target_labels, predictions, normalize=False)\n",
    "        prediction_list.extend(predictions)\n",
    "        label_list.extend(target_labels)  \n",
    "    f1 = f1_score(label_list, prediction_list)\n",
    "    accuracy = accuracy_score(label_list, prediction_list)\n",
    "    confusion = confusion_matrix(label_list, prediction_list)\n",
    "\n",
    "    return cumulative_loss, accuracy, f1, confusion"
   ]
  },
  {
   "cell_type": "code",
   "execution_count": 8,
   "metadata": {},
   "outputs": [],
   "source": [
    "class TuneableModel(torch.nn.Module):\n",
    "    def __init__(self, layer_size, dropout_rate, n_layers):\n",
    "        super(TuneableModel, self).__init__()\n",
    "        self.n_layers = n_layers\n",
    "        self.input_layer = torch.nn.Linear(input_size, layer_size)\n",
    "        self.linear1 = torch.nn.Linear(layer_size, layer_size)\n",
    "        self.linear2 = torch.nn.Linear(layer_size, layer_size)\n",
    "        self.linear3 = torch.nn.Linear(layer_size, layer_size)\n",
    "        self.linear4 = torch.nn.Linear(layer_size, layer_size)\n",
    "        self.output_layer = torch.nn.Linear(layer_size, 2)\n",
    "        self.dropout = torch.nn.Dropout(dropout_rate)\n",
    "        self.activation = torch.nn.Sigmoid()\n",
    "        self.batchnorm = torch.nn.BatchNorm1d(layer_size)\n",
    "\n",
    "    def forward(self, x):\n",
    "        x = self.input_layer(x)\n",
    "        x = self.batchnorm(x)\n",
    "        x = self.activation(x)\n",
    "        x = self.dropout(x)\n",
    "        x = self.linear1(x)\n",
    "        x = self.activation(x)\n",
    "        x = self.dropout(x)\n",
    "        if self.n_layers > 1:\n",
    "            x = self.linear2(x)\n",
    "            x = self.activation(x)\n",
    "            x = self.dropout(x)\n",
    "            if self.n_layers > 2:\n",
    "                x = self.linear3(x)\n",
    "                x = self.activation(x)\n",
    "                x = self.dropout(x)\n",
    "                if self.n_layers > 3:\n",
    "                    x = self.linear4(x)\n",
    "                    x = self.activation(x)\n",
    "                    x = self.dropout(x)\n",
    "        x = self.output_layer(x)\n",
    "        return x"
   ]
  },
  {
   "cell_type": "code",
   "execution_count": 21,
   "metadata": {},
   "outputs": [],
   "source": [
    "# Training sample\n",
    "def evaluate(params):\n",
    "    dropout, hidden_size, learning_rate, batch_size, n_hidden = params\n",
    "\n",
    "    max_epochs = 1000\n",
    "    max_patience = 20\n",
    "    PATH = \"model.pt\"\n",
    "\n",
    "    train_dataloader, validation_dataloader, test_dataloader = split_data(dataset, batch_size)\n",
    "    last_loss = 1000000\n",
    "    torch.manual_seed(seed)\n",
    "    model = TuneableModel(hidden_size, dropout, n_hidden)\n",
    "    model.to(device)\n",
    "    optimizer = torch.optim.AdamW(model.parameters(), lr=learning_rate)\n",
    "\n",
    "    for epoch in range(max_epochs):\n",
    "        # training\n",
    "        train_loss, train_accuracy, train_f1, train_confusion = train_test(model, train_dataloader, optimizer, training=\"train\")\n",
    "        train_loss, train_accuracy, train_f1 = round(train_loss, 2), round(train_accuracy, 4), round(train_f1, 2)\n",
    "        # validation at end of epoch\n",
    "        validation_loss, validation_accuracy, validation_f1, validation_confusion = train_test(model, validation_dataloader, optimizer, training=\"validation\")\n",
    "        validation_loss, validation_accuracy, validation_f1 = round(validation_loss, 2), round(validation_accuracy, 4), round(validation_f1, 2)\n",
    "        if validation_loss < last_loss:\n",
    "            last_loss = validation_loss\n",
    "            current_patience = 0\n",
    "        else:\n",
    "            if current_patience == 0:\n",
    "                torch.save({\n",
    "                    'epoch': epoch,\n",
    "                    'model_state_dict': model.state_dict(),\n",
    "                    'optimizer_state_dict': optimizer.state_dict(),\n",
    "                    'loss': last_loss,\n",
    "                    }, PATH)\n",
    "            current_patience += 1\n",
    "        if current_patience == max_patience:\n",
    "            #print(f\"Early stopping at epoch {epoch}\")\n",
    "            break   \n",
    "        #if epoch % 100 == 0 and epoch != 0:\n",
    "            #print(f\"Epoch {epoch}\\nvalidation loss: {round(validation_loss, 2)}\\nvalidation accuracy: {validation_accuracy*100}%\\nvalidation f1: {validation_f1}\\n\")\n",
    "\n",
    "    # Testing once patience is reached\n",
    "    torch.manual_seed(seed)\n",
    "    model = TuneableModel(hidden_size, dropout, n_hidden)\n",
    "    model.to(device)\n",
    "    optimizer = torch.optim.AdamW(model.parameters(), lr=learning_rate)\n",
    "    checkpoint = torch.load(PATH)\n",
    "    model.load_state_dict(checkpoint['model_state_dict'])\n",
    "    optimizer.load_state_dict(checkpoint['optimizer_state_dict'])\n",
    "    test_loss, test_accuracy, test_f1, test_confusion = train_test(model, test_dataloader, optimizer, training=\"test\")\n",
    "    test_loss, test_accuracy, test_f1 = round(test_loss, 2), round(test_accuracy, 4), round(test_f1, 2)\n",
    "    #print(f\"Model at epoch {checkpoint['epoch']} test results: accuracy: {test_accuracy*100}% f1: {test_f1}\")\n",
    "\n",
    "    return test_accuracy, test_f1, test_confusion\n",
    "    # print(f\"Average accuracy: {round(np.mean(accuracies), 2)}%\")\n",
    "    # print(f\"Average f1: {round(np.mean(f1s), 2)}\")\n"
   ]
  },
  {
   "cell_type": "code",
   "execution_count": 37,
   "metadata": {},
   "outputs": [
    {
     "name": "stdout",
     "output_type": "stream",
     "text": [
      "Confusion matrix:\n",
      " [[24  0]\n",
      " [ 2  8]]\n",
      "Accuracy and f1 for best parameters:  0.9412 0.89\n"
     ]
    }
   ],
   "source": [
    "best_params = (0.1, 100, 0.0002, 32, 2)\n",
    "accuracy, f1, confusion = evaluate(best_params)\n",
    "print(\"Confusion matrix:\\n\", confusion)\n",
    "print(\"Accuracy and f1 for best parameters: \", accuracy, f1)"
   ]
  },
  {
   "cell_type": "code",
   "execution_count": null,
   "metadata": {},
   "outputs": [
    {
     "name": "stdout",
     "output_type": "stream",
     "text": [
      "60\n"
     ]
    }
   ],
   "source": [
    "# params_nn ={\n",
    "#     'dropout': [0.5],\n",
    "#     'hidden_size': list(range(500, 501, 100)),\n",
    "#     'learning_rate':[0.01, 0.001, 0.0001, 0.00001],\n",
    "#     'batch_size':[8, 16, 32, 64, 128],\n",
    "#     'n_hidden': list(range(1, 4, 1))\n",
    "# }\n",
    "# parameter_expansion = list(product(*params_nn.values()))\n",
    "# print(len(parameter_expansion))"
   ]
  },
  {
   "cell_type": "code",
   "execution_count": null,
   "metadata": {},
   "outputs": [],
   "source": [
    "# results = {}\n",
    "# for i, p in tqdm(enumerate(parameter_expansion)):\n",
    "#     dropout, hidden_size, learning_rate, batch_size, n_hidden = p\n",
    "#     accuracy, f1 = evaluate(p)\n",
    "#     model_performance = {\"dropout\": dropout, \"hidden_size\": hidden_size, \"learning_rate\": learning_rate, \n",
    "#               \"batch_size\": batch_size, \"n_hidden\": n_hidden, \"accuracy\": accuracy, \"f1\": f1}\n",
    "#     results[i] = model_performance\n",
    "#     print(model_performance)\n"
   ]
  },
  {
   "cell_type": "code",
   "execution_count": null,
   "metadata": {},
   "outputs": [],
   "source": [
    "# results_dataframe = pd.DataFrame.from_dict(results, orient='index')\n",
    "# # save results to file\n",
    "# results_dataframe.to_csv(\"preliminary_results.csv\", index=False)"
   ]
  }
 ],
 "metadata": {
  "kernelspec": {
   "display_name": "Python 3",
   "language": "python",
   "name": "python3"
  },
  "language_info": {
   "codemirror_mode": {
    "name": "ipython",
    "version": 3
   },
   "file_extension": ".py",
   "mimetype": "text/x-python",
   "name": "python",
   "nbconvert_exporter": "python",
   "pygments_lexer": "ipython3",
   "version": "3.11.5"
  }
 },
 "nbformat": 4,
 "nbformat_minor": 2
}
