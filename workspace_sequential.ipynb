{
 "cells": [
  {
   "cell_type": "code",
   "execution_count": 79,
   "metadata": {},
   "outputs": [],
   "source": [
    "# imports\n",
    "import pandas as pd\n",
    "from torch.utils.data import Dataset, DataLoader\n",
    "import torch\n",
    "import numpy as np\n",
    "from tqdm import tqdm\n",
    "from itertools import product\n",
    "from sklearn.metrics import accuracy_score, f1_score, confusion_matrix\n",
    "import torch.nn.utils.rnn as RNN\n",
    "import torch.nn.functional as F\n",
    "from sklearn.utils.class_weight import compute_class_weight\n",
    "\n",
    "device = torch.device('cuda' if torch.cuda.is_available() else 'cpu')\n",
    "seed = 42"
   ]
  },
  {
   "cell_type": "code",
   "execution_count": 3,
   "metadata": {},
   "outputs": [
    {
     "data": {
      "text/html": [
       "<div>\n",
       "<style scoped>\n",
       "    .dataframe tbody tr th:only-of-type {\n",
       "        vertical-align: middle;\n",
       "    }\n",
       "\n",
       "    .dataframe tbody tr th {\n",
       "        vertical-align: top;\n",
       "    }\n",
       "\n",
       "    .dataframe thead th {\n",
       "        text-align: right;\n",
       "    }\n",
       "</style>\n",
       "<table border=\"1\" class=\"dataframe\">\n",
       "  <thead>\n",
       "    <tr style=\"text-align: right;\">\n",
       "      <th></th>\n",
       "      <th>RECORDING_SESSION_LABEL</th>\n",
       "      <th>trial</th>\n",
       "      <th>IA_ID</th>\n",
       "      <th>item</th>\n",
       "      <th>list</th>\n",
       "      <th>IA_LABEL</th>\n",
       "      <th>wordlength</th>\n",
       "      <th>condition</th>\n",
       "      <th>is_critical</th>\n",
       "      <th>is_spill1</th>\n",
       "      <th>...</th>\n",
       "      <th>duration_firstpass</th>\n",
       "      <th>duration_firstfixation</th>\n",
       "      <th>fix_count</th>\n",
       "      <th>avg_pupil</th>\n",
       "      <th>IA_REGRESSION_IN_COUNT</th>\n",
       "      <th>IA_REGRESSION_OUT_COUNT</th>\n",
       "      <th>saccade_length</th>\n",
       "      <th>saccade_duration</th>\n",
       "      <th>go_past_time</th>\n",
       "      <th>sentenceCondition</th>\n",
       "    </tr>\n",
       "  </thead>\n",
       "  <tbody>\n",
       "    <tr>\n",
       "      <th>0</th>\n",
       "      <td>10m23r2</td>\n",
       "      <td>12</td>\n",
       "      <td>1</td>\n",
       "      <td>1</td>\n",
       "      <td>2</td>\n",
       "      <td>Viel</td>\n",
       "      <td>4</td>\n",
       "      <td>none</td>\n",
       "      <td>0</td>\n",
       "      <td>0</td>\n",
       "      <td>...</td>\n",
       "      <td>236</td>\n",
       "      <td>236</td>\n",
       "      <td>1</td>\n",
       "      <td>1408.000000</td>\n",
       "      <td>0</td>\n",
       "      <td>0</td>\n",
       "      <td>72.376792</td>\n",
       "      <td>16</td>\n",
       "      <td>236</td>\n",
       "      <td>control</td>\n",
       "    </tr>\n",
       "    <tr>\n",
       "      <th>1</th>\n",
       "      <td>10m23r2</td>\n",
       "      <td>12</td>\n",
       "      <td>2</td>\n",
       "      <td>1</td>\n",
       "      <td>2</td>\n",
       "      <td>Geld</td>\n",
       "      <td>4</td>\n",
       "      <td>none</td>\n",
       "      <td>0</td>\n",
       "      <td>0</td>\n",
       "      <td>...</td>\n",
       "      <td>424</td>\n",
       "      <td>264</td>\n",
       "      <td>3</td>\n",
       "      <td>1379.333333</td>\n",
       "      <td>2</td>\n",
       "      <td>0</td>\n",
       "      <td>71.519648</td>\n",
       "      <td>160</td>\n",
       "      <td>424</td>\n",
       "      <td>control</td>\n",
       "    </tr>\n",
       "    <tr>\n",
       "      <th>2</th>\n",
       "      <td>10m23r2</td>\n",
       "      <td>12</td>\n",
       "      <td>3</td>\n",
       "      <td>1</td>\n",
       "      <td>2</td>\n",
       "      <td>wurde</td>\n",
       "      <td>5</td>\n",
       "      <td>none</td>\n",
       "      <td>0</td>\n",
       "      <td>0</td>\n",
       "      <td>...</td>\n",
       "      <td>0</td>\n",
       "      <td>0</td>\n",
       "      <td>0</td>\n",
       "      <td>0.000000</td>\n",
       "      <td>0</td>\n",
       "      <td>1</td>\n",
       "      <td>0.000000</td>\n",
       "      <td>0</td>\n",
       "      <td>0</td>\n",
       "      <td>control</td>\n",
       "    </tr>\n",
       "    <tr>\n",
       "      <th>3</th>\n",
       "      <td>10m23r2</td>\n",
       "      <td>12</td>\n",
       "      <td>4</td>\n",
       "      <td>1</td>\n",
       "      <td>2</td>\n",
       "      <td>investiert,</td>\n",
       "      <td>11</td>\n",
       "      <td>none</td>\n",
       "      <td>0</td>\n",
       "      <td>0</td>\n",
       "      <td>...</td>\n",
       "      <td>420</td>\n",
       "      <td>268</td>\n",
       "      <td>3</td>\n",
       "      <td>1290.000000</td>\n",
       "      <td>1</td>\n",
       "      <td>0</td>\n",
       "      <td>65.401223</td>\n",
       "      <td>12</td>\n",
       "      <td>420</td>\n",
       "      <td>control</td>\n",
       "    </tr>\n",
       "    <tr>\n",
       "      <th>4</th>\n",
       "      <td>10m23r2</td>\n",
       "      <td>12</td>\n",
       "      <td>5</td>\n",
       "      <td>1</td>\n",
       "      <td>2</td>\n",
       "      <td>bevor</td>\n",
       "      <td>5</td>\n",
       "      <td>none</td>\n",
       "      <td>0</td>\n",
       "      <td>0</td>\n",
       "      <td>...</td>\n",
       "      <td>296</td>\n",
       "      <td>296</td>\n",
       "      <td>2</td>\n",
       "      <td>1242.500000</td>\n",
       "      <td>1</td>\n",
       "      <td>0</td>\n",
       "      <td>42.311819</td>\n",
       "      <td>12</td>\n",
       "      <td>296</td>\n",
       "      <td>control</td>\n",
       "    </tr>\n",
       "    <tr>\n",
       "      <th>...</th>\n",
       "      <td>...</td>\n",
       "      <td>...</td>\n",
       "      <td>...</td>\n",
       "      <td>...</td>\n",
       "      <td>...</td>\n",
       "      <td>...</td>\n",
       "      <td>...</td>\n",
       "      <td>...</td>\n",
       "      <td>...</td>\n",
       "      <td>...</td>\n",
       "      <td>...</td>\n",
       "      <td>...</td>\n",
       "      <td>...</td>\n",
       "      <td>...</td>\n",
       "      <td>...</td>\n",
       "      <td>...</td>\n",
       "      <td>...</td>\n",
       "      <td>...</td>\n",
       "      <td>...</td>\n",
       "      <td>...</td>\n",
       "      <td>...</td>\n",
       "    </tr>\n",
       "    <tr>\n",
       "      <th>11171</th>\n",
       "      <td>9m23r1</td>\n",
       "      <td>10</td>\n",
       "      <td>12</td>\n",
       "      <td>28</td>\n",
       "      <td>1</td>\n",
       "      <td>Verteidigung</td>\n",
       "      <td>12</td>\n",
       "      <td>filler</td>\n",
       "      <td>0</td>\n",
       "      <td>0</td>\n",
       "      <td>...</td>\n",
       "      <td>168</td>\n",
       "      <td>168</td>\n",
       "      <td>2</td>\n",
       "      <td>497.000000</td>\n",
       "      <td>0</td>\n",
       "      <td>0</td>\n",
       "      <td>91.810675</td>\n",
       "      <td>20</td>\n",
       "      <td>168</td>\n",
       "      <td>filler</td>\n",
       "    </tr>\n",
       "    <tr>\n",
       "      <th>11172</th>\n",
       "      <td>9m23r1</td>\n",
       "      <td>10</td>\n",
       "      <td>13</td>\n",
       "      <td>28</td>\n",
       "      <td>1</td>\n",
       "      <td>Europas</td>\n",
       "      <td>7</td>\n",
       "      <td>none</td>\n",
       "      <td>0</td>\n",
       "      <td>0</td>\n",
       "      <td>...</td>\n",
       "      <td>224</td>\n",
       "      <td>224</td>\n",
       "      <td>1</td>\n",
       "      <td>493.000000</td>\n",
       "      <td>0</td>\n",
       "      <td>0</td>\n",
       "      <td>119.788355</td>\n",
       "      <td>24</td>\n",
       "      <td>224</td>\n",
       "      <td>filler</td>\n",
       "    </tr>\n",
       "    <tr>\n",
       "      <th>11173</th>\n",
       "      <td>9m23r1</td>\n",
       "      <td>10</td>\n",
       "      <td>14</td>\n",
       "      <td>28</td>\n",
       "      <td>1</td>\n",
       "      <td>erhöht</td>\n",
       "      <td>6</td>\n",
       "      <td>none</td>\n",
       "      <td>0</td>\n",
       "      <td>0</td>\n",
       "      <td>...</td>\n",
       "      <td>332</td>\n",
       "      <td>332</td>\n",
       "      <td>1</td>\n",
       "      <td>472.000000</td>\n",
       "      <td>0</td>\n",
       "      <td>0</td>\n",
       "      <td>95.117033</td>\n",
       "      <td>20</td>\n",
       "      <td>332</td>\n",
       "      <td>filler</td>\n",
       "    </tr>\n",
       "    <tr>\n",
       "      <th>11174</th>\n",
       "      <td>9m23r1</td>\n",
       "      <td>10</td>\n",
       "      <td>15</td>\n",
       "      <td>28</td>\n",
       "      <td>1</td>\n",
       "      <td>werden</td>\n",
       "      <td>6</td>\n",
       "      <td>none</td>\n",
       "      <td>0</td>\n",
       "      <td>0</td>\n",
       "      <td>...</td>\n",
       "      <td>244</td>\n",
       "      <td>244</td>\n",
       "      <td>1</td>\n",
       "      <td>477.000000</td>\n",
       "      <td>0</td>\n",
       "      <td>0</td>\n",
       "      <td>58.649126</td>\n",
       "      <td>16</td>\n",
       "      <td>244</td>\n",
       "      <td>filler</td>\n",
       "    </tr>\n",
       "    <tr>\n",
       "      <th>11175</th>\n",
       "      <td>9m23r1</td>\n",
       "      <td>10</td>\n",
       "      <td>16</td>\n",
       "      <td>28</td>\n",
       "      <td>1</td>\n",
       "      <td>sollten.</td>\n",
       "      <td>8</td>\n",
       "      <td>none</td>\n",
       "      <td>0</td>\n",
       "      <td>0</td>\n",
       "      <td>...</td>\n",
       "      <td>160</td>\n",
       "      <td>160</td>\n",
       "      <td>1</td>\n",
       "      <td>495.000000</td>\n",
       "      <td>0</td>\n",
       "      <td>1</td>\n",
       "      <td>0.000000</td>\n",
       "      <td>0</td>\n",
       "      <td>1164</td>\n",
       "      <td>filler</td>\n",
       "    </tr>\n",
       "  </tbody>\n",
       "</table>\n",
       "<p>11176 rows × 29 columns</p>\n",
       "</div>"
      ],
      "text/plain": [
       "      RECORDING_SESSION_LABEL  trial  IA_ID  item  list      IA_LABEL  \\\n",
       "0                     10m23r2     12      1     1     2          Viel   \n",
       "1                     10m23r2     12      2     1     2          Geld   \n",
       "2                     10m23r2     12      3     1     2         wurde   \n",
       "3                     10m23r2     12      4     1     2   investiert,   \n",
       "4                     10m23r2     12      5     1     2         bevor   \n",
       "...                       ...    ...    ...   ...   ...           ...   \n",
       "11171                  9m23r1     10     12    28     1  Verteidigung   \n",
       "11172                  9m23r1     10     13    28     1       Europas   \n",
       "11173                  9m23r1     10     14    28     1        erhöht   \n",
       "11174                  9m23r1     10     15    28     1        werden   \n",
       "11175                  9m23r1     10     16    28     1      sollten.   \n",
       "\n",
       "       wordlength condition  is_critical  is_spill1  ...  duration_firstpass  \\\n",
       "0               4      none            0          0  ...                 236   \n",
       "1               4      none            0          0  ...                 424   \n",
       "2               5      none            0          0  ...                   0   \n",
       "3              11      none            0          0  ...                 420   \n",
       "4               5      none            0          0  ...                 296   \n",
       "...           ...       ...          ...        ...  ...                 ...   \n",
       "11171          12    filler            0          0  ...                 168   \n",
       "11172           7      none            0          0  ...                 224   \n",
       "11173           6      none            0          0  ...                 332   \n",
       "11174           6      none            0          0  ...                 244   \n",
       "11175           8      none            0          0  ...                 160   \n",
       "\n",
       "       duration_firstfixation  fix_count    avg_pupil  IA_REGRESSION_IN_COUNT  \\\n",
       "0                         236          1  1408.000000                       0   \n",
       "1                         264          3  1379.333333                       2   \n",
       "2                           0          0     0.000000                       0   \n",
       "3                         268          3  1290.000000                       1   \n",
       "4                         296          2  1242.500000                       1   \n",
       "...                       ...        ...          ...                     ...   \n",
       "11171                     168          2   497.000000                       0   \n",
       "11172                     224          1   493.000000                       0   \n",
       "11173                     332          1   472.000000                       0   \n",
       "11174                     244          1   477.000000                       0   \n",
       "11175                     160          1   495.000000                       0   \n",
       "\n",
       "       IA_REGRESSION_OUT_COUNT  saccade_length  saccade_duration  \\\n",
       "0                            0       72.376792                16   \n",
       "1                            0       71.519648               160   \n",
       "2                            1        0.000000                 0   \n",
       "3                            0       65.401223                12   \n",
       "4                            0       42.311819                12   \n",
       "...                        ...             ...               ...   \n",
       "11171                        0       91.810675                20   \n",
       "11172                        0      119.788355                24   \n",
       "11173                        0       95.117033                20   \n",
       "11174                        0       58.649126                16   \n",
       "11175                        1        0.000000                 0   \n",
       "\n",
       "       go_past_time  sentenceCondition  \n",
       "0               236            control  \n",
       "1               424            control  \n",
       "2                 0            control  \n",
       "3               420            control  \n",
       "4               296            control  \n",
       "...             ...                ...  \n",
       "11171           168             filler  \n",
       "11172           224             filler  \n",
       "11173           332             filler  \n",
       "11174           244             filler  \n",
       "11175          1164             filler  \n",
       "\n",
       "[11176 rows x 29 columns]"
      ]
     },
     "execution_count": 3,
     "metadata": {},
     "output_type": "execute_result"
    }
   ],
   "source": [
    "data = pd.read_csv('data.csv', delimiter=';')\n",
    "\n",
    "\n",
    "data"
   ]
  },
  {
   "cell_type": "code",
   "execution_count": 4,
   "metadata": {},
   "outputs": [
    {
     "data": {
      "text/plain": [
       "Index(['RECORDING_SESSION_LABEL', 'trial', 'IA_ID', 'item', 'list', 'IA_LABEL',\n",
       "       'wordlength', 'condition', 'is_critical', 'is_spill1', 'is_spill2',\n",
       "       'is_spill3', 'filler', 'LF', 'HF', 'function_word', 'other_filler',\n",
       "       'composite', 'fixation_duration', 'duration_firstpass',\n",
       "       'duration_firstfixation', 'fix_count', 'avg_pupil',\n",
       "       'IA_REGRESSION_IN_COUNT', 'IA_REGRESSION_OUT_COUNT', 'saccade_length',\n",
       "       'saccade_duration', 'go_past_time', 'sentenceCondition'],\n",
       "      dtype='object')"
      ]
     },
     "execution_count": 4,
     "metadata": {},
     "output_type": "execute_result"
    }
   ],
   "source": [
    "data.keys()"
   ]
  },
  {
   "cell_type": "code",
   "execution_count": 5,
   "metadata": {},
   "outputs": [],
   "source": [
    "data = pd.read_csv('data.csv', delimiter=';')\n",
    "\n",
    "dropped = data.copy()\n",
    "\n",
    "dropped[[\"condition\", \"sentenceCondition\"]] = dropped[[\"condition\", \"sentenceCondition\"]].map(lambda x: x.replace(\"none\", \"0\"))\n",
    "dropped[[\"condition\", \"sentenceCondition\"]] = dropped[[\"condition\", \"sentenceCondition\"]].map(lambda x: x.replace(\"control\", \"0\"))\n",
    "dropped[[\"condition\", \"sentenceCondition\"]] = dropped[[\"condition\", \"sentenceCondition\"]].map(lambda x: x.replace(\"pseudo\", \"1\"))\n",
    "dropped[[\"condition\", \"sentenceCondition\"]] = dropped[[\"condition\", \"sentenceCondition\"]].map(lambda x: x.replace(\"filler\", \"0\"))\n",
    "\n",
    "dropped.drop([\"condition\", \"IA_ID\", \"item\", \"list\", \"IA_LABEL\", \"wordlength\", \"is_critical\", \n",
    "              'is_spill1', 'is_spill2', 'is_spill3', 'filler', 'LF', 'HF', 'function_word', 'other_filler', \"composite\"], axis=1, inplace=True)\n",
    "\n",
    "sentences = dropped.groupby(['RECORDING_SESSION_LABEL', 'trial'])"
   ]
  },
  {
   "cell_type": "code",
   "execution_count": 6,
   "metadata": {},
   "outputs": [
    {
     "name": "stdout",
     "output_type": "stream",
     "text": [
      "(851,) (851, 18, 10) (851,)\n"
     ]
    }
   ],
   "source": [
    "label_array = np.array([])\n",
    "features_array = []\n",
    "for item in sentences:\n",
    "    label_array = np.append(label_array, item[1][\"sentenceCondition\"].unique().astype(int).item())\n",
    "    features = item[1].drop(['RECORDING_SESSION_LABEL', 'trial', 'sentenceCondition'], axis=1).to_numpy()\n",
    "    features = (features - features.mean()) / features.std()\n",
    "    #print(features.shape)\n",
    "    features_array.append(features)\n",
    "\n",
    "def pad_to_same_size(lists):\n",
    "    maxlen = max([len(l) for l in lists])\n",
    "    return [np.concatenate((np.zeros((maxlen - l.shape[0], l.shape[1])), l), axis=0) for l in lists]\n",
    "lengths = np.array([len(l) for l in features_array])\n",
    "padded_features_array = np.array(pad_to_same_size(features_array))\n",
    "print(label_array.shape, padded_features_array.shape, lengths.shape)"
   ]
  },
  {
   "cell_type": "code",
   "execution_count": 7,
   "metadata": {},
   "outputs": [
    {
     "name": "stdout",
     "output_type": "stream",
     "text": [
      "0.900117508813161\n"
     ]
    }
   ],
   "source": [
    "print(1 - label_array.sum()/len(label_array))"
   ]
  },
  {
   "cell_type": "code",
   "execution_count": 8,
   "metadata": {},
   "outputs": [],
   "source": [
    "class CustomDataset(Dataset):\n",
    "    def __init__(self, features, labels):\n",
    "        self.features = features\n",
    "        self.labels = labels\n",
    "\n",
    "    def __getitem__(self, index):\n",
    "        features = self.features[index]\n",
    "        label = self.labels[index]\n",
    "        return features, label\n",
    "\n",
    "    def __len__(self):\n",
    "        return len(self.features)\n",
    "\n",
    "dataset = CustomDataset(features=padded_features_array, labels=label_array)"
   ]
  },
  {
   "cell_type": "code",
   "execution_count": 9,
   "metadata": {},
   "outputs": [
    {
     "name": "stdout",
     "output_type": "stream",
     "text": [
      "851\n"
     ]
    }
   ],
   "source": [
    "print(len(dataset))"
   ]
  },
  {
   "cell_type": "code",
   "execution_count": 93,
   "metadata": {},
   "outputs": [],
   "source": [
    "def split_data(dataset, batch_size):\n",
    "    \n",
    "    generator = torch.Generator().manual_seed(42)\n",
    "    train_dataset, validation_dataset, test_dataset = torch.utils.data.random_split(dataset, [0.8, 0.1, 0.1], generator=generator)\n",
    "    #train_dataset, validation_dataset, test_dataset = torch.utils.data.random_split(dataset, [0.8, 0.1, 0.1])\n",
    "\n",
    "    y = torch.tensor([label for _, label in train_dataset], dtype=torch.long)\n",
    "\n",
    "    global class_weights\n",
    "    class_weights = compute_class_weight(class_weight='balanced', classes=np.unique(y), y=y.numpy())\n",
    "    class_weights = torch.tensor(class_weights, dtype=torch.float)\n",
    "\n",
    "    train_dataloader = DataLoader(train_dataset, batch_size=batch_size, shuffle=True)\n",
    "    validation_dataloader = DataLoader(validation_dataset, batch_size=batch_size, shuffle=True)\n",
    "    test_dataloader = DataLoader(test_dataset, batch_size=batch_size, shuffle=True)\n",
    "\n",
    "    return train_dataloader, validation_dataloader, test_dataloader"
   ]
  },
  {
   "cell_type": "code",
   "execution_count": 97,
   "metadata": {},
   "outputs": [],
   "source": [
    "def sigmoid(z):\n",
    "    p = 1.0 / (1 + np.exp(-z))\n",
    "    if p > 0.5:\n",
    "        return 1\n",
    "    else:\n",
    "        return 0\n",
    "\n",
    "def train_test(model, dataloader, optimizer, training=\"train\"):\n",
    "   \n",
    "    loss_function = torch.nn.CrossEntropyLoss(weight=class_weights.to(device))\n",
    "\n",
    "    if training == \"train\":\n",
    "        model.train()\n",
    "    elif training == \"validation\":\n",
    "        model.eval()\n",
    "    elif training == \"test\":\n",
    "        model.eval()\n",
    "    else:\n",
    "        raise ValueError(\"training argument must be either 'train', 'validation' or 'test'\")\n",
    "        \n",
    "    cumulative_loss = 0\n",
    "    prediction_list = []\n",
    "    label_list = []\n",
    "    for sample in dataloader:\n",
    "        input, targets = sample[0].float().to(device), sample[1].type(torch.LongTensor).to(device)\n",
    "        output = model(input).to(device)\n",
    "        loss_value = loss_function(output, targets)\n",
    "        cumulative_loss += loss_value.item()\n",
    "\n",
    "        if training == \"train\":\n",
    "            optimizer.zero_grad()\n",
    "            loss_value.sum().backward()\n",
    "            optimizer.step()\n",
    "            \n",
    "        predictions = output.to('cpu').detach().numpy().argmax(axis=1)\n",
    "        target_labels = sample[1]\n",
    "        prediction_list.extend(predictions)\n",
    "        label_list.extend(target_labels)\n",
    "    #prediction_list = [sigmoid(x) for x in prediction_list]\n",
    "    #print(prediction_list)\n",
    "    f1 = f1_score(label_list, prediction_list)\n",
    "    accuracy = accuracy_score(label_list, prediction_list)\n",
    "    confusion = confusion_matrix(label_list, prediction_list)\n",
    "\n",
    "    return cumulative_loss, accuracy, f1, confusion"
   ]
  },
  {
   "cell_type": "code",
   "execution_count": 145,
   "metadata": {},
   "outputs": [],
   "source": [
    "class TuneableModel(torch.nn.Module):\n",
    "    def __init__(self, input_size, layer_size, dropout_rate, n_layers):\n",
    "        super(TuneableModel, self).__init__()\n",
    "        self.lstm = torch.nn.LSTM(input_size=input_size, hidden_size=layer_size, bidirectional=True, \n",
    "                                  num_layers=n_layers, batch_first=True, dropout=dropout_rate)\n",
    "        self.output_layer = torch.nn.Linear(layer_size*2, 2)\n",
    "        self.batchnorm = torch.nn.BatchNorm1d(layer_size)\n",
    "        self.activation = torch.nn.ReLU()\n",
    "        self.linear = torch.nn.Linear(layer_size, layer_size)\n",
    "\n",
    "    def forward(self, x):\n",
    "\n",
    "        x = self.lstm(x)\n",
    "        x = x[0][:, -1, :]\n",
    "        x = self.output_layer(x)\n",
    "        # x = self.batchnorm(x)\n",
    "        # x = self.activation(x)\n",
    "        # x = self.linear(x)\n",
    "        # x = self.activation(x)\n",
    "        return x"
   ]
  },
  {
   "cell_type": "code",
   "execution_count": 222,
   "metadata": {},
   "outputs": [],
   "source": [
    "# Training sample\n",
    "def evaluate(params):\n",
    "    dropout, hidden_size, learning_rate, batch_size, n_hidden = params\n",
    "\n",
    "    max_epochs = 1000\n",
    "    max_patience = 10\n",
    "    \n",
    "    PATH = \"model.pt\"\n",
    "\n",
    "    train_dataloader, validation_dataloader, test_dataloader = split_data(dataset, batch_size)\n",
    "\n",
    "    last_loss = 1000000\n",
    "    torch.manual_seed(seed)\n",
    "    input_size = train_dataloader.dataset[0][0].shape[1]\n",
    "    model = TuneableModel(input_size, hidden_size, dropout, n_hidden)\n",
    "    model.to(device)\n",
    "    optimizer = torch.optim.AdamW(model.parameters(), lr=learning_rate)\n",
    "\n",
    "    for epoch in range(max_epochs):\n",
    "        # training\n",
    "        train_loss, train_accuracy, train_f1, train_confusion = train_test(model, train_dataloader, optimizer, training=\"train\")\n",
    "        train_loss, train_accuracy, train_f1 = train_loss, round(train_accuracy, 4), round(train_f1, 2)\n",
    "        # validation at end of epoch\n",
    "        validation_loss, validation_accuracy, validation_f1, validation_confusion = train_test(model, validation_dataloader, optimizer, training=\"validation\")\n",
    "        validation_loss, validation_accuracy, validation_f1 = validation_loss, round(validation_accuracy, 4), round(validation_f1, 2)\n",
    "        if validation_loss < last_loss:\n",
    "            last_loss = validation_loss\n",
    "            current_patience = 0\n",
    "        else:\n",
    "            if current_patience == 0:\n",
    "                torch.save({\n",
    "                    'epoch': epoch,\n",
    "                    'model_state_dict': model.state_dict(),\n",
    "                    'optimizer_state_dict': optimizer.state_dict(),\n",
    "                    'loss': last_loss,\n",
    "                    }, PATH)\n",
    "            current_patience += 1\n",
    "        if current_patience == max_patience:\n",
    "            #print(f\"Early stopping at epoch {epoch}\")\n",
    "            break   \n",
    "        #if epoch % 1 == 0 and epoch != 0:\n",
    "            #print(f\"Epoch {epoch}\\nvalidation loss: {round(validation_loss, 2)}\")\n",
    "\n",
    "    # Testing once patience is reached\n",
    "    torch.manual_seed(seed)\n",
    "    model = TuneableModel(input_size, hidden_size, dropout, n_hidden)\n",
    "    model.to(device)\n",
    "    optimizer = torch.optim.AdamW(model.parameters(), lr=learning_rate)\n",
    "    checkpoint = torch.load(PATH)\n",
    "    model.load_state_dict(checkpoint['model_state_dict'])\n",
    "    optimizer.load_state_dict(checkpoint['optimizer_state_dict'])\n",
    "    test_loss, test_accuracy, test_f1, test_confusion = train_test(model, test_dataloader, optimizer, training=\"test\")\n",
    "    test_loss, test_accuracy, test_f1 = test_loss, round(test_accuracy, 4), round(test_f1, 2)\n",
    "    #print(f\"Model {i} at epoch {checkpoint['epoch']} test results: accuracy: {test_accuracy*100}% f1: {test_f1}\")\n",
    "\n",
    "    return test_accuracy, test_f1, test_confusion\n",
    "    # print(f\"Average accuracy: {round(np.mean(accuracies), 2)}%\")\n",
    "    # print(f\"Average f1: {round(np.mean(f1s), 2)}\")\n"
   ]
  },
  {
   "cell_type": "code",
   "execution_count": 223,
   "metadata": {},
   "outputs": [
    {
     "name": "stdout",
     "output_type": "stream",
     "text": [
      "1024\n"
     ]
    }
   ],
   "source": [
    "params_nn ={\n",
    "    'dropout': [x/10 for x in list(range(0, 10, 3))],\n",
    "    'hidden_size': list(range(0, 101, 25))[1:],\n",
    "    'learning_rate': [0.01, 0.001, 0.0001, 1e-05],\n",
    "    'batch_size': [2*2**x for x in range(2, 6)],\n",
    "    'n_hidden': list(range(1, 5, 1))\n",
    "}\n",
    "parameter_expansion = list(product(*params_nn.values()))\n",
    "print(len(parameter_expansion))"
   ]
  },
  {
   "cell_type": "code",
   "execution_count": 224,
   "metadata": {},
   "outputs": [
    {
     "name": "stderr",
     "output_type": "stream",
     "text": [
      "1it [00:26, 26.98s/it]"
     ]
    },
    {
     "name": "stdout",
     "output_type": "stream",
     "text": [
      "Confusion matrix:\n",
      " [[62 11]\n",
      " [ 0 12]]\n",
      "{'dropout': 0.0, 'hidden_size': 25, 'learning_rate': 0.01, 'batch_size': 8, 'n_hidden': 1, 'accuracy': 0.8706, 'f1': 0.69}\n"
     ]
    },
    {
     "name": "stderr",
     "output_type": "stream",
     "text": [
      "2it [01:04, 33.42s/it]"
     ]
    },
    {
     "name": "stdout",
     "output_type": "stream",
     "text": [
      "Confusion matrix:\n",
      " [[59 14]\n",
      " [ 0 12]]\n",
      "{'dropout': 0.0, 'hidden_size': 25, 'learning_rate': 0.01, 'batch_size': 8, 'n_hidden': 2, 'accuracy': 0.8353, 'f1': 0.63}\n"
     ]
    },
    {
     "name": "stderr",
     "output_type": "stream",
     "text": [
      "3it [01:33, 31.28s/it]"
     ]
    },
    {
     "name": "stdout",
     "output_type": "stream",
     "text": [
      "Confusion matrix:\n",
      " [[65  8]\n",
      " [ 3  9]]\n",
      "{'dropout': 0.0, 'hidden_size': 25, 'learning_rate': 0.01, 'batch_size': 8, 'n_hidden': 3, 'accuracy': 0.8706, 'f1': 0.62}\n"
     ]
    },
    {
     "name": "stderr",
     "output_type": "stream",
     "text": [
      "4it [01:52, 26.26s/it]"
     ]
    },
    {
     "name": "stdout",
     "output_type": "stream",
     "text": [
      "Confusion matrix:\n",
      " [[73  0]\n",
      " [12  0]]\n",
      "{'dropout': 0.0, 'hidden_size': 25, 'learning_rate': 0.01, 'batch_size': 8, 'n_hidden': 4, 'accuracy': 0.8588, 'f1': 0.0}\n"
     ]
    },
    {
     "name": "stderr",
     "output_type": "stream",
     "text": [
      "5it [02:11, 23.60s/it]"
     ]
    },
    {
     "name": "stdout",
     "output_type": "stream",
     "text": [
      "Confusion matrix:\n",
      " [[66  7]\n",
      " [ 2 10]]\n",
      "{'dropout': 0.0, 'hidden_size': 25, 'learning_rate': 0.01, 'batch_size': 16, 'n_hidden': 1, 'accuracy': 0.8941, 'f1': 0.69}\n"
     ]
    },
    {
     "name": "stderr",
     "output_type": "stream",
     "text": [
      "6it [02:27, 21.08s/it]"
     ]
    },
    {
     "name": "stdout",
     "output_type": "stream",
     "text": [
      "Confusion matrix:\n",
      " [[66  7]\n",
      " [ 1 11]]\n",
      "{'dropout': 0.0, 'hidden_size': 25, 'learning_rate': 0.01, 'batch_size': 16, 'n_hidden': 2, 'accuracy': 0.9059, 'f1': 0.73}\n"
     ]
    },
    {
     "name": "stderr",
     "output_type": "stream",
     "text": [
      "7it [03:00, 25.19s/it]"
     ]
    },
    {
     "name": "stdout",
     "output_type": "stream",
     "text": [
      "Confusion matrix:\n",
      " [[69  4]\n",
      " [ 1 11]]\n",
      "{'dropout': 0.0, 'hidden_size': 25, 'learning_rate': 0.01, 'batch_size': 16, 'n_hidden': 3, 'accuracy': 0.9412, 'f1': 0.81}\n"
     ]
    },
    {
     "name": "stderr",
     "output_type": "stream",
     "text": [
      "8it [03:11, 20.61s/it]"
     ]
    },
    {
     "name": "stdout",
     "output_type": "stream",
     "text": [
      "Confusion matrix:\n",
      " [[73  0]\n",
      " [12  0]]\n",
      "{'dropout': 0.0, 'hidden_size': 25, 'learning_rate': 0.01, 'batch_size': 16, 'n_hidden': 4, 'accuracy': 0.8588, 'f1': 0.0}\n"
     ]
    },
    {
     "name": "stderr",
     "output_type": "stream",
     "text": [
      "9it [03:27, 19.17s/it]"
     ]
    },
    {
     "name": "stdout",
     "output_type": "stream",
     "text": [
      "Confusion matrix:\n",
      " [[66  7]\n",
      " [ 2 10]]\n",
      "{'dropout': 0.0, 'hidden_size': 25, 'learning_rate': 0.01, 'batch_size': 32, 'n_hidden': 1, 'accuracy': 0.8941, 'f1': 0.69}\n"
     ]
    },
    {
     "name": "stderr",
     "output_type": "stream",
     "text": [
      "10it [03:42, 17.91s/it]"
     ]
    },
    {
     "name": "stdout",
     "output_type": "stream",
     "text": [
      "Confusion matrix:\n",
      " [[66  7]\n",
      " [ 2 10]]\n",
      "{'dropout': 0.0, 'hidden_size': 25, 'learning_rate': 0.01, 'batch_size': 32, 'n_hidden': 2, 'accuracy': 0.8941, 'f1': 0.69}\n"
     ]
    },
    {
     "name": "stderr",
     "output_type": "stream",
     "text": [
      "11it [03:57, 16.85s/it]"
     ]
    },
    {
     "name": "stdout",
     "output_type": "stream",
     "text": [
      "Confusion matrix:\n",
      " [[61 12]\n",
      " [ 3  9]]\n",
      "{'dropout': 0.0, 'hidden_size': 25, 'learning_rate': 0.01, 'batch_size': 32, 'n_hidden': 3, 'accuracy': 0.8235, 'f1': 0.55}\n"
     ]
    },
    {
     "name": "stderr",
     "output_type": "stream",
     "text": [
      "12it [04:03, 13.64s/it]"
     ]
    },
    {
     "name": "stdout",
     "output_type": "stream",
     "text": [
      "Confusion matrix:\n",
      " [[ 0 73]\n",
      " [ 0 12]]\n",
      "{'dropout': 0.0, 'hidden_size': 25, 'learning_rate': 0.01, 'batch_size': 32, 'n_hidden': 4, 'accuracy': 0.1412, 'f1': 0.25}\n"
     ]
    },
    {
     "name": "stderr",
     "output_type": "stream",
     "text": [
      "13it [04:14, 12.82s/it]"
     ]
    },
    {
     "name": "stdout",
     "output_type": "stream",
     "text": [
      "Confusion matrix:\n",
      " [[65  8]\n",
      " [ 2 10]]\n",
      "{'dropout': 0.0, 'hidden_size': 25, 'learning_rate': 0.01, 'batch_size': 64, 'n_hidden': 1, 'accuracy': 0.8824, 'f1': 0.67}\n"
     ]
    },
    {
     "name": "stderr",
     "output_type": "stream",
     "text": [
      "14it [04:23, 11.52s/it]"
     ]
    },
    {
     "name": "stdout",
     "output_type": "stream",
     "text": [
      "Confusion matrix:\n",
      " [[66  7]\n",
      " [ 3  9]]\n",
      "{'dropout': 0.0, 'hidden_size': 25, 'learning_rate': 0.01, 'batch_size': 64, 'n_hidden': 2, 'accuracy': 0.8824, 'f1': 0.64}\n"
     ]
    },
    {
     "name": "stderr",
     "output_type": "stream",
     "text": [
      "15it [04:31, 10.72s/it]"
     ]
    },
    {
     "name": "stdout",
     "output_type": "stream",
     "text": [
      "Confusion matrix:\n",
      " [[62 11]\n",
      " [ 0 12]]\n",
      "{'dropout': 0.0, 'hidden_size': 25, 'learning_rate': 0.01, 'batch_size': 64, 'n_hidden': 3, 'accuracy': 0.8706, 'f1': 0.69}\n"
     ]
    },
    {
     "name": "stderr",
     "output_type": "stream",
     "text": [
      "16it [04:41, 10.31s/it]"
     ]
    },
    {
     "name": "stdout",
     "output_type": "stream",
     "text": [
      "Confusion matrix:\n",
      " [[67  6]\n",
      " [ 4  8]]\n",
      "{'dropout': 0.0, 'hidden_size': 25, 'learning_rate': 0.01, 'batch_size': 64, 'n_hidden': 4, 'accuracy': 0.8824, 'f1': 0.62}\n"
     ]
    },
    {
     "name": "stderr",
     "output_type": "stream",
     "text": [
      "17it [05:25, 20.46s/it]"
     ]
    },
    {
     "name": "stdout",
     "output_type": "stream",
     "text": [
      "Confusion matrix:\n",
      " [[67  6]\n",
      " [ 3  9]]\n",
      "{'dropout': 0.0, 'hidden_size': 25, 'learning_rate': 0.001, 'batch_size': 8, 'n_hidden': 1, 'accuracy': 0.8941, 'f1': 0.67}\n"
     ]
    },
    {
     "name": "stderr",
     "output_type": "stream",
     "text": [
      "18it [05:57, 24.00s/it]"
     ]
    },
    {
     "name": "stdout",
     "output_type": "stream",
     "text": [
      "Confusion matrix:\n",
      " [[66  7]\n",
      " [ 3  9]]\n",
      "{'dropout': 0.0, 'hidden_size': 25, 'learning_rate': 0.001, 'batch_size': 8, 'n_hidden': 2, 'accuracy': 0.8824, 'f1': 0.64}\n"
     ]
    },
    {
     "name": "stderr",
     "output_type": "stream",
     "text": [
      "19it [06:59, 35.30s/it]"
     ]
    },
    {
     "name": "stdout",
     "output_type": "stream",
     "text": [
      "Confusion matrix:\n",
      " [[68  5]\n",
      " [ 6  6]]\n",
      "{'dropout': 0.0, 'hidden_size': 25, 'learning_rate': 0.001, 'batch_size': 8, 'n_hidden': 3, 'accuracy': 0.8706, 'f1': 0.52}\n"
     ]
    },
    {
     "name": "stderr",
     "output_type": "stream",
     "text": [
      "20it [07:36, 35.94s/it]"
     ]
    },
    {
     "name": "stdout",
     "output_type": "stream",
     "text": [
      "Confusion matrix:\n",
      " [[64  9]\n",
      " [ 4  8]]\n",
      "{'dropout': 0.0, 'hidden_size': 25, 'learning_rate': 0.001, 'batch_size': 8, 'n_hidden': 4, 'accuracy': 0.8471, 'f1': 0.55}\n"
     ]
    },
    {
     "name": "stderr",
     "output_type": "stream",
     "text": [
      "21it [08:11, 35.48s/it]"
     ]
    },
    {
     "name": "stdout",
     "output_type": "stream",
     "text": [
      "Confusion matrix:\n",
      " [[68  5]\n",
      " [ 5  7]]\n",
      "{'dropout': 0.0, 'hidden_size': 25, 'learning_rate': 0.001, 'batch_size': 16, 'n_hidden': 1, 'accuracy': 0.8824, 'f1': 0.58}\n"
     ]
    },
    {
     "name": "stderr",
     "output_type": "stream",
     "text": [
      "22it [08:28, 30.23s/it]"
     ]
    },
    {
     "name": "stdout",
     "output_type": "stream",
     "text": [
      "Confusion matrix:\n",
      " [[70  3]\n",
      " [ 4  8]]\n",
      "{'dropout': 0.0, 'hidden_size': 25, 'learning_rate': 0.001, 'batch_size': 16, 'n_hidden': 2, 'accuracy': 0.9176, 'f1': 0.7}\n"
     ]
    },
    {
     "name": "stderr",
     "output_type": "stream",
     "text": [
      "23it [08:52, 28.30s/it]"
     ]
    },
    {
     "name": "stdout",
     "output_type": "stream",
     "text": [
      "Confusion matrix:\n",
      " [[64  9]\n",
      " [ 2 10]]\n",
      "{'dropout': 0.0, 'hidden_size': 25, 'learning_rate': 0.001, 'batch_size': 16, 'n_hidden': 3, 'accuracy': 0.8706, 'f1': 0.65}\n"
     ]
    },
    {
     "name": "stderr",
     "output_type": "stream",
     "text": [
      "24it [09:23, 29.08s/it]"
     ]
    },
    {
     "name": "stdout",
     "output_type": "stream",
     "text": [
      "Confusion matrix:\n",
      " [[66  7]\n",
      " [ 1 11]]\n",
      "{'dropout': 0.0, 'hidden_size': 25, 'learning_rate': 0.001, 'batch_size': 16, 'n_hidden': 4, 'accuracy': 0.9059, 'f1': 0.73}\n"
     ]
    },
    {
     "name": "stderr",
     "output_type": "stream",
     "text": [
      "25it [09:52, 29.04s/it]"
     ]
    },
    {
     "name": "stdout",
     "output_type": "stream",
     "text": [
      "Confusion matrix:\n",
      " [[68  5]\n",
      " [ 4  8]]\n",
      "{'dropout': 0.0, 'hidden_size': 25, 'learning_rate': 0.001, 'batch_size': 32, 'n_hidden': 1, 'accuracy': 0.8941, 'f1': 0.64}\n"
     ]
    },
    {
     "name": "stderr",
     "output_type": "stream",
     "text": [
      "26it [10:06, 24.50s/it]"
     ]
    },
    {
     "name": "stdout",
     "output_type": "stream",
     "text": [
      "Confusion matrix:\n",
      " [[62 11]\n",
      " [ 1 11]]\n",
      "{'dropout': 0.0, 'hidden_size': 25, 'learning_rate': 0.001, 'batch_size': 32, 'n_hidden': 2, 'accuracy': 0.8588, 'f1': 0.65}\n"
     ]
    },
    {
     "name": "stderr",
     "output_type": "stream",
     "text": [
      "27it [10:26, 23.14s/it]"
     ]
    },
    {
     "name": "stdout",
     "output_type": "stream",
     "text": [
      "Confusion matrix:\n",
      " [[68  5]\n",
      " [ 2 10]]\n",
      "{'dropout': 0.0, 'hidden_size': 25, 'learning_rate': 0.001, 'batch_size': 32, 'n_hidden': 3, 'accuracy': 0.9176, 'f1': 0.74}\n"
     ]
    },
    {
     "name": "stderr",
     "output_type": "stream",
     "text": [
      "28it [10:39, 20.08s/it]"
     ]
    },
    {
     "name": "stdout",
     "output_type": "stream",
     "text": [
      "Confusion matrix:\n",
      " [[65  8]\n",
      " [ 1 11]]\n",
      "{'dropout': 0.0, 'hidden_size': 25, 'learning_rate': 0.001, 'batch_size': 32, 'n_hidden': 4, 'accuracy': 0.8941, 'f1': 0.71}\n"
     ]
    },
    {
     "name": "stderr",
     "output_type": "stream",
     "text": [
      "29it [10:50, 17.35s/it]"
     ]
    },
    {
     "name": "stdout",
     "output_type": "stream",
     "text": [
      "Confusion matrix:\n",
      " [[65  8]\n",
      " [ 1 11]]\n",
      "{'dropout': 0.0, 'hidden_size': 25, 'learning_rate': 0.001, 'batch_size': 64, 'n_hidden': 1, 'accuracy': 0.8941, 'f1': 0.71}\n"
     ]
    },
    {
     "name": "stderr",
     "output_type": "stream",
     "text": [
      "30it [11:09, 17.90s/it]"
     ]
    },
    {
     "name": "stdout",
     "output_type": "stream",
     "text": [
      "Confusion matrix:\n",
      " [[67  6]\n",
      " [ 1 11]]\n",
      "{'dropout': 0.0, 'hidden_size': 25, 'learning_rate': 0.001, 'batch_size': 64, 'n_hidden': 2, 'accuracy': 0.9176, 'f1': 0.76}\n"
     ]
    },
    {
     "name": "stderr",
     "output_type": "stream",
     "text": [
      "31it [11:26, 17.56s/it]"
     ]
    },
    {
     "name": "stdout",
     "output_type": "stream",
     "text": [
      "Confusion matrix:\n",
      " [[68  5]\n",
      " [ 3  9]]\n",
      "{'dropout': 0.0, 'hidden_size': 25, 'learning_rate': 0.001, 'batch_size': 64, 'n_hidden': 3, 'accuracy': 0.9059, 'f1': 0.69}\n"
     ]
    },
    {
     "name": "stderr",
     "output_type": "stream",
     "text": [
      "32it [11:38, 15.87s/it]"
     ]
    },
    {
     "name": "stdout",
     "output_type": "stream",
     "text": [
      "Confusion matrix:\n",
      " [[68  5]\n",
      " [ 2 10]]\n",
      "{'dropout': 0.0, 'hidden_size': 25, 'learning_rate': 0.001, 'batch_size': 64, 'n_hidden': 4, 'accuracy': 0.9176, 'f1': 0.74}\n"
     ]
    },
    {
     "name": "stderr",
     "output_type": "stream",
     "text": [
      "33it [12:48, 32.09s/it]"
     ]
    },
    {
     "name": "stdout",
     "output_type": "stream",
     "text": [
      "Confusion matrix:\n",
      " [[66  7]\n",
      " [ 1 11]]\n",
      "{'dropout': 0.0, 'hidden_size': 25, 'learning_rate': 0.0001, 'batch_size': 8, 'n_hidden': 1, 'accuracy': 0.9059, 'f1': 0.73}\n"
     ]
    },
    {
     "name": "stderr",
     "output_type": "stream",
     "text": [
      "34it [13:55, 42.67s/it]"
     ]
    },
    {
     "name": "stdout",
     "output_type": "stream",
     "text": [
      "Confusion matrix:\n",
      " [[67  6]\n",
      " [ 2 10]]\n",
      "{'dropout': 0.0, 'hidden_size': 25, 'learning_rate': 0.0001, 'batch_size': 8, 'n_hidden': 2, 'accuracy': 0.9059, 'f1': 0.71}\n"
     ]
    },
    {
     "name": "stderr",
     "output_type": "stream",
     "text": [
      "35it [15:18, 54.87s/it]"
     ]
    },
    {
     "name": "stdout",
     "output_type": "stream",
     "text": [
      "Confusion matrix:\n",
      " [[69  4]\n",
      " [ 2 10]]\n",
      "{'dropout': 0.0, 'hidden_size': 25, 'learning_rate': 0.0001, 'batch_size': 8, 'n_hidden': 3, 'accuracy': 0.9294, 'f1': 0.77}\n"
     ]
    },
    {
     "name": "stderr",
     "output_type": "stream",
     "text": [
      "36it [16:46, 64.72s/it]"
     ]
    },
    {
     "name": "stdout",
     "output_type": "stream",
     "text": [
      "Confusion matrix:\n",
      " [[68  5]\n",
      " [ 2 10]]\n",
      "{'dropout': 0.0, 'hidden_size': 25, 'learning_rate': 0.0001, 'batch_size': 8, 'n_hidden': 4, 'accuracy': 0.9176, 'f1': 0.74}\n"
     ]
    },
    {
     "name": "stderr",
     "output_type": "stream",
     "text": [
      "37it [17:41, 61.86s/it]"
     ]
    },
    {
     "name": "stdout",
     "output_type": "stream",
     "text": [
      "Confusion matrix:\n",
      " [[64  9]\n",
      " [ 1 11]]\n",
      "{'dropout': 0.0, 'hidden_size': 25, 'learning_rate': 0.0001, 'batch_size': 16, 'n_hidden': 1, 'accuracy': 0.8824, 'f1': 0.69}\n"
     ]
    },
    {
     "name": "stderr",
     "output_type": "stream",
     "text": [
      "38it [18:30, 57.99s/it]"
     ]
    },
    {
     "name": "stdout",
     "output_type": "stream",
     "text": [
      "Confusion matrix:\n",
      " [[68  5]\n",
      " [ 2 10]]\n",
      "{'dropout': 0.0, 'hidden_size': 25, 'learning_rate': 0.0001, 'batch_size': 16, 'n_hidden': 2, 'accuracy': 0.9176, 'f1': 0.74}\n"
     ]
    },
    {
     "name": "stderr",
     "output_type": "stream",
     "text": [
      "39it [19:18, 54.79s/it]"
     ]
    },
    {
     "name": "stdout",
     "output_type": "stream",
     "text": [
      "Confusion matrix:\n",
      " [[66  7]\n",
      " [ 2 10]]\n",
      "{'dropout': 0.0, 'hidden_size': 25, 'learning_rate': 0.0001, 'batch_size': 16, 'n_hidden': 3, 'accuracy': 0.8941, 'f1': 0.69}\n"
     ]
    },
    {
     "name": "stderr",
     "output_type": "stream",
     "text": [
      "40it [20:22, 57.57s/it]"
     ]
    },
    {
     "name": "stdout",
     "output_type": "stream",
     "text": [
      "Confusion matrix:\n",
      " [[64  9]\n",
      " [ 3  9]]\n",
      "{'dropout': 0.0, 'hidden_size': 25, 'learning_rate': 0.0001, 'batch_size': 16, 'n_hidden': 4, 'accuracy': 0.8588, 'f1': 0.6}\n"
     ]
    },
    {
     "name": "stderr",
     "output_type": "stream",
     "text": [
      "41it [21:01, 52.21s/it]"
     ]
    },
    {
     "name": "stdout",
     "output_type": "stream",
     "text": [
      "Confusion matrix:\n",
      " [[62 11]\n",
      " [ 1 11]]\n",
      "{'dropout': 0.0, 'hidden_size': 25, 'learning_rate': 0.0001, 'batch_size': 32, 'n_hidden': 1, 'accuracy': 0.8588, 'f1': 0.65}\n"
     ]
    },
    {
     "name": "stderr",
     "output_type": "stream",
     "text": [
      "42it [21:37, 47.34s/it]"
     ]
    },
    {
     "name": "stdout",
     "output_type": "stream",
     "text": [
      "Confusion matrix:\n",
      " [[66  7]\n",
      " [ 2 10]]\n",
      "{'dropout': 0.0, 'hidden_size': 25, 'learning_rate': 0.0001, 'batch_size': 32, 'n_hidden': 2, 'accuracy': 0.8941, 'f1': 0.69}\n"
     ]
    },
    {
     "name": "stderr",
     "output_type": "stream",
     "text": [
      "43it [22:12, 43.57s/it]"
     ]
    },
    {
     "name": "stdout",
     "output_type": "stream",
     "text": [
      "Confusion matrix:\n",
      " [[65  8]\n",
      " [ 2 10]]\n",
      "{'dropout': 0.0, 'hidden_size': 25, 'learning_rate': 0.0001, 'batch_size': 32, 'n_hidden': 3, 'accuracy': 0.8824, 'f1': 0.67}\n"
     ]
    },
    {
     "name": "stderr",
     "output_type": "stream",
     "text": [
      "44it [22:39, 38.71s/it]"
     ]
    },
    {
     "name": "stdout",
     "output_type": "stream",
     "text": [
      "Confusion matrix:\n",
      " [[67  6]\n",
      " [ 2 10]]\n",
      "{'dropout': 0.0, 'hidden_size': 25, 'learning_rate': 0.0001, 'batch_size': 32, 'n_hidden': 4, 'accuracy': 0.9059, 'f1': 0.71}\n"
     ]
    },
    {
     "name": "stderr",
     "output_type": "stream",
     "text": [
      "45it [23:13, 37.16s/it]"
     ]
    },
    {
     "name": "stdout",
     "output_type": "stream",
     "text": [
      "Confusion matrix:\n",
      " [[62 11]\n",
      " [ 1 11]]\n",
      "{'dropout': 0.0, 'hidden_size': 25, 'learning_rate': 0.0001, 'batch_size': 64, 'n_hidden': 1, 'accuracy': 0.8588, 'f1': 0.65}\n"
     ]
    },
    {
     "name": "stderr",
     "output_type": "stream",
     "text": [
      "46it [23:46, 35.83s/it]"
     ]
    },
    {
     "name": "stdout",
     "output_type": "stream",
     "text": [
      "Confusion matrix:\n",
      " [[67  6]\n",
      " [ 2 10]]\n",
      "{'dropout': 0.0, 'hidden_size': 25, 'learning_rate': 0.0001, 'batch_size': 64, 'n_hidden': 2, 'accuracy': 0.9059, 'f1': 0.71}\n"
     ]
    },
    {
     "name": "stderr",
     "output_type": "stream",
     "text": [
      "47it [23:52, 26.94s/it]"
     ]
    },
    {
     "name": "stdout",
     "output_type": "stream",
     "text": [
      "Confusion matrix:\n",
      " [[73  0]\n",
      " [12  0]]\n",
      "{'dropout': 0.0, 'hidden_size': 25, 'learning_rate': 0.0001, 'batch_size': 64, 'n_hidden': 3, 'accuracy': 0.8588, 'f1': 0.0}\n"
     ]
    },
    {
     "name": "stderr",
     "output_type": "stream",
     "text": [
      "48it [24:19, 26.94s/it]"
     ]
    },
    {
     "name": "stdout",
     "output_type": "stream",
     "text": [
      "Confusion matrix:\n",
      " [[68  5]\n",
      " [ 2 10]]\n",
      "{'dropout': 0.0, 'hidden_size': 25, 'learning_rate': 0.0001, 'batch_size': 64, 'n_hidden': 4, 'accuracy': 0.9176, 'f1': 0.74}\n"
     ]
    },
    {
     "name": "stderr",
     "output_type": "stream",
     "text": [
      "49it [25:36, 41.87s/it]"
     ]
    },
    {
     "name": "stdout",
     "output_type": "stream",
     "text": [
      "Confusion matrix:\n",
      " [[73  0]\n",
      " [12  0]]\n",
      "{'dropout': 0.0, 'hidden_size': 25, 'learning_rate': 1e-05, 'batch_size': 8, 'n_hidden': 1, 'accuracy': 0.8588, 'f1': 0.0}\n"
     ]
    },
    {
     "name": "stderr",
     "output_type": "stream",
     "text": [
      "50it [27:18, 59.89s/it]"
     ]
    },
    {
     "name": "stdout",
     "output_type": "stream",
     "text": [
      "Confusion matrix:\n",
      " [[73  0]\n",
      " [12  0]]\n",
      "{'dropout': 0.0, 'hidden_size': 25, 'learning_rate': 1e-05, 'batch_size': 8, 'n_hidden': 2, 'accuracy': 0.8588, 'f1': 0.0}\n"
     ]
    },
    {
     "name": "stderr",
     "output_type": "stream",
     "text": [
      "51it [28:43, 67.51s/it]"
     ]
    },
    {
     "name": "stdout",
     "output_type": "stream",
     "text": [
      "Confusion matrix:\n",
      " [[73  0]\n",
      " [12  0]]\n",
      "{'dropout': 0.0, 'hidden_size': 25, 'learning_rate': 1e-05, 'batch_size': 8, 'n_hidden': 3, 'accuracy': 0.8588, 'f1': 0.0}\n"
     ]
    },
    {
     "name": "stderr",
     "output_type": "stream",
     "text": [
      "52it [29:45, 66.05s/it]"
     ]
    },
    {
     "name": "stdout",
     "output_type": "stream",
     "text": [
      "Confusion matrix:\n",
      " [[73  0]\n",
      " [12  0]]\n",
      "{'dropout': 0.0, 'hidden_size': 25, 'learning_rate': 1e-05, 'batch_size': 8, 'n_hidden': 4, 'accuracy': 0.8588, 'f1': 0.0}\n"
     ]
    },
    {
     "name": "stderr",
     "output_type": "stream",
     "text": [
      "53it [30:56, 67.28s/it]"
     ]
    },
    {
     "name": "stdout",
     "output_type": "stream",
     "text": [
      "Confusion matrix:\n",
      " [[72  1]\n",
      " [12  0]]\n",
      "{'dropout': 0.0, 'hidden_size': 25, 'learning_rate': 1e-05, 'batch_size': 16, 'n_hidden': 1, 'accuracy': 0.8471, 'f1': 0.0}\n"
     ]
    },
    {
     "name": "stderr",
     "output_type": "stream",
     "text": [
      "54it [31:44, 61.64s/it]"
     ]
    },
    {
     "name": "stdout",
     "output_type": "stream",
     "text": [
      "Confusion matrix:\n",
      " [[73  0]\n",
      " [12  0]]\n",
      "{'dropout': 0.0, 'hidden_size': 25, 'learning_rate': 1e-05, 'batch_size': 16, 'n_hidden': 2, 'accuracy': 0.8588, 'f1': 0.0}\n"
     ]
    },
    {
     "name": "stderr",
     "output_type": "stream",
     "text": [
      "55it [32:15, 52.37s/it]"
     ]
    },
    {
     "name": "stdout",
     "output_type": "stream",
     "text": [
      "Confusion matrix:\n",
      " [[73  0]\n",
      " [12  0]]\n",
      "{'dropout': 0.0, 'hidden_size': 25, 'learning_rate': 1e-05, 'batch_size': 16, 'n_hidden': 3, 'accuracy': 0.8588, 'f1': 0.0}\n"
     ]
    },
    {
     "name": "stderr",
     "output_type": "stream",
     "text": [
      "56it [32:30, 41.22s/it]"
     ]
    },
    {
     "name": "stdout",
     "output_type": "stream",
     "text": [
      "Confusion matrix:\n",
      " [[ 0 73]\n",
      " [ 0 12]]\n",
      "{'dropout': 0.0, 'hidden_size': 25, 'learning_rate': 1e-05, 'batch_size': 16, 'n_hidden': 4, 'accuracy': 0.1412, 'f1': 0.25}\n"
     ]
    },
    {
     "name": "stderr",
     "output_type": "stream",
     "text": [
      "57it [33:18, 43.13s/it]"
     ]
    },
    {
     "name": "stdout",
     "output_type": "stream",
     "text": [
      "Confusion matrix:\n",
      " [[61 12]\n",
      " [ 6  6]]\n",
      "{'dropout': 0.0, 'hidden_size': 25, 'learning_rate': 1e-05, 'batch_size': 32, 'n_hidden': 1, 'accuracy': 0.7882, 'f1': 0.4}\n"
     ]
    },
    {
     "name": "stderr",
     "output_type": "stream",
     "text": [
      "58it [33:35, 35.36s/it]"
     ]
    },
    {
     "name": "stdout",
     "output_type": "stream",
     "text": [
      "Confusion matrix:\n",
      " [[73  0]\n",
      " [11  1]]\n",
      "{'dropout': 0.0, 'hidden_size': 25, 'learning_rate': 1e-05, 'batch_size': 32, 'n_hidden': 2, 'accuracy': 0.8706, 'f1': 0.15}\n"
     ]
    },
    {
     "name": "stderr",
     "output_type": "stream",
     "text": [
      "59it [33:44, 27.48s/it]"
     ]
    },
    {
     "name": "stdout",
     "output_type": "stream",
     "text": [
      "Confusion matrix:\n",
      " [[73  0]\n",
      " [12  0]]\n",
      "{'dropout': 0.0, 'hidden_size': 25, 'learning_rate': 1e-05, 'batch_size': 32, 'n_hidden': 3, 'accuracy': 0.8588, 'f1': 0.0}\n"
     ]
    },
    {
     "name": "stderr",
     "output_type": "stream",
     "text": [
      "60it [34:45, 37.45s/it]"
     ]
    },
    {
     "name": "stdout",
     "output_type": "stream",
     "text": [
      "Confusion matrix:\n",
      " [[72  1]\n",
      " [ 9  3]]\n",
      "{'dropout': 0.0, 'hidden_size': 25, 'learning_rate': 1e-05, 'batch_size': 32, 'n_hidden': 4, 'accuracy': 0.8824, 'f1': 0.38}\n"
     ]
    },
    {
     "name": "stderr",
     "output_type": "stream",
     "text": [
      "61it [34:49, 27.47s/it]"
     ]
    },
    {
     "name": "stdout",
     "output_type": "stream",
     "text": [
      "Confusion matrix:\n",
      " [[ 5 68]\n",
      " [ 0 12]]\n",
      "{'dropout': 0.0, 'hidden_size': 25, 'learning_rate': 1e-05, 'batch_size': 64, 'n_hidden': 1, 'accuracy': 0.2, 'f1': 0.26}\n"
     ]
    },
    {
     "name": "stderr",
     "output_type": "stream",
     "text": [
      "62it [35:03, 23.46s/it]"
     ]
    },
    {
     "name": "stdout",
     "output_type": "stream",
     "text": [
      "Confusion matrix:\n",
      " [[66  7]\n",
      " [ 8  4]]\n",
      "{'dropout': 0.0, 'hidden_size': 25, 'learning_rate': 1e-05, 'batch_size': 64, 'n_hidden': 2, 'accuracy': 0.8235, 'f1': 0.35}\n"
     ]
    },
    {
     "name": "stderr",
     "output_type": "stream",
     "text": [
      "63it [35:09, 18.17s/it]"
     ]
    },
    {
     "name": "stdout",
     "output_type": "stream",
     "text": [
      "Confusion matrix:\n",
      " [[73  0]\n",
      " [12  0]]\n",
      "{'dropout': 0.0, 'hidden_size': 25, 'learning_rate': 1e-05, 'batch_size': 64, 'n_hidden': 3, 'accuracy': 0.8588, 'f1': 0.0}\n"
     ]
    },
    {
     "name": "stderr",
     "output_type": "stream",
     "text": [
      "64it [35:14, 14.28s/it]"
     ]
    },
    {
     "name": "stdout",
     "output_type": "stream",
     "text": [
      "Confusion matrix:\n",
      " [[ 0 73]\n",
      " [ 0 12]]\n",
      "{'dropout': 0.0, 'hidden_size': 25, 'learning_rate': 1e-05, 'batch_size': 64, 'n_hidden': 4, 'accuracy': 0.1412, 'f1': 0.25}\n"
     ]
    },
    {
     "name": "stderr",
     "output_type": "stream",
     "text": [
      "65it [35:36, 16.63s/it]"
     ]
    },
    {
     "name": "stdout",
     "output_type": "stream",
     "text": [
      "Confusion matrix:\n",
      " [[62 11]\n",
      " [ 2 10]]\n",
      "{'dropout': 0.0, 'hidden_size': 50, 'learning_rate': 0.01, 'batch_size': 8, 'n_hidden': 1, 'accuracy': 0.8471, 'f1': 0.61}\n"
     ]
    },
    {
     "name": "stderr",
     "output_type": "stream",
     "text": [
      "66it [36:03, 19.59s/it]"
     ]
    },
    {
     "name": "stdout",
     "output_type": "stream",
     "text": [
      "Confusion matrix:\n",
      " [[57 16]\n",
      " [ 1 11]]\n",
      "{'dropout': 0.0, 'hidden_size': 50, 'learning_rate': 0.01, 'batch_size': 8, 'n_hidden': 2, 'accuracy': 0.8, 'f1': 0.56}\n"
     ]
    },
    {
     "name": "stderr",
     "output_type": "stream",
     "text": [
      "67it [36:25, 20.32s/it]"
     ]
    },
    {
     "name": "stdout",
     "output_type": "stream",
     "text": [
      "Confusion matrix:\n",
      " [[73  0]\n",
      " [12  0]]\n",
      "{'dropout': 0.0, 'hidden_size': 50, 'learning_rate': 0.01, 'batch_size': 8, 'n_hidden': 3, 'accuracy': 0.8588, 'f1': 0.0}\n"
     ]
    },
    {
     "name": "stderr",
     "output_type": "stream",
     "text": [
      "68it [36:47, 20.83s/it]"
     ]
    },
    {
     "name": "stdout",
     "output_type": "stream",
     "text": [
      "Confusion matrix:\n",
      " [[73  0]\n",
      " [12  0]]\n",
      "{'dropout': 0.0, 'hidden_size': 50, 'learning_rate': 0.01, 'batch_size': 8, 'n_hidden': 4, 'accuracy': 0.8588, 'f1': 0.0}\n"
     ]
    },
    {
     "name": "stderr",
     "output_type": "stream",
     "text": [
      "69it [37:13, 22.45s/it]"
     ]
    },
    {
     "name": "stdout",
     "output_type": "stream",
     "text": [
      "Confusion matrix:\n",
      " [[62 11]\n",
      " [ 4  8]]\n",
      "{'dropout': 0.0, 'hidden_size': 50, 'learning_rate': 0.01, 'batch_size': 16, 'n_hidden': 1, 'accuracy': 0.8235, 'f1': 0.52}\n"
     ]
    },
    {
     "name": "stderr",
     "output_type": "stream",
     "text": [
      "70it [37:35, 22.32s/it]"
     ]
    },
    {
     "name": "stdout",
     "output_type": "stream",
     "text": [
      "Confusion matrix:\n",
      " [[68  5]\n",
      " [ 2 10]]\n",
      "{'dropout': 0.0, 'hidden_size': 50, 'learning_rate': 0.01, 'batch_size': 16, 'n_hidden': 2, 'accuracy': 0.9176, 'f1': 0.74}\n"
     ]
    },
    {
     "name": "stderr",
     "output_type": "stream",
     "text": [
      "71it [37:53, 21.06s/it]"
     ]
    },
    {
     "name": "stdout",
     "output_type": "stream",
     "text": [
      "Confusion matrix:\n",
      " [[72  1]\n",
      " [ 9  3]]\n",
      "{'dropout': 0.0, 'hidden_size': 50, 'learning_rate': 0.01, 'batch_size': 16, 'n_hidden': 3, 'accuracy': 0.8824, 'f1': 0.38}\n"
     ]
    },
    {
     "name": "stderr",
     "output_type": "stream",
     "text": [
      "72it [38:07, 19.06s/it]"
     ]
    },
    {
     "name": "stdout",
     "output_type": "stream",
     "text": [
      "Confusion matrix:\n",
      " [[73  0]\n",
      " [12  0]]\n",
      "{'dropout': 0.0, 'hidden_size': 50, 'learning_rate': 0.01, 'batch_size': 16, 'n_hidden': 4, 'accuracy': 0.8588, 'f1': 0.0}\n"
     ]
    },
    {
     "name": "stderr",
     "output_type": "stream",
     "text": [
      "73it [38:14, 15.46s/it]"
     ]
    },
    {
     "name": "stdout",
     "output_type": "stream",
     "text": [
      "Confusion matrix:\n",
      " [[68  5]\n",
      " [ 2 10]]\n",
      "{'dropout': 0.0, 'hidden_size': 50, 'learning_rate': 0.01, 'batch_size': 32, 'n_hidden': 1, 'accuracy': 0.9176, 'f1': 0.74}\n"
     ]
    },
    {
     "name": "stderr",
     "output_type": "stream",
     "text": [
      "74it [38:26, 14.25s/it]"
     ]
    },
    {
     "name": "stdout",
     "output_type": "stream",
     "text": [
      "Confusion matrix:\n",
      " [[64  9]\n",
      " [ 1 11]]\n",
      "{'dropout': 0.0, 'hidden_size': 50, 'learning_rate': 0.01, 'batch_size': 32, 'n_hidden': 2, 'accuracy': 0.8824, 'f1': 0.69}\n"
     ]
    },
    {
     "name": "stderr",
     "output_type": "stream",
     "text": [
      "75it [38:42, 14.89s/it]"
     ]
    },
    {
     "name": "stdout",
     "output_type": "stream",
     "text": [
      "Confusion matrix:\n",
      " [[62 11]\n",
      " [ 0 12]]\n",
      "{'dropout': 0.0, 'hidden_size': 50, 'learning_rate': 0.01, 'batch_size': 32, 'n_hidden': 3, 'accuracy': 0.8706, 'f1': 0.69}\n"
     ]
    },
    {
     "name": "stderr",
     "output_type": "stream",
     "text": [
      "76it [39:04, 16.97s/it]"
     ]
    },
    {
     "name": "stdout",
     "output_type": "stream",
     "text": [
      "Confusion matrix:\n",
      " [[69  4]\n",
      " [ 3  9]]\n",
      "{'dropout': 0.0, 'hidden_size': 50, 'learning_rate': 0.01, 'batch_size': 32, 'n_hidden': 4, 'accuracy': 0.9176, 'f1': 0.72}\n"
     ]
    },
    {
     "name": "stderr",
     "output_type": "stream",
     "text": [
      "77it [39:13, 14.57s/it]"
     ]
    },
    {
     "name": "stdout",
     "output_type": "stream",
     "text": [
      "Confusion matrix:\n",
      " [[68  5]\n",
      " [ 2 10]]\n",
      "{'dropout': 0.0, 'hidden_size': 50, 'learning_rate': 0.01, 'batch_size': 64, 'n_hidden': 1, 'accuracy': 0.9176, 'f1': 0.74}\n"
     ]
    },
    {
     "name": "stderr",
     "output_type": "stream",
     "text": [
      "78it [39:21, 12.65s/it]"
     ]
    },
    {
     "name": "stdout",
     "output_type": "stream",
     "text": [
      "Confusion matrix:\n",
      " [[68  5]\n",
      " [ 2 10]]\n",
      "{'dropout': 0.0, 'hidden_size': 50, 'learning_rate': 0.01, 'batch_size': 64, 'n_hidden': 2, 'accuracy': 0.9176, 'f1': 0.74}\n"
     ]
    },
    {
     "name": "stderr",
     "output_type": "stream",
     "text": [
      "79it [39:34, 12.73s/it]"
     ]
    },
    {
     "name": "stdout",
     "output_type": "stream",
     "text": [
      "Confusion matrix:\n",
      " [[64  9]\n",
      " [ 0 12]]\n",
      "{'dropout': 0.0, 'hidden_size': 50, 'learning_rate': 0.01, 'batch_size': 64, 'n_hidden': 3, 'accuracy': 0.8941, 'f1': 0.73}\n"
     ]
    },
    {
     "name": "stderr",
     "output_type": "stream",
     "text": [
      "80it [39:51, 13.96s/it]"
     ]
    },
    {
     "name": "stdout",
     "output_type": "stream",
     "text": [
      "Confusion matrix:\n",
      " [[66  7]\n",
      " [ 2 10]]\n",
      "{'dropout': 0.0, 'hidden_size': 50, 'learning_rate': 0.01, 'batch_size': 64, 'n_hidden': 4, 'accuracy': 0.8941, 'f1': 0.69}\n"
     ]
    },
    {
     "name": "stderr",
     "output_type": "stream",
     "text": [
      "81it [40:22, 18.94s/it]"
     ]
    },
    {
     "name": "stdout",
     "output_type": "stream",
     "text": [
      "Confusion matrix:\n",
      " [[71  2]\n",
      " [ 6  6]]\n",
      "{'dropout': 0.0, 'hidden_size': 50, 'learning_rate': 0.001, 'batch_size': 8, 'n_hidden': 1, 'accuracy': 0.9059, 'f1': 0.6}\n"
     ]
    },
    {
     "name": "stderr",
     "output_type": "stream",
     "text": [
      "82it [40:59, 24.60s/it]"
     ]
    },
    {
     "name": "stdout",
     "output_type": "stream",
     "text": [
      "Confusion matrix:\n",
      " [[68  5]\n",
      " [ 4  8]]\n",
      "{'dropout': 0.0, 'hidden_size': 50, 'learning_rate': 0.001, 'batch_size': 8, 'n_hidden': 2, 'accuracy': 0.8941, 'f1': 0.64}\n"
     ]
    },
    {
     "name": "stderr",
     "output_type": "stream",
     "text": [
      "83it [41:37, 28.37s/it]"
     ]
    },
    {
     "name": "stdout",
     "output_type": "stream",
     "text": [
      "Confusion matrix:\n",
      " [[68  5]\n",
      " [ 3  9]]\n",
      "{'dropout': 0.0, 'hidden_size': 50, 'learning_rate': 0.001, 'batch_size': 8, 'n_hidden': 3, 'accuracy': 0.9059, 'f1': 0.69}\n"
     ]
    },
    {
     "name": "stderr",
     "output_type": "stream",
     "text": [
      "84it [42:34, 37.03s/it]"
     ]
    },
    {
     "name": "stdout",
     "output_type": "stream",
     "text": [
      "Confusion matrix:\n",
      " [[57 16]\n",
      " [ 2 10]]\n",
      "{'dropout': 0.0, 'hidden_size': 50, 'learning_rate': 0.001, 'batch_size': 8, 'n_hidden': 4, 'accuracy': 0.7882, 'f1': 0.53}\n"
     ]
    },
    {
     "name": "stderr",
     "output_type": "stream",
     "text": [
      "85it [43:03, 34.56s/it]"
     ]
    },
    {
     "name": "stdout",
     "output_type": "stream",
     "text": [
      "Confusion matrix:\n",
      " [[65  8]\n",
      " [ 2 10]]\n",
      "{'dropout': 0.0, 'hidden_size': 50, 'learning_rate': 0.001, 'batch_size': 16, 'n_hidden': 1, 'accuracy': 0.8824, 'f1': 0.67}\n"
     ]
    },
    {
     "name": "stderr",
     "output_type": "stream",
     "text": [
      "86it [43:27, 31.39s/it]"
     ]
    },
    {
     "name": "stdout",
     "output_type": "stream",
     "text": [
      "Confusion matrix:\n",
      " [[67  6]\n",
      " [ 4  8]]\n",
      "{'dropout': 0.0, 'hidden_size': 50, 'learning_rate': 0.001, 'batch_size': 16, 'n_hidden': 2, 'accuracy': 0.8824, 'f1': 0.62}\n"
     ]
    },
    {
     "name": "stderr",
     "output_type": "stream",
     "text": [
      "87it [43:47, 28.09s/it]"
     ]
    },
    {
     "name": "stdout",
     "output_type": "stream",
     "text": [
      "Confusion matrix:\n",
      " [[64  9]\n",
      " [ 2 10]]\n",
      "{'dropout': 0.0, 'hidden_size': 50, 'learning_rate': 0.001, 'batch_size': 16, 'n_hidden': 3, 'accuracy': 0.8706, 'f1': 0.65}\n"
     ]
    },
    {
     "name": "stderr",
     "output_type": "stream",
     "text": [
      "88it [44:08, 25.98s/it]"
     ]
    },
    {
     "name": "stdout",
     "output_type": "stream",
     "text": [
      "Confusion matrix:\n",
      " [[56 17]\n",
      " [ 0 12]]\n",
      "{'dropout': 0.0, 'hidden_size': 50, 'learning_rate': 0.001, 'batch_size': 16, 'n_hidden': 4, 'accuracy': 0.8, 'f1': 0.59}\n"
     ]
    },
    {
     "name": "stderr",
     "output_type": "stream",
     "text": [
      "89it [44:26, 23.57s/it]"
     ]
    },
    {
     "name": "stdout",
     "output_type": "stream",
     "text": [
      "Confusion matrix:\n",
      " [[69  4]\n",
      " [ 4  8]]\n",
      "{'dropout': 0.0, 'hidden_size': 50, 'learning_rate': 0.001, 'batch_size': 32, 'n_hidden': 1, 'accuracy': 0.9059, 'f1': 0.67}\n"
     ]
    },
    {
     "name": "stderr",
     "output_type": "stream",
     "text": [
      "90it [44:45, 22.15s/it]"
     ]
    },
    {
     "name": "stdout",
     "output_type": "stream",
     "text": [
      "Confusion matrix:\n",
      " [[65  8]\n",
      " [ 3  9]]\n",
      "{'dropout': 0.0, 'hidden_size': 50, 'learning_rate': 0.001, 'batch_size': 32, 'n_hidden': 2, 'accuracy': 0.8706, 'f1': 0.62}\n"
     ]
    },
    {
     "name": "stderr",
     "output_type": "stream",
     "text": [
      "91it [45:02, 20.70s/it]"
     ]
    },
    {
     "name": "stdout",
     "output_type": "stream",
     "text": [
      "Confusion matrix:\n",
      " [[62 11]\n",
      " [ 2 10]]\n",
      "{'dropout': 0.0, 'hidden_size': 50, 'learning_rate': 0.001, 'batch_size': 32, 'n_hidden': 3, 'accuracy': 0.8471, 'f1': 0.61}\n"
     ]
    },
    {
     "name": "stderr",
     "output_type": "stream",
     "text": [
      "92it [45:16, 18.63s/it]"
     ]
    },
    {
     "name": "stdout",
     "output_type": "stream",
     "text": [
      "Confusion matrix:\n",
      " [[59 14]\n",
      " [ 2 10]]\n",
      "{'dropout': 0.0, 'hidden_size': 50, 'learning_rate': 0.001, 'batch_size': 32, 'n_hidden': 4, 'accuracy': 0.8118, 'f1': 0.56}\n"
     ]
    },
    {
     "name": "stderr",
     "output_type": "stream",
     "text": [
      "93it [45:31, 17.53s/it]"
     ]
    },
    {
     "name": "stdout",
     "output_type": "stream",
     "text": [
      "Confusion matrix:\n",
      " [[63 10]\n",
      " [ 1 11]]\n",
      "{'dropout': 0.0, 'hidden_size': 50, 'learning_rate': 0.001, 'batch_size': 64, 'n_hidden': 1, 'accuracy': 0.8706, 'f1': 0.67}\n"
     ]
    },
    {
     "name": "stderr",
     "output_type": "stream",
     "text": [
      "94it [45:42, 15.64s/it]"
     ]
    },
    {
     "name": "stdout",
     "output_type": "stream",
     "text": [
      "Confusion matrix:\n",
      " [[66  7]\n",
      " [ 2 10]]\n",
      "{'dropout': 0.0, 'hidden_size': 50, 'learning_rate': 0.001, 'batch_size': 64, 'n_hidden': 2, 'accuracy': 0.8941, 'f1': 0.69}\n"
     ]
    },
    {
     "name": "stderr",
     "output_type": "stream",
     "text": [
      "95it [45:56, 15.23s/it]"
     ]
    },
    {
     "name": "stdout",
     "output_type": "stream",
     "text": [
      "Confusion matrix:\n",
      " [[61 12]\n",
      " [ 1 11]]\n",
      "{'dropout': 0.0, 'hidden_size': 50, 'learning_rate': 0.001, 'batch_size': 64, 'n_hidden': 3, 'accuracy': 0.8471, 'f1': 0.63}\n"
     ]
    },
    {
     "name": "stderr",
     "output_type": "stream",
     "text": [
      "96it [46:11, 15.04s/it]"
     ]
    },
    {
     "name": "stdout",
     "output_type": "stream",
     "text": [
      "Confusion matrix:\n",
      " [[62 11]\n",
      " [ 1 11]]\n",
      "{'dropout': 0.0, 'hidden_size': 50, 'learning_rate': 0.001, 'batch_size': 64, 'n_hidden': 4, 'accuracy': 0.8588, 'f1': 0.65}\n"
     ]
    },
    {
     "name": "stderr",
     "output_type": "stream",
     "text": [
      "97it [48:03, 44.03s/it]"
     ]
    },
    {
     "name": "stdout",
     "output_type": "stream",
     "text": [
      "Confusion matrix:\n",
      " [[67  6]\n",
      " [ 3  9]]\n",
      "{'dropout': 0.0, 'hidden_size': 50, 'learning_rate': 0.0001, 'batch_size': 8, 'n_hidden': 1, 'accuracy': 0.8941, 'f1': 0.67}\n"
     ]
    },
    {
     "name": "stderr",
     "output_type": "stream",
     "text": [
      "98it [49:03, 49.00s/it]"
     ]
    },
    {
     "name": "stdout",
     "output_type": "stream",
     "text": [
      "Confusion matrix:\n",
      " [[70  3]\n",
      " [ 2 10]]\n",
      "{'dropout': 0.0, 'hidden_size': 50, 'learning_rate': 0.0001, 'batch_size': 8, 'n_hidden': 2, 'accuracy': 0.9412, 'f1': 0.8}\n"
     ]
    },
    {
     "name": "stderr",
     "output_type": "stream",
     "text": [
      "99it [50:09, 54.15s/it]"
     ]
    },
    {
     "name": "stdout",
     "output_type": "stream",
     "text": [
      "Confusion matrix:\n",
      " [[68  5]\n",
      " [ 2 10]]\n",
      "{'dropout': 0.0, 'hidden_size': 50, 'learning_rate': 0.0001, 'batch_size': 8, 'n_hidden': 3, 'accuracy': 0.9176, 'f1': 0.74}\n"
     ]
    },
    {
     "name": "stderr",
     "output_type": "stream",
     "text": [
      "100it [51:43, 66.05s/it]"
     ]
    },
    {
     "name": "stdout",
     "output_type": "stream",
     "text": [
      "Confusion matrix:\n",
      " [[69  4]\n",
      " [ 2 10]]\n",
      "{'dropout': 0.0, 'hidden_size': 50, 'learning_rate': 0.0001, 'batch_size': 8, 'n_hidden': 4, 'accuracy': 0.9294, 'f1': 0.77}\n"
     ]
    },
    {
     "name": "stderr",
     "output_type": "stream",
     "text": [
      "101it [52:26, 59.09s/it]"
     ]
    },
    {
     "name": "stdout",
     "output_type": "stream",
     "text": [
      "Confusion matrix:\n",
      " [[67  6]\n",
      " [ 2 10]]\n",
      "{'dropout': 0.0, 'hidden_size': 50, 'learning_rate': 0.0001, 'batch_size': 16, 'n_hidden': 1, 'accuracy': 0.9059, 'f1': 0.71}\n"
     ]
    },
    {
     "name": "stderr",
     "output_type": "stream",
     "text": [
      "102it [53:00, 51.45s/it]"
     ]
    },
    {
     "name": "stdout",
     "output_type": "stream",
     "text": [
      "Confusion matrix:\n",
      " [[70  3]\n",
      " [ 2 10]]\n",
      "{'dropout': 0.0, 'hidden_size': 50, 'learning_rate': 0.0001, 'batch_size': 16, 'n_hidden': 2, 'accuracy': 0.9412, 'f1': 0.8}\n"
     ]
    },
    {
     "name": "stderr",
     "output_type": "stream",
     "text": [
      "103it [54:00, 54.21s/it]"
     ]
    },
    {
     "name": "stdout",
     "output_type": "stream",
     "text": [
      "Confusion matrix:\n",
      " [[57 16]\n",
      " [ 0 12]]\n",
      "{'dropout': 0.0, 'hidden_size': 50, 'learning_rate': 0.0001, 'batch_size': 16, 'n_hidden': 3, 'accuracy': 0.8118, 'f1': 0.6}\n"
     ]
    },
    {
     "name": "stderr",
     "output_type": "stream",
     "text": [
      "104it [54:55, 54.39s/it]"
     ]
    },
    {
     "name": "stdout",
     "output_type": "stream",
     "text": [
      "Confusion matrix:\n",
      " [[66  7]\n",
      " [ 2 10]]\n",
      "{'dropout': 0.0, 'hidden_size': 50, 'learning_rate': 0.0001, 'batch_size': 16, 'n_hidden': 4, 'accuracy': 0.8941, 'f1': 0.69}\n"
     ]
    },
    {
     "name": "stderr",
     "output_type": "stream",
     "text": [
      "105it [55:26, 47.45s/it]"
     ]
    },
    {
     "name": "stdout",
     "output_type": "stream",
     "text": [
      "Confusion matrix:\n",
      " [[62 11]\n",
      " [ 1 11]]\n",
      "{'dropout': 0.0, 'hidden_size': 50, 'learning_rate': 0.0001, 'batch_size': 32, 'n_hidden': 1, 'accuracy': 0.8588, 'f1': 0.65}\n"
     ]
    },
    {
     "name": "stderr",
     "output_type": "stream",
     "text": [
      "106it [55:52, 41.05s/it]"
     ]
    },
    {
     "name": "stdout",
     "output_type": "stream",
     "text": [
      "Confusion matrix:\n",
      " [[69  4]\n",
      " [ 2 10]]\n",
      "{'dropout': 0.0, 'hidden_size': 50, 'learning_rate': 0.0001, 'batch_size': 32, 'n_hidden': 2, 'accuracy': 0.9294, 'f1': 0.77}\n"
     ]
    },
    {
     "name": "stderr",
     "output_type": "stream",
     "text": [
      "107it [56:28, 39.27s/it]"
     ]
    },
    {
     "name": "stdout",
     "output_type": "stream",
     "text": [
      "Confusion matrix:\n",
      " [[65  8]\n",
      " [ 2 10]]\n",
      "{'dropout': 0.0, 'hidden_size': 50, 'learning_rate': 0.0001, 'batch_size': 32, 'n_hidden': 3, 'accuracy': 0.8824, 'f1': 0.67}\n"
     ]
    },
    {
     "name": "stderr",
     "output_type": "stream",
     "text": [
      "108it [56:53, 34.96s/it]"
     ]
    },
    {
     "name": "stdout",
     "output_type": "stream",
     "text": [
      "Confusion matrix:\n",
      " [[59 14]\n",
      " [ 1 11]]\n",
      "{'dropout': 0.0, 'hidden_size': 50, 'learning_rate': 0.0001, 'batch_size': 32, 'n_hidden': 4, 'accuracy': 0.8235, 'f1': 0.59}\n"
     ]
    },
    {
     "name": "stderr",
     "output_type": "stream",
     "text": [
      "109it [57:19, 32.40s/it]"
     ]
    },
    {
     "name": "stdout",
     "output_type": "stream",
     "text": [
      "Confusion matrix:\n",
      " [[65  8]\n",
      " [ 1 11]]\n",
      "{'dropout': 0.0, 'hidden_size': 50, 'learning_rate': 0.0001, 'batch_size': 64, 'n_hidden': 1, 'accuracy': 0.8941, 'f1': 0.71}\n"
     ]
    },
    {
     "name": "stderr",
     "output_type": "stream",
     "text": [
      "110it [57:45, 30.60s/it]"
     ]
    },
    {
     "name": "stdout",
     "output_type": "stream",
     "text": [
      "Confusion matrix:\n",
      " [[60 13]\n",
      " [ 1 11]]\n",
      "{'dropout': 0.0, 'hidden_size': 50, 'learning_rate': 0.0001, 'batch_size': 64, 'n_hidden': 2, 'accuracy': 0.8353, 'f1': 0.61}\n"
     ]
    },
    {
     "name": "stderr",
     "output_type": "stream",
     "text": [
      "111it [58:17, 30.93s/it]"
     ]
    },
    {
     "name": "stdout",
     "output_type": "stream",
     "text": [
      "Confusion matrix:\n",
      " [[60 13]\n",
      " [ 1 11]]\n",
      "{'dropout': 0.0, 'hidden_size': 50, 'learning_rate': 0.0001, 'batch_size': 64, 'n_hidden': 3, 'accuracy': 0.8353, 'f1': 0.61}\n"
     ]
    },
    {
     "name": "stderr",
     "output_type": "stream",
     "text": [
      "112it [58:41, 28.87s/it]"
     ]
    },
    {
     "name": "stdout",
     "output_type": "stream",
     "text": [
      "Confusion matrix:\n",
      " [[69  4]\n",
      " [ 2 10]]\n",
      "{'dropout': 0.0, 'hidden_size': 50, 'learning_rate': 0.0001, 'batch_size': 64, 'n_hidden': 4, 'accuracy': 0.9294, 'f1': 0.77}\n"
     ]
    },
    {
     "name": "stderr",
     "output_type": "stream",
     "text": [
      "113it [1:00:08, 46.28s/it]"
     ]
    },
    {
     "name": "stdout",
     "output_type": "stream",
     "text": [
      "Confusion matrix:\n",
      " [[73  0]\n",
      " [12  0]]\n",
      "{'dropout': 0.0, 'hidden_size': 50, 'learning_rate': 1e-05, 'batch_size': 8, 'n_hidden': 1, 'accuracy': 0.8588, 'f1': 0.0}\n"
     ]
    },
    {
     "name": "stderr",
     "output_type": "stream",
     "text": [
      "114it [1:01:19, 53.55s/it]"
     ]
    },
    {
     "name": "stdout",
     "output_type": "stream",
     "text": [
      "Confusion matrix:\n",
      " [[73  0]\n",
      " [12  0]]\n",
      "{'dropout': 0.0, 'hidden_size': 50, 'learning_rate': 1e-05, 'batch_size': 8, 'n_hidden': 2, 'accuracy': 0.8588, 'f1': 0.0}\n"
     ]
    },
    {
     "name": "stderr",
     "output_type": "stream",
     "text": [
      "115it [1:03:21, 74.34s/it]"
     ]
    },
    {
     "name": "stdout",
     "output_type": "stream",
     "text": [
      "Confusion matrix:\n",
      " [[71  2]\n",
      " [ 8  4]]\n",
      "{'dropout': 0.0, 'hidden_size': 50, 'learning_rate': 1e-05, 'batch_size': 8, 'n_hidden': 3, 'accuracy': 0.8824, 'f1': 0.44}\n"
     ]
    },
    {
     "name": "stderr",
     "output_type": "stream",
     "text": [
      "116it [1:04:02, 64.37s/it]"
     ]
    },
    {
     "name": "stdout",
     "output_type": "stream",
     "text": [
      "Confusion matrix:\n",
      " [[73  0]\n",
      " [12  0]]\n",
      "{'dropout': 0.0, 'hidden_size': 50, 'learning_rate': 1e-05, 'batch_size': 8, 'n_hidden': 4, 'accuracy': 0.8588, 'f1': 0.0}\n"
     ]
    },
    {
     "name": "stderr",
     "output_type": "stream",
     "text": [
      "117it [1:04:53, 60.10s/it]"
     ]
    },
    {
     "name": "stdout",
     "output_type": "stream",
     "text": [
      "Confusion matrix:\n",
      " [[71  2]\n",
      " [12  0]]\n",
      "{'dropout': 0.0, 'hidden_size': 50, 'learning_rate': 1e-05, 'batch_size': 16, 'n_hidden': 1, 'accuracy': 0.8353, 'f1': 0.0}\n"
     ]
    },
    {
     "name": "stderr",
     "output_type": "stream",
     "text": [
      "118it [1:05:34, 54.38s/it]"
     ]
    },
    {
     "name": "stdout",
     "output_type": "stream",
     "text": [
      "Confusion matrix:\n",
      " [[73  0]\n",
      " [12  0]]\n",
      "{'dropout': 0.0, 'hidden_size': 50, 'learning_rate': 1e-05, 'batch_size': 16, 'n_hidden': 2, 'accuracy': 0.8588, 'f1': 0.0}\n"
     ]
    },
    {
     "name": "stderr",
     "output_type": "stream",
     "text": [
      "119it [1:06:24, 53.06s/it]"
     ]
    },
    {
     "name": "stdout",
     "output_type": "stream",
     "text": [
      "Confusion matrix:\n",
      " [[73  0]\n",
      " [12  0]]\n",
      "{'dropout': 0.0, 'hidden_size': 50, 'learning_rate': 1e-05, 'batch_size': 16, 'n_hidden': 3, 'accuracy': 0.8588, 'f1': 0.0}\n"
     ]
    },
    {
     "name": "stderr",
     "output_type": "stream",
     "text": [
      "120it [1:07:14, 52.29s/it]"
     ]
    },
    {
     "name": "stdout",
     "output_type": "stream",
     "text": [
      "Confusion matrix:\n",
      " [[73  0]\n",
      " [12  0]]\n",
      "{'dropout': 0.0, 'hidden_size': 50, 'learning_rate': 1e-05, 'batch_size': 16, 'n_hidden': 4, 'accuracy': 0.8588, 'f1': 0.0}\n"
     ]
    },
    {
     "name": "stderr",
     "output_type": "stream",
     "text": [
      "121it [1:07:47, 46.39s/it]"
     ]
    },
    {
     "name": "stdout",
     "output_type": "stream",
     "text": [
      "Confusion matrix:\n",
      " [[65  8]\n",
      " [10  2]]\n",
      "{'dropout': 0.0, 'hidden_size': 50, 'learning_rate': 1e-05, 'batch_size': 32, 'n_hidden': 1, 'accuracy': 0.7882, 'f1': 0.18}\n"
     ]
    },
    {
     "name": "stderr",
     "output_type": "stream",
     "text": [
      "122it [1:08:01, 36.77s/it]"
     ]
    },
    {
     "name": "stdout",
     "output_type": "stream",
     "text": [
      "Confusion matrix:\n",
      " [[73  0]\n",
      " [12  0]]\n",
      "{'dropout': 0.0, 'hidden_size': 50, 'learning_rate': 1e-05, 'batch_size': 32, 'n_hidden': 2, 'accuracy': 0.8588, 'f1': 0.0}\n"
     ]
    },
    {
     "name": "stderr",
     "output_type": "stream",
     "text": [
      "123it [1:08:30, 34.49s/it]"
     ]
    },
    {
     "name": "stdout",
     "output_type": "stream",
     "text": [
      "Confusion matrix:\n",
      " [[73  0]\n",
      " [12  0]]\n",
      "{'dropout': 0.0, 'hidden_size': 50, 'learning_rate': 1e-05, 'batch_size': 32, 'n_hidden': 3, 'accuracy': 0.8588, 'f1': 0.0}\n"
     ]
    },
    {
     "name": "stderr",
     "output_type": "stream",
     "text": [
      "124it [1:09:21, 39.42s/it]"
     ]
    },
    {
     "name": "stdout",
     "output_type": "stream",
     "text": [
      "Confusion matrix:\n",
      " [[72  1]\n",
      " [ 8  4]]\n",
      "{'dropout': 0.0, 'hidden_size': 50, 'learning_rate': 1e-05, 'batch_size': 32, 'n_hidden': 4, 'accuracy': 0.8941, 'f1': 0.47}\n"
     ]
    },
    {
     "name": "stderr",
     "output_type": "stream",
     "text": [
      "125it [1:09:40, 33.40s/it]"
     ]
    },
    {
     "name": "stdout",
     "output_type": "stream",
     "text": [
      "Confusion matrix:\n",
      " [[45 28]\n",
      " [ 5  7]]\n",
      "{'dropout': 0.0, 'hidden_size': 50, 'learning_rate': 1e-05, 'batch_size': 64, 'n_hidden': 1, 'accuracy': 0.6118, 'f1': 0.3}\n"
     ]
    },
    {
     "name": "stderr",
     "output_type": "stream",
     "text": [
      "126it [1:09:50, 26.12s/it]"
     ]
    },
    {
     "name": "stdout",
     "output_type": "stream",
     "text": [
      "Confusion matrix:\n",
      " [[73  0]\n",
      " [12  0]]\n",
      "{'dropout': 0.0, 'hidden_size': 50, 'learning_rate': 1e-05, 'batch_size': 64, 'n_hidden': 2, 'accuracy': 0.8588, 'f1': 0.0}\n"
     ]
    },
    {
     "name": "stderr",
     "output_type": "stream",
     "text": [
      "127it [1:10:13, 25.26s/it]"
     ]
    },
    {
     "name": "stdout",
     "output_type": "stream",
     "text": [
      "Confusion matrix:\n",
      " [[67  6]\n",
      " [ 6  6]]\n",
      "{'dropout': 0.0, 'hidden_size': 50, 'learning_rate': 1e-05, 'batch_size': 64, 'n_hidden': 3, 'accuracy': 0.8588, 'f1': 0.5}\n"
     ]
    },
    {
     "name": "stderr",
     "output_type": "stream",
     "text": [
      "128it [1:10:19, 19.43s/it]"
     ]
    },
    {
     "name": "stdout",
     "output_type": "stream",
     "text": [
      "Confusion matrix:\n",
      " [[ 0 73]\n",
      " [ 0 12]]\n",
      "{'dropout': 0.0, 'hidden_size': 50, 'learning_rate': 1e-05, 'batch_size': 64, 'n_hidden': 4, 'accuracy': 0.1412, 'f1': 0.25}\n"
     ]
    },
    {
     "name": "stderr",
     "output_type": "stream",
     "text": [
      "129it [1:10:48, 22.36s/it]"
     ]
    },
    {
     "name": "stdout",
     "output_type": "stream",
     "text": [
      "Confusion matrix:\n",
      " [[68  5]\n",
      " [ 1 11]]\n",
      "{'dropout': 0.0, 'hidden_size': 75, 'learning_rate': 0.01, 'batch_size': 8, 'n_hidden': 1, 'accuracy': 0.9294, 'f1': 0.79}\n"
     ]
    },
    {
     "name": "stderr",
     "output_type": "stream",
     "text": [
      "130it [1:11:12, 22.85s/it]"
     ]
    },
    {
     "name": "stdout",
     "output_type": "stream",
     "text": [
      "Confusion matrix:\n",
      " [[69  4]\n",
      " [ 3  9]]\n",
      "{'dropout': 0.0, 'hidden_size': 75, 'learning_rate': 0.01, 'batch_size': 8, 'n_hidden': 2, 'accuracy': 0.9176, 'f1': 0.72}\n"
     ]
    },
    {
     "name": "stderr",
     "output_type": "stream",
     "text": [
      "131it [1:11:40, 24.49s/it]"
     ]
    },
    {
     "name": "stdout",
     "output_type": "stream",
     "text": [
      "Confusion matrix:\n",
      " [[73  0]\n",
      " [12  0]]\n",
      "{'dropout': 0.0, 'hidden_size': 75, 'learning_rate': 0.01, 'batch_size': 8, 'n_hidden': 3, 'accuracy': 0.8588, 'f1': 0.0}\n"
     ]
    },
    {
     "name": "stderr",
     "output_type": "stream",
     "text": [
      "132it [1:12:10, 26.05s/it]"
     ]
    },
    {
     "name": "stdout",
     "output_type": "stream",
     "text": [
      "Confusion matrix:\n",
      " [[73  0]\n",
      " [12  0]]\n",
      "{'dropout': 0.0, 'hidden_size': 75, 'learning_rate': 0.01, 'batch_size': 8, 'n_hidden': 4, 'accuracy': 0.8588, 'f1': 0.0}\n"
     ]
    },
    {
     "name": "stderr",
     "output_type": "stream",
     "text": [
      "133it [1:12:29, 24.06s/it]"
     ]
    },
    {
     "name": "stdout",
     "output_type": "stream",
     "text": [
      "Confusion matrix:\n",
      " [[69  4]\n",
      " [ 4  8]]\n",
      "{'dropout': 0.0, 'hidden_size': 75, 'learning_rate': 0.01, 'batch_size': 16, 'n_hidden': 1, 'accuracy': 0.9059, 'f1': 0.67}\n"
     ]
    },
    {
     "name": "stderr",
     "output_type": "stream",
     "text": [
      "134it [1:12:56, 24.80s/it]"
     ]
    },
    {
     "name": "stdout",
     "output_type": "stream",
     "text": [
      "Confusion matrix:\n",
      " [[62 11]\n",
      " [ 3  9]]\n",
      "{'dropout': 0.0, 'hidden_size': 75, 'learning_rate': 0.01, 'batch_size': 16, 'n_hidden': 2, 'accuracy': 0.8353, 'f1': 0.56}\n"
     ]
    },
    {
     "name": "stderr",
     "output_type": "stream",
     "text": [
      "135it [1:13:19, 24.34s/it]"
     ]
    },
    {
     "name": "stdout",
     "output_type": "stream",
     "text": [
      "Confusion matrix:\n",
      " [[69  4]\n",
      " [ 3  9]]\n",
      "{'dropout': 0.0, 'hidden_size': 75, 'learning_rate': 0.01, 'batch_size': 16, 'n_hidden': 3, 'accuracy': 0.9176, 'f1': 0.72}\n"
     ]
    },
    {
     "name": "stderr",
     "output_type": "stream",
     "text": [
      "136it [1:13:30, 20.40s/it]"
     ]
    },
    {
     "name": "stdout",
     "output_type": "stream",
     "text": [
      "Confusion matrix:\n",
      " [[73  0]\n",
      " [12  0]]\n",
      "{'dropout': 0.0, 'hidden_size': 75, 'learning_rate': 0.01, 'batch_size': 16, 'n_hidden': 4, 'accuracy': 0.8588, 'f1': 0.0}\n"
     ]
    },
    {
     "name": "stderr",
     "output_type": "stream",
     "text": [
      "137it [1:13:44, 18.45s/it]"
     ]
    },
    {
     "name": "stdout",
     "output_type": "stream",
     "text": [
      "Confusion matrix:\n",
      " [[64  9]\n",
      " [ 2 10]]\n",
      "{'dropout': 0.0, 'hidden_size': 75, 'learning_rate': 0.01, 'batch_size': 32, 'n_hidden': 1, 'accuracy': 0.8706, 'f1': 0.65}\n"
     ]
    },
    {
     "name": "stderr",
     "output_type": "stream",
     "text": [
      "138it [1:13:53, 15.62s/it]"
     ]
    },
    {
     "name": "stdout",
     "output_type": "stream",
     "text": [
      "Confusion matrix:\n",
      " [[65  8]\n",
      " [ 4  8]]\n",
      "{'dropout': 0.0, 'hidden_size': 75, 'learning_rate': 0.01, 'batch_size': 32, 'n_hidden': 2, 'accuracy': 0.8588, 'f1': 0.57}\n"
     ]
    },
    {
     "name": "stderr",
     "output_type": "stream",
     "text": [
      "139it [1:14:08, 15.38s/it]"
     ]
    },
    {
     "name": "stdout",
     "output_type": "stream",
     "text": [
      "Confusion matrix:\n",
      " [[69  4]\n",
      " [ 2 10]]\n",
      "{'dropout': 0.0, 'hidden_size': 75, 'learning_rate': 0.01, 'batch_size': 32, 'n_hidden': 3, 'accuracy': 0.9294, 'f1': 0.77}\n"
     ]
    },
    {
     "name": "stderr",
     "output_type": "stream",
     "text": [
      "140it [1:14:16, 13.10s/it]"
     ]
    },
    {
     "name": "stdout",
     "output_type": "stream",
     "text": [
      "Confusion matrix:\n",
      " [[ 1 72]\n",
      " [ 0 12]]\n",
      "{'dropout': 0.0, 'hidden_size': 75, 'learning_rate': 0.01, 'batch_size': 32, 'n_hidden': 4, 'accuracy': 0.1529, 'f1': 0.25}\n"
     ]
    },
    {
     "name": "stderr",
     "output_type": "stream",
     "text": [
      "141it [1:14:27, 12.60s/it]"
     ]
    },
    {
     "name": "stdout",
     "output_type": "stream",
     "text": [
      "Confusion matrix:\n",
      " [[69  4]\n",
      " [ 3  9]]\n",
      "{'dropout': 0.0, 'hidden_size': 75, 'learning_rate': 0.01, 'batch_size': 64, 'n_hidden': 1, 'accuracy': 0.9176, 'f1': 0.72}\n"
     ]
    },
    {
     "name": "stderr",
     "output_type": "stream",
     "text": [
      "142it [1:14:34, 10.96s/it]"
     ]
    },
    {
     "name": "stdout",
     "output_type": "stream",
     "text": [
      "Confusion matrix:\n",
      " [[61 12]\n",
      " [ 2 10]]\n",
      "{'dropout': 0.0, 'hidden_size': 75, 'learning_rate': 0.01, 'batch_size': 64, 'n_hidden': 2, 'accuracy': 0.8353, 'f1': 0.59}\n"
     ]
    },
    {
     "name": "stderr",
     "output_type": "stream",
     "text": [
      "143it [1:14:46, 11.13s/it]"
     ]
    },
    {
     "name": "stdout",
     "output_type": "stream",
     "text": [
      "Confusion matrix:\n",
      " [[63 10]\n",
      " [ 2 10]]\n",
      "{'dropout': 0.0, 'hidden_size': 75, 'learning_rate': 0.01, 'batch_size': 64, 'n_hidden': 3, 'accuracy': 0.8588, 'f1': 0.62}\n"
     ]
    },
    {
     "name": "stderr",
     "output_type": "stream",
     "text": [
      "144it [1:14:54, 10.14s/it]"
     ]
    },
    {
     "name": "stdout",
     "output_type": "stream",
     "text": [
      "Confusion matrix:\n",
      " [[65  8]\n",
      " [ 2 10]]\n",
      "{'dropout': 0.0, 'hidden_size': 75, 'learning_rate': 0.01, 'batch_size': 64, 'n_hidden': 4, 'accuracy': 0.8824, 'f1': 0.67}\n"
     ]
    },
    {
     "name": "stderr",
     "output_type": "stream",
     "text": [
      "145it [1:15:29, 17.66s/it]"
     ]
    },
    {
     "name": "stdout",
     "output_type": "stream",
     "text": [
      "Confusion matrix:\n",
      " [[65  8]\n",
      " [ 3  9]]\n",
      "{'dropout': 0.0, 'hidden_size': 75, 'learning_rate': 0.001, 'batch_size': 8, 'n_hidden': 1, 'accuracy': 0.8706, 'f1': 0.62}\n"
     ]
    },
    {
     "name": "stderr",
     "output_type": "stream",
     "text": [
      "146it [1:15:56, 20.51s/it]"
     ]
    },
    {
     "name": "stdout",
     "output_type": "stream",
     "text": [
      "Confusion matrix:\n",
      " [[69  4]\n",
      " [ 3  9]]\n",
      "{'dropout': 0.0, 'hidden_size': 75, 'learning_rate': 0.001, 'batch_size': 8, 'n_hidden': 2, 'accuracy': 0.9176, 'f1': 0.72}\n"
     ]
    },
    {
     "name": "stderr",
     "output_type": "stream",
     "text": [
      "147it [1:16:38, 26.92s/it]"
     ]
    },
    {
     "name": "stdout",
     "output_type": "stream",
     "text": [
      "Confusion matrix:\n",
      " [[66  7]\n",
      " [ 3  9]]\n",
      "{'dropout': 0.0, 'hidden_size': 75, 'learning_rate': 0.001, 'batch_size': 8, 'n_hidden': 3, 'accuracy': 0.8824, 'f1': 0.64}\n"
     ]
    },
    {
     "name": "stderr",
     "output_type": "stream",
     "text": [
      "148it [1:17:17, 30.39s/it]"
     ]
    },
    {
     "name": "stdout",
     "output_type": "stream",
     "text": [
      "Confusion matrix:\n",
      " [[63 10]\n",
      " [ 3  9]]\n",
      "{'dropout': 0.0, 'hidden_size': 75, 'learning_rate': 0.001, 'batch_size': 8, 'n_hidden': 4, 'accuracy': 0.8471, 'f1': 0.58}\n"
     ]
    },
    {
     "name": "stderr",
     "output_type": "stream",
     "text": [
      "149it [1:17:35, 26.77s/it]"
     ]
    },
    {
     "name": "stdout",
     "output_type": "stream",
     "text": [
      "Confusion matrix:\n",
      " [[64  9]\n",
      " [ 2 10]]\n",
      "{'dropout': 0.0, 'hidden_size': 75, 'learning_rate': 0.001, 'batch_size': 16, 'n_hidden': 1, 'accuracy': 0.8706, 'f1': 0.65}\n"
     ]
    },
    {
     "name": "stderr",
     "output_type": "stream",
     "text": [
      "150it [1:18:01, 26.62s/it]"
     ]
    },
    {
     "name": "stdout",
     "output_type": "stream",
     "text": [
      "Confusion matrix:\n",
      " [[67  6]\n",
      " [ 4  8]]\n",
      "{'dropout': 0.0, 'hidden_size': 75, 'learning_rate': 0.001, 'batch_size': 16, 'n_hidden': 2, 'accuracy': 0.8824, 'f1': 0.62}\n"
     ]
    },
    {
     "name": "stderr",
     "output_type": "stream",
     "text": [
      "151it [1:18:33, 28.23s/it]"
     ]
    },
    {
     "name": "stdout",
     "output_type": "stream",
     "text": [
      "Confusion matrix:\n",
      " [[62 11]\n",
      " [ 1 11]]\n",
      "{'dropout': 0.0, 'hidden_size': 75, 'learning_rate': 0.001, 'batch_size': 16, 'n_hidden': 3, 'accuracy': 0.8588, 'f1': 0.65}\n"
     ]
    },
    {
     "name": "stderr",
     "output_type": "stream",
     "text": [
      "152it [1:19:07, 29.83s/it]"
     ]
    },
    {
     "name": "stdout",
     "output_type": "stream",
     "text": [
      "Confusion matrix:\n",
      " [[68  5]\n",
      " [ 5  7]]\n",
      "{'dropout': 0.0, 'hidden_size': 75, 'learning_rate': 0.001, 'batch_size': 16, 'n_hidden': 4, 'accuracy': 0.8824, 'f1': 0.58}\n"
     ]
    },
    {
     "name": "stderr",
     "output_type": "stream",
     "text": [
      "153it [1:19:21, 25.30s/it]"
     ]
    },
    {
     "name": "stdout",
     "output_type": "stream",
     "text": [
      "Confusion matrix:\n",
      " [[67  6]\n",
      " [ 4  8]]\n",
      "{'dropout': 0.0, 'hidden_size': 75, 'learning_rate': 0.001, 'batch_size': 32, 'n_hidden': 1, 'accuracy': 0.8824, 'f1': 0.62}\n"
     ]
    },
    {
     "name": "stderr",
     "output_type": "stream",
     "text": [
      "154it [1:19:41, 23.53s/it]"
     ]
    },
    {
     "name": "stdout",
     "output_type": "stream",
     "text": [
      "Confusion matrix:\n",
      " [[60 13]\n",
      " [ 1 11]]\n",
      "{'dropout': 0.0, 'hidden_size': 75, 'learning_rate': 0.001, 'batch_size': 32, 'n_hidden': 2, 'accuracy': 0.8353, 'f1': 0.61}\n"
     ]
    },
    {
     "name": "stderr",
     "output_type": "stream",
     "text": [
      "155it [1:19:58, 21.54s/it]"
     ]
    },
    {
     "name": "stdout",
     "output_type": "stream",
     "text": [
      "Confusion matrix:\n",
      " [[57 16]\n",
      " [ 1 11]]\n",
      "{'dropout': 0.0, 'hidden_size': 75, 'learning_rate': 0.001, 'batch_size': 32, 'n_hidden': 3, 'accuracy': 0.8, 'f1': 0.56}\n"
     ]
    },
    {
     "name": "stderr",
     "output_type": "stream",
     "text": [
      "156it [1:20:12, 19.36s/it]"
     ]
    },
    {
     "name": "stdout",
     "output_type": "stream",
     "text": [
      "Confusion matrix:\n",
      " [[56 17]\n",
      " [ 0 12]]\n",
      "{'dropout': 0.0, 'hidden_size': 75, 'learning_rate': 0.001, 'batch_size': 32, 'n_hidden': 4, 'accuracy': 0.8, 'f1': 0.59}\n"
     ]
    },
    {
     "name": "stderr",
     "output_type": "stream",
     "text": [
      "157it [1:20:26, 17.72s/it]"
     ]
    },
    {
     "name": "stdout",
     "output_type": "stream",
     "text": [
      "Confusion matrix:\n",
      " [[66  7]\n",
      " [ 2 10]]\n",
      "{'dropout': 0.0, 'hidden_size': 75, 'learning_rate': 0.001, 'batch_size': 64, 'n_hidden': 1, 'accuracy': 0.8941, 'f1': 0.69}\n"
     ]
    },
    {
     "name": "stderr",
     "output_type": "stream",
     "text": [
      "158it [1:20:40, 16.72s/it]"
     ]
    },
    {
     "name": "stdout",
     "output_type": "stream",
     "text": [
      "Confusion matrix:\n",
      " [[64  9]\n",
      " [ 3  9]]\n",
      "{'dropout': 0.0, 'hidden_size': 75, 'learning_rate': 0.001, 'batch_size': 64, 'n_hidden': 2, 'accuracy': 0.8588, 'f1': 0.6}\n"
     ]
    },
    {
     "name": "stderr",
     "output_type": "stream",
     "text": [
      "159it [1:20:58, 16.89s/it]"
     ]
    },
    {
     "name": "stdout",
     "output_type": "stream",
     "text": [
      "Confusion matrix:\n",
      " [[65  8]\n",
      " [ 3  9]]\n",
      "{'dropout': 0.0, 'hidden_size': 75, 'learning_rate': 0.001, 'batch_size': 64, 'n_hidden': 3, 'accuracy': 0.8706, 'f1': 0.62}\n"
     ]
    },
    {
     "name": "stderr",
     "output_type": "stream",
     "text": [
      "160it [1:21:15, 17.21s/it]"
     ]
    },
    {
     "name": "stdout",
     "output_type": "stream",
     "text": [
      "Confusion matrix:\n",
      " [[58 15]\n",
      " [ 1 11]]\n",
      "{'dropout': 0.0, 'hidden_size': 75, 'learning_rate': 0.001, 'batch_size': 64, 'n_hidden': 4, 'accuracy': 0.8118, 'f1': 0.58}\n"
     ]
    },
    {
     "name": "stderr",
     "output_type": "stream",
     "text": [
      "161it [1:22:14, 29.57s/it]"
     ]
    },
    {
     "name": "stdout",
     "output_type": "stream",
     "text": [
      "Confusion matrix:\n",
      " [[68  5]\n",
      " [ 2 10]]\n",
      "{'dropout': 0.0, 'hidden_size': 75, 'learning_rate': 0.0001, 'batch_size': 8, 'n_hidden': 1, 'accuracy': 0.9176, 'f1': 0.74}\n"
     ]
    },
    {
     "name": "stderr",
     "output_type": "stream",
     "text": [
      "162it [1:23:00, 34.49s/it]"
     ]
    },
    {
     "name": "stdout",
     "output_type": "stream",
     "text": [
      "Confusion matrix:\n",
      " [[67  6]\n",
      " [ 2 10]]\n",
      "{'dropout': 0.0, 'hidden_size': 75, 'learning_rate': 0.0001, 'batch_size': 8, 'n_hidden': 2, 'accuracy': 0.9059, 'f1': 0.71}\n"
     ]
    },
    {
     "name": "stderr",
     "output_type": "stream",
     "text": [
      "163it [1:23:40, 36.06s/it]"
     ]
    },
    {
     "name": "stdout",
     "output_type": "stream",
     "text": [
      "Confusion matrix:\n",
      " [[62 11]\n",
      " [ 1 11]]\n",
      "{'dropout': 0.0, 'hidden_size': 75, 'learning_rate': 0.0001, 'batch_size': 8, 'n_hidden': 3, 'accuracy': 0.8588, 'f1': 0.65}\n"
     ]
    },
    {
     "name": "stderr",
     "output_type": "stream",
     "text": [
      "164it [1:24:44, 44.63s/it]"
     ]
    },
    {
     "name": "stdout",
     "output_type": "stream",
     "text": [
      "Confusion matrix:\n",
      " [[64  9]\n",
      " [ 2 10]]\n",
      "{'dropout': 0.0, 'hidden_size': 75, 'learning_rate': 0.0001, 'batch_size': 8, 'n_hidden': 4, 'accuracy': 0.8706, 'f1': 0.65}\n"
     ]
    },
    {
     "name": "stderr",
     "output_type": "stream",
     "text": [
      "165it [1:25:17, 41.06s/it]"
     ]
    },
    {
     "name": "stdout",
     "output_type": "stream",
     "text": [
      "Confusion matrix:\n",
      " [[69  4]\n",
      " [ 2 10]]\n",
      "{'dropout': 0.0, 'hidden_size': 75, 'learning_rate': 0.0001, 'batch_size': 16, 'n_hidden': 1, 'accuracy': 0.9294, 'f1': 0.77}\n"
     ]
    },
    {
     "name": "stderr",
     "output_type": "stream",
     "text": [
      "166it [1:25:45, 37.31s/it]"
     ]
    },
    {
     "name": "stdout",
     "output_type": "stream",
     "text": [
      "Confusion matrix:\n",
      " [[61 12]\n",
      " [ 2 10]]\n",
      "{'dropout': 0.0, 'hidden_size': 75, 'learning_rate': 0.0001, 'batch_size': 16, 'n_hidden': 2, 'accuracy': 0.8353, 'f1': 0.59}\n"
     ]
    },
    {
     "name": "stderr",
     "output_type": "stream",
     "text": [
      "167it [1:26:26, 38.22s/it]"
     ]
    },
    {
     "name": "stdout",
     "output_type": "stream",
     "text": [
      "Confusion matrix:\n",
      " [[64  9]\n",
      " [ 2 10]]\n",
      "{'dropout': 0.0, 'hidden_size': 75, 'learning_rate': 0.0001, 'batch_size': 16, 'n_hidden': 3, 'accuracy': 0.8706, 'f1': 0.65}\n"
     ]
    },
    {
     "name": "stderr",
     "output_type": "stream",
     "text": [
      "168it [1:26:59, 36.69s/it]"
     ]
    },
    {
     "name": "stdout",
     "output_type": "stream",
     "text": [
      "Confusion matrix:\n",
      " [[69  4]\n",
      " [ 3  9]]\n",
      "{'dropout': 0.0, 'hidden_size': 75, 'learning_rate': 0.0001, 'batch_size': 16, 'n_hidden': 4, 'accuracy': 0.9176, 'f1': 0.72}\n"
     ]
    },
    {
     "name": "stderr",
     "output_type": "stream",
     "text": [
      "169it [1:27:26, 33.78s/it]"
     ]
    },
    {
     "name": "stdout",
     "output_type": "stream",
     "text": [
      "Confusion matrix:\n",
      " [[61 12]\n",
      " [ 1 11]]\n",
      "{'dropout': 0.0, 'hidden_size': 75, 'learning_rate': 0.0001, 'batch_size': 32, 'n_hidden': 1, 'accuracy': 0.8471, 'f1': 0.63}\n"
     ]
    },
    {
     "name": "stderr",
     "output_type": "stream",
     "text": [
      "170it [1:27:55, 32.37s/it]"
     ]
    },
    {
     "name": "stdout",
     "output_type": "stream",
     "text": [
      "Confusion matrix:\n",
      " [[67  6]\n",
      " [ 3  9]]\n",
      "{'dropout': 0.0, 'hidden_size': 75, 'learning_rate': 0.0001, 'batch_size': 32, 'n_hidden': 2, 'accuracy': 0.8941, 'f1': 0.67}\n"
     ]
    },
    {
     "name": "stderr",
     "output_type": "stream",
     "text": [
      "171it [1:28:19, 29.86s/it]"
     ]
    },
    {
     "name": "stdout",
     "output_type": "stream",
     "text": [
      "Confusion matrix:\n",
      " [[66  7]\n",
      " [ 2 10]]\n",
      "{'dropout': 0.0, 'hidden_size': 75, 'learning_rate': 0.0001, 'batch_size': 32, 'n_hidden': 3, 'accuracy': 0.8941, 'f1': 0.69}\n"
     ]
    },
    {
     "name": "stderr",
     "output_type": "stream",
     "text": [
      "172it [1:28:43, 28.19s/it]"
     ]
    },
    {
     "name": "stdout",
     "output_type": "stream",
     "text": [
      "Confusion matrix:\n",
      " [[57 16]\n",
      " [ 1 11]]\n",
      "{'dropout': 0.0, 'hidden_size': 75, 'learning_rate': 0.0001, 'batch_size': 32, 'n_hidden': 4, 'accuracy': 0.8, 'f1': 0.56}\n"
     ]
    },
    {
     "name": "stderr",
     "output_type": "stream",
     "text": [
      "173it [1:29:14, 28.81s/it]"
     ]
    },
    {
     "name": "stdout",
     "output_type": "stream",
     "text": [
      "Confusion matrix:\n",
      " [[63 10]\n",
      " [ 1 11]]\n",
      "{'dropout': 0.0, 'hidden_size': 75, 'learning_rate': 0.0001, 'batch_size': 64, 'n_hidden': 1, 'accuracy': 0.8706, 'f1': 0.67}\n"
     ]
    },
    {
     "name": "stderr",
     "output_type": "stream",
     "text": [
      "174it [1:29:41, 28.28s/it]"
     ]
    },
    {
     "name": "stdout",
     "output_type": "stream",
     "text": [
      "Confusion matrix:\n",
      " [[63 10]\n",
      " [ 1 11]]\n",
      "{'dropout': 0.0, 'hidden_size': 75, 'learning_rate': 0.0001, 'batch_size': 64, 'n_hidden': 2, 'accuracy': 0.8706, 'f1': 0.67}\n"
     ]
    },
    {
     "name": "stderr",
     "output_type": "stream",
     "text": [
      "175it [1:30:02, 26.10s/it]"
     ]
    },
    {
     "name": "stdout",
     "output_type": "stream",
     "text": [
      "Confusion matrix:\n",
      " [[64  9]\n",
      " [ 1 11]]\n",
      "{'dropout': 0.0, 'hidden_size': 75, 'learning_rate': 0.0001, 'batch_size': 64, 'n_hidden': 3, 'accuracy': 0.8824, 'f1': 0.69}\n"
     ]
    },
    {
     "name": "stderr",
     "output_type": "stream",
     "text": [
      "176it [1:30:24, 25.12s/it]"
     ]
    },
    {
     "name": "stdout",
     "output_type": "stream",
     "text": [
      "Confusion matrix:\n",
      " [[66  7]\n",
      " [ 2 10]]\n",
      "{'dropout': 0.0, 'hidden_size': 75, 'learning_rate': 0.0001, 'batch_size': 64, 'n_hidden': 4, 'accuracy': 0.8941, 'f1': 0.69}\n"
     ]
    },
    {
     "name": "stderr",
     "output_type": "stream",
     "text": [
      "177it [1:31:59, 46.05s/it]"
     ]
    },
    {
     "name": "stdout",
     "output_type": "stream",
     "text": [
      "Confusion matrix:\n",
      " [[73  0]\n",
      " [12  0]]\n",
      "{'dropout': 0.0, 'hidden_size': 75, 'learning_rate': 1e-05, 'batch_size': 8, 'n_hidden': 1, 'accuracy': 0.8588, 'f1': 0.0}\n"
     ]
    },
    {
     "name": "stderr",
     "output_type": "stream",
     "text": [
      "178it [1:34:31, 77.79s/it]"
     ]
    },
    {
     "name": "stdout",
     "output_type": "stream",
     "text": [
      "Confusion matrix:\n",
      " [[70  3]\n",
      " [ 6  6]]\n",
      "{'dropout': 0.0, 'hidden_size': 75, 'learning_rate': 1e-05, 'batch_size': 8, 'n_hidden': 2, 'accuracy': 0.8941, 'f1': 0.57}\n"
     ]
    },
    {
     "name": "stderr",
     "output_type": "stream",
     "text": [
      "179it [1:35:40, 75.24s/it]"
     ]
    },
    {
     "name": "stdout",
     "output_type": "stream",
     "text": [
      "Confusion matrix:\n",
      " [[73  0]\n",
      " [12  0]]\n",
      "{'dropout': 0.0, 'hidden_size': 75, 'learning_rate': 1e-05, 'batch_size': 8, 'n_hidden': 3, 'accuracy': 0.8588, 'f1': 0.0}\n"
     ]
    },
    {
     "name": "stderr",
     "output_type": "stream",
     "text": [
      "180it [1:37:08, 78.89s/it]"
     ]
    },
    {
     "name": "stdout",
     "output_type": "stream",
     "text": [
      "Confusion matrix:\n",
      " [[72  1]\n",
      " [11  1]]\n",
      "{'dropout': 0.0, 'hidden_size': 75, 'learning_rate': 1e-05, 'batch_size': 8, 'n_hidden': 4, 'accuracy': 0.8588, 'f1': 0.14}\n"
     ]
    },
    {
     "name": "stderr",
     "output_type": "stream",
     "text": [
      "181it [1:37:25, 60.47s/it]"
     ]
    },
    {
     "name": "stdout",
     "output_type": "stream",
     "text": [
      "Confusion matrix:\n",
      " [[73  0]\n",
      " [12  0]]\n",
      "{'dropout': 0.0, 'hidden_size': 75, 'learning_rate': 1e-05, 'batch_size': 16, 'n_hidden': 1, 'accuracy': 0.8588, 'f1': 0.0}\n"
     ]
    },
    {
     "name": "stderr",
     "output_type": "stream",
     "text": [
      "182it [1:38:27, 60.82s/it]"
     ]
    },
    {
     "name": "stdout",
     "output_type": "stream",
     "text": [
      "Confusion matrix:\n",
      " [[73  0]\n",
      " [ 9  3]]\n",
      "{'dropout': 0.0, 'hidden_size': 75, 'learning_rate': 1e-05, 'batch_size': 16, 'n_hidden': 2, 'accuracy': 0.8941, 'f1': 0.4}\n"
     ]
    },
    {
     "name": "stderr",
     "output_type": "stream",
     "text": [
      "183it [1:40:02, 71.02s/it]"
     ]
    },
    {
     "name": "stdout",
     "output_type": "stream",
     "text": [
      "Confusion matrix:\n",
      " [[55 18]\n",
      " [ 4  8]]\n",
      "{'dropout': 0.0, 'hidden_size': 75, 'learning_rate': 1e-05, 'batch_size': 16, 'n_hidden': 3, 'accuracy': 0.7412, 'f1': 0.42}\n"
     ]
    },
    {
     "name": "stderr",
     "output_type": "stream",
     "text": [
      "184it [1:40:56, 66.10s/it]"
     ]
    },
    {
     "name": "stdout",
     "output_type": "stream",
     "text": [
      "Confusion matrix:\n",
      " [[72  1]\n",
      " [11  1]]\n",
      "{'dropout': 0.0, 'hidden_size': 75, 'learning_rate': 1e-05, 'batch_size': 16, 'n_hidden': 4, 'accuracy': 0.8588, 'f1': 0.14}\n"
     ]
    },
    {
     "name": "stderr",
     "output_type": "stream",
     "text": [
      "185it [1:41:08, 49.84s/it]"
     ]
    },
    {
     "name": "stdout",
     "output_type": "stream",
     "text": [
      "Confusion matrix:\n",
      " [[73  0]\n",
      " [12  0]]\n",
      "{'dropout': 0.0, 'hidden_size': 75, 'learning_rate': 1e-05, 'batch_size': 32, 'n_hidden': 1, 'accuracy': 0.8588, 'f1': 0.0}\n"
     ]
    },
    {
     "name": "stderr",
     "output_type": "stream",
     "text": [
      "186it [1:41:37, 43.57s/it]"
     ]
    },
    {
     "name": "stdout",
     "output_type": "stream",
     "text": [
      "Confusion matrix:\n",
      " [[73  0]\n",
      " [11  1]]\n",
      "{'dropout': 0.0, 'hidden_size': 75, 'learning_rate': 1e-05, 'batch_size': 32, 'n_hidden': 2, 'accuracy': 0.8706, 'f1': 0.15}\n"
     ]
    },
    {
     "name": "stderr",
     "output_type": "stream",
     "text": [
      "187it [1:42:19, 42.87s/it]"
     ]
    },
    {
     "name": "stdout",
     "output_type": "stream",
     "text": [
      "Confusion matrix:\n",
      " [[73  0]\n",
      " [11  1]]\n",
      "{'dropout': 0.0, 'hidden_size': 75, 'learning_rate': 1e-05, 'batch_size': 32, 'n_hidden': 3, 'accuracy': 0.8706, 'f1': 0.15}\n"
     ]
    },
    {
     "name": "stderr",
     "output_type": "stream",
     "text": [
      "188it [1:43:12, 46.15s/it]"
     ]
    },
    {
     "name": "stdout",
     "output_type": "stream",
     "text": [
      "Confusion matrix:\n",
      " [[63 10]\n",
      " [ 5  7]]\n",
      "{'dropout': 0.0, 'hidden_size': 75, 'learning_rate': 1e-05, 'batch_size': 32, 'n_hidden': 4, 'accuracy': 0.8235, 'f1': 0.48}\n"
     ]
    },
    {
     "name": "stderr",
     "output_type": "stream",
     "text": [
      "189it [1:43:21, 34.92s/it]"
     ]
    },
    {
     "name": "stdout",
     "output_type": "stream",
     "text": [
      "Confusion matrix:\n",
      " [[73  0]\n",
      " [12  0]]\n",
      "{'dropout': 0.0, 'hidden_size': 75, 'learning_rate': 1e-05, 'batch_size': 64, 'n_hidden': 1, 'accuracy': 0.8588, 'f1': 0.0}\n"
     ]
    },
    {
     "name": "stderr",
     "output_type": "stream",
     "text": [
      "190it [1:43:44, 31.23s/it]"
     ]
    },
    {
     "name": "stdout",
     "output_type": "stream",
     "text": [
      "Confusion matrix:\n",
      " [[66  7]\n",
      " [ 5  7]]\n",
      "{'dropout': 0.0, 'hidden_size': 75, 'learning_rate': 1e-05, 'batch_size': 64, 'n_hidden': 2, 'accuracy': 0.8588, 'f1': 0.54}\n"
     ]
    },
    {
     "name": "stderr",
     "output_type": "stream",
     "text": [
      "191it [1:44:04, 27.94s/it]"
     ]
    },
    {
     "name": "stdout",
     "output_type": "stream",
     "text": [
      "Confusion matrix:\n",
      " [[73  0]\n",
      " [12  0]]\n",
      "{'dropout': 0.0, 'hidden_size': 75, 'learning_rate': 1e-05, 'batch_size': 64, 'n_hidden': 3, 'accuracy': 0.8588, 'f1': 0.0}\n"
     ]
    },
    {
     "name": "stderr",
     "output_type": "stream",
     "text": [
      "192it [1:44:42, 31.05s/it]"
     ]
    },
    {
     "name": "stdout",
     "output_type": "stream",
     "text": [
      "Confusion matrix:\n",
      " [[73  0]\n",
      " [11  1]]\n",
      "{'dropout': 0.0, 'hidden_size': 75, 'learning_rate': 1e-05, 'batch_size': 64, 'n_hidden': 4, 'accuracy': 0.8706, 'f1': 0.15}\n"
     ]
    },
    {
     "name": "stderr",
     "output_type": "stream",
     "text": [
      "193it [1:45:12, 30.60s/it]"
     ]
    },
    {
     "name": "stdout",
     "output_type": "stream",
     "text": [
      "Confusion matrix:\n",
      " [[63 10]\n",
      " [ 2 10]]\n",
      "{'dropout': 0.0, 'hidden_size': 100, 'learning_rate': 0.01, 'batch_size': 8, 'n_hidden': 1, 'accuracy': 0.8588, 'f1': 0.62}\n"
     ]
    },
    {
     "name": "stderr",
     "output_type": "stream",
     "text": [
      "194it [1:45:39, 29.69s/it]"
     ]
    },
    {
     "name": "stdout",
     "output_type": "stream",
     "text": [
      "Confusion matrix:\n",
      " [[59 14]\n",
      " [ 8  4]]\n",
      "{'dropout': 0.0, 'hidden_size': 100, 'learning_rate': 0.01, 'batch_size': 8, 'n_hidden': 2, 'accuracy': 0.7412, 'f1': 0.27}\n"
     ]
    },
    {
     "name": "stderr",
     "output_type": "stream",
     "text": [
      "195it [1:46:20, 32.89s/it]"
     ]
    },
    {
     "name": "stdout",
     "output_type": "stream",
     "text": [
      "Confusion matrix:\n",
      " [[73  0]\n",
      " [12  0]]\n",
      "{'dropout': 0.0, 'hidden_size': 100, 'learning_rate': 0.01, 'batch_size': 8, 'n_hidden': 3, 'accuracy': 0.8588, 'f1': 0.0}\n"
     ]
    },
    {
     "name": "stderr",
     "output_type": "stream",
     "text": [
      "196it [1:46:56, 33.98s/it]"
     ]
    },
    {
     "name": "stdout",
     "output_type": "stream",
     "text": [
      "Confusion matrix:\n",
      " [[73  0]\n",
      " [12  0]]\n",
      "{'dropout': 0.0, 'hidden_size': 100, 'learning_rate': 0.01, 'batch_size': 8, 'n_hidden': 4, 'accuracy': 0.8588, 'f1': 0.0}\n"
     ]
    },
    {
     "name": "stderr",
     "output_type": "stream",
     "text": [
      "197it [1:47:20, 30.90s/it]"
     ]
    },
    {
     "name": "stdout",
     "output_type": "stream",
     "text": [
      "Confusion matrix:\n",
      " [[63 10]\n",
      " [ 3  9]]\n",
      "{'dropout': 0.0, 'hidden_size': 100, 'learning_rate': 0.01, 'batch_size': 16, 'n_hidden': 1, 'accuracy': 0.8471, 'f1': 0.58}\n"
     ]
    },
    {
     "name": "stderr",
     "output_type": "stream",
     "text": [
      "198it [1:48:00, 33.65s/it]"
     ]
    },
    {
     "name": "stdout",
     "output_type": "stream",
     "text": [
      "Confusion matrix:\n",
      " [[62 11]\n",
      " [ 0 12]]\n",
      "{'dropout': 0.0, 'hidden_size': 100, 'learning_rate': 0.01, 'batch_size': 16, 'n_hidden': 2, 'accuracy': 0.8706, 'f1': 0.69}\n"
     ]
    },
    {
     "name": "stderr",
     "output_type": "stream",
     "text": [
      "199it [1:49:00, 41.49s/it]"
     ]
    },
    {
     "name": "stdout",
     "output_type": "stream",
     "text": [
      "Confusion matrix:\n",
      " [[72  1]\n",
      " [10  2]]\n",
      "{'dropout': 0.0, 'hidden_size': 100, 'learning_rate': 0.01, 'batch_size': 16, 'n_hidden': 3, 'accuracy': 0.8706, 'f1': 0.27}\n"
     ]
    },
    {
     "name": "stderr",
     "output_type": "stream",
     "text": [
      "200it [1:49:16, 34.05s/it]"
     ]
    },
    {
     "name": "stdout",
     "output_type": "stream",
     "text": [
      "Confusion matrix:\n",
      " [[ 0 73]\n",
      " [ 0 12]]\n",
      "{'dropout': 0.0, 'hidden_size': 100, 'learning_rate': 0.01, 'batch_size': 16, 'n_hidden': 4, 'accuracy': 0.1412, 'f1': 0.25}\n"
     ]
    },
    {
     "name": "stderr",
     "output_type": "stream",
     "text": [
      "201it [1:49:26, 26.81s/it]"
     ]
    },
    {
     "name": "stdout",
     "output_type": "stream",
     "text": [
      "Confusion matrix:\n",
      " [[45 28]\n",
      " [ 0 12]]\n",
      "{'dropout': 0.0, 'hidden_size': 100, 'learning_rate': 0.01, 'batch_size': 32, 'n_hidden': 1, 'accuracy': 0.6706, 'f1': 0.46}\n"
     ]
    },
    {
     "name": "stderr",
     "output_type": "stream",
     "text": [
      "202it [1:49:46, 24.64s/it]"
     ]
    },
    {
     "name": "stdout",
     "output_type": "stream",
     "text": [
      "Confusion matrix:\n",
      " [[63 10]\n",
      " [ 2 10]]\n",
      "{'dropout': 0.0, 'hidden_size': 100, 'learning_rate': 0.01, 'batch_size': 32, 'n_hidden': 2, 'accuracy': 0.8588, 'f1': 0.62}\n"
     ]
    },
    {
     "name": "stderr",
     "output_type": "stream",
     "text": [
      "203it [1:49:56, 20.19s/it]"
     ]
    },
    {
     "name": "stdout",
     "output_type": "stream",
     "text": [
      "Confusion matrix:\n",
      " [[63 10]\n",
      " [ 2 10]]\n",
      "{'dropout': 0.0, 'hidden_size': 100, 'learning_rate': 0.01, 'batch_size': 32, 'n_hidden': 3, 'accuracy': 0.8588, 'f1': 0.62}\n"
     ]
    },
    {
     "name": "stderr",
     "output_type": "stream",
     "text": [
      "204it [1:50:10, 18.26s/it]"
     ]
    },
    {
     "name": "stdout",
     "output_type": "stream",
     "text": [
      "Confusion matrix:\n",
      " [[73  0]\n",
      " [12  0]]\n",
      "{'dropout': 0.0, 'hidden_size': 100, 'learning_rate': 0.01, 'batch_size': 32, 'n_hidden': 4, 'accuracy': 0.8588, 'f1': 0.0}\n"
     ]
    },
    {
     "name": "stderr",
     "output_type": "stream",
     "text": [
      "205it [1:50:19, 15.73s/it]"
     ]
    },
    {
     "name": "stdout",
     "output_type": "stream",
     "text": [
      "Confusion matrix:\n",
      " [[63 10]\n",
      " [ 2 10]]\n",
      "{'dropout': 0.0, 'hidden_size': 100, 'learning_rate': 0.01, 'batch_size': 64, 'n_hidden': 1, 'accuracy': 0.8588, 'f1': 0.62}\n"
     ]
    },
    {
     "name": "stderr",
     "output_type": "stream",
     "text": [
      "206it [1:50:37, 16.19s/it]"
     ]
    },
    {
     "name": "stdout",
     "output_type": "stream",
     "text": [
      "Confusion matrix:\n",
      " [[65  8]\n",
      " [ 3  9]]\n",
      "{'dropout': 0.0, 'hidden_size': 100, 'learning_rate': 0.01, 'batch_size': 64, 'n_hidden': 2, 'accuracy': 0.8706, 'f1': 0.62}\n"
     ]
    },
    {
     "name": "stderr",
     "output_type": "stream",
     "text": [
      "207it [1:50:52, 16.09s/it]"
     ]
    },
    {
     "name": "stdout",
     "output_type": "stream",
     "text": [
      "Confusion matrix:\n",
      " [[43 30]\n",
      " [ 0 12]]\n",
      "{'dropout': 0.0, 'hidden_size': 100, 'learning_rate': 0.01, 'batch_size': 64, 'n_hidden': 3, 'accuracy': 0.6471, 'f1': 0.44}\n"
     ]
    },
    {
     "name": "stderr",
     "output_type": "stream",
     "text": [
      "208it [1:51:11, 16.94s/it]"
     ]
    },
    {
     "name": "stdout",
     "output_type": "stream",
     "text": [
      "Confusion matrix:\n",
      " [[61 12]\n",
      " [ 1 11]]\n",
      "{'dropout': 0.0, 'hidden_size': 100, 'learning_rate': 0.01, 'batch_size': 64, 'n_hidden': 4, 'accuracy': 0.8471, 'f1': 0.63}\n"
     ]
    },
    {
     "name": "stderr",
     "output_type": "stream",
     "text": [
      "209it [1:51:56, 25.35s/it]"
     ]
    },
    {
     "name": "stdout",
     "output_type": "stream",
     "text": [
      "Confusion matrix:\n",
      " [[69  4]\n",
      " [ 4  8]]\n",
      "{'dropout': 0.0, 'hidden_size': 100, 'learning_rate': 0.001, 'batch_size': 8, 'n_hidden': 1, 'accuracy': 0.9059, 'f1': 0.67}\n"
     ]
    },
    {
     "name": "stderr",
     "output_type": "stream",
     "text": [
      "210it [1:52:26, 26.76s/it]"
     ]
    },
    {
     "name": "stdout",
     "output_type": "stream",
     "text": [
      "Confusion matrix:\n",
      " [[67  6]\n",
      " [ 3  9]]\n",
      "{'dropout': 0.0, 'hidden_size': 100, 'learning_rate': 0.001, 'batch_size': 8, 'n_hidden': 2, 'accuracy': 0.8941, 'f1': 0.67}\n"
     ]
    },
    {
     "name": "stderr",
     "output_type": "stream",
     "text": [
      "211it [1:53:30, 37.72s/it]"
     ]
    },
    {
     "name": "stdout",
     "output_type": "stream",
     "text": [
      "Confusion matrix:\n",
      " [[63 10]\n",
      " [ 2 10]]\n",
      "{'dropout': 0.0, 'hidden_size': 100, 'learning_rate': 0.001, 'batch_size': 8, 'n_hidden': 3, 'accuracy': 0.8588, 'f1': 0.62}\n"
     ]
    },
    {
     "name": "stderr",
     "output_type": "stream",
     "text": [
      "212it [1:54:18, 41.00s/it]"
     ]
    },
    {
     "name": "stdout",
     "output_type": "stream",
     "text": [
      "Confusion matrix:\n",
      " [[56 17]\n",
      " [ 0 12]]\n",
      "{'dropout': 0.0, 'hidden_size': 100, 'learning_rate': 0.001, 'batch_size': 8, 'n_hidden': 4, 'accuracy': 0.8, 'f1': 0.59}\n"
     ]
    },
    {
     "name": "stderr",
     "output_type": "stream",
     "text": [
      "213it [1:54:50, 38.12s/it]"
     ]
    },
    {
     "name": "stdout",
     "output_type": "stream",
     "text": [
      "Confusion matrix:\n",
      " [[68  5]\n",
      " [ 3  9]]\n",
      "{'dropout': 0.0, 'hidden_size': 100, 'learning_rate': 0.001, 'batch_size': 16, 'n_hidden': 1, 'accuracy': 0.9059, 'f1': 0.69}\n"
     ]
    },
    {
     "name": "stderr",
     "output_type": "stream",
     "text": [
      "214it [1:55:24, 36.80s/it]"
     ]
    },
    {
     "name": "stdout",
     "output_type": "stream",
     "text": [
      "Confusion matrix:\n",
      " [[66  7]\n",
      " [ 4  8]]\n",
      "{'dropout': 0.0, 'hidden_size': 100, 'learning_rate': 0.001, 'batch_size': 16, 'n_hidden': 2, 'accuracy': 0.8706, 'f1': 0.59}\n"
     ]
    },
    {
     "name": "stderr",
     "output_type": "stream",
     "text": [
      "215it [1:55:50, 33.59s/it]"
     ]
    },
    {
     "name": "stdout",
     "output_type": "stream",
     "text": [
      "Confusion matrix:\n",
      " [[57 16]\n",
      " [ 1 11]]\n",
      "{'dropout': 0.0, 'hidden_size': 100, 'learning_rate': 0.001, 'batch_size': 16, 'n_hidden': 3, 'accuracy': 0.8, 'f1': 0.56}\n"
     ]
    },
    {
     "name": "stderr",
     "output_type": "stream",
     "text": [
      "216it [1:56:28, 35.06s/it]"
     ]
    },
    {
     "name": "stdout",
     "output_type": "stream",
     "text": [
      "Confusion matrix:\n",
      " [[59 14]\n",
      " [ 1 11]]\n",
      "{'dropout': 0.0, 'hidden_size': 100, 'learning_rate': 0.001, 'batch_size': 16, 'n_hidden': 4, 'accuracy': 0.8235, 'f1': 0.59}\n"
     ]
    },
    {
     "name": "stderr",
     "output_type": "stream",
     "text": [
      "217it [1:56:45, 29.67s/it]"
     ]
    },
    {
     "name": "stdout",
     "output_type": "stream",
     "text": [
      "Confusion matrix:\n",
      " [[67  6]\n",
      " [ 2 10]]\n",
      "{'dropout': 0.0, 'hidden_size': 100, 'learning_rate': 0.001, 'batch_size': 32, 'n_hidden': 1, 'accuracy': 0.9059, 'f1': 0.71}\n"
     ]
    },
    {
     "name": "stderr",
     "output_type": "stream",
     "text": [
      "218it [1:57:10, 28.23s/it]"
     ]
    },
    {
     "name": "stdout",
     "output_type": "stream",
     "text": [
      "Confusion matrix:\n",
      " [[64  9]\n",
      " [ 4  8]]\n",
      "{'dropout': 0.0, 'hidden_size': 100, 'learning_rate': 0.001, 'batch_size': 32, 'n_hidden': 2, 'accuracy': 0.8471, 'f1': 0.55}\n"
     ]
    },
    {
     "name": "stderr",
     "output_type": "stream",
     "text": [
      "219it [1:57:37, 27.98s/it]"
     ]
    },
    {
     "name": "stdout",
     "output_type": "stream",
     "text": [
      "Confusion matrix:\n",
      " [[67  6]\n",
      " [ 3  9]]\n",
      "{'dropout': 0.0, 'hidden_size': 100, 'learning_rate': 0.001, 'batch_size': 32, 'n_hidden': 3, 'accuracy': 0.8941, 'f1': 0.67}\n"
     ]
    },
    {
     "name": "stderr",
     "output_type": "stream",
     "text": [
      "220it [1:57:57, 25.41s/it]"
     ]
    },
    {
     "name": "stdout",
     "output_type": "stream",
     "text": [
      "Confusion matrix:\n",
      " [[66  7]\n",
      " [ 3  9]]\n",
      "{'dropout': 0.0, 'hidden_size': 100, 'learning_rate': 0.001, 'batch_size': 32, 'n_hidden': 4, 'accuracy': 0.8824, 'f1': 0.64}\n"
     ]
    },
    {
     "name": "stderr",
     "output_type": "stream",
     "text": [
      "221it [1:58:08, 21.12s/it]"
     ]
    },
    {
     "name": "stdout",
     "output_type": "stream",
     "text": [
      "Confusion matrix:\n",
      " [[59 14]\n",
      " [ 0 12]]\n",
      "{'dropout': 0.0, 'hidden_size': 100, 'learning_rate': 0.001, 'batch_size': 64, 'n_hidden': 1, 'accuracy': 0.8353, 'f1': 0.63}\n"
     ]
    },
    {
     "name": "stderr",
     "output_type": "stream",
     "text": [
      "222it [1:58:16, 17.31s/it]"
     ]
    },
    {
     "name": "stdout",
     "output_type": "stream",
     "text": [
      "Confusion matrix:\n",
      " [[62 11]\n",
      " [ 2 10]]\n",
      "{'dropout': 0.0, 'hidden_size': 100, 'learning_rate': 0.001, 'batch_size': 64, 'n_hidden': 2, 'accuracy': 0.8471, 'f1': 0.61}\n"
     ]
    },
    {
     "name": "stderr",
     "output_type": "stream",
     "text": [
      "223it [1:58:28, 15.72s/it]"
     ]
    },
    {
     "name": "stdout",
     "output_type": "stream",
     "text": [
      "Confusion matrix:\n",
      " [[63 10]\n",
      " [ 1 11]]\n",
      "{'dropout': 0.0, 'hidden_size': 100, 'learning_rate': 0.001, 'batch_size': 64, 'n_hidden': 3, 'accuracy': 0.8706, 'f1': 0.67}\n"
     ]
    },
    {
     "name": "stderr",
     "output_type": "stream",
     "text": [
      "224it [1:58:43, 15.34s/it]"
     ]
    },
    {
     "name": "stdout",
     "output_type": "stream",
     "text": [
      "Confusion matrix:\n",
      " [[68  5]\n",
      " [ 3  9]]\n",
      "{'dropout': 0.0, 'hidden_size': 100, 'learning_rate': 0.001, 'batch_size': 64, 'n_hidden': 4, 'accuracy': 0.9059, 'f1': 0.69}\n"
     ]
    },
    {
     "name": "stderr",
     "output_type": "stream",
     "text": [
      "225it [2:00:14, 38.14s/it]"
     ]
    },
    {
     "name": "stdout",
     "output_type": "stream",
     "text": [
      "Confusion matrix:\n",
      " [[69  4]\n",
      " [ 3  9]]\n",
      "{'dropout': 0.0, 'hidden_size': 100, 'learning_rate': 0.0001, 'batch_size': 8, 'n_hidden': 1, 'accuracy': 0.9176, 'f1': 0.72}\n"
     ]
    },
    {
     "name": "stderr",
     "output_type": "stream",
     "text": [
      "226it [2:02:07, 60.59s/it]"
     ]
    },
    {
     "name": "stdout",
     "output_type": "stream",
     "text": [
      "Confusion matrix:\n",
      " [[68  5]\n",
      " [ 4  8]]\n",
      "{'dropout': 0.0, 'hidden_size': 100, 'learning_rate': 0.0001, 'batch_size': 8, 'n_hidden': 2, 'accuracy': 0.8941, 'f1': 0.64}\n"
     ]
    },
    {
     "name": "stderr",
     "output_type": "stream",
     "text": [
      "227it [2:03:50, 73.22s/it]"
     ]
    },
    {
     "name": "stdout",
     "output_type": "stream",
     "text": [
      "Confusion matrix:\n",
      " [[65  8]\n",
      " [ 5  7]]\n",
      "{'dropout': 0.0, 'hidden_size': 100, 'learning_rate': 0.0001, 'batch_size': 8, 'n_hidden': 3, 'accuracy': 0.8471, 'f1': 0.52}\n"
     ]
    },
    {
     "name": "stderr",
     "output_type": "stream",
     "text": [
      "228it [2:04:42, 67.02s/it]"
     ]
    },
    {
     "name": "stdout",
     "output_type": "stream",
     "text": [
      "Confusion matrix:\n",
      " [[62 11]\n",
      " [ 2 10]]\n",
      "{'dropout': 0.0, 'hidden_size': 100, 'learning_rate': 0.0001, 'batch_size': 8, 'n_hidden': 4, 'accuracy': 0.8471, 'f1': 0.61}\n"
     ]
    },
    {
     "name": "stderr",
     "output_type": "stream",
     "text": [
      "229it [2:05:13, 56.02s/it]"
     ]
    },
    {
     "name": "stdout",
     "output_type": "stream",
     "text": [
      "Confusion matrix:\n",
      " [[64  9]\n",
      " [ 2 10]]\n",
      "{'dropout': 0.0, 'hidden_size': 100, 'learning_rate': 0.0001, 'batch_size': 16, 'n_hidden': 1, 'accuracy': 0.8706, 'f1': 0.65}\n"
     ]
    },
    {
     "name": "stderr",
     "output_type": "stream",
     "text": [
      "230it [2:05:55, 52.02s/it]"
     ]
    },
    {
     "name": "stdout",
     "output_type": "stream",
     "text": [
      "Confusion matrix:\n",
      " [[62 11]\n",
      " [ 1 11]]\n",
      "{'dropout': 0.0, 'hidden_size': 100, 'learning_rate': 0.0001, 'batch_size': 16, 'n_hidden': 2, 'accuracy': 0.8588, 'f1': 0.65}\n"
     ]
    },
    {
     "name": "stderr",
     "output_type": "stream",
     "text": [
      "231it [2:06:52, 53.44s/it]"
     ]
    },
    {
     "name": "stdout",
     "output_type": "stream",
     "text": [
      "Confusion matrix:\n",
      " [[63 10]\n",
      " [ 1 11]]\n",
      "{'dropout': 0.0, 'hidden_size': 100, 'learning_rate': 0.0001, 'batch_size': 16, 'n_hidden': 3, 'accuracy': 0.8706, 'f1': 0.67}\n"
     ]
    },
    {
     "name": "stderr",
     "output_type": "stream",
     "text": [
      "232it [2:07:32, 49.29s/it]"
     ]
    },
    {
     "name": "stdout",
     "output_type": "stream",
     "text": [
      "Confusion matrix:\n",
      " [[68  5]\n",
      " [ 2 10]]\n",
      "{'dropout': 0.0, 'hidden_size': 100, 'learning_rate': 0.0001, 'batch_size': 16, 'n_hidden': 4, 'accuracy': 0.9176, 'f1': 0.74}\n"
     ]
    },
    {
     "name": "stderr",
     "output_type": "stream",
     "text": [
      "233it [2:08:10, 45.98s/it]"
     ]
    },
    {
     "name": "stdout",
     "output_type": "stream",
     "text": [
      "Confusion matrix:\n",
      " [[67  6]\n",
      " [ 1 11]]\n",
      "{'dropout': 0.0, 'hidden_size': 100, 'learning_rate': 0.0001, 'batch_size': 32, 'n_hidden': 1, 'accuracy': 0.9176, 'f1': 0.76}\n"
     ]
    },
    {
     "name": "stderr",
     "output_type": "stream",
     "text": [
      "234it [2:08:36, 40.11s/it]"
     ]
    },
    {
     "name": "stdout",
     "output_type": "stream",
     "text": [
      "Confusion matrix:\n",
      " [[60 13]\n",
      " [ 1 11]]\n",
      "{'dropout': 0.0, 'hidden_size': 100, 'learning_rate': 0.0001, 'batch_size': 32, 'n_hidden': 2, 'accuracy': 0.8353, 'f1': 0.61}\n"
     ]
    },
    {
     "name": "stderr",
     "output_type": "stream",
     "text": [
      "235it [2:09:04, 36.19s/it]"
     ]
    },
    {
     "name": "stdout",
     "output_type": "stream",
     "text": [
      "Confusion matrix:\n",
      " [[65  8]\n",
      " [ 2 10]]\n",
      "{'dropout': 0.0, 'hidden_size': 100, 'learning_rate': 0.0001, 'batch_size': 32, 'n_hidden': 3, 'accuracy': 0.8824, 'f1': 0.67}\n"
     ]
    },
    {
     "name": "stderr",
     "output_type": "stream",
     "text": [
      "236it [2:09:29, 32.92s/it]"
     ]
    },
    {
     "name": "stdout",
     "output_type": "stream",
     "text": [
      "Confusion matrix:\n",
      " [[60 13]\n",
      " [ 1 11]]\n",
      "{'dropout': 0.0, 'hidden_size': 100, 'learning_rate': 0.0001, 'batch_size': 32, 'n_hidden': 4, 'accuracy': 0.8353, 'f1': 0.61}\n"
     ]
    },
    {
     "name": "stderr",
     "output_type": "stream",
     "text": [
      "237it [2:09:54, 30.68s/it]"
     ]
    },
    {
     "name": "stdout",
     "output_type": "stream",
     "text": [
      "Confusion matrix:\n",
      " [[67  6]\n",
      " [ 1 11]]\n",
      "{'dropout': 0.0, 'hidden_size': 100, 'learning_rate': 0.0001, 'batch_size': 64, 'n_hidden': 1, 'accuracy': 0.9176, 'f1': 0.76}\n"
     ]
    },
    {
     "name": "stderr",
     "output_type": "stream",
     "text": [
      "238it [2:10:19, 28.83s/it]"
     ]
    },
    {
     "name": "stdout",
     "output_type": "stream",
     "text": [
      "Confusion matrix:\n",
      " [[64  9]\n",
      " [ 1 11]]\n",
      "{'dropout': 0.0, 'hidden_size': 100, 'learning_rate': 0.0001, 'batch_size': 64, 'n_hidden': 2, 'accuracy': 0.8824, 'f1': 0.69}\n"
     ]
    },
    {
     "name": "stderr",
     "output_type": "stream",
     "text": [
      "239it [2:10:44, 27.73s/it]"
     ]
    },
    {
     "name": "stdout",
     "output_type": "stream",
     "text": [
      "Confusion matrix:\n",
      " [[67  6]\n",
      " [ 2 10]]\n",
      "{'dropout': 0.0, 'hidden_size': 100, 'learning_rate': 0.0001, 'batch_size': 64, 'n_hidden': 3, 'accuracy': 0.9059, 'f1': 0.71}\n"
     ]
    },
    {
     "name": "stderr",
     "output_type": "stream",
     "text": [
      "240it [2:11:08, 26.54s/it]"
     ]
    },
    {
     "name": "stdout",
     "output_type": "stream",
     "text": [
      "Confusion matrix:\n",
      " [[57 16]\n",
      " [ 2 10]]\n",
      "{'dropout': 0.0, 'hidden_size': 100, 'learning_rate': 0.0001, 'batch_size': 64, 'n_hidden': 4, 'accuracy': 0.7882, 'f1': 0.53}\n"
     ]
    },
    {
     "name": "stderr",
     "output_type": "stream",
     "text": [
      "241it [2:12:30, 43.21s/it]"
     ]
    },
    {
     "name": "stdout",
     "output_type": "stream",
     "text": [
      "Confusion matrix:\n",
      " [[73  0]\n",
      " [12  0]]\n",
      "{'dropout': 0.0, 'hidden_size': 100, 'learning_rate': 1e-05, 'batch_size': 8, 'n_hidden': 1, 'accuracy': 0.8588, 'f1': 0.0}\n"
     ]
    },
    {
     "name": "stderr",
     "output_type": "stream",
     "text": [
      "242it [2:13:30, 48.28s/it]"
     ]
    },
    {
     "name": "stdout",
     "output_type": "stream",
     "text": [
      "Confusion matrix:\n",
      " [[73  0]\n",
      " [12  0]]\n",
      "{'dropout': 0.0, 'hidden_size': 100, 'learning_rate': 1e-05, 'batch_size': 8, 'n_hidden': 2, 'accuracy': 0.8588, 'f1': 0.0}\n"
     ]
    },
    {
     "name": "stderr",
     "output_type": "stream",
     "text": [
      "243it [2:15:38, 72.25s/it]"
     ]
    },
    {
     "name": "stdout",
     "output_type": "stream",
     "text": [
      "Confusion matrix:\n",
      " [[63 10]\n",
      " [ 4  8]]\n",
      "{'dropout': 0.0, 'hidden_size': 100, 'learning_rate': 1e-05, 'batch_size': 8, 'n_hidden': 3, 'accuracy': 0.8353, 'f1': 0.53}\n"
     ]
    },
    {
     "name": "stderr",
     "output_type": "stream",
     "text": [
      "244it [2:17:12, 78.72s/it]"
     ]
    },
    {
     "name": "stdout",
     "output_type": "stream",
     "text": [
      "Confusion matrix:\n",
      " [[67  6]\n",
      " [ 6  6]]\n",
      "{'dropout': 0.0, 'hidden_size': 100, 'learning_rate': 1e-05, 'batch_size': 8, 'n_hidden': 4, 'accuracy': 0.8588, 'f1': 0.5}\n"
     ]
    },
    {
     "name": "stderr",
     "output_type": "stream",
     "text": [
      "245it [2:18:02, 70.24s/it]"
     ]
    },
    {
     "name": "stdout",
     "output_type": "stream",
     "text": [
      "Confusion matrix:\n",
      " [[73  0]\n",
      " [12  0]]\n",
      "{'dropout': 0.0, 'hidden_size': 100, 'learning_rate': 1e-05, 'batch_size': 16, 'n_hidden': 1, 'accuracy': 0.8588, 'f1': 0.0}\n"
     ]
    },
    {
     "name": "stderr",
     "output_type": "stream",
     "text": [
      "246it [2:18:39, 60.02s/it]"
     ]
    },
    {
     "name": "stdout",
     "output_type": "stream",
     "text": [
      "Confusion matrix:\n",
      " [[73  0]\n",
      " [12  0]]\n",
      "{'dropout': 0.0, 'hidden_size': 100, 'learning_rate': 1e-05, 'batch_size': 16, 'n_hidden': 2, 'accuracy': 0.8588, 'f1': 0.0}\n"
     ]
    },
    {
     "name": "stderr",
     "output_type": "stream",
     "text": [
      "247it [2:20:08, 68.80s/it]"
     ]
    },
    {
     "name": "stdout",
     "output_type": "stream",
     "text": [
      "Confusion matrix:\n",
      " [[51 22]\n",
      " [ 3  9]]\n",
      "{'dropout': 0.0, 'hidden_size': 100, 'learning_rate': 1e-05, 'batch_size': 16, 'n_hidden': 3, 'accuracy': 0.7059, 'f1': 0.42}\n"
     ]
    },
    {
     "name": "stderr",
     "output_type": "stream",
     "text": [
      "248it [2:21:04, 65.06s/it]"
     ]
    },
    {
     "name": "stdout",
     "output_type": "stream",
     "text": [
      "Confusion matrix:\n",
      " [[68  5]\n",
      " [ 8  4]]\n",
      "{'dropout': 0.0, 'hidden_size': 100, 'learning_rate': 1e-05, 'batch_size': 16, 'n_hidden': 4, 'accuracy': 0.8471, 'f1': 0.38}\n"
     ]
    },
    {
     "name": "stderr",
     "output_type": "stream",
     "text": [
      "249it [2:21:38, 55.57s/it]"
     ]
    },
    {
     "name": "stdout",
     "output_type": "stream",
     "text": [
      "Confusion matrix:\n",
      " [[73  0]\n",
      " [10  2]]\n",
      "{'dropout': 0.0, 'hidden_size': 100, 'learning_rate': 1e-05, 'batch_size': 32, 'n_hidden': 1, 'accuracy': 0.8824, 'f1': 0.29}\n"
     ]
    },
    {
     "name": "stderr",
     "output_type": "stream",
     "text": [
      "250it [2:22:45, 59.10s/it]"
     ]
    },
    {
     "name": "stdout",
     "output_type": "stream",
     "text": [
      "Confusion matrix:\n",
      " [[56 17]\n",
      " [ 4  8]]\n",
      "{'dropout': 0.0, 'hidden_size': 100, 'learning_rate': 1e-05, 'batch_size': 32, 'n_hidden': 2, 'accuracy': 0.7529, 'f1': 0.43}\n"
     ]
    },
    {
     "name": "stderr",
     "output_type": "stream",
     "text": [
      "251it [2:23:03, 46.84s/it]"
     ]
    },
    {
     "name": "stdout",
     "output_type": "stream",
     "text": [
      "Confusion matrix:\n",
      " [[73  0]\n",
      " [12  0]]\n",
      "{'dropout': 0.0, 'hidden_size': 100, 'learning_rate': 1e-05, 'batch_size': 32, 'n_hidden': 3, 'accuracy': 0.8588, 'f1': 0.0}\n"
     ]
    },
    {
     "name": "stderr",
     "output_type": "stream",
     "text": [
      "252it [2:24:05, 51.26s/it]"
     ]
    },
    {
     "name": "stdout",
     "output_type": "stream",
     "text": [
      "Confusion matrix:\n",
      " [[50 23]\n",
      " [ 3  9]]\n",
      "{'dropout': 0.0, 'hidden_size': 100, 'learning_rate': 1e-05, 'batch_size': 32, 'n_hidden': 4, 'accuracy': 0.6941, 'f1': 0.41}\n"
     ]
    },
    {
     "name": "stderr",
     "output_type": "stream",
     "text": [
      "253it [2:24:35, 44.94s/it]"
     ]
    },
    {
     "name": "stdout",
     "output_type": "stream",
     "text": [
      "Confusion matrix:\n",
      " [[72  1]\n",
      " [ 8  4]]\n",
      "{'dropout': 0.0, 'hidden_size': 100, 'learning_rate': 1e-05, 'batch_size': 64, 'n_hidden': 1, 'accuracy': 0.8941, 'f1': 0.47}\n"
     ]
    },
    {
     "name": "stderr",
     "output_type": "stream",
     "text": [
      "254it [2:24:54, 37.13s/it]"
     ]
    },
    {
     "name": "stdout",
     "output_type": "stream",
     "text": [
      "Confusion matrix:\n",
      " [[66  7]\n",
      " [ 6  6]]\n",
      "{'dropout': 0.0, 'hidden_size': 100, 'learning_rate': 1e-05, 'batch_size': 64, 'n_hidden': 2, 'accuracy': 0.8471, 'f1': 0.48}\n"
     ]
    },
    {
     "name": "stderr",
     "output_type": "stream",
     "text": [
      "255it [2:25:06, 29.61s/it]"
     ]
    },
    {
     "name": "stdout",
     "output_type": "stream",
     "text": [
      "Confusion matrix:\n",
      " [[73  0]\n",
      " [12  0]]\n",
      "{'dropout': 0.0, 'hidden_size': 100, 'learning_rate': 1e-05, 'batch_size': 64, 'n_hidden': 3, 'accuracy': 0.8588, 'f1': 0.0}\n"
     ]
    },
    {
     "name": "stderr",
     "output_type": "stream",
     "text": [
      "256it [2:25:15, 23.48s/it]"
     ]
    },
    {
     "name": "stdout",
     "output_type": "stream",
     "text": [
      "Confusion matrix:\n",
      " [[73  0]\n",
      " [12  0]]\n",
      "{'dropout': 0.0, 'hidden_size': 100, 'learning_rate': 1e-05, 'batch_size': 64, 'n_hidden': 4, 'accuracy': 0.8588, 'f1': 0.0}\n"
     ]
    },
    {
     "name": "stderr",
     "output_type": "stream",
     "text": [
      "C:\\Users\\William\\AppData\\Roaming\\Python\\Python311\\site-packages\\torch\\nn\\modules\\rnn.py:82: UserWarning: dropout option adds dropout after all but last recurrent layer, so non-zero dropout expects num_layers greater than 1, but got dropout=0.3 and num_layers=1\n",
      "  warnings.warn(\"dropout option adds dropout after all but last \"\n",
      "C:\\Users\\William\\AppData\\Roaming\\Python\\Python311\\site-packages\\torch\\nn\\modules\\rnn.py:82: UserWarning: dropout option adds dropout after all but last recurrent layer, so non-zero dropout expects num_layers greater than 1, but got dropout=0.3 and num_layers=1\n",
      "  warnings.warn(\"dropout option adds dropout after all but last \"\n",
      "257it [2:25:48, 26.37s/it]"
     ]
    },
    {
     "name": "stdout",
     "output_type": "stream",
     "text": [
      "Confusion matrix:\n",
      " [[62 11]\n",
      " [ 0 12]]\n",
      "{'dropout': 0.3, 'hidden_size': 25, 'learning_rate': 0.01, 'batch_size': 8, 'n_hidden': 1, 'accuracy': 0.8706, 'f1': 0.69}\n"
     ]
    },
    {
     "name": "stderr",
     "output_type": "stream",
     "text": [
      "258it [2:26:25, 29.60s/it]"
     ]
    },
    {
     "name": "stdout",
     "output_type": "stream",
     "text": [
      "Confusion matrix:\n",
      " [[71  2]\n",
      " [ 3  9]]\n",
      "{'dropout': 0.3, 'hidden_size': 25, 'learning_rate': 0.01, 'batch_size': 8, 'n_hidden': 2, 'accuracy': 0.9412, 'f1': 0.78}\n"
     ]
    },
    {
     "name": "stderr",
     "output_type": "stream",
     "text": [
      "259it [2:26:47, 27.22s/it]"
     ]
    },
    {
     "name": "stdout",
     "output_type": "stream",
     "text": [
      "Confusion matrix:\n",
      " [[68  5]\n",
      " [ 6  6]]\n",
      "{'dropout': 0.3, 'hidden_size': 25, 'learning_rate': 0.01, 'batch_size': 8, 'n_hidden': 3, 'accuracy': 0.8706, 'f1': 0.52}\n"
     ]
    },
    {
     "name": "stderr",
     "output_type": "stream",
     "text": [
      "260it [2:27:21, 29.39s/it]"
     ]
    },
    {
     "name": "stdout",
     "output_type": "stream",
     "text": [
      "Confusion matrix:\n",
      " [[73  0]\n",
      " [12  0]]\n",
      "{'dropout': 0.3, 'hidden_size': 25, 'learning_rate': 0.01, 'batch_size': 8, 'n_hidden': 4, 'accuracy': 0.8588, 'f1': 0.0}\n"
     ]
    },
    {
     "name": "stderr",
     "output_type": "stream",
     "text": [
      "C:\\Users\\William\\AppData\\Roaming\\Python\\Python311\\site-packages\\torch\\nn\\modules\\rnn.py:82: UserWarning: dropout option adds dropout after all but last recurrent layer, so non-zero dropout expects num_layers greater than 1, but got dropout=0.3 and num_layers=1\n",
      "  warnings.warn(\"dropout option adds dropout after all but last \"\n",
      "C:\\Users\\William\\AppData\\Roaming\\Python\\Python311\\site-packages\\torch\\nn\\modules\\rnn.py:82: UserWarning: dropout option adds dropout after all but last recurrent layer, so non-zero dropout expects num_layers greater than 1, but got dropout=0.3 and num_layers=1\n",
      "  warnings.warn(\"dropout option adds dropout after all but last \"\n",
      "261it [2:27:47, 28.11s/it]"
     ]
    },
    {
     "name": "stdout",
     "output_type": "stream",
     "text": [
      "Confusion matrix:\n",
      " [[66  7]\n",
      " [ 2 10]]\n",
      "{'dropout': 0.3, 'hidden_size': 25, 'learning_rate': 0.01, 'batch_size': 16, 'n_hidden': 1, 'accuracy': 0.8941, 'f1': 0.69}\n"
     ]
    },
    {
     "name": "stderr",
     "output_type": "stream",
     "text": [
      "262it [2:28:07, 25.88s/it]"
     ]
    },
    {
     "name": "stdout",
     "output_type": "stream",
     "text": [
      "Confusion matrix:\n",
      " [[70  3]\n",
      " [ 2 10]]\n",
      "{'dropout': 0.3, 'hidden_size': 25, 'learning_rate': 0.01, 'batch_size': 16, 'n_hidden': 2, 'accuracy': 0.9412, 'f1': 0.8}\n"
     ]
    },
    {
     "name": "stderr",
     "output_type": "stream",
     "text": [
      "263it [2:28:35, 26.44s/it]"
     ]
    },
    {
     "name": "stdout",
     "output_type": "stream",
     "text": [
      "Confusion matrix:\n",
      " [[60 13]\n",
      " [ 3  9]]\n",
      "{'dropout': 0.3, 'hidden_size': 25, 'learning_rate': 0.01, 'batch_size': 16, 'n_hidden': 3, 'accuracy': 0.8118, 'f1': 0.53}\n"
     ]
    },
    {
     "name": "stderr",
     "output_type": "stream",
     "text": [
      "264it [2:29:09, 28.77s/it]"
     ]
    },
    {
     "name": "stdout",
     "output_type": "stream",
     "text": [
      "Confusion matrix:\n",
      " [[65  8]\n",
      " [ 1 11]]\n",
      "{'dropout': 0.3, 'hidden_size': 25, 'learning_rate': 0.01, 'batch_size': 16, 'n_hidden': 4, 'accuracy': 0.8941, 'f1': 0.71}\n"
     ]
    },
    {
     "name": "stderr",
     "output_type": "stream",
     "text": [
      "C:\\Users\\William\\AppData\\Roaming\\Python\\Python311\\site-packages\\torch\\nn\\modules\\rnn.py:82: UserWarning: dropout option adds dropout after all but last recurrent layer, so non-zero dropout expects num_layers greater than 1, but got dropout=0.3 and num_layers=1\n",
      "  warnings.warn(\"dropout option adds dropout after all but last \"\n",
      "C:\\Users\\William\\AppData\\Roaming\\Python\\Python311\\site-packages\\torch\\nn\\modules\\rnn.py:82: UserWarning: dropout option adds dropout after all but last recurrent layer, so non-zero dropout expects num_layers greater than 1, but got dropout=0.3 and num_layers=1\n",
      "  warnings.warn(\"dropout option adds dropout after all but last \"\n",
      "265it [2:29:26, 25.04s/it]"
     ]
    },
    {
     "name": "stdout",
     "output_type": "stream",
     "text": [
      "Confusion matrix:\n",
      " [[66  7]\n",
      " [ 2 10]]\n",
      "{'dropout': 0.3, 'hidden_size': 25, 'learning_rate': 0.01, 'batch_size': 32, 'n_hidden': 1, 'accuracy': 0.8941, 'f1': 0.69}\n"
     ]
    },
    {
     "name": "stderr",
     "output_type": "stream",
     "text": [
      "266it [2:29:42, 22.54s/it]"
     ]
    },
    {
     "name": "stdout",
     "output_type": "stream",
     "text": [
      "Confusion matrix:\n",
      " [[67  6]\n",
      " [ 4  8]]\n",
      "{'dropout': 0.3, 'hidden_size': 25, 'learning_rate': 0.01, 'batch_size': 32, 'n_hidden': 2, 'accuracy': 0.8824, 'f1': 0.62}\n"
     ]
    },
    {
     "name": "stderr",
     "output_type": "stream",
     "text": [
      "267it [2:29:55, 19.73s/it]"
     ]
    },
    {
     "name": "stdout",
     "output_type": "stream",
     "text": [
      "Confusion matrix:\n",
      " [[66  7]\n",
      " [ 2 10]]\n",
      "{'dropout': 0.3, 'hidden_size': 25, 'learning_rate': 0.01, 'batch_size': 32, 'n_hidden': 3, 'accuracy': 0.8941, 'f1': 0.69}\n"
     ]
    },
    {
     "name": "stderr",
     "output_type": "stream",
     "text": [
      "268it [2:30:07, 17.34s/it]"
     ]
    },
    {
     "name": "stdout",
     "output_type": "stream",
     "text": [
      "Confusion matrix:\n",
      " [[63 10]\n",
      " [ 2 10]]\n",
      "{'dropout': 0.3, 'hidden_size': 25, 'learning_rate': 0.01, 'batch_size': 32, 'n_hidden': 4, 'accuracy': 0.8588, 'f1': 0.62}\n"
     ]
    },
    {
     "name": "stderr",
     "output_type": "stream",
     "text": [
      "C:\\Users\\William\\AppData\\Roaming\\Python\\Python311\\site-packages\\torch\\nn\\modules\\rnn.py:82: UserWarning: dropout option adds dropout after all but last recurrent layer, so non-zero dropout expects num_layers greater than 1, but got dropout=0.3 and num_layers=1\n",
      "  warnings.warn(\"dropout option adds dropout after all but last \"\n",
      "C:\\Users\\William\\AppData\\Roaming\\Python\\Python311\\site-packages\\torch\\nn\\modules\\rnn.py:82: UserWarning: dropout option adds dropout after all but last recurrent layer, so non-zero dropout expects num_layers greater than 1, but got dropout=0.3 and num_layers=1\n",
      "  warnings.warn(\"dropout option adds dropout after all but last \"\n",
      "269it [2:30:18, 15.33s/it]"
     ]
    },
    {
     "name": "stdout",
     "output_type": "stream",
     "text": [
      "Confusion matrix:\n",
      " [[65  8]\n",
      " [ 2 10]]\n",
      "{'dropout': 0.3, 'hidden_size': 25, 'learning_rate': 0.01, 'batch_size': 64, 'n_hidden': 1, 'accuracy': 0.8824, 'f1': 0.67}\n"
     ]
    },
    {
     "name": "stderr",
     "output_type": "stream",
     "text": [
      "270it [2:30:26, 13.23s/it]"
     ]
    },
    {
     "name": "stdout",
     "output_type": "stream",
     "text": [
      "Confusion matrix:\n",
      " [[65  8]\n",
      " [ 2 10]]\n",
      "{'dropout': 0.3, 'hidden_size': 25, 'learning_rate': 0.01, 'batch_size': 64, 'n_hidden': 2, 'accuracy': 0.8824, 'f1': 0.67}\n"
     ]
    },
    {
     "name": "stderr",
     "output_type": "stream",
     "text": [
      "271it [2:30:35, 11.78s/it]"
     ]
    },
    {
     "name": "stdout",
     "output_type": "stream",
     "text": [
      "Confusion matrix:\n",
      " [[67  6]\n",
      " [ 1 11]]\n",
      "{'dropout': 0.3, 'hidden_size': 25, 'learning_rate': 0.01, 'batch_size': 64, 'n_hidden': 3, 'accuracy': 0.9176, 'f1': 0.76}\n"
     ]
    },
    {
     "name": "stderr",
     "output_type": "stream",
     "text": [
      "272it [2:30:50, 12.78s/it]"
     ]
    },
    {
     "name": "stdout",
     "output_type": "stream",
     "text": [
      "Confusion matrix:\n",
      " [[64  9]\n",
      " [ 3  9]]\n",
      "{'dropout': 0.3, 'hidden_size': 25, 'learning_rate': 0.01, 'batch_size': 64, 'n_hidden': 4, 'accuracy': 0.8588, 'f1': 0.6}\n"
     ]
    },
    {
     "name": "stderr",
     "output_type": "stream",
     "text": [
      "C:\\Users\\William\\AppData\\Roaming\\Python\\Python311\\site-packages\\torch\\nn\\modules\\rnn.py:82: UserWarning: dropout option adds dropout after all but last recurrent layer, so non-zero dropout expects num_layers greater than 1, but got dropout=0.3 and num_layers=1\n",
      "  warnings.warn(\"dropout option adds dropout after all but last \"\n",
      "C:\\Users\\William\\AppData\\Roaming\\Python\\Python311\\site-packages\\torch\\nn\\modules\\rnn.py:82: UserWarning: dropout option adds dropout after all but last recurrent layer, so non-zero dropout expects num_layers greater than 1, but got dropout=0.3 and num_layers=1\n",
      "  warnings.warn(\"dropout option adds dropout after all but last \"\n",
      "273it [2:31:34, 22.36s/it]"
     ]
    },
    {
     "name": "stdout",
     "output_type": "stream",
     "text": [
      "Confusion matrix:\n",
      " [[67  6]\n",
      " [ 3  9]]\n",
      "{'dropout': 0.3, 'hidden_size': 25, 'learning_rate': 0.001, 'batch_size': 8, 'n_hidden': 1, 'accuracy': 0.8941, 'f1': 0.67}\n"
     ]
    },
    {
     "name": "stderr",
     "output_type": "stream",
     "text": [
      "274it [2:32:45, 36.77s/it]"
     ]
    },
    {
     "name": "stdout",
     "output_type": "stream",
     "text": [
      "Confusion matrix:\n",
      " [[68  5]\n",
      " [ 5  7]]\n",
      "{'dropout': 0.3, 'hidden_size': 25, 'learning_rate': 0.001, 'batch_size': 8, 'n_hidden': 2, 'accuracy': 0.8824, 'f1': 0.58}\n"
     ]
    },
    {
     "name": "stderr",
     "output_type": "stream",
     "text": [
      "275it [2:33:24, 37.57s/it]"
     ]
    },
    {
     "name": "stdout",
     "output_type": "stream",
     "text": [
      "Confusion matrix:\n",
      " [[60 13]\n",
      " [ 3  9]]\n",
      "{'dropout': 0.3, 'hidden_size': 25, 'learning_rate': 0.001, 'batch_size': 8, 'n_hidden': 3, 'accuracy': 0.8118, 'f1': 0.53}\n"
     ]
    },
    {
     "name": "stderr",
     "output_type": "stream",
     "text": [
      "276it [2:34:03, 37.89s/it]"
     ]
    },
    {
     "name": "stdout",
     "output_type": "stream",
     "text": [
      "Confusion matrix:\n",
      " [[60 13]\n",
      " [ 1 11]]\n",
      "{'dropout': 0.3, 'hidden_size': 25, 'learning_rate': 0.001, 'batch_size': 8, 'n_hidden': 4, 'accuracy': 0.8353, 'f1': 0.61}\n"
     ]
    },
    {
     "name": "stderr",
     "output_type": "stream",
     "text": [
      "C:\\Users\\William\\AppData\\Roaming\\Python\\Python311\\site-packages\\torch\\nn\\modules\\rnn.py:82: UserWarning: dropout option adds dropout after all but last recurrent layer, so non-zero dropout expects num_layers greater than 1, but got dropout=0.3 and num_layers=1\n",
      "  warnings.warn(\"dropout option adds dropout after all but last \"\n",
      "C:\\Users\\William\\AppData\\Roaming\\Python\\Python311\\site-packages\\torch\\nn\\modules\\rnn.py:82: UserWarning: dropout option adds dropout after all but last recurrent layer, so non-zero dropout expects num_layers greater than 1, but got dropout=0.3 and num_layers=1\n",
      "  warnings.warn(\"dropout option adds dropout after all but last \"\n",
      "277it [2:34:37, 36.90s/it]"
     ]
    },
    {
     "name": "stdout",
     "output_type": "stream",
     "text": [
      "Confusion matrix:\n",
      " [[68  5]\n",
      " [ 5  7]]\n",
      "{'dropout': 0.3, 'hidden_size': 25, 'learning_rate': 0.001, 'batch_size': 16, 'n_hidden': 1, 'accuracy': 0.8824, 'f1': 0.58}\n"
     ]
    },
    {
     "name": "stderr",
     "output_type": "stream",
     "text": [
      "278it [2:35:00, 32.70s/it]"
     ]
    },
    {
     "name": "stdout",
     "output_type": "stream",
     "text": [
      "Confusion matrix:\n",
      " [[66  7]\n",
      " [ 3  9]]\n",
      "{'dropout': 0.3, 'hidden_size': 25, 'learning_rate': 0.001, 'batch_size': 16, 'n_hidden': 2, 'accuracy': 0.8824, 'f1': 0.64}\n"
     ]
    },
    {
     "name": "stderr",
     "output_type": "stream",
     "text": [
      "279it [2:35:23, 29.81s/it]"
     ]
    },
    {
     "name": "stdout",
     "output_type": "stream",
     "text": [
      "Confusion matrix:\n",
      " [[64  9]\n",
      " [ 1 11]]\n",
      "{'dropout': 0.3, 'hidden_size': 25, 'learning_rate': 0.001, 'batch_size': 16, 'n_hidden': 3, 'accuracy': 0.8824, 'f1': 0.69}\n"
     ]
    },
    {
     "name": "stderr",
     "output_type": "stream",
     "text": [
      "280it [2:35:46, 27.52s/it]"
     ]
    },
    {
     "name": "stdout",
     "output_type": "stream",
     "text": [
      "Confusion matrix:\n",
      " [[62 11]\n",
      " [ 2 10]]\n",
      "{'dropout': 0.3, 'hidden_size': 25, 'learning_rate': 0.001, 'batch_size': 16, 'n_hidden': 4, 'accuracy': 0.8471, 'f1': 0.61}\n"
     ]
    },
    {
     "name": "stderr",
     "output_type": "stream",
     "text": [
      "C:\\Users\\William\\AppData\\Roaming\\Python\\Python311\\site-packages\\torch\\nn\\modules\\rnn.py:82: UserWarning: dropout option adds dropout after all but last recurrent layer, so non-zero dropout expects num_layers greater than 1, but got dropout=0.3 and num_layers=1\n",
      "  warnings.warn(\"dropout option adds dropout after all but last \"\n",
      "C:\\Users\\William\\AppData\\Roaming\\Python\\Python311\\site-packages\\torch\\nn\\modules\\rnn.py:82: UserWarning: dropout option adds dropout after all but last recurrent layer, so non-zero dropout expects num_layers greater than 1, but got dropout=0.3 and num_layers=1\n",
      "  warnings.warn(\"dropout option adds dropout after all but last \"\n",
      "281it [2:36:16, 28.48s/it]"
     ]
    },
    {
     "name": "stdout",
     "output_type": "stream",
     "text": [
      "Confusion matrix:\n",
      " [[68  5]\n",
      " [ 4  8]]\n",
      "{'dropout': 0.3, 'hidden_size': 25, 'learning_rate': 0.001, 'batch_size': 32, 'n_hidden': 1, 'accuracy': 0.8941, 'f1': 0.64}\n"
     ]
    },
    {
     "name": "stderr",
     "output_type": "stream",
     "text": [
      "282it [2:36:36, 25.92s/it]"
     ]
    },
    {
     "name": "stdout",
     "output_type": "stream",
     "text": [
      "Confusion matrix:\n",
      " [[65  8]\n",
      " [ 2 10]]\n",
      "{'dropout': 0.3, 'hidden_size': 25, 'learning_rate': 0.001, 'batch_size': 32, 'n_hidden': 2, 'accuracy': 0.8824, 'f1': 0.67}\n"
     ]
    },
    {
     "name": "stderr",
     "output_type": "stream",
     "text": [
      "283it [2:37:02, 25.86s/it]"
     ]
    },
    {
     "name": "stdout",
     "output_type": "stream",
     "text": [
      "Confusion matrix:\n",
      " [[66  7]\n",
      " [ 2 10]]\n",
      "{'dropout': 0.3, 'hidden_size': 25, 'learning_rate': 0.001, 'batch_size': 32, 'n_hidden': 3, 'accuracy': 0.8941, 'f1': 0.69}\n"
     ]
    },
    {
     "name": "stderr",
     "output_type": "stream",
     "text": [
      "284it [2:37:19, 23.34s/it]"
     ]
    },
    {
     "name": "stdout",
     "output_type": "stream",
     "text": [
      "Confusion matrix:\n",
      " [[67  6]\n",
      " [ 3  9]]\n",
      "{'dropout': 0.3, 'hidden_size': 25, 'learning_rate': 0.001, 'batch_size': 32, 'n_hidden': 4, 'accuracy': 0.8941, 'f1': 0.67}\n"
     ]
    },
    {
     "name": "stderr",
     "output_type": "stream",
     "text": [
      "C:\\Users\\William\\AppData\\Roaming\\Python\\Python311\\site-packages\\torch\\nn\\modules\\rnn.py:82: UserWarning: dropout option adds dropout after all but last recurrent layer, so non-zero dropout expects num_layers greater than 1, but got dropout=0.3 and num_layers=1\n",
      "  warnings.warn(\"dropout option adds dropout after all but last \"\n",
      "C:\\Users\\William\\AppData\\Roaming\\Python\\Python311\\site-packages\\torch\\nn\\modules\\rnn.py:82: UserWarning: dropout option adds dropout after all but last recurrent layer, so non-zero dropout expects num_layers greater than 1, but got dropout=0.3 and num_layers=1\n",
      "  warnings.warn(\"dropout option adds dropout after all but last \"\n",
      "285it [2:37:29, 19.19s/it]"
     ]
    },
    {
     "name": "stdout",
     "output_type": "stream",
     "text": [
      "Confusion matrix:\n",
      " [[65  8]\n",
      " [ 1 11]]\n",
      "{'dropout': 0.3, 'hidden_size': 25, 'learning_rate': 0.001, 'batch_size': 64, 'n_hidden': 1, 'accuracy': 0.8941, 'f1': 0.71}\n"
     ]
    },
    {
     "name": "stderr",
     "output_type": "stream",
     "text": [
      "286it [2:37:39, 16.35s/it]"
     ]
    },
    {
     "name": "stdout",
     "output_type": "stream",
     "text": [
      "Confusion matrix:\n",
      " [[59 14]\n",
      " [ 1 11]]\n",
      "{'dropout': 0.3, 'hidden_size': 25, 'learning_rate': 0.001, 'batch_size': 64, 'n_hidden': 2, 'accuracy': 0.8235, 'f1': 0.59}\n"
     ]
    },
    {
     "name": "stderr",
     "output_type": "stream",
     "text": [
      "287it [2:37:56, 16.53s/it]"
     ]
    },
    {
     "name": "stdout",
     "output_type": "stream",
     "text": [
      "Confusion matrix:\n",
      " [[65  8]\n",
      " [ 2 10]]\n",
      "{'dropout': 0.3, 'hidden_size': 25, 'learning_rate': 0.001, 'batch_size': 64, 'n_hidden': 3, 'accuracy': 0.8824, 'f1': 0.67}\n"
     ]
    },
    {
     "name": "stderr",
     "output_type": "stream",
     "text": [
      "288it [2:38:17, 18.03s/it]"
     ]
    },
    {
     "name": "stdout",
     "output_type": "stream",
     "text": [
      "Confusion matrix:\n",
      " [[62 11]\n",
      " [ 3  9]]\n",
      "{'dropout': 0.3, 'hidden_size': 25, 'learning_rate': 0.001, 'batch_size': 64, 'n_hidden': 4, 'accuracy': 0.8353, 'f1': 0.56}\n"
     ]
    },
    {
     "name": "stderr",
     "output_type": "stream",
     "text": [
      "C:\\Users\\William\\AppData\\Roaming\\Python\\Python311\\site-packages\\torch\\nn\\modules\\rnn.py:82: UserWarning: dropout option adds dropout after all but last recurrent layer, so non-zero dropout expects num_layers greater than 1, but got dropout=0.3 and num_layers=1\n",
      "  warnings.warn(\"dropout option adds dropout after all but last \"\n",
      "C:\\Users\\William\\AppData\\Roaming\\Python\\Python311\\site-packages\\torch\\nn\\modules\\rnn.py:82: UserWarning: dropout option adds dropout after all but last recurrent layer, so non-zero dropout expects num_layers greater than 1, but got dropout=0.3 and num_layers=1\n",
      "  warnings.warn(\"dropout option adds dropout after all but last \"\n",
      "289it [2:39:26, 33.41s/it]"
     ]
    },
    {
     "name": "stdout",
     "output_type": "stream",
     "text": [
      "Confusion matrix:\n",
      " [[66  7]\n",
      " [ 1 11]]\n",
      "{'dropout': 0.3, 'hidden_size': 25, 'learning_rate': 0.0001, 'batch_size': 8, 'n_hidden': 1, 'accuracy': 0.9059, 'f1': 0.73}\n"
     ]
    },
    {
     "name": "stderr",
     "output_type": "stream",
     "text": [
      "290it [2:40:36, 44.13s/it]"
     ]
    },
    {
     "name": "stdout",
     "output_type": "stream",
     "text": [
      "Confusion matrix:\n",
      " [[63 10]\n",
      " [ 2 10]]\n",
      "{'dropout': 0.3, 'hidden_size': 25, 'learning_rate': 0.0001, 'batch_size': 8, 'n_hidden': 2, 'accuracy': 0.8588, 'f1': 0.62}\n"
     ]
    },
    {
     "name": "stderr",
     "output_type": "stream",
     "text": [
      "291it [2:41:41, 50.53s/it]"
     ]
    },
    {
     "name": "stdout",
     "output_type": "stream",
     "text": [
      "Confusion matrix:\n",
      " [[66  7]\n",
      " [ 2 10]]\n",
      "{'dropout': 0.3, 'hidden_size': 25, 'learning_rate': 0.0001, 'batch_size': 8, 'n_hidden': 3, 'accuracy': 0.8941, 'f1': 0.69}\n"
     ]
    },
    {
     "name": "stderr",
     "output_type": "stream",
     "text": [
      "292it [2:42:45, 54.66s/it]"
     ]
    },
    {
     "name": "stdout",
     "output_type": "stream",
     "text": [
      "Confusion matrix:\n",
      " [[68  5]\n",
      " [ 3  9]]\n",
      "{'dropout': 0.3, 'hidden_size': 25, 'learning_rate': 0.0001, 'batch_size': 8, 'n_hidden': 4, 'accuracy': 0.9059, 'f1': 0.69}\n"
     ]
    },
    {
     "name": "stderr",
     "output_type": "stream",
     "text": [
      "C:\\Users\\William\\AppData\\Roaming\\Python\\Python311\\site-packages\\torch\\nn\\modules\\rnn.py:82: UserWarning: dropout option adds dropout after all but last recurrent layer, so non-zero dropout expects num_layers greater than 1, but got dropout=0.3 and num_layers=1\n",
      "  warnings.warn(\"dropout option adds dropout after all but last \"\n",
      "C:\\Users\\William\\AppData\\Roaming\\Python\\Python311\\site-packages\\torch\\nn\\modules\\rnn.py:82: UserWarning: dropout option adds dropout after all but last recurrent layer, so non-zero dropout expects num_layers greater than 1, but got dropout=0.3 and num_layers=1\n",
      "  warnings.warn(\"dropout option adds dropout after all but last \"\n",
      "293it [2:43:47, 56.71s/it]"
     ]
    },
    {
     "name": "stdout",
     "output_type": "stream",
     "text": [
      "Confusion matrix:\n",
      " [[64  9]\n",
      " [ 1 11]]\n",
      "{'dropout': 0.3, 'hidden_size': 25, 'learning_rate': 0.0001, 'batch_size': 16, 'n_hidden': 1, 'accuracy': 0.8824, 'f1': 0.69}\n"
     ]
    },
    {
     "name": "stderr",
     "output_type": "stream",
     "text": [
      "294it [2:44:48, 58.08s/it]"
     ]
    },
    {
     "name": "stdout",
     "output_type": "stream",
     "text": [
      "Confusion matrix:\n",
      " [[68  5]\n",
      " [ 2 10]]\n",
      "{'dropout': 0.3, 'hidden_size': 25, 'learning_rate': 0.0001, 'batch_size': 16, 'n_hidden': 2, 'accuracy': 0.9176, 'f1': 0.74}\n"
     ]
    },
    {
     "name": "stderr",
     "output_type": "stream",
     "text": [
      "295it [2:45:39, 56.00s/it]"
     ]
    },
    {
     "name": "stdout",
     "output_type": "stream",
     "text": [
      "Confusion matrix:\n",
      " [[66  7]\n",
      " [ 2 10]]\n",
      "{'dropout': 0.3, 'hidden_size': 25, 'learning_rate': 0.0001, 'batch_size': 16, 'n_hidden': 3, 'accuracy': 0.8941, 'f1': 0.69}\n"
     ]
    },
    {
     "name": "stderr",
     "output_type": "stream",
     "text": [
      "296it [2:46:40, 57.42s/it]"
     ]
    },
    {
     "name": "stdout",
     "output_type": "stream",
     "text": [
      "Confusion matrix:\n",
      " [[66  7]\n",
      " [ 2 10]]\n",
      "{'dropout': 0.3, 'hidden_size': 25, 'learning_rate': 0.0001, 'batch_size': 16, 'n_hidden': 4, 'accuracy': 0.8941, 'f1': 0.69}\n"
     ]
    },
    {
     "name": "stderr",
     "output_type": "stream",
     "text": [
      "C:\\Users\\William\\AppData\\Roaming\\Python\\Python311\\site-packages\\torch\\nn\\modules\\rnn.py:82: UserWarning: dropout option adds dropout after all but last recurrent layer, so non-zero dropout expects num_layers greater than 1, but got dropout=0.3 and num_layers=1\n",
      "  warnings.warn(\"dropout option adds dropout after all but last \"\n",
      "C:\\Users\\William\\AppData\\Roaming\\Python\\Python311\\site-packages\\torch\\nn\\modules\\rnn.py:82: UserWarning: dropout option adds dropout after all but last recurrent layer, so non-zero dropout expects num_layers greater than 1, but got dropout=0.3 and num_layers=1\n",
      "  warnings.warn(\"dropout option adds dropout after all but last \"\n",
      "297it [2:47:18, 51.46s/it]"
     ]
    },
    {
     "name": "stdout",
     "output_type": "stream",
     "text": [
      "Confusion matrix:\n",
      " [[62 11]\n",
      " [ 1 11]]\n",
      "{'dropout': 0.3, 'hidden_size': 25, 'learning_rate': 0.0001, 'batch_size': 32, 'n_hidden': 1, 'accuracy': 0.8588, 'f1': 0.65}\n"
     ]
    },
    {
     "name": "stderr",
     "output_type": "stream",
     "text": [
      "298it [2:48:00, 48.62s/it]"
     ]
    },
    {
     "name": "stdout",
     "output_type": "stream",
     "text": [
      "Confusion matrix:\n",
      " [[64  9]\n",
      " [ 2 10]]\n",
      "{'dropout': 0.3, 'hidden_size': 25, 'learning_rate': 0.0001, 'batch_size': 32, 'n_hidden': 2, 'accuracy': 0.8706, 'f1': 0.65}\n"
     ]
    },
    {
     "name": "stderr",
     "output_type": "stream",
     "text": [
      "299it [2:48:35, 44.67s/it]"
     ]
    },
    {
     "name": "stdout",
     "output_type": "stream",
     "text": [
      "Confusion matrix:\n",
      " [[62 11]\n",
      " [ 2 10]]\n",
      "{'dropout': 0.3, 'hidden_size': 25, 'learning_rate': 0.0001, 'batch_size': 32, 'n_hidden': 3, 'accuracy': 0.8471, 'f1': 0.61}\n"
     ]
    },
    {
     "name": "stderr",
     "output_type": "stream",
     "text": [
      "300it [2:49:08, 41.04s/it]"
     ]
    },
    {
     "name": "stdout",
     "output_type": "stream",
     "text": [
      "Confusion matrix:\n",
      " [[66  7]\n",
      " [ 2 10]]\n",
      "{'dropout': 0.3, 'hidden_size': 25, 'learning_rate': 0.0001, 'batch_size': 32, 'n_hidden': 4, 'accuracy': 0.8941, 'f1': 0.69}\n"
     ]
    },
    {
     "name": "stderr",
     "output_type": "stream",
     "text": [
      "C:\\Users\\William\\AppData\\Roaming\\Python\\Python311\\site-packages\\torch\\nn\\modules\\rnn.py:82: UserWarning: dropout option adds dropout after all but last recurrent layer, so non-zero dropout expects num_layers greater than 1, but got dropout=0.3 and num_layers=1\n",
      "  warnings.warn(\"dropout option adds dropout after all but last \"\n",
      "C:\\Users\\William\\AppData\\Roaming\\Python\\Python311\\site-packages\\torch\\nn\\modules\\rnn.py:82: UserWarning: dropout option adds dropout after all but last recurrent layer, so non-zero dropout expects num_layers greater than 1, but got dropout=0.3 and num_layers=1\n",
      "  warnings.warn(\"dropout option adds dropout after all but last \"\n",
      "301it [2:49:41, 38.86s/it]"
     ]
    },
    {
     "name": "stdout",
     "output_type": "stream",
     "text": [
      "Confusion matrix:\n",
      " [[62 11]\n",
      " [ 1 11]]\n",
      "{'dropout': 0.3, 'hidden_size': 25, 'learning_rate': 0.0001, 'batch_size': 64, 'n_hidden': 1, 'accuracy': 0.8588, 'f1': 0.65}\n"
     ]
    },
    {
     "name": "stderr",
     "output_type": "stream",
     "text": [
      "302it [2:50:18, 38.19s/it]"
     ]
    },
    {
     "name": "stdout",
     "output_type": "stream",
     "text": [
      "Confusion matrix:\n",
      " [[68  5]\n",
      " [ 2 10]]\n",
      "{'dropout': 0.3, 'hidden_size': 25, 'learning_rate': 0.0001, 'batch_size': 64, 'n_hidden': 2, 'accuracy': 0.9176, 'f1': 0.74}\n"
     ]
    },
    {
     "name": "stderr",
     "output_type": "stream",
     "text": [
      "303it [2:50:24, 28.40s/it]"
     ]
    },
    {
     "name": "stdout",
     "output_type": "stream",
     "text": [
      "Confusion matrix:\n",
      " [[73  0]\n",
      " [12  0]]\n",
      "{'dropout': 0.3, 'hidden_size': 25, 'learning_rate': 0.0001, 'batch_size': 64, 'n_hidden': 3, 'accuracy': 0.8588, 'f1': 0.0}\n"
     ]
    },
    {
     "name": "stderr",
     "output_type": "stream",
     "text": [
      "304it [2:51:02, 31.47s/it]"
     ]
    },
    {
     "name": "stdout",
     "output_type": "stream",
     "text": [
      "Confusion matrix:\n",
      " [[68  5]\n",
      " [ 2 10]]\n",
      "{'dropout': 0.3, 'hidden_size': 25, 'learning_rate': 0.0001, 'batch_size': 64, 'n_hidden': 4, 'accuracy': 0.9176, 'f1': 0.74}\n"
     ]
    },
    {
     "name": "stderr",
     "output_type": "stream",
     "text": [
      "C:\\Users\\William\\AppData\\Roaming\\Python\\Python311\\site-packages\\torch\\nn\\modules\\rnn.py:82: UserWarning: dropout option adds dropout after all but last recurrent layer, so non-zero dropout expects num_layers greater than 1, but got dropout=0.3 and num_layers=1\n",
      "  warnings.warn(\"dropout option adds dropout after all but last \"\n",
      "C:\\Users\\William\\AppData\\Roaming\\Python\\Python311\\site-packages\\torch\\nn\\modules\\rnn.py:82: UserWarning: dropout option adds dropout after all but last recurrent layer, so non-zero dropout expects num_layers greater than 1, but got dropout=0.3 and num_layers=1\n",
      "  warnings.warn(\"dropout option adds dropout after all but last \"\n",
      "305it [2:52:20, 45.53s/it]"
     ]
    },
    {
     "name": "stdout",
     "output_type": "stream",
     "text": [
      "Confusion matrix:\n",
      " [[73  0]\n",
      " [12  0]]\n",
      "{'dropout': 0.3, 'hidden_size': 25, 'learning_rate': 1e-05, 'batch_size': 8, 'n_hidden': 1, 'accuracy': 0.8588, 'f1': 0.0}\n"
     ]
    },
    {
     "name": "stderr",
     "output_type": "stream",
     "text": [
      "306it [2:54:02, 62.23s/it]"
     ]
    },
    {
     "name": "stdout",
     "output_type": "stream",
     "text": [
      "Confusion matrix:\n",
      " [[73  0]\n",
      " [12  0]]\n",
      "{'dropout': 0.3, 'hidden_size': 25, 'learning_rate': 1e-05, 'batch_size': 8, 'n_hidden': 2, 'accuracy': 0.8588, 'f1': 0.0}\n"
     ]
    },
    {
     "name": "stderr",
     "output_type": "stream",
     "text": [
      "307it [2:55:23, 67.83s/it]"
     ]
    },
    {
     "name": "stdout",
     "output_type": "stream",
     "text": [
      "Confusion matrix:\n",
      " [[73  0]\n",
      " [12  0]]\n",
      "{'dropout': 0.3, 'hidden_size': 25, 'learning_rate': 1e-05, 'batch_size': 8, 'n_hidden': 3, 'accuracy': 0.8588, 'f1': 0.0}\n"
     ]
    },
    {
     "name": "stderr",
     "output_type": "stream",
     "text": [
      "308it [2:57:20, 82.79s/it]"
     ]
    },
    {
     "name": "stdout",
     "output_type": "stream",
     "text": [
      "Confusion matrix:\n",
      " [[73  0]\n",
      " [12  0]]\n",
      "{'dropout': 0.3, 'hidden_size': 25, 'learning_rate': 1e-05, 'batch_size': 8, 'n_hidden': 4, 'accuracy': 0.8588, 'f1': 0.0}\n"
     ]
    },
    {
     "name": "stderr",
     "output_type": "stream",
     "text": [
      "C:\\Users\\William\\AppData\\Roaming\\Python\\Python311\\site-packages\\torch\\nn\\modules\\rnn.py:82: UserWarning: dropout option adds dropout after all but last recurrent layer, so non-zero dropout expects num_layers greater than 1, but got dropout=0.3 and num_layers=1\n",
      "  warnings.warn(\"dropout option adds dropout after all but last \"\n",
      "C:\\Users\\William\\AppData\\Roaming\\Python\\Python311\\site-packages\\torch\\nn\\modules\\rnn.py:82: UserWarning: dropout option adds dropout after all but last recurrent layer, so non-zero dropout expects num_layers greater than 1, but got dropout=0.3 and num_layers=1\n",
      "  warnings.warn(\"dropout option adds dropout after all but last \"\n",
      "309it [2:58:36, 80.57s/it]"
     ]
    },
    {
     "name": "stdout",
     "output_type": "stream",
     "text": [
      "Confusion matrix:\n",
      " [[72  1]\n",
      " [12  0]]\n",
      "{'dropout': 0.3, 'hidden_size': 25, 'learning_rate': 1e-05, 'batch_size': 16, 'n_hidden': 1, 'accuracy': 0.8471, 'f1': 0.0}\n"
     ]
    },
    {
     "name": "stderr",
     "output_type": "stream",
     "text": [
      "310it [2:59:26, 71.37s/it]"
     ]
    },
    {
     "name": "stdout",
     "output_type": "stream",
     "text": [
      "Confusion matrix:\n",
      " [[73  0]\n",
      " [12  0]]\n",
      "{'dropout': 0.3, 'hidden_size': 25, 'learning_rate': 1e-05, 'batch_size': 16, 'n_hidden': 2, 'accuracy': 0.8588, 'f1': 0.0}\n"
     ]
    },
    {
     "name": "stderr",
     "output_type": "stream",
     "text": [
      "311it [2:59:55, 58.83s/it]"
     ]
    },
    {
     "name": "stdout",
     "output_type": "stream",
     "text": [
      "Confusion matrix:\n",
      " [[73  0]\n",
      " [12  0]]\n",
      "{'dropout': 0.3, 'hidden_size': 25, 'learning_rate': 1e-05, 'batch_size': 16, 'n_hidden': 3, 'accuracy': 0.8588, 'f1': 0.0}\n"
     ]
    },
    {
     "name": "stderr",
     "output_type": "stream",
     "text": [
      "312it [3:00:11, 45.87s/it]"
     ]
    },
    {
     "name": "stdout",
     "output_type": "stream",
     "text": [
      "Confusion matrix:\n",
      " [[ 0 73]\n",
      " [ 0 12]]\n",
      "{'dropout': 0.3, 'hidden_size': 25, 'learning_rate': 1e-05, 'batch_size': 16, 'n_hidden': 4, 'accuracy': 0.1412, 'f1': 0.25}\n"
     ]
    },
    {
     "name": "stderr",
     "output_type": "stream",
     "text": [
      "C:\\Users\\William\\AppData\\Roaming\\Python\\Python311\\site-packages\\torch\\nn\\modules\\rnn.py:82: UserWarning: dropout option adds dropout after all but last recurrent layer, so non-zero dropout expects num_layers greater than 1, but got dropout=0.3 and num_layers=1\n",
      "  warnings.warn(\"dropout option adds dropout after all but last \"\n",
      "C:\\Users\\William\\AppData\\Roaming\\Python\\Python311\\site-packages\\torch\\nn\\modules\\rnn.py:82: UserWarning: dropout option adds dropout after all but last recurrent layer, so non-zero dropout expects num_layers greater than 1, but got dropout=0.3 and num_layers=1\n",
      "  warnings.warn(\"dropout option adds dropout after all but last \"\n",
      "313it [3:01:01, 47.30s/it]"
     ]
    },
    {
     "name": "stdout",
     "output_type": "stream",
     "text": [
      "Confusion matrix:\n",
      " [[61 12]\n",
      " [ 6  6]]\n",
      "{'dropout': 0.3, 'hidden_size': 25, 'learning_rate': 1e-05, 'batch_size': 32, 'n_hidden': 1, 'accuracy': 0.7882, 'f1': 0.4}\n"
     ]
    },
    {
     "name": "stderr",
     "output_type": "stream",
     "text": [
      "314it [3:01:20, 38.54s/it]"
     ]
    },
    {
     "name": "stdout",
     "output_type": "stream",
     "text": [
      "Confusion matrix:\n",
      " [[73  0]\n",
      " [11  1]]\n",
      "{'dropout': 0.3, 'hidden_size': 25, 'learning_rate': 1e-05, 'batch_size': 32, 'n_hidden': 2, 'accuracy': 0.8706, 'f1': 0.15}\n"
     ]
    },
    {
     "name": "stderr",
     "output_type": "stream",
     "text": [
      "315it [3:01:29, 29.77s/it]"
     ]
    },
    {
     "name": "stdout",
     "output_type": "stream",
     "text": [
      "Confusion matrix:\n",
      " [[73  0]\n",
      " [12  0]]\n",
      "{'dropout': 0.3, 'hidden_size': 25, 'learning_rate': 1e-05, 'batch_size': 32, 'n_hidden': 3, 'accuracy': 0.8588, 'f1': 0.0}\n"
     ]
    },
    {
     "name": "stderr",
     "output_type": "stream",
     "text": [
      "316it [3:02:28, 38.48s/it]"
     ]
    },
    {
     "name": "stdout",
     "output_type": "stream",
     "text": [
      "Confusion matrix:\n",
      " [[72  1]\n",
      " [10  2]]\n",
      "{'dropout': 0.3, 'hidden_size': 25, 'learning_rate': 1e-05, 'batch_size': 32, 'n_hidden': 4, 'accuracy': 0.8706, 'f1': 0.27}\n"
     ]
    },
    {
     "name": "stderr",
     "output_type": "stream",
     "text": [
      "C:\\Users\\William\\AppData\\Roaming\\Python\\Python311\\site-packages\\torch\\nn\\modules\\rnn.py:82: UserWarning: dropout option adds dropout after all but last recurrent layer, so non-zero dropout expects num_layers greater than 1, but got dropout=0.3 and num_layers=1\n",
      "  warnings.warn(\"dropout option adds dropout after all but last \"\n",
      "C:\\Users\\William\\AppData\\Roaming\\Python\\Python311\\site-packages\\torch\\nn\\modules\\rnn.py:82: UserWarning: dropout option adds dropout after all but last recurrent layer, so non-zero dropout expects num_layers greater than 1, but got dropout=0.3 and num_layers=1\n",
      "  warnings.warn(\"dropout option adds dropout after all but last \"\n",
      "317it [3:02:31, 28.08s/it]"
     ]
    },
    {
     "name": "stdout",
     "output_type": "stream",
     "text": [
      "Confusion matrix:\n",
      " [[ 5 68]\n",
      " [ 0 12]]\n",
      "{'dropout': 0.3, 'hidden_size': 25, 'learning_rate': 1e-05, 'batch_size': 64, 'n_hidden': 1, 'accuracy': 0.2, 'f1': 0.26}\n"
     ]
    },
    {
     "name": "stderr",
     "output_type": "stream",
     "text": [
      "318it [3:02:42, 22.86s/it]"
     ]
    },
    {
     "name": "stdout",
     "output_type": "stream",
     "text": [
      "Confusion matrix:\n",
      " [[66  7]\n",
      " [ 8  4]]\n",
      "{'dropout': 0.3, 'hidden_size': 25, 'learning_rate': 1e-05, 'batch_size': 64, 'n_hidden': 2, 'accuracy': 0.8235, 'f1': 0.35}\n"
     ]
    },
    {
     "name": "stderr",
     "output_type": "stream",
     "text": [
      "319it [3:02:47, 17.46s/it]"
     ]
    },
    {
     "name": "stdout",
     "output_type": "stream",
     "text": [
      "Confusion matrix:\n",
      " [[73  0]\n",
      " [12  0]]\n",
      "{'dropout': 0.3, 'hidden_size': 25, 'learning_rate': 1e-05, 'batch_size': 64, 'n_hidden': 3, 'accuracy': 0.8588, 'f1': 0.0}\n"
     ]
    },
    {
     "name": "stderr",
     "output_type": "stream",
     "text": [
      "320it [3:02:52, 13.74s/it]"
     ]
    },
    {
     "name": "stdout",
     "output_type": "stream",
     "text": [
      "Confusion matrix:\n",
      " [[ 0 73]\n",
      " [ 0 12]]\n",
      "{'dropout': 0.3, 'hidden_size': 25, 'learning_rate': 1e-05, 'batch_size': 64, 'n_hidden': 4, 'accuracy': 0.1412, 'f1': 0.25}\n"
     ]
    },
    {
     "name": "stderr",
     "output_type": "stream",
     "text": [
      "C:\\Users\\William\\AppData\\Roaming\\Python\\Python311\\site-packages\\torch\\nn\\modules\\rnn.py:82: UserWarning: dropout option adds dropout after all but last recurrent layer, so non-zero dropout expects num_layers greater than 1, but got dropout=0.3 and num_layers=1\n",
      "  warnings.warn(\"dropout option adds dropout after all but last \"\n",
      "C:\\Users\\William\\AppData\\Roaming\\Python\\Python311\\site-packages\\torch\\nn\\modules\\rnn.py:82: UserWarning: dropout option adds dropout after all but last recurrent layer, so non-zero dropout expects num_layers greater than 1, but got dropout=0.3 and num_layers=1\n",
      "  warnings.warn(\"dropout option adds dropout after all but last \"\n",
      "321it [3:03:12, 15.62s/it]"
     ]
    },
    {
     "name": "stdout",
     "output_type": "stream",
     "text": [
      "Confusion matrix:\n",
      " [[62 11]\n",
      " [ 2 10]]\n",
      "{'dropout': 0.3, 'hidden_size': 50, 'learning_rate': 0.01, 'batch_size': 8, 'n_hidden': 1, 'accuracy': 0.8471, 'f1': 0.61}\n"
     ]
    },
    {
     "name": "stderr",
     "output_type": "stream",
     "text": [
      "322it [3:03:46, 21.15s/it]"
     ]
    },
    {
     "name": "stdout",
     "output_type": "stream",
     "text": [
      "Confusion matrix:\n",
      " [[64  9]\n",
      " [ 2 10]]\n",
      "{'dropout': 0.3, 'hidden_size': 50, 'learning_rate': 0.01, 'batch_size': 8, 'n_hidden': 2, 'accuracy': 0.8706, 'f1': 0.65}\n"
     ]
    },
    {
     "name": "stderr",
     "output_type": "stream",
     "text": [
      "323it [3:04:08, 21.25s/it]"
     ]
    },
    {
     "name": "stdout",
     "output_type": "stream",
     "text": [
      "Confusion matrix:\n",
      " [[73  0]\n",
      " [12  0]]\n",
      "{'dropout': 0.3, 'hidden_size': 50, 'learning_rate': 0.01, 'batch_size': 8, 'n_hidden': 3, 'accuracy': 0.8588, 'f1': 0.0}\n"
     ]
    },
    {
     "name": "stderr",
     "output_type": "stream",
     "text": [
      "324it [3:04:30, 21.51s/it]"
     ]
    },
    {
     "name": "stdout",
     "output_type": "stream",
     "text": [
      "Confusion matrix:\n",
      " [[73  0]\n",
      " [12  0]]\n",
      "{'dropout': 0.3, 'hidden_size': 50, 'learning_rate': 0.01, 'batch_size': 8, 'n_hidden': 4, 'accuracy': 0.8588, 'f1': 0.0}\n"
     ]
    },
    {
     "name": "stderr",
     "output_type": "stream",
     "text": [
      "C:\\Users\\William\\AppData\\Roaming\\Python\\Python311\\site-packages\\torch\\nn\\modules\\rnn.py:82: UserWarning: dropout option adds dropout after all but last recurrent layer, so non-zero dropout expects num_layers greater than 1, but got dropout=0.3 and num_layers=1\n",
      "  warnings.warn(\"dropout option adds dropout after all but last \"\n",
      "C:\\Users\\William\\AppData\\Roaming\\Python\\Python311\\site-packages\\torch\\nn\\modules\\rnn.py:82: UserWarning: dropout option adds dropout after all but last recurrent layer, so non-zero dropout expects num_layers greater than 1, but got dropout=0.3 and num_layers=1\n",
      "  warnings.warn(\"dropout option adds dropout after all but last \"\n",
      "325it [3:04:58, 23.42s/it]"
     ]
    },
    {
     "name": "stdout",
     "output_type": "stream",
     "text": [
      "Confusion matrix:\n",
      " [[62 11]\n",
      " [ 4  8]]\n",
      "{'dropout': 0.3, 'hidden_size': 50, 'learning_rate': 0.01, 'batch_size': 16, 'n_hidden': 1, 'accuracy': 0.8235, 'f1': 0.52}\n"
     ]
    },
    {
     "name": "stderr",
     "output_type": "stream",
     "text": [
      "326it [3:05:09, 19.69s/it]"
     ]
    },
    {
     "name": "stdout",
     "output_type": "stream",
     "text": [
      "Confusion matrix:\n",
      " [[69  4]\n",
      " [ 4  8]]\n",
      "{'dropout': 0.3, 'hidden_size': 50, 'learning_rate': 0.01, 'batch_size': 16, 'n_hidden': 2, 'accuracy': 0.9059, 'f1': 0.67}\n"
     ]
    },
    {
     "name": "stderr",
     "output_type": "stream",
     "text": [
      "327it [3:05:22, 17.86s/it]"
     ]
    },
    {
     "name": "stdout",
     "output_type": "stream",
     "text": [
      "Confusion matrix:\n",
      " [[47 26]\n",
      " [ 8  4]]\n",
      "{'dropout': 0.3, 'hidden_size': 50, 'learning_rate': 0.01, 'batch_size': 16, 'n_hidden': 3, 'accuracy': 0.6, 'f1': 0.19}\n"
     ]
    },
    {
     "name": "stderr",
     "output_type": "stream",
     "text": [
      "328it [3:05:38, 17.32s/it]"
     ]
    },
    {
     "name": "stdout",
     "output_type": "stream",
     "text": [
      "Confusion matrix:\n",
      " [[69  4]\n",
      " [ 5  7]]\n",
      "{'dropout': 0.3, 'hidden_size': 50, 'learning_rate': 0.01, 'batch_size': 16, 'n_hidden': 4, 'accuracy': 0.8941, 'f1': 0.61}\n"
     ]
    },
    {
     "name": "stderr",
     "output_type": "stream",
     "text": [
      "C:\\Users\\William\\AppData\\Roaming\\Python\\Python311\\site-packages\\torch\\nn\\modules\\rnn.py:82: UserWarning: dropout option adds dropout after all but last recurrent layer, so non-zero dropout expects num_layers greater than 1, but got dropout=0.3 and num_layers=1\n",
      "  warnings.warn(\"dropout option adds dropout after all but last \"\n",
      "C:\\Users\\William\\AppData\\Roaming\\Python\\Python311\\site-packages\\torch\\nn\\modules\\rnn.py:82: UserWarning: dropout option adds dropout after all but last recurrent layer, so non-zero dropout expects num_layers greater than 1, but got dropout=0.3 and num_layers=1\n",
      "  warnings.warn(\"dropout option adds dropout after all but last \"\n",
      "329it [3:05:45, 14.25s/it]"
     ]
    },
    {
     "name": "stdout",
     "output_type": "stream",
     "text": [
      "Confusion matrix:\n",
      " [[68  5]\n",
      " [ 2 10]]\n",
      "{'dropout': 0.3, 'hidden_size': 50, 'learning_rate': 0.01, 'batch_size': 32, 'n_hidden': 1, 'accuracy': 0.9176, 'f1': 0.74}\n"
     ]
    },
    {
     "name": "stderr",
     "output_type": "stream",
     "text": [
      "330it [3:06:00, 14.41s/it]"
     ]
    },
    {
     "name": "stdout",
     "output_type": "stream",
     "text": [
      "Confusion matrix:\n",
      " [[63 10]\n",
      " [ 0 12]]\n",
      "{'dropout': 0.3, 'hidden_size': 50, 'learning_rate': 0.01, 'batch_size': 32, 'n_hidden': 2, 'accuracy': 0.8824, 'f1': 0.71}\n"
     ]
    },
    {
     "name": "stderr",
     "output_type": "stream",
     "text": [
      "331it [3:06:18, 15.54s/it]"
     ]
    },
    {
     "name": "stdout",
     "output_type": "stream",
     "text": [
      "Confusion matrix:\n",
      " [[66  7]\n",
      " [ 1 11]]\n",
      "{'dropout': 0.3, 'hidden_size': 50, 'learning_rate': 0.01, 'batch_size': 32, 'n_hidden': 3, 'accuracy': 0.9059, 'f1': 0.73}\n"
     ]
    },
    {
     "name": "stderr",
     "output_type": "stream",
     "text": [
      "332it [3:06:31, 14.58s/it]"
     ]
    },
    {
     "name": "stdout",
     "output_type": "stream",
     "text": [
      "Confusion matrix:\n",
      " [[71  2]\n",
      " [ 4  8]]\n",
      "{'dropout': 0.3, 'hidden_size': 50, 'learning_rate': 0.01, 'batch_size': 32, 'n_hidden': 4, 'accuracy': 0.9294, 'f1': 0.73}\n"
     ]
    },
    {
     "name": "stderr",
     "output_type": "stream",
     "text": [
      "C:\\Users\\William\\AppData\\Roaming\\Python\\Python311\\site-packages\\torch\\nn\\modules\\rnn.py:82: UserWarning: dropout option adds dropout after all but last recurrent layer, so non-zero dropout expects num_layers greater than 1, but got dropout=0.3 and num_layers=1\n",
      "  warnings.warn(\"dropout option adds dropout after all but last \"\n",
      "C:\\Users\\William\\AppData\\Roaming\\Python\\Python311\\site-packages\\torch\\nn\\modules\\rnn.py:82: UserWarning: dropout option adds dropout after all but last recurrent layer, so non-zero dropout expects num_layers greater than 1, but got dropout=0.3 and num_layers=1\n",
      "  warnings.warn(\"dropout option adds dropout after all but last \"\n",
      "333it [3:06:37, 12.02s/it]"
     ]
    },
    {
     "name": "stdout",
     "output_type": "stream",
     "text": [
      "Confusion matrix:\n",
      " [[68  5]\n",
      " [ 2 10]]\n",
      "{'dropout': 0.3, 'hidden_size': 50, 'learning_rate': 0.01, 'batch_size': 64, 'n_hidden': 1, 'accuracy': 0.9176, 'f1': 0.74}\n"
     ]
    },
    {
     "name": "stderr",
     "output_type": "stream",
     "text": [
      "334it [3:06:50, 12.37s/it]"
     ]
    },
    {
     "name": "stdout",
     "output_type": "stream",
     "text": [
      "Confusion matrix:\n",
      " [[64  9]\n",
      " [ 2 10]]\n",
      "{'dropout': 0.3, 'hidden_size': 50, 'learning_rate': 0.01, 'batch_size': 64, 'n_hidden': 2, 'accuracy': 0.8706, 'f1': 0.65}\n"
     ]
    },
    {
     "name": "stderr",
     "output_type": "stream",
     "text": [
      "335it [3:06:58, 11.21s/it]"
     ]
    },
    {
     "name": "stdout",
     "output_type": "stream",
     "text": [
      "Confusion matrix:\n",
      " [[57 16]\n",
      " [ 0 12]]\n",
      "{'dropout': 0.3, 'hidden_size': 50, 'learning_rate': 0.01, 'batch_size': 64, 'n_hidden': 3, 'accuracy': 0.8118, 'f1': 0.6}\n"
     ]
    },
    {
     "name": "stderr",
     "output_type": "stream",
     "text": [
      "336it [3:07:08, 10.68s/it]"
     ]
    },
    {
     "name": "stdout",
     "output_type": "stream",
     "text": [
      "Confusion matrix:\n",
      " [[55 18]\n",
      " [ 0 12]]\n",
      "{'dropout': 0.3, 'hidden_size': 50, 'learning_rate': 0.01, 'batch_size': 64, 'n_hidden': 4, 'accuracy': 0.7882, 'f1': 0.57}\n"
     ]
    },
    {
     "name": "stderr",
     "output_type": "stream",
     "text": [
      "C:\\Users\\William\\AppData\\Roaming\\Python\\Python311\\site-packages\\torch\\nn\\modules\\rnn.py:82: UserWarning: dropout option adds dropout after all but last recurrent layer, so non-zero dropout expects num_layers greater than 1, but got dropout=0.3 and num_layers=1\n",
      "  warnings.warn(\"dropout option adds dropout after all but last \"\n",
      "C:\\Users\\William\\AppData\\Roaming\\Python\\Python311\\site-packages\\torch\\nn\\modules\\rnn.py:82: UserWarning: dropout option adds dropout after all but last recurrent layer, so non-zero dropout expects num_layers greater than 1, but got dropout=0.3 and num_layers=1\n",
      "  warnings.warn(\"dropout option adds dropout after all but last \"\n",
      "337it [3:07:41, 17.54s/it]"
     ]
    },
    {
     "name": "stdout",
     "output_type": "stream",
     "text": [
      "Confusion matrix:\n",
      " [[71  2]\n",
      " [ 6  6]]\n",
      "{'dropout': 0.3, 'hidden_size': 50, 'learning_rate': 0.001, 'batch_size': 8, 'n_hidden': 1, 'accuracy': 0.9059, 'f1': 0.6}\n"
     ]
    },
    {
     "name": "stderr",
     "output_type": "stream",
     "text": [
      "338it [3:08:20, 23.97s/it]"
     ]
    },
    {
     "name": "stdout",
     "output_type": "stream",
     "text": [
      "Confusion matrix:\n",
      " [[66  7]\n",
      " [ 3  9]]\n",
      "{'dropout': 0.3, 'hidden_size': 50, 'learning_rate': 0.001, 'batch_size': 8, 'n_hidden': 2, 'accuracy': 0.8824, 'f1': 0.64}\n"
     ]
    },
    {
     "name": "stderr",
     "output_type": "stream",
     "text": [
      "339it [3:08:58, 28.01s/it]"
     ]
    },
    {
     "name": "stdout",
     "output_type": "stream",
     "text": [
      "Confusion matrix:\n",
      " [[65  8]\n",
      " [ 2 10]]\n",
      "{'dropout': 0.3, 'hidden_size': 50, 'learning_rate': 0.001, 'batch_size': 8, 'n_hidden': 3, 'accuracy': 0.8824, 'f1': 0.67}\n"
     ]
    },
    {
     "name": "stderr",
     "output_type": "stream",
     "text": [
      "340it [3:09:33, 30.22s/it]"
     ]
    },
    {
     "name": "stdout",
     "output_type": "stream",
     "text": [
      "Confusion matrix:\n",
      " [[66  7]\n",
      " [ 2 10]]\n",
      "{'dropout': 0.3, 'hidden_size': 50, 'learning_rate': 0.001, 'batch_size': 8, 'n_hidden': 4, 'accuracy': 0.8941, 'f1': 0.69}\n"
     ]
    },
    {
     "name": "stderr",
     "output_type": "stream",
     "text": [
      "C:\\Users\\William\\AppData\\Roaming\\Python\\Python311\\site-packages\\torch\\nn\\modules\\rnn.py:82: UserWarning: dropout option adds dropout after all but last recurrent layer, so non-zero dropout expects num_layers greater than 1, but got dropout=0.3 and num_layers=1\n",
      "  warnings.warn(\"dropout option adds dropout after all but last \"\n",
      "C:\\Users\\William\\AppData\\Roaming\\Python\\Python311\\site-packages\\torch\\nn\\modules\\rnn.py:82: UserWarning: dropout option adds dropout after all but last recurrent layer, so non-zero dropout expects num_layers greater than 1, but got dropout=0.3 and num_layers=1\n",
      "  warnings.warn(\"dropout option adds dropout after all but last \"\n",
      "341it [3:09:57, 28.46s/it]"
     ]
    },
    {
     "name": "stdout",
     "output_type": "stream",
     "text": [
      "Confusion matrix:\n",
      " [[65  8]\n",
      " [ 2 10]]\n",
      "{'dropout': 0.3, 'hidden_size': 50, 'learning_rate': 0.001, 'batch_size': 16, 'n_hidden': 1, 'accuracy': 0.8824, 'f1': 0.67}\n"
     ]
    },
    {
     "name": "stderr",
     "output_type": "stream",
     "text": [
      "342it [3:10:22, 27.34s/it]"
     ]
    },
    {
     "name": "stdout",
     "output_type": "stream",
     "text": [
      "Confusion matrix:\n",
      " [[65  8]\n",
      " [ 1 11]]\n",
      "{'dropout': 0.3, 'hidden_size': 50, 'learning_rate': 0.001, 'batch_size': 16, 'n_hidden': 2, 'accuracy': 0.8941, 'f1': 0.71}\n"
     ]
    },
    {
     "name": "stderr",
     "output_type": "stream",
     "text": [
      "343it [3:10:48, 27.01s/it]"
     ]
    },
    {
     "name": "stdout",
     "output_type": "stream",
     "text": [
      "Confusion matrix:\n",
      " [[60 13]\n",
      " [ 1 11]]\n",
      "{'dropout': 0.3, 'hidden_size': 50, 'learning_rate': 0.001, 'batch_size': 16, 'n_hidden': 3, 'accuracy': 0.8353, 'f1': 0.61}\n"
     ]
    },
    {
     "name": "stderr",
     "output_type": "stream",
     "text": [
      "344it [3:11:13, 26.26s/it]"
     ]
    },
    {
     "name": "stdout",
     "output_type": "stream",
     "text": [
      "Confusion matrix:\n",
      " [[65  8]\n",
      " [ 2 10]]\n",
      "{'dropout': 0.3, 'hidden_size': 50, 'learning_rate': 0.001, 'batch_size': 16, 'n_hidden': 4, 'accuracy': 0.8824, 'f1': 0.67}\n"
     ]
    },
    {
     "name": "stderr",
     "output_type": "stream",
     "text": [
      "C:\\Users\\William\\AppData\\Roaming\\Python\\Python311\\site-packages\\torch\\nn\\modules\\rnn.py:82: UserWarning: dropout option adds dropout after all but last recurrent layer, so non-zero dropout expects num_layers greater than 1, but got dropout=0.3 and num_layers=1\n",
      "  warnings.warn(\"dropout option adds dropout after all but last \"\n",
      "C:\\Users\\William\\AppData\\Roaming\\Python\\Python311\\site-packages\\torch\\nn\\modules\\rnn.py:82: UserWarning: dropout option adds dropout after all but last recurrent layer, so non-zero dropout expects num_layers greater than 1, but got dropout=0.3 and num_layers=1\n",
      "  warnings.warn(\"dropout option adds dropout after all but last \"\n",
      "345it [3:11:30, 23.65s/it]"
     ]
    },
    {
     "name": "stdout",
     "output_type": "stream",
     "text": [
      "Confusion matrix:\n",
      " [[69  4]\n",
      " [ 4  8]]\n",
      "{'dropout': 0.3, 'hidden_size': 50, 'learning_rate': 0.001, 'batch_size': 32, 'n_hidden': 1, 'accuracy': 0.9059, 'f1': 0.67}\n"
     ]
    },
    {
     "name": "stderr",
     "output_type": "stream",
     "text": [
      "346it [3:11:47, 21.55s/it]"
     ]
    },
    {
     "name": "stdout",
     "output_type": "stream",
     "text": [
      "Confusion matrix:\n",
      " [[66  7]\n",
      " [ 2 10]]\n",
      "{'dropout': 0.3, 'hidden_size': 50, 'learning_rate': 0.001, 'batch_size': 32, 'n_hidden': 2, 'accuracy': 0.8941, 'f1': 0.69}\n"
     ]
    },
    {
     "name": "stderr",
     "output_type": "stream",
     "text": [
      "347it [3:12:05, 20.52s/it]"
     ]
    },
    {
     "name": "stdout",
     "output_type": "stream",
     "text": [
      "Confusion matrix:\n",
      " [[59 14]\n",
      " [ 1 11]]\n",
      "{'dropout': 0.3, 'hidden_size': 50, 'learning_rate': 0.001, 'batch_size': 32, 'n_hidden': 3, 'accuracy': 0.8235, 'f1': 0.59}\n"
     ]
    },
    {
     "name": "stderr",
     "output_type": "stream",
     "text": [
      "348it [3:12:19, 18.43s/it]"
     ]
    },
    {
     "name": "stdout",
     "output_type": "stream",
     "text": [
      "Confusion matrix:\n",
      " [[61 12]\n",
      " [ 0 12]]\n",
      "{'dropout': 0.3, 'hidden_size': 50, 'learning_rate': 0.001, 'batch_size': 32, 'n_hidden': 4, 'accuracy': 0.8588, 'f1': 0.67}\n"
     ]
    },
    {
     "name": "stderr",
     "output_type": "stream",
     "text": [
      "C:\\Users\\William\\AppData\\Roaming\\Python\\Python311\\site-packages\\torch\\nn\\modules\\rnn.py:82: UserWarning: dropout option adds dropout after all but last recurrent layer, so non-zero dropout expects num_layers greater than 1, but got dropout=0.3 and num_layers=1\n",
      "  warnings.warn(\"dropout option adds dropout after all but last \"\n",
      "C:\\Users\\William\\AppData\\Roaming\\Python\\Python311\\site-packages\\torch\\nn\\modules\\rnn.py:82: UserWarning: dropout option adds dropout after all but last recurrent layer, so non-zero dropout expects num_layers greater than 1, but got dropout=0.3 and num_layers=1\n",
      "  warnings.warn(\"dropout option adds dropout after all but last \"\n",
      "349it [3:12:31, 16.47s/it]"
     ]
    },
    {
     "name": "stdout",
     "output_type": "stream",
     "text": [
      "Confusion matrix:\n",
      " [[63 10]\n",
      " [ 1 11]]\n",
      "{'dropout': 0.3, 'hidden_size': 50, 'learning_rate': 0.001, 'batch_size': 64, 'n_hidden': 1, 'accuracy': 0.8706, 'f1': 0.67}\n"
     ]
    },
    {
     "name": "stderr",
     "output_type": "stream",
     "text": [
      "350it [3:12:46, 16.03s/it]"
     ]
    },
    {
     "name": "stdout",
     "output_type": "stream",
     "text": [
      "Confusion matrix:\n",
      " [[67  6]\n",
      " [ 4  8]]\n",
      "{'dropout': 0.3, 'hidden_size': 50, 'learning_rate': 0.001, 'batch_size': 64, 'n_hidden': 2, 'accuracy': 0.8824, 'f1': 0.62}\n"
     ]
    },
    {
     "name": "stderr",
     "output_type": "stream",
     "text": [
      "351it [3:12:59, 15.34s/it]"
     ]
    },
    {
     "name": "stdout",
     "output_type": "stream",
     "text": [
      "Confusion matrix:\n",
      " [[62 11]\n",
      " [ 1 11]]\n",
      "{'dropout': 0.3, 'hidden_size': 50, 'learning_rate': 0.001, 'batch_size': 64, 'n_hidden': 3, 'accuracy': 0.8588, 'f1': 0.65}\n"
     ]
    },
    {
     "name": "stderr",
     "output_type": "stream",
     "text": [
      "352it [3:13:14, 15.12s/it]"
     ]
    },
    {
     "name": "stdout",
     "output_type": "stream",
     "text": [
      "Confusion matrix:\n",
      " [[61 12]\n",
      " [ 3  9]]\n",
      "{'dropout': 0.3, 'hidden_size': 50, 'learning_rate': 0.001, 'batch_size': 64, 'n_hidden': 4, 'accuracy': 0.8235, 'f1': 0.55}\n"
     ]
    },
    {
     "name": "stderr",
     "output_type": "stream",
     "text": [
      "C:\\Users\\William\\AppData\\Roaming\\Python\\Python311\\site-packages\\torch\\nn\\modules\\rnn.py:82: UserWarning: dropout option adds dropout after all but last recurrent layer, so non-zero dropout expects num_layers greater than 1, but got dropout=0.3 and num_layers=1\n",
      "  warnings.warn(\"dropout option adds dropout after all but last \"\n",
      "C:\\Users\\William\\AppData\\Roaming\\Python\\Python311\\site-packages\\torch\\nn\\modules\\rnn.py:82: UserWarning: dropout option adds dropout after all but last recurrent layer, so non-zero dropout expects num_layers greater than 1, but got dropout=0.3 and num_layers=1\n",
      "  warnings.warn(\"dropout option adds dropout after all but last \"\n",
      "353it [3:15:15, 46.74s/it]"
     ]
    },
    {
     "name": "stdout",
     "output_type": "stream",
     "text": [
      "Confusion matrix:\n",
      " [[67  6]\n",
      " [ 3  9]]\n",
      "{'dropout': 0.3, 'hidden_size': 50, 'learning_rate': 0.0001, 'batch_size': 8, 'n_hidden': 1, 'accuracy': 0.8941, 'f1': 0.67}\n"
     ]
    },
    {
     "name": "stderr",
     "output_type": "stream",
     "text": [
      "354it [3:16:21, 52.53s/it]"
     ]
    },
    {
     "name": "stdout",
     "output_type": "stream",
     "text": [
      "Confusion matrix:\n",
      " [[70  3]\n",
      " [ 2 10]]\n",
      "{'dropout': 0.3, 'hidden_size': 50, 'learning_rate': 0.0001, 'batch_size': 8, 'n_hidden': 2, 'accuracy': 0.9412, 'f1': 0.8}\n"
     ]
    },
    {
     "name": "stderr",
     "output_type": "stream",
     "text": [
      "355it [3:17:21, 54.87s/it]"
     ]
    },
    {
     "name": "stdout",
     "output_type": "stream",
     "text": [
      "Confusion matrix:\n",
      " [[64  9]\n",
      " [ 1 11]]\n",
      "{'dropout': 0.3, 'hidden_size': 50, 'learning_rate': 0.0001, 'batch_size': 8, 'n_hidden': 3, 'accuracy': 0.8824, 'f1': 0.69}\n"
     ]
    },
    {
     "name": "stderr",
     "output_type": "stream",
     "text": [
      "356it [3:18:30, 59.13s/it]"
     ]
    },
    {
     "name": "stdout",
     "output_type": "stream",
     "text": [
      "Confusion matrix:\n",
      " [[68  5]\n",
      " [ 2 10]]\n",
      "{'dropout': 0.3, 'hidden_size': 50, 'learning_rate': 0.0001, 'batch_size': 8, 'n_hidden': 4, 'accuracy': 0.9176, 'f1': 0.74}\n"
     ]
    },
    {
     "name": "stderr",
     "output_type": "stream",
     "text": [
      "C:\\Users\\William\\AppData\\Roaming\\Python\\Python311\\site-packages\\torch\\nn\\modules\\rnn.py:82: UserWarning: dropout option adds dropout after all but last recurrent layer, so non-zero dropout expects num_layers greater than 1, but got dropout=0.3 and num_layers=1\n",
      "  warnings.warn(\"dropout option adds dropout after all but last \"\n",
      "C:\\Users\\William\\AppData\\Roaming\\Python\\Python311\\site-packages\\torch\\nn\\modules\\rnn.py:82: UserWarning: dropout option adds dropout after all but last recurrent layer, so non-zero dropout expects num_layers greater than 1, but got dropout=0.3 and num_layers=1\n",
      "  warnings.warn(\"dropout option adds dropout after all but last \"\n",
      "357it [3:19:18, 55.90s/it]"
     ]
    },
    {
     "name": "stdout",
     "output_type": "stream",
     "text": [
      "Confusion matrix:\n",
      " [[67  6]\n",
      " [ 2 10]]\n",
      "{'dropout': 0.3, 'hidden_size': 50, 'learning_rate': 0.0001, 'batch_size': 16, 'n_hidden': 1, 'accuracy': 0.9059, 'f1': 0.71}\n"
     ]
    },
    {
     "name": "stderr",
     "output_type": "stream",
     "text": [
      "358it [3:19:55, 50.19s/it]"
     ]
    },
    {
     "name": "stdout",
     "output_type": "stream",
     "text": [
      "Confusion matrix:\n",
      " [[70  3]\n",
      " [ 2 10]]\n",
      "{'dropout': 0.3, 'hidden_size': 50, 'learning_rate': 0.0001, 'batch_size': 16, 'n_hidden': 2, 'accuracy': 0.9412, 'f1': 0.8}\n"
     ]
    },
    {
     "name": "stderr",
     "output_type": "stream",
     "text": [
      "359it [3:20:38, 47.84s/it]"
     ]
    },
    {
     "name": "stdout",
     "output_type": "stream",
     "text": [
      "Confusion matrix:\n",
      " [[61 12]\n",
      " [ 1 11]]\n",
      "{'dropout': 0.3, 'hidden_size': 50, 'learning_rate': 0.0001, 'batch_size': 16, 'n_hidden': 3, 'accuracy': 0.8471, 'f1': 0.63}\n"
     ]
    },
    {
     "name": "stderr",
     "output_type": "stream",
     "text": [
      "360it [3:21:28, 48.50s/it]"
     ]
    },
    {
     "name": "stdout",
     "output_type": "stream",
     "text": [
      "Confusion matrix:\n",
      " [[67  6]\n",
      " [ 2 10]]\n",
      "{'dropout': 0.3, 'hidden_size': 50, 'learning_rate': 0.0001, 'batch_size': 16, 'n_hidden': 4, 'accuracy': 0.9059, 'f1': 0.71}\n"
     ]
    },
    {
     "name": "stderr",
     "output_type": "stream",
     "text": [
      "C:\\Users\\William\\AppData\\Roaming\\Python\\Python311\\site-packages\\torch\\nn\\modules\\rnn.py:82: UserWarning: dropout option adds dropout after all but last recurrent layer, so non-zero dropout expects num_layers greater than 1, but got dropout=0.3 and num_layers=1\n",
      "  warnings.warn(\"dropout option adds dropout after all but last \"\n",
      "C:\\Users\\William\\AppData\\Roaming\\Python\\Python311\\site-packages\\torch\\nn\\modules\\rnn.py:82: UserWarning: dropout option adds dropout after all but last recurrent layer, so non-zero dropout expects num_layers greater than 1, but got dropout=0.3 and num_layers=1\n",
      "  warnings.warn(\"dropout option adds dropout after all but last \"\n",
      "361it [3:21:59, 43.32s/it]"
     ]
    },
    {
     "name": "stdout",
     "output_type": "stream",
     "text": [
      "Confusion matrix:\n",
      " [[62 11]\n",
      " [ 1 11]]\n",
      "{'dropout': 0.3, 'hidden_size': 50, 'learning_rate': 0.0001, 'batch_size': 32, 'n_hidden': 1, 'accuracy': 0.8588, 'f1': 0.65}\n"
     ]
    },
    {
     "name": "stderr",
     "output_type": "stream",
     "text": [
      "362it [3:22:26, 38.51s/it]"
     ]
    },
    {
     "name": "stdout",
     "output_type": "stream",
     "text": [
      "Confusion matrix:\n",
      " [[66  7]\n",
      " [ 2 10]]\n",
      "{'dropout': 0.3, 'hidden_size': 50, 'learning_rate': 0.0001, 'batch_size': 32, 'n_hidden': 2, 'accuracy': 0.8941, 'f1': 0.69}\n"
     ]
    },
    {
     "name": "stderr",
     "output_type": "stream",
     "text": [
      "363it [3:23:07, 39.17s/it]"
     ]
    },
    {
     "name": "stdout",
     "output_type": "stream",
     "text": [
      "Confusion matrix:\n",
      " [[59 14]\n",
      " [ 1 11]]\n",
      "{'dropout': 0.3, 'hidden_size': 50, 'learning_rate': 0.0001, 'batch_size': 32, 'n_hidden': 3, 'accuracy': 0.8235, 'f1': 0.59}\n"
     ]
    },
    {
     "name": "stderr",
     "output_type": "stream",
     "text": [
      "364it [3:23:45, 38.99s/it]"
     ]
    },
    {
     "name": "stdout",
     "output_type": "stream",
     "text": [
      "Confusion matrix:\n",
      " [[67  6]\n",
      " [ 2 10]]\n",
      "{'dropout': 0.3, 'hidden_size': 50, 'learning_rate': 0.0001, 'batch_size': 32, 'n_hidden': 4, 'accuracy': 0.9059, 'f1': 0.71}\n"
     ]
    },
    {
     "name": "stderr",
     "output_type": "stream",
     "text": [
      "C:\\Users\\William\\AppData\\Roaming\\Python\\Python311\\site-packages\\torch\\nn\\modules\\rnn.py:82: UserWarning: dropout option adds dropout after all but last recurrent layer, so non-zero dropout expects num_layers greater than 1, but got dropout=0.3 and num_layers=1\n",
      "  warnings.warn(\"dropout option adds dropout after all but last \"\n",
      "C:\\Users\\William\\AppData\\Roaming\\Python\\Python311\\site-packages\\torch\\nn\\modules\\rnn.py:82: UserWarning: dropout option adds dropout after all but last recurrent layer, so non-zero dropout expects num_layers greater than 1, but got dropout=0.3 and num_layers=1\n",
      "  warnings.warn(\"dropout option adds dropout after all but last \"\n",
      "365it [3:24:12, 35.27s/it]"
     ]
    },
    {
     "name": "stdout",
     "output_type": "stream",
     "text": [
      "Confusion matrix:\n",
      " [[65  8]\n",
      " [ 1 11]]\n",
      "{'dropout': 0.3, 'hidden_size': 50, 'learning_rate': 0.0001, 'batch_size': 64, 'n_hidden': 1, 'accuracy': 0.8941, 'f1': 0.71}\n"
     ]
    },
    {
     "name": "stderr",
     "output_type": "stream",
     "text": [
      "366it [3:24:38, 32.47s/it]"
     ]
    },
    {
     "name": "stdout",
     "output_type": "stream",
     "text": [
      "Confusion matrix:\n",
      " [[66  7]\n",
      " [ 1 11]]\n",
      "{'dropout': 0.3, 'hidden_size': 50, 'learning_rate': 0.0001, 'batch_size': 64, 'n_hidden': 2, 'accuracy': 0.9059, 'f1': 0.73}\n"
     ]
    },
    {
     "name": "stderr",
     "output_type": "stream",
     "text": [
      "367it [3:25:07, 31.34s/it]"
     ]
    },
    {
     "name": "stdout",
     "output_type": "stream",
     "text": [
      "Confusion matrix:\n",
      " [[59 14]\n",
      " [ 2 10]]\n",
      "{'dropout': 0.3, 'hidden_size': 50, 'learning_rate': 0.0001, 'batch_size': 64, 'n_hidden': 3, 'accuracy': 0.8118, 'f1': 0.56}\n"
     ]
    },
    {
     "name": "stderr",
     "output_type": "stream",
     "text": [
      "368it [3:25:36, 30.68s/it]"
     ]
    },
    {
     "name": "stdout",
     "output_type": "stream",
     "text": [
      "Confusion matrix:\n",
      " [[67  6]\n",
      " [ 2 10]]\n",
      "{'dropout': 0.3, 'hidden_size': 50, 'learning_rate': 0.0001, 'batch_size': 64, 'n_hidden': 4, 'accuracy': 0.9059, 'f1': 0.71}\n"
     ]
    },
    {
     "name": "stderr",
     "output_type": "stream",
     "text": [
      "C:\\Users\\William\\AppData\\Roaming\\Python\\Python311\\site-packages\\torch\\nn\\modules\\rnn.py:82: UserWarning: dropout option adds dropout after all but last recurrent layer, so non-zero dropout expects num_layers greater than 1, but got dropout=0.3 and num_layers=1\n",
      "  warnings.warn(\"dropout option adds dropout after all but last \"\n",
      "C:\\Users\\William\\AppData\\Roaming\\Python\\Python311\\site-packages\\torch\\nn\\modules\\rnn.py:82: UserWarning: dropout option adds dropout after all but last recurrent layer, so non-zero dropout expects num_layers greater than 1, but got dropout=0.3 and num_layers=1\n",
      "  warnings.warn(\"dropout option adds dropout after all but last \"\n",
      "369it [3:26:58, 46.17s/it]"
     ]
    },
    {
     "name": "stdout",
     "output_type": "stream",
     "text": [
      "Confusion matrix:\n",
      " [[73  0]\n",
      " [12  0]]\n",
      "{'dropout': 0.3, 'hidden_size': 50, 'learning_rate': 1e-05, 'batch_size': 8, 'n_hidden': 1, 'accuracy': 0.8588, 'f1': 0.0}\n"
     ]
    },
    {
     "name": "stderr",
     "output_type": "stream",
     "text": [
      "370it [3:28:16, 55.55s/it]"
     ]
    },
    {
     "name": "stdout",
     "output_type": "stream",
     "text": [
      "Confusion matrix:\n",
      " [[73  0]\n",
      " [12  0]]\n",
      "{'dropout': 0.3, 'hidden_size': 50, 'learning_rate': 1e-05, 'batch_size': 8, 'n_hidden': 2, 'accuracy': 0.8588, 'f1': 0.0}\n"
     ]
    },
    {
     "name": "stderr",
     "output_type": "stream",
     "text": [
      "371it [3:30:17, 75.46s/it]"
     ]
    },
    {
     "name": "stdout",
     "output_type": "stream",
     "text": [
      "Confusion matrix:\n",
      " [[72  1]\n",
      " [10  2]]\n",
      "{'dropout': 0.3, 'hidden_size': 50, 'learning_rate': 1e-05, 'batch_size': 8, 'n_hidden': 3, 'accuracy': 0.8706, 'f1': 0.27}\n"
     ]
    },
    {
     "name": "stderr",
     "output_type": "stream",
     "text": [
      "372it [3:30:59, 65.15s/it]"
     ]
    },
    {
     "name": "stdout",
     "output_type": "stream",
     "text": [
      "Confusion matrix:\n",
      " [[73  0]\n",
      " [12  0]]\n",
      "{'dropout': 0.3, 'hidden_size': 50, 'learning_rate': 1e-05, 'batch_size': 8, 'n_hidden': 4, 'accuracy': 0.8588, 'f1': 0.0}\n"
     ]
    },
    {
     "name": "stderr",
     "output_type": "stream",
     "text": [
      "C:\\Users\\William\\AppData\\Roaming\\Python\\Python311\\site-packages\\torch\\nn\\modules\\rnn.py:82: UserWarning: dropout option adds dropout after all but last recurrent layer, so non-zero dropout expects num_layers greater than 1, but got dropout=0.3 and num_layers=1\n",
      "  warnings.warn(\"dropout option adds dropout after all but last \"\n",
      "C:\\Users\\William\\AppData\\Roaming\\Python\\Python311\\site-packages\\torch\\nn\\modules\\rnn.py:82: UserWarning: dropout option adds dropout after all but last recurrent layer, so non-zero dropout expects num_layers greater than 1, but got dropout=0.3 and num_layers=1\n",
      "  warnings.warn(\"dropout option adds dropout after all but last \"\n",
      "373it [3:31:51, 61.21s/it]"
     ]
    },
    {
     "name": "stdout",
     "output_type": "stream",
     "text": [
      "Confusion matrix:\n",
      " [[71  2]\n",
      " [12  0]]\n",
      "{'dropout': 0.3, 'hidden_size': 50, 'learning_rate': 1e-05, 'batch_size': 16, 'n_hidden': 1, 'accuracy': 0.8353, 'f1': 0.0}\n"
     ]
    },
    {
     "name": "stderr",
     "output_type": "stream",
     "text": [
      "374it [3:32:34, 55.74s/it]"
     ]
    },
    {
     "name": "stdout",
     "output_type": "stream",
     "text": [
      "Confusion matrix:\n",
      " [[73  0]\n",
      " [12  0]]\n",
      "{'dropout': 0.3, 'hidden_size': 50, 'learning_rate': 1e-05, 'batch_size': 16, 'n_hidden': 2, 'accuracy': 0.8588, 'f1': 0.0}\n"
     ]
    },
    {
     "name": "stderr",
     "output_type": "stream",
     "text": [
      "375it [3:33:25, 54.55s/it]"
     ]
    },
    {
     "name": "stdout",
     "output_type": "stream",
     "text": [
      "Confusion matrix:\n",
      " [[73  0]\n",
      " [12  0]]\n",
      "{'dropout': 0.3, 'hidden_size': 50, 'learning_rate': 1e-05, 'batch_size': 16, 'n_hidden': 3, 'accuracy': 0.8588, 'f1': 0.0}\n"
     ]
    },
    {
     "name": "stderr",
     "output_type": "stream",
     "text": [
      "376it [3:34:16, 53.38s/it]"
     ]
    },
    {
     "name": "stdout",
     "output_type": "stream",
     "text": [
      "Confusion matrix:\n",
      " [[73  0]\n",
      " [12  0]]\n",
      "{'dropout': 0.3, 'hidden_size': 50, 'learning_rate': 1e-05, 'batch_size': 16, 'n_hidden': 4, 'accuracy': 0.8588, 'f1': 0.0}\n"
     ]
    },
    {
     "name": "stderr",
     "output_type": "stream",
     "text": [
      "C:\\Users\\William\\AppData\\Roaming\\Python\\Python311\\site-packages\\torch\\nn\\modules\\rnn.py:82: UserWarning: dropout option adds dropout after all but last recurrent layer, so non-zero dropout expects num_layers greater than 1, but got dropout=0.3 and num_layers=1\n",
      "  warnings.warn(\"dropout option adds dropout after all but last \"\n",
      "C:\\Users\\William\\AppData\\Roaming\\Python\\Python311\\site-packages\\torch\\nn\\modules\\rnn.py:82: UserWarning: dropout option adds dropout after all but last recurrent layer, so non-zero dropout expects num_layers greater than 1, but got dropout=0.3 and num_layers=1\n",
      "  warnings.warn(\"dropout option adds dropout after all but last \"\n",
      "377it [3:34:48, 47.02s/it]"
     ]
    },
    {
     "name": "stdout",
     "output_type": "stream",
     "text": [
      "Confusion matrix:\n",
      " [[65  8]\n",
      " [10  2]]\n",
      "{'dropout': 0.3, 'hidden_size': 50, 'learning_rate': 1e-05, 'batch_size': 32, 'n_hidden': 1, 'accuracy': 0.7882, 'f1': 0.18}\n"
     ]
    },
    {
     "name": "stderr",
     "output_type": "stream",
     "text": [
      "378it [3:35:01, 36.67s/it]"
     ]
    },
    {
     "name": "stdout",
     "output_type": "stream",
     "text": [
      "Confusion matrix:\n",
      " [[73  0]\n",
      " [12  0]]\n",
      "{'dropout': 0.3, 'hidden_size': 50, 'learning_rate': 1e-05, 'batch_size': 32, 'n_hidden': 2, 'accuracy': 0.8588, 'f1': 0.0}\n"
     ]
    },
    {
     "name": "stderr",
     "output_type": "stream",
     "text": [
      "379it [3:35:31, 34.71s/it]"
     ]
    },
    {
     "name": "stdout",
     "output_type": "stream",
     "text": [
      "Confusion matrix:\n",
      " [[73  0]\n",
      " [12  0]]\n",
      "{'dropout': 0.3, 'hidden_size': 50, 'learning_rate': 1e-05, 'batch_size': 32, 'n_hidden': 3, 'accuracy': 0.8588, 'f1': 0.0}\n"
     ]
    },
    {
     "name": "stderr",
     "output_type": "stream",
     "text": [
      "380it [3:36:19, 38.74s/it]"
     ]
    },
    {
     "name": "stdout",
     "output_type": "stream",
     "text": [
      "Confusion matrix:\n",
      " [[73  0]\n",
      " [11  1]]\n",
      "{'dropout': 0.3, 'hidden_size': 50, 'learning_rate': 1e-05, 'batch_size': 32, 'n_hidden': 4, 'accuracy': 0.8706, 'f1': 0.15}\n"
     ]
    },
    {
     "name": "stderr",
     "output_type": "stream",
     "text": [
      "C:\\Users\\William\\AppData\\Roaming\\Python\\Python311\\site-packages\\torch\\nn\\modules\\rnn.py:82: UserWarning: dropout option adds dropout after all but last recurrent layer, so non-zero dropout expects num_layers greater than 1, but got dropout=0.3 and num_layers=1\n",
      "  warnings.warn(\"dropout option adds dropout after all but last \"\n",
      "C:\\Users\\William\\AppData\\Roaming\\Python\\Python311\\site-packages\\torch\\nn\\modules\\rnn.py:82: UserWarning: dropout option adds dropout after all but last recurrent layer, so non-zero dropout expects num_layers greater than 1, but got dropout=0.3 and num_layers=1\n",
      "  warnings.warn(\"dropout option adds dropout after all but last \"\n",
      "381it [3:36:34, 31.48s/it]"
     ]
    },
    {
     "name": "stdout",
     "output_type": "stream",
     "text": [
      "Confusion matrix:\n",
      " [[45 28]\n",
      " [ 5  7]]\n",
      "{'dropout': 0.3, 'hidden_size': 50, 'learning_rate': 1e-05, 'batch_size': 64, 'n_hidden': 1, 'accuracy': 0.6118, 'f1': 0.3}\n"
     ]
    },
    {
     "name": "stderr",
     "output_type": "stream",
     "text": [
      "382it [3:36:43, 24.77s/it]"
     ]
    },
    {
     "name": "stdout",
     "output_type": "stream",
     "text": [
      "Confusion matrix:\n",
      " [[73  0]\n",
      " [12  0]]\n",
      "{'dropout': 0.3, 'hidden_size': 50, 'learning_rate': 1e-05, 'batch_size': 64, 'n_hidden': 2, 'accuracy': 0.8588, 'f1': 0.0}\n"
     ]
    },
    {
     "name": "stderr",
     "output_type": "stream",
     "text": [
      "383it [3:37:05, 23.95s/it]"
     ]
    },
    {
     "name": "stdout",
     "output_type": "stream",
     "text": [
      "Confusion matrix:\n",
      " [[63 10]\n",
      " [ 6  6]]\n",
      "{'dropout': 0.3, 'hidden_size': 50, 'learning_rate': 1e-05, 'batch_size': 64, 'n_hidden': 3, 'accuracy': 0.8118, 'f1': 0.43}\n"
     ]
    },
    {
     "name": "stderr",
     "output_type": "stream",
     "text": [
      "384it [3:37:10, 18.42s/it]"
     ]
    },
    {
     "name": "stdout",
     "output_type": "stream",
     "text": [
      "Confusion matrix:\n",
      " [[ 0 73]\n",
      " [ 0 12]]\n",
      "{'dropout': 0.3, 'hidden_size': 50, 'learning_rate': 1e-05, 'batch_size': 64, 'n_hidden': 4, 'accuracy': 0.1412, 'f1': 0.25}\n"
     ]
    },
    {
     "name": "stderr",
     "output_type": "stream",
     "text": [
      "C:\\Users\\William\\AppData\\Roaming\\Python\\Python311\\site-packages\\torch\\nn\\modules\\rnn.py:82: UserWarning: dropout option adds dropout after all but last recurrent layer, so non-zero dropout expects num_layers greater than 1, but got dropout=0.3 and num_layers=1\n",
      "  warnings.warn(\"dropout option adds dropout after all but last \"\n",
      "C:\\Users\\William\\AppData\\Roaming\\Python\\Python311\\site-packages\\torch\\nn\\modules\\rnn.py:82: UserWarning: dropout option adds dropout after all but last recurrent layer, so non-zero dropout expects num_layers greater than 1, but got dropout=0.3 and num_layers=1\n",
      "  warnings.warn(\"dropout option adds dropout after all but last \"\n",
      "385it [3:37:45, 23.27s/it]"
     ]
    },
    {
     "name": "stdout",
     "output_type": "stream",
     "text": [
      "Confusion matrix:\n",
      " [[68  5]\n",
      " [ 1 11]]\n",
      "{'dropout': 0.3, 'hidden_size': 75, 'learning_rate': 0.01, 'batch_size': 8, 'n_hidden': 1, 'accuracy': 0.9294, 'f1': 0.79}\n"
     ]
    },
    {
     "name": "stderr",
     "output_type": "stream",
     "text": [
      "386it [3:38:22, 27.56s/it]"
     ]
    },
    {
     "name": "stdout",
     "output_type": "stream",
     "text": [
      "Confusion matrix:\n",
      " [[67  6]\n",
      " [ 3  9]]\n",
      "{'dropout': 0.3, 'hidden_size': 75, 'learning_rate': 0.01, 'batch_size': 8, 'n_hidden': 2, 'accuracy': 0.8941, 'f1': 0.67}\n"
     ]
    },
    {
     "name": "stderr",
     "output_type": "stream",
     "text": [
      "387it [3:39:02, 31.31s/it]"
     ]
    },
    {
     "name": "stdout",
     "output_type": "stream",
     "text": [
      "Confusion matrix:\n",
      " [[73  0]\n",
      " [12  0]]\n",
      "{'dropout': 0.3, 'hidden_size': 75, 'learning_rate': 0.01, 'batch_size': 8, 'n_hidden': 3, 'accuracy': 0.8588, 'f1': 0.0}\n"
     ]
    },
    {
     "name": "stderr",
     "output_type": "stream",
     "text": [
      "388it [3:39:31, 30.63s/it]"
     ]
    },
    {
     "name": "stdout",
     "output_type": "stream",
     "text": [
      "Confusion matrix:\n",
      " [[73  0]\n",
      " [12  0]]\n",
      "{'dropout': 0.3, 'hidden_size': 75, 'learning_rate': 0.01, 'batch_size': 8, 'n_hidden': 4, 'accuracy': 0.8588, 'f1': 0.0}\n"
     ]
    },
    {
     "name": "stderr",
     "output_type": "stream",
     "text": [
      "C:\\Users\\William\\AppData\\Roaming\\Python\\Python311\\site-packages\\torch\\nn\\modules\\rnn.py:82: UserWarning: dropout option adds dropout after all but last recurrent layer, so non-zero dropout expects num_layers greater than 1, but got dropout=0.3 and num_layers=1\n",
      "  warnings.warn(\"dropout option adds dropout after all but last \"\n",
      "C:\\Users\\William\\AppData\\Roaming\\Python\\Python311\\site-packages\\torch\\nn\\modules\\rnn.py:82: UserWarning: dropout option adds dropout after all but last recurrent layer, so non-zero dropout expects num_layers greater than 1, but got dropout=0.3 and num_layers=1\n",
      "  warnings.warn(\"dropout option adds dropout after all but last \"\n",
      "389it [3:39:52, 27.55s/it]"
     ]
    },
    {
     "name": "stdout",
     "output_type": "stream",
     "text": [
      "Confusion matrix:\n",
      " [[69  4]\n",
      " [ 4  8]]\n",
      "{'dropout': 0.3, 'hidden_size': 75, 'learning_rate': 0.01, 'batch_size': 16, 'n_hidden': 1, 'accuracy': 0.9059, 'f1': 0.67}\n"
     ]
    },
    {
     "name": "stderr",
     "output_type": "stream",
     "text": [
      "390it [3:40:07, 23.96s/it]"
     ]
    },
    {
     "name": "stdout",
     "output_type": "stream",
     "text": [
      "Confusion matrix:\n",
      " [[68  5]\n",
      " [ 3  9]]\n",
      "{'dropout': 0.3, 'hidden_size': 75, 'learning_rate': 0.01, 'batch_size': 16, 'n_hidden': 2, 'accuracy': 0.9059, 'f1': 0.69}\n"
     ]
    },
    {
     "name": "stderr",
     "output_type": "stream",
     "text": [
      "391it [3:40:32, 24.10s/it]"
     ]
    },
    {
     "name": "stdout",
     "output_type": "stream",
     "text": [
      "Confusion matrix:\n",
      " [[68  5]\n",
      " [ 3  9]]\n",
      "{'dropout': 0.3, 'hidden_size': 75, 'learning_rate': 0.01, 'batch_size': 16, 'n_hidden': 3, 'accuracy': 0.9059, 'f1': 0.69}\n"
     ]
    },
    {
     "name": "stderr",
     "output_type": "stream",
     "text": [
      "392it [3:40:44, 20.54s/it]"
     ]
    },
    {
     "name": "stdout",
     "output_type": "stream",
     "text": [
      "Confusion matrix:\n",
      " [[ 0 73]\n",
      " [ 0 12]]\n",
      "{'dropout': 0.3, 'hidden_size': 75, 'learning_rate': 0.01, 'batch_size': 16, 'n_hidden': 4, 'accuracy': 0.1412, 'f1': 0.25}\n"
     ]
    },
    {
     "name": "stderr",
     "output_type": "stream",
     "text": [
      "C:\\Users\\William\\AppData\\Roaming\\Python\\Python311\\site-packages\\torch\\nn\\modules\\rnn.py:82: UserWarning: dropout option adds dropout after all but last recurrent layer, so non-zero dropout expects num_layers greater than 1, but got dropout=0.3 and num_layers=1\n",
      "  warnings.warn(\"dropout option adds dropout after all but last \"\n",
      "C:\\Users\\William\\AppData\\Roaming\\Python\\Python311\\site-packages\\torch\\nn\\modules\\rnn.py:82: UserWarning: dropout option adds dropout after all but last recurrent layer, so non-zero dropout expects num_layers greater than 1, but got dropout=0.3 and num_layers=1\n",
      "  warnings.warn(\"dropout option adds dropout after all but last \"\n",
      "393it [3:41:00, 19.09s/it]"
     ]
    },
    {
     "name": "stdout",
     "output_type": "stream",
     "text": [
      "Confusion matrix:\n",
      " [[64  9]\n",
      " [ 2 10]]\n",
      "{'dropout': 0.3, 'hidden_size': 75, 'learning_rate': 0.01, 'batch_size': 32, 'n_hidden': 1, 'accuracy': 0.8706, 'f1': 0.65}\n"
     ]
    },
    {
     "name": "stderr",
     "output_type": "stream",
     "text": [
      "394it [3:41:15, 17.91s/it]"
     ]
    },
    {
     "name": "stdout",
     "output_type": "stream",
     "text": [
      "Confusion matrix:\n",
      " [[65  8]\n",
      " [ 2 10]]\n",
      "{'dropout': 0.3, 'hidden_size': 75, 'learning_rate': 0.01, 'batch_size': 32, 'n_hidden': 2, 'accuracy': 0.8824, 'f1': 0.67}\n"
     ]
    },
    {
     "name": "stderr",
     "output_type": "stream",
     "text": [
      "395it [3:41:30, 17.08s/it]"
     ]
    },
    {
     "name": "stdout",
     "output_type": "stream",
     "text": [
      "Confusion matrix:\n",
      " [[53 20]\n",
      " [ 1 11]]\n",
      "{'dropout': 0.3, 'hidden_size': 75, 'learning_rate': 0.01, 'batch_size': 32, 'n_hidden': 3, 'accuracy': 0.7529, 'f1': 0.51}\n"
     ]
    },
    {
     "name": "stderr",
     "output_type": "stream",
     "text": [
      "396it [3:41:44, 16.24s/it]"
     ]
    },
    {
     "name": "stdout",
     "output_type": "stream",
     "text": [
      "Confusion matrix:\n",
      " [[70  3]\n",
      " [ 4  8]]\n",
      "{'dropout': 0.3, 'hidden_size': 75, 'learning_rate': 0.01, 'batch_size': 32, 'n_hidden': 4, 'accuracy': 0.9176, 'f1': 0.7}\n"
     ]
    },
    {
     "name": "stderr",
     "output_type": "stream",
     "text": [
      "C:\\Users\\William\\AppData\\Roaming\\Python\\Python311\\site-packages\\torch\\nn\\modules\\rnn.py:82: UserWarning: dropout option adds dropout after all but last recurrent layer, so non-zero dropout expects num_layers greater than 1, but got dropout=0.3 and num_layers=1\n",
      "  warnings.warn(\"dropout option adds dropout after all but last \"\n",
      "C:\\Users\\William\\AppData\\Roaming\\Python\\Python311\\site-packages\\torch\\nn\\modules\\rnn.py:82: UserWarning: dropout option adds dropout after all but last recurrent layer, so non-zero dropout expects num_layers greater than 1, but got dropout=0.3 and num_layers=1\n",
      "  warnings.warn(\"dropout option adds dropout after all but last \"\n",
      "397it [3:41:53, 14.08s/it]"
     ]
    },
    {
     "name": "stdout",
     "output_type": "stream",
     "text": [
      "Confusion matrix:\n",
      " [[69  4]\n",
      " [ 3  9]]\n",
      "{'dropout': 0.3, 'hidden_size': 75, 'learning_rate': 0.01, 'batch_size': 64, 'n_hidden': 1, 'accuracy': 0.9176, 'f1': 0.72}\n"
     ]
    },
    {
     "name": "stderr",
     "output_type": "stream",
     "text": [
      "398it [3:42:00, 11.82s/it]"
     ]
    },
    {
     "name": "stdout",
     "output_type": "stream",
     "text": [
      "Confusion matrix:\n",
      " [[60 13]\n",
      " [ 2 10]]\n",
      "{'dropout': 0.3, 'hidden_size': 75, 'learning_rate': 0.01, 'batch_size': 64, 'n_hidden': 2, 'accuracy': 0.8235, 'f1': 0.57}\n"
     ]
    },
    {
     "name": "stderr",
     "output_type": "stream",
     "text": [
      "399it [3:42:16, 13.22s/it]"
     ]
    },
    {
     "name": "stdout",
     "output_type": "stream",
     "text": [
      "Confusion matrix:\n",
      " [[66  7]\n",
      " [ 2 10]]\n",
      "{'dropout': 0.3, 'hidden_size': 75, 'learning_rate': 0.01, 'batch_size': 64, 'n_hidden': 3, 'accuracy': 0.8941, 'f1': 0.69}\n"
     ]
    },
    {
     "name": "stderr",
     "output_type": "stream",
     "text": [
      "400it [3:42:22, 10.97s/it]"
     ]
    },
    {
     "name": "stdout",
     "output_type": "stream",
     "text": [
      "Confusion matrix:\n",
      " [[72  1]\n",
      " [ 8  4]]\n",
      "{'dropout': 0.3, 'hidden_size': 75, 'learning_rate': 0.01, 'batch_size': 64, 'n_hidden': 4, 'accuracy': 0.8941, 'f1': 0.47}\n"
     ]
    },
    {
     "name": "stderr",
     "output_type": "stream",
     "text": [
      "C:\\Users\\William\\AppData\\Roaming\\Python\\Python311\\site-packages\\torch\\nn\\modules\\rnn.py:82: UserWarning: dropout option adds dropout after all but last recurrent layer, so non-zero dropout expects num_layers greater than 1, but got dropout=0.3 and num_layers=1\n",
      "  warnings.warn(\"dropout option adds dropout after all but last \"\n",
      "C:\\Users\\William\\AppData\\Roaming\\Python\\Python311\\site-packages\\torch\\nn\\modules\\rnn.py:82: UserWarning: dropout option adds dropout after all but last recurrent layer, so non-zero dropout expects num_layers greater than 1, but got dropout=0.3 and num_layers=1\n",
      "  warnings.warn(\"dropout option adds dropout after all but last \"\n",
      "401it [3:42:58, 18.52s/it]"
     ]
    },
    {
     "name": "stdout",
     "output_type": "stream",
     "text": [
      "Confusion matrix:\n",
      " [[65  8]\n",
      " [ 3  9]]\n",
      "{'dropout': 0.3, 'hidden_size': 75, 'learning_rate': 0.001, 'batch_size': 8, 'n_hidden': 1, 'accuracy': 0.8706, 'f1': 0.62}\n"
     ]
    },
    {
     "name": "stderr",
     "output_type": "stream",
     "text": [
      "402it [3:43:24, 20.76s/it]"
     ]
    },
    {
     "name": "stdout",
     "output_type": "stream",
     "text": [
      "Confusion matrix:\n",
      " [[69  4]\n",
      " [ 4  8]]\n",
      "{'dropout': 0.3, 'hidden_size': 75, 'learning_rate': 0.001, 'batch_size': 8, 'n_hidden': 2, 'accuracy': 0.9059, 'f1': 0.67}\n"
     ]
    },
    {
     "name": "stderr",
     "output_type": "stream",
     "text": [
      "403it [3:44:06, 27.03s/it]"
     ]
    },
    {
     "name": "stdout",
     "output_type": "stream",
     "text": [
      "Confusion matrix:\n",
      " [[63 10]\n",
      " [ 2 10]]\n",
      "{'dropout': 0.3, 'hidden_size': 75, 'learning_rate': 0.001, 'batch_size': 8, 'n_hidden': 3, 'accuracy': 0.8588, 'f1': 0.62}\n"
     ]
    },
    {
     "name": "stderr",
     "output_type": "stream",
     "text": [
      "404it [3:45:13, 39.11s/it]"
     ]
    },
    {
     "name": "stdout",
     "output_type": "stream",
     "text": [
      "Confusion matrix:\n",
      " [[66  7]\n",
      " [ 2 10]]\n",
      "{'dropout': 0.3, 'hidden_size': 75, 'learning_rate': 0.001, 'batch_size': 8, 'n_hidden': 4, 'accuracy': 0.8941, 'f1': 0.69}\n"
     ]
    },
    {
     "name": "stderr",
     "output_type": "stream",
     "text": [
      "C:\\Users\\William\\AppData\\Roaming\\Python\\Python311\\site-packages\\torch\\nn\\modules\\rnn.py:82: UserWarning: dropout option adds dropout after all but last recurrent layer, so non-zero dropout expects num_layers greater than 1, but got dropout=0.3 and num_layers=1\n",
      "  warnings.warn(\"dropout option adds dropout after all but last \"\n",
      "C:\\Users\\William\\AppData\\Roaming\\Python\\Python311\\site-packages\\torch\\nn\\modules\\rnn.py:82: UserWarning: dropout option adds dropout after all but last recurrent layer, so non-zero dropout expects num_layers greater than 1, but got dropout=0.3 and num_layers=1\n",
      "  warnings.warn(\"dropout option adds dropout after all but last \"\n",
      "405it [3:45:31, 32.58s/it]"
     ]
    },
    {
     "name": "stdout",
     "output_type": "stream",
     "text": [
      "Confusion matrix:\n",
      " [[64  9]\n",
      " [ 2 10]]\n",
      "{'dropout': 0.3, 'hidden_size': 75, 'learning_rate': 0.001, 'batch_size': 16, 'n_hidden': 1, 'accuracy': 0.8706, 'f1': 0.65}\n"
     ]
    },
    {
     "name": "stderr",
     "output_type": "stream",
     "text": [
      "406it [3:46:01, 31.84s/it]"
     ]
    },
    {
     "name": "stdout",
     "output_type": "stream",
     "text": [
      "Confusion matrix:\n",
      " [[65  8]\n",
      " [ 4  8]]\n",
      "{'dropout': 0.3, 'hidden_size': 75, 'learning_rate': 0.001, 'batch_size': 16, 'n_hidden': 2, 'accuracy': 0.8588, 'f1': 0.57}\n"
     ]
    },
    {
     "name": "stderr",
     "output_type": "stream",
     "text": [
      "407it [3:46:26, 29.86s/it]"
     ]
    },
    {
     "name": "stdout",
     "output_type": "stream",
     "text": [
      "Confusion matrix:\n",
      " [[61 12]\n",
      " [ 2 10]]\n",
      "{'dropout': 0.3, 'hidden_size': 75, 'learning_rate': 0.001, 'batch_size': 16, 'n_hidden': 3, 'accuracy': 0.8353, 'f1': 0.59}\n"
     ]
    },
    {
     "name": "stderr",
     "output_type": "stream",
     "text": [
      "408it [3:47:15, 35.61s/it]"
     ]
    },
    {
     "name": "stdout",
     "output_type": "stream",
     "text": [
      "Confusion matrix:\n",
      " [[65  8]\n",
      " [ 4  8]]\n",
      "{'dropout': 0.3, 'hidden_size': 75, 'learning_rate': 0.001, 'batch_size': 16, 'n_hidden': 4, 'accuracy': 0.8588, 'f1': 0.57}\n"
     ]
    },
    {
     "name": "stderr",
     "output_type": "stream",
     "text": [
      "C:\\Users\\William\\AppData\\Roaming\\Python\\Python311\\site-packages\\torch\\nn\\modules\\rnn.py:82: UserWarning: dropout option adds dropout after all but last recurrent layer, so non-zero dropout expects num_layers greater than 1, but got dropout=0.3 and num_layers=1\n",
      "  warnings.warn(\"dropout option adds dropout after all but last \"\n",
      "C:\\Users\\William\\AppData\\Roaming\\Python\\Python311\\site-packages\\torch\\nn\\modules\\rnn.py:82: UserWarning: dropout option adds dropout after all but last recurrent layer, so non-zero dropout expects num_layers greater than 1, but got dropout=0.3 and num_layers=1\n",
      "  warnings.warn(\"dropout option adds dropout after all but last \"\n",
      "409it [3:47:30, 29.50s/it]"
     ]
    },
    {
     "name": "stdout",
     "output_type": "stream",
     "text": [
      "Confusion matrix:\n",
      " [[67  6]\n",
      " [ 4  8]]\n",
      "{'dropout': 0.3, 'hidden_size': 75, 'learning_rate': 0.001, 'batch_size': 32, 'n_hidden': 1, 'accuracy': 0.8824, 'f1': 0.62}\n"
     ]
    },
    {
     "name": "stderr",
     "output_type": "stream",
     "text": [
      "410it [3:47:53, 27.48s/it]"
     ]
    },
    {
     "name": "stdout",
     "output_type": "stream",
     "text": [
      "Confusion matrix:\n",
      " [[59 14]\n",
      " [ 1 11]]\n",
      "{'dropout': 0.3, 'hidden_size': 75, 'learning_rate': 0.001, 'batch_size': 32, 'n_hidden': 2, 'accuracy': 0.8235, 'f1': 0.59}\n"
     ]
    },
    {
     "name": "stderr",
     "output_type": "stream",
     "text": [
      "411it [3:48:17, 26.56s/it]"
     ]
    },
    {
     "name": "stdout",
     "output_type": "stream",
     "text": [
      "Confusion matrix:\n",
      " [[60 13]\n",
      " [ 2 10]]\n",
      "{'dropout': 0.3, 'hidden_size': 75, 'learning_rate': 0.001, 'batch_size': 32, 'n_hidden': 3, 'accuracy': 0.8235, 'f1': 0.57}\n"
     ]
    },
    {
     "name": "stderr",
     "output_type": "stream",
     "text": [
      "412it [3:48:44, 26.48s/it]"
     ]
    },
    {
     "name": "stdout",
     "output_type": "stream",
     "text": [
      "Confusion matrix:\n",
      " [[59 14]\n",
      " [ 2 10]]\n",
      "{'dropout': 0.3, 'hidden_size': 75, 'learning_rate': 0.001, 'batch_size': 32, 'n_hidden': 4, 'accuracy': 0.8118, 'f1': 0.56}\n"
     ]
    },
    {
     "name": "stderr",
     "output_type": "stream",
     "text": [
      "C:\\Users\\William\\AppData\\Roaming\\Python\\Python311\\site-packages\\torch\\nn\\modules\\rnn.py:82: UserWarning: dropout option adds dropout after all but last recurrent layer, so non-zero dropout expects num_layers greater than 1, but got dropout=0.3 and num_layers=1\n",
      "  warnings.warn(\"dropout option adds dropout after all but last \"\n",
      "C:\\Users\\William\\AppData\\Roaming\\Python\\Python311\\site-packages\\torch\\nn\\modules\\rnn.py:82: UserWarning: dropout option adds dropout after all but last recurrent layer, so non-zero dropout expects num_layers greater than 1, but got dropout=0.3 and num_layers=1\n",
      "  warnings.warn(\"dropout option adds dropout after all but last \"\n",
      "413it [3:48:55, 21.87s/it]"
     ]
    },
    {
     "name": "stdout",
     "output_type": "stream",
     "text": [
      "Confusion matrix:\n",
      " [[66  7]\n",
      " [ 2 10]]\n",
      "{'dropout': 0.3, 'hidden_size': 75, 'learning_rate': 0.001, 'batch_size': 64, 'n_hidden': 1, 'accuracy': 0.8941, 'f1': 0.69}\n"
     ]
    },
    {
     "name": "stderr",
     "output_type": "stream",
     "text": [
      "414it [3:49:07, 19.13s/it]"
     ]
    },
    {
     "name": "stdout",
     "output_type": "stream",
     "text": [
      "Confusion matrix:\n",
      " [[63 10]\n",
      " [ 3  9]]\n",
      "{'dropout': 0.3, 'hidden_size': 75, 'learning_rate': 0.001, 'batch_size': 64, 'n_hidden': 2, 'accuracy': 0.8471, 'f1': 0.58}\n"
     ]
    },
    {
     "name": "stderr",
     "output_type": "stream",
     "text": [
      "415it [3:49:24, 18.36s/it]"
     ]
    },
    {
     "name": "stdout",
     "output_type": "stream",
     "text": [
      "Confusion matrix:\n",
      " [[61 12]\n",
      " [ 3  9]]\n",
      "{'dropout': 0.3, 'hidden_size': 75, 'learning_rate': 0.001, 'batch_size': 64, 'n_hidden': 3, 'accuracy': 0.8235, 'f1': 0.55}\n"
     ]
    },
    {
     "name": "stderr",
     "output_type": "stream",
     "text": [
      "416it [3:49:43, 18.48s/it]"
     ]
    },
    {
     "name": "stdout",
     "output_type": "stream",
     "text": [
      "Confusion matrix:\n",
      " [[69  4]\n",
      " [ 2 10]]\n",
      "{'dropout': 0.3, 'hidden_size': 75, 'learning_rate': 0.001, 'batch_size': 64, 'n_hidden': 4, 'accuracy': 0.9294, 'f1': 0.77}\n"
     ]
    },
    {
     "name": "stderr",
     "output_type": "stream",
     "text": [
      "C:\\Users\\William\\AppData\\Roaming\\Python\\Python311\\site-packages\\torch\\nn\\modules\\rnn.py:82: UserWarning: dropout option adds dropout after all but last recurrent layer, so non-zero dropout expects num_layers greater than 1, but got dropout=0.3 and num_layers=1\n",
      "  warnings.warn(\"dropout option adds dropout after all but last \"\n",
      "C:\\Users\\William\\AppData\\Roaming\\Python\\Python311\\site-packages\\torch\\nn\\modules\\rnn.py:82: UserWarning: dropout option adds dropout after all but last recurrent layer, so non-zero dropout expects num_layers greater than 1, but got dropout=0.3 and num_layers=1\n",
      "  warnings.warn(\"dropout option adds dropout after all but last \"\n",
      "417it [3:50:41, 30.52s/it]"
     ]
    },
    {
     "name": "stdout",
     "output_type": "stream",
     "text": [
      "Confusion matrix:\n",
      " [[68  5]\n",
      " [ 2 10]]\n",
      "{'dropout': 0.3, 'hidden_size': 75, 'learning_rate': 0.0001, 'batch_size': 8, 'n_hidden': 1, 'accuracy': 0.9176, 'f1': 0.74}\n"
     ]
    },
    {
     "name": "stderr",
     "output_type": "stream",
     "text": [
      "418it [3:51:28, 35.28s/it]"
     ]
    },
    {
     "name": "stdout",
     "output_type": "stream",
     "text": [
      "Confusion matrix:\n",
      " [[66  7]\n",
      " [ 2 10]]\n",
      "{'dropout': 0.3, 'hidden_size': 75, 'learning_rate': 0.0001, 'batch_size': 8, 'n_hidden': 2, 'accuracy': 0.8941, 'f1': 0.69}\n"
     ]
    },
    {
     "name": "stderr",
     "output_type": "stream",
     "text": [
      "419it [3:52:08, 36.67s/it]"
     ]
    },
    {
     "name": "stdout",
     "output_type": "stream",
     "text": [
      "Confusion matrix:\n",
      " [[63 10]\n",
      " [ 1 11]]\n",
      "{'dropout': 0.3, 'hidden_size': 75, 'learning_rate': 0.0001, 'batch_size': 8, 'n_hidden': 3, 'accuracy': 0.8706, 'f1': 0.67}\n"
     ]
    },
    {
     "name": "stderr",
     "output_type": "stream",
     "text": [
      "420it [3:53:04, 42.67s/it]"
     ]
    },
    {
     "name": "stdout",
     "output_type": "stream",
     "text": [
      "Confusion matrix:\n",
      " [[67  6]\n",
      " [ 3  9]]\n",
      "{'dropout': 0.3, 'hidden_size': 75, 'learning_rate': 0.0001, 'batch_size': 8, 'n_hidden': 4, 'accuracy': 0.8941, 'f1': 0.67}\n"
     ]
    },
    {
     "name": "stderr",
     "output_type": "stream",
     "text": [
      "C:\\Users\\William\\AppData\\Roaming\\Python\\Python311\\site-packages\\torch\\nn\\modules\\rnn.py:82: UserWarning: dropout option adds dropout after all but last recurrent layer, so non-zero dropout expects num_layers greater than 1, but got dropout=0.3 and num_layers=1\n",
      "  warnings.warn(\"dropout option adds dropout after all but last \"\n",
      "C:\\Users\\William\\AppData\\Roaming\\Python\\Python311\\site-packages\\torch\\nn\\modules\\rnn.py:82: UserWarning: dropout option adds dropout after all but last recurrent layer, so non-zero dropout expects num_layers greater than 1, but got dropout=0.3 and num_layers=1\n",
      "  warnings.warn(\"dropout option adds dropout after all but last \"\n",
      "421it [3:53:38, 40.05s/it]"
     ]
    },
    {
     "name": "stdout",
     "output_type": "stream",
     "text": [
      "Confusion matrix:\n",
      " [[69  4]\n",
      " [ 2 10]]\n",
      "{'dropout': 0.3, 'hidden_size': 75, 'learning_rate': 0.0001, 'batch_size': 16, 'n_hidden': 1, 'accuracy': 0.9294, 'f1': 0.77}\n"
     ]
    },
    {
     "name": "stderr",
     "output_type": "stream",
     "text": [
      "422it [3:54:06, 36.40s/it]"
     ]
    },
    {
     "name": "stdout",
     "output_type": "stream",
     "text": [
      "Confusion matrix:\n",
      " [[64  9]\n",
      " [ 2 10]]\n",
      "{'dropout': 0.3, 'hidden_size': 75, 'learning_rate': 0.0001, 'batch_size': 16, 'n_hidden': 2, 'accuracy': 0.8706, 'f1': 0.65}\n"
     ]
    },
    {
     "name": "stderr",
     "output_type": "stream",
     "text": [
      "423it [3:54:41, 35.86s/it]"
     ]
    },
    {
     "name": "stdout",
     "output_type": "stream",
     "text": [
      "Confusion matrix:\n",
      " [[68  5]\n",
      " [ 2 10]]\n",
      "{'dropout': 0.3, 'hidden_size': 75, 'learning_rate': 0.0001, 'batch_size': 16, 'n_hidden': 3, 'accuracy': 0.9176, 'f1': 0.74}\n"
     ]
    },
    {
     "name": "stderr",
     "output_type": "stream",
     "text": [
      "424it [3:55:17, 35.96s/it]"
     ]
    },
    {
     "name": "stdout",
     "output_type": "stream",
     "text": [
      "Confusion matrix:\n",
      " [[64  9]\n",
      " [ 3  9]]\n",
      "{'dropout': 0.3, 'hidden_size': 75, 'learning_rate': 0.0001, 'batch_size': 16, 'n_hidden': 4, 'accuracy': 0.8588, 'f1': 0.6}\n"
     ]
    },
    {
     "name": "stderr",
     "output_type": "stream",
     "text": [
      "C:\\Users\\William\\AppData\\Roaming\\Python\\Python311\\site-packages\\torch\\nn\\modules\\rnn.py:82: UserWarning: dropout option adds dropout after all but last recurrent layer, so non-zero dropout expects num_layers greater than 1, but got dropout=0.3 and num_layers=1\n",
      "  warnings.warn(\"dropout option adds dropout after all but last \"\n",
      "C:\\Users\\William\\AppData\\Roaming\\Python\\Python311\\site-packages\\torch\\nn\\modules\\rnn.py:82: UserWarning: dropout option adds dropout after all but last recurrent layer, so non-zero dropout expects num_layers greater than 1, but got dropout=0.3 and num_layers=1\n",
      "  warnings.warn(\"dropout option adds dropout after all but last \"\n",
      "425it [3:55:45, 33.65s/it]"
     ]
    },
    {
     "name": "stdout",
     "output_type": "stream",
     "text": [
      "Confusion matrix:\n",
      " [[61 12]\n",
      " [ 1 11]]\n",
      "{'dropout': 0.3, 'hidden_size': 75, 'learning_rate': 0.0001, 'batch_size': 32, 'n_hidden': 1, 'accuracy': 0.8471, 'f1': 0.63}\n"
     ]
    },
    {
     "name": "stderr",
     "output_type": "stream",
     "text": [
      "426it [3:56:21, 34.16s/it]"
     ]
    },
    {
     "name": "stdout",
     "output_type": "stream",
     "text": [
      "Confusion matrix:\n",
      " [[63 10]\n",
      " [ 2 10]]\n",
      "{'dropout': 0.3, 'hidden_size': 75, 'learning_rate': 0.0001, 'batch_size': 32, 'n_hidden': 2, 'accuracy': 0.8588, 'f1': 0.62}\n"
     ]
    },
    {
     "name": "stderr",
     "output_type": "stream",
     "text": [
      "427it [3:56:43, 30.66s/it]"
     ]
    },
    {
     "name": "stdout",
     "output_type": "stream",
     "text": [
      "Confusion matrix:\n",
      " [[65  8]\n",
      " [ 1 11]]\n",
      "{'dropout': 0.3, 'hidden_size': 75, 'learning_rate': 0.0001, 'batch_size': 32, 'n_hidden': 3, 'accuracy': 0.8941, 'f1': 0.71}\n"
     ]
    },
    {
     "name": "stderr",
     "output_type": "stream",
     "text": [
      "428it [3:57:05, 28.07s/it]"
     ]
    },
    {
     "name": "stdout",
     "output_type": "stream",
     "text": [
      "Confusion matrix:\n",
      " [[58 15]\n",
      " [ 1 11]]\n",
      "{'dropout': 0.3, 'hidden_size': 75, 'learning_rate': 0.0001, 'batch_size': 32, 'n_hidden': 4, 'accuracy': 0.8118, 'f1': 0.58}\n"
     ]
    },
    {
     "name": "stderr",
     "output_type": "stream",
     "text": [
      "C:\\Users\\William\\AppData\\Roaming\\Python\\Python311\\site-packages\\torch\\nn\\modules\\rnn.py:82: UserWarning: dropout option adds dropout after all but last recurrent layer, so non-zero dropout expects num_layers greater than 1, but got dropout=0.3 and num_layers=1\n",
      "  warnings.warn(\"dropout option adds dropout after all but last \"\n",
      "C:\\Users\\William\\AppData\\Roaming\\Python\\Python311\\site-packages\\torch\\nn\\modules\\rnn.py:82: UserWarning: dropout option adds dropout after all but last recurrent layer, so non-zero dropout expects num_layers greater than 1, but got dropout=0.3 and num_layers=1\n",
      "  warnings.warn(\"dropout option adds dropout after all but last \"\n",
      "429it [3:57:33, 28.00s/it]"
     ]
    },
    {
     "name": "stdout",
     "output_type": "stream",
     "text": [
      "Confusion matrix:\n",
      " [[63 10]\n",
      " [ 1 11]]\n",
      "{'dropout': 0.3, 'hidden_size': 75, 'learning_rate': 0.0001, 'batch_size': 64, 'n_hidden': 1, 'accuracy': 0.8706, 'f1': 0.67}\n"
     ]
    },
    {
     "name": "stderr",
     "output_type": "stream",
     "text": [
      "430it [3:58:00, 27.77s/it]"
     ]
    },
    {
     "name": "stdout",
     "output_type": "stream",
     "text": [
      "Confusion matrix:\n",
      " [[63 10]\n",
      " [ 2 10]]\n",
      "{'dropout': 0.3, 'hidden_size': 75, 'learning_rate': 0.0001, 'batch_size': 64, 'n_hidden': 2, 'accuracy': 0.8588, 'f1': 0.62}\n"
     ]
    },
    {
     "name": "stderr",
     "output_type": "stream",
     "text": [
      "431it [3:58:21, 25.77s/it]"
     ]
    },
    {
     "name": "stdout",
     "output_type": "stream",
     "text": [
      "Confusion matrix:\n",
      " [[63 10]\n",
      " [ 1 11]]\n",
      "{'dropout': 0.3, 'hidden_size': 75, 'learning_rate': 0.0001, 'batch_size': 64, 'n_hidden': 3, 'accuracy': 0.8706, 'f1': 0.67}\n"
     ]
    },
    {
     "name": "stderr",
     "output_type": "stream",
     "text": [
      "432it [3:58:52, 27.19s/it]"
     ]
    },
    {
     "name": "stdout",
     "output_type": "stream",
     "text": [
      "Confusion matrix:\n",
      " [[64  9]\n",
      " [ 2 10]]\n",
      "{'dropout': 0.3, 'hidden_size': 75, 'learning_rate': 0.0001, 'batch_size': 64, 'n_hidden': 4, 'accuracy': 0.8706, 'f1': 0.65}\n"
     ]
    },
    {
     "name": "stderr",
     "output_type": "stream",
     "text": [
      "C:\\Users\\William\\AppData\\Roaming\\Python\\Python311\\site-packages\\torch\\nn\\modules\\rnn.py:82: UserWarning: dropout option adds dropout after all but last recurrent layer, so non-zero dropout expects num_layers greater than 1, but got dropout=0.3 and num_layers=1\n",
      "  warnings.warn(\"dropout option adds dropout after all but last \"\n",
      "C:\\Users\\William\\AppData\\Roaming\\Python\\Python311\\site-packages\\torch\\nn\\modules\\rnn.py:82: UserWarning: dropout option adds dropout after all but last recurrent layer, so non-zero dropout expects num_layers greater than 1, but got dropout=0.3 and num_layers=1\n",
      "  warnings.warn(\"dropout option adds dropout after all but last \"\n",
      "433it [4:00:35, 49.86s/it]"
     ]
    },
    {
     "name": "stdout",
     "output_type": "stream",
     "text": [
      "Confusion matrix:\n",
      " [[73  0]\n",
      " [12  0]]\n",
      "{'dropout': 0.3, 'hidden_size': 75, 'learning_rate': 1e-05, 'batch_size': 8, 'n_hidden': 1, 'accuracy': 0.8588, 'f1': 0.0}\n"
     ]
    },
    {
     "name": "stderr",
     "output_type": "stream",
     "text": [
      "434it [4:03:10, 81.47s/it]"
     ]
    },
    {
     "name": "stdout",
     "output_type": "stream",
     "text": [
      "Confusion matrix:\n",
      " [[70  3]\n",
      " [ 6  6]]\n",
      "{'dropout': 0.3, 'hidden_size': 75, 'learning_rate': 1e-05, 'batch_size': 8, 'n_hidden': 2, 'accuracy': 0.8941, 'f1': 0.57}\n"
     ]
    },
    {
     "name": "stderr",
     "output_type": "stream",
     "text": [
      "435it [4:04:14, 76.37s/it]"
     ]
    },
    {
     "name": "stdout",
     "output_type": "stream",
     "text": [
      "Confusion matrix:\n",
      " [[73  0]\n",
      " [12  0]]\n",
      "{'dropout': 0.3, 'hidden_size': 75, 'learning_rate': 1e-05, 'batch_size': 8, 'n_hidden': 3, 'accuracy': 0.8588, 'f1': 0.0}\n"
     ]
    },
    {
     "name": "stderr",
     "output_type": "stream",
     "text": [
      "436it [4:05:45, 80.58s/it]"
     ]
    },
    {
     "name": "stdout",
     "output_type": "stream",
     "text": [
      "Confusion matrix:\n",
      " [[73  0]\n",
      " [11  1]]\n",
      "{'dropout': 0.3, 'hidden_size': 75, 'learning_rate': 1e-05, 'batch_size': 8, 'n_hidden': 4, 'accuracy': 0.8706, 'f1': 0.15}\n"
     ]
    },
    {
     "name": "stderr",
     "output_type": "stream",
     "text": [
      "C:\\Users\\William\\AppData\\Roaming\\Python\\Python311\\site-packages\\torch\\nn\\modules\\rnn.py:82: UserWarning: dropout option adds dropout after all but last recurrent layer, so non-zero dropout expects num_layers greater than 1, but got dropout=0.3 and num_layers=1\n",
      "  warnings.warn(\"dropout option adds dropout after all but last \"\n",
      "C:\\Users\\William\\AppData\\Roaming\\Python\\Python311\\site-packages\\torch\\nn\\modules\\rnn.py:82: UserWarning: dropout option adds dropout after all but last recurrent layer, so non-zero dropout expects num_layers greater than 1, but got dropout=0.3 and num_layers=1\n",
      "  warnings.warn(\"dropout option adds dropout after all but last \"\n",
      "437it [4:06:02, 61.63s/it]"
     ]
    },
    {
     "name": "stdout",
     "output_type": "stream",
     "text": [
      "Confusion matrix:\n",
      " [[73  0]\n",
      " [12  0]]\n",
      "{'dropout': 0.3, 'hidden_size': 75, 'learning_rate': 1e-05, 'batch_size': 16, 'n_hidden': 1, 'accuracy': 0.8588, 'f1': 0.0}\n"
     ]
    },
    {
     "name": "stderr",
     "output_type": "stream",
     "text": [
      "438it [4:07:06, 62.36s/it]"
     ]
    },
    {
     "name": "stdout",
     "output_type": "stream",
     "text": [
      "Confusion matrix:\n",
      " [[73  0]\n",
      " [10  2]]\n",
      "{'dropout': 0.3, 'hidden_size': 75, 'learning_rate': 1e-05, 'batch_size': 16, 'n_hidden': 2, 'accuracy': 0.8824, 'f1': 0.29}\n"
     ]
    },
    {
     "name": "stderr",
     "output_type": "stream",
     "text": [
      "439it [4:08:32, 69.34s/it]"
     ]
    },
    {
     "name": "stdout",
     "output_type": "stream",
     "text": [
      "Confusion matrix:\n",
      " [[64  9]\n",
      " [ 5  7]]\n",
      "{'dropout': 0.3, 'hidden_size': 75, 'learning_rate': 1e-05, 'batch_size': 16, 'n_hidden': 3, 'accuracy': 0.8353, 'f1': 0.5}\n"
     ]
    },
    {
     "name": "stderr",
     "output_type": "stream",
     "text": [
      "440it [4:09:27, 65.16s/it]"
     ]
    },
    {
     "name": "stdout",
     "output_type": "stream",
     "text": [
      "Confusion matrix:\n",
      " [[73  0]\n",
      " [12  0]]\n",
      "{'dropout': 0.3, 'hidden_size': 75, 'learning_rate': 1e-05, 'batch_size': 16, 'n_hidden': 4, 'accuracy': 0.8588, 'f1': 0.0}\n"
     ]
    },
    {
     "name": "stderr",
     "output_type": "stream",
     "text": [
      "C:\\Users\\William\\AppData\\Roaming\\Python\\Python311\\site-packages\\torch\\nn\\modules\\rnn.py:82: UserWarning: dropout option adds dropout after all but last recurrent layer, so non-zero dropout expects num_layers greater than 1, but got dropout=0.3 and num_layers=1\n",
      "  warnings.warn(\"dropout option adds dropout after all but last \"\n",
      "C:\\Users\\William\\AppData\\Roaming\\Python\\Python311\\site-packages\\torch\\nn\\modules\\rnn.py:82: UserWarning: dropout option adds dropout after all but last recurrent layer, so non-zero dropout expects num_layers greater than 1, but got dropout=0.3 and num_layers=1\n",
      "  warnings.warn(\"dropout option adds dropout after all but last \"\n",
      "441it [4:09:38, 48.93s/it]"
     ]
    },
    {
     "name": "stdout",
     "output_type": "stream",
     "text": [
      "Confusion matrix:\n",
      " [[73  0]\n",
      " [12  0]]\n",
      "{'dropout': 0.3, 'hidden_size': 75, 'learning_rate': 1e-05, 'batch_size': 32, 'n_hidden': 1, 'accuracy': 0.8588, 'f1': 0.0}\n"
     ]
    },
    {
     "name": "stderr",
     "output_type": "stream",
     "text": [
      "442it [4:10:07, 42.97s/it]"
     ]
    },
    {
     "name": "stdout",
     "output_type": "stream",
     "text": [
      "Confusion matrix:\n",
      " [[72  1]\n",
      " [11  1]]\n",
      "{'dropout': 0.3, 'hidden_size': 75, 'learning_rate': 1e-05, 'batch_size': 32, 'n_hidden': 2, 'accuracy': 0.8588, 'f1': 0.14}\n"
     ]
    },
    {
     "name": "stderr",
     "output_type": "stream",
     "text": [
      "443it [4:10:33, 37.65s/it]"
     ]
    },
    {
     "name": "stdout",
     "output_type": "stream",
     "text": [
      "Confusion matrix:\n",
      " [[73  0]\n",
      " [12  0]]\n",
      "{'dropout': 0.3, 'hidden_size': 75, 'learning_rate': 1e-05, 'batch_size': 32, 'n_hidden': 3, 'accuracy': 0.8588, 'f1': 0.0}\n"
     ]
    },
    {
     "name": "stderr",
     "output_type": "stream",
     "text": [
      "444it [4:10:59, 34.34s/it]"
     ]
    },
    {
     "name": "stdout",
     "output_type": "stream",
     "text": [
      "Confusion matrix:\n",
      " [[73  0]\n",
      " [12  0]]\n",
      "{'dropout': 0.3, 'hidden_size': 75, 'learning_rate': 1e-05, 'batch_size': 32, 'n_hidden': 4, 'accuracy': 0.8588, 'f1': 0.0}\n"
     ]
    },
    {
     "name": "stderr",
     "output_type": "stream",
     "text": [
      "C:\\Users\\William\\AppData\\Roaming\\Python\\Python311\\site-packages\\torch\\nn\\modules\\rnn.py:82: UserWarning: dropout option adds dropout after all but last recurrent layer, so non-zero dropout expects num_layers greater than 1, but got dropout=0.3 and num_layers=1\n",
      "  warnings.warn(\"dropout option adds dropout after all but last \"\n",
      "C:\\Users\\William\\AppData\\Roaming\\Python\\Python311\\site-packages\\torch\\nn\\modules\\rnn.py:82: UserWarning: dropout option adds dropout after all but last recurrent layer, so non-zero dropout expects num_layers greater than 1, but got dropout=0.3 and num_layers=1\n",
      "  warnings.warn(\"dropout option adds dropout after all but last \"\n",
      "445it [4:11:06, 25.98s/it]"
     ]
    },
    {
     "name": "stdout",
     "output_type": "stream",
     "text": [
      "Confusion matrix:\n",
      " [[73  0]\n",
      " [12  0]]\n",
      "{'dropout': 0.3, 'hidden_size': 75, 'learning_rate': 1e-05, 'batch_size': 64, 'n_hidden': 1, 'accuracy': 0.8588, 'f1': 0.0}\n"
     ]
    },
    {
     "name": "stderr",
     "output_type": "stream",
     "text": [
      "446it [4:11:25, 24.09s/it]"
     ]
    },
    {
     "name": "stdout",
     "output_type": "stream",
     "text": [
      "Confusion matrix:\n",
      " [[64  9]\n",
      " [ 4  8]]\n",
      "{'dropout': 0.3, 'hidden_size': 75, 'learning_rate': 1e-05, 'batch_size': 64, 'n_hidden': 2, 'accuracy': 0.8471, 'f1': 0.55}\n"
     ]
    },
    {
     "name": "stderr",
     "output_type": "stream",
     "text": [
      "447it [4:11:44, 22.55s/it]"
     ]
    },
    {
     "name": "stdout",
     "output_type": "stream",
     "text": [
      "Confusion matrix:\n",
      " [[73  0]\n",
      " [12  0]]\n",
      "{'dropout': 0.3, 'hidden_size': 75, 'learning_rate': 1e-05, 'batch_size': 64, 'n_hidden': 3, 'accuracy': 0.8588, 'f1': 0.0}\n"
     ]
    },
    {
     "name": "stderr",
     "output_type": "stream",
     "text": [
      "448it [4:12:23, 27.40s/it]"
     ]
    },
    {
     "name": "stdout",
     "output_type": "stream",
     "text": [
      "Confusion matrix:\n",
      " [[73  0]\n",
      " [12  0]]\n",
      "{'dropout': 0.3, 'hidden_size': 75, 'learning_rate': 1e-05, 'batch_size': 64, 'n_hidden': 4, 'accuracy': 0.8588, 'f1': 0.0}\n"
     ]
    },
    {
     "name": "stderr",
     "output_type": "stream",
     "text": [
      "C:\\Users\\William\\AppData\\Roaming\\Python\\Python311\\site-packages\\torch\\nn\\modules\\rnn.py:82: UserWarning: dropout option adds dropout after all but last recurrent layer, so non-zero dropout expects num_layers greater than 1, but got dropout=0.3 and num_layers=1\n",
      "  warnings.warn(\"dropout option adds dropout after all but last \"\n",
      "C:\\Users\\William\\AppData\\Roaming\\Python\\Python311\\site-packages\\torch\\nn\\modules\\rnn.py:82: UserWarning: dropout option adds dropout after all but last recurrent layer, so non-zero dropout expects num_layers greater than 1, but got dropout=0.3 and num_layers=1\n",
      "  warnings.warn(\"dropout option adds dropout after all but last \"\n",
      "449it [4:12:52, 28.01s/it]"
     ]
    },
    {
     "name": "stdout",
     "output_type": "stream",
     "text": [
      "Confusion matrix:\n",
      " [[63 10]\n",
      " [ 2 10]]\n",
      "{'dropout': 0.3, 'hidden_size': 100, 'learning_rate': 0.01, 'batch_size': 8, 'n_hidden': 1, 'accuracy': 0.8588, 'f1': 0.62}\n"
     ]
    },
    {
     "name": "stderr",
     "output_type": "stream",
     "text": [
      "450it [4:13:41, 34.11s/it]"
     ]
    },
    {
     "name": "stdout",
     "output_type": "stream",
     "text": [
      "Confusion matrix:\n",
      " [[73  0]\n",
      " [12  0]]\n",
      "{'dropout': 0.3, 'hidden_size': 100, 'learning_rate': 0.01, 'batch_size': 8, 'n_hidden': 2, 'accuracy': 0.8588, 'f1': 0.0}\n"
     ]
    },
    {
     "name": "stderr",
     "output_type": "stream",
     "text": [
      "451it [4:14:01, 29.93s/it]"
     ]
    },
    {
     "name": "stdout",
     "output_type": "stream",
     "text": [
      "Confusion matrix:\n",
      " [[73  0]\n",
      " [12  0]]\n",
      "{'dropout': 0.3, 'hidden_size': 100, 'learning_rate': 0.01, 'batch_size': 8, 'n_hidden': 3, 'accuracy': 0.8588, 'f1': 0.0}\n"
     ]
    },
    {
     "name": "stderr",
     "output_type": "stream",
     "text": [
      "452it [4:14:38, 31.96s/it]"
     ]
    },
    {
     "name": "stdout",
     "output_type": "stream",
     "text": [
      "Confusion matrix:\n",
      " [[73  0]\n",
      " [12  0]]\n",
      "{'dropout': 0.3, 'hidden_size': 100, 'learning_rate': 0.01, 'batch_size': 8, 'n_hidden': 4, 'accuracy': 0.8588, 'f1': 0.0}\n"
     ]
    },
    {
     "name": "stderr",
     "output_type": "stream",
     "text": [
      "C:\\Users\\William\\AppData\\Roaming\\Python\\Python311\\site-packages\\torch\\nn\\modules\\rnn.py:82: UserWarning: dropout option adds dropout after all but last recurrent layer, so non-zero dropout expects num_layers greater than 1, but got dropout=0.3 and num_layers=1\n",
      "  warnings.warn(\"dropout option adds dropout after all but last \"\n",
      "C:\\Users\\William\\AppData\\Roaming\\Python\\Python311\\site-packages\\torch\\nn\\modules\\rnn.py:82: UserWarning: dropout option adds dropout after all but last recurrent layer, so non-zero dropout expects num_layers greater than 1, but got dropout=0.3 and num_layers=1\n",
      "  warnings.warn(\"dropout option adds dropout after all but last \"\n",
      "453it [4:15:01, 29.42s/it]"
     ]
    },
    {
     "name": "stdout",
     "output_type": "stream",
     "text": [
      "Confusion matrix:\n",
      " [[63 10]\n",
      " [ 3  9]]\n",
      "{'dropout': 0.3, 'hidden_size': 100, 'learning_rate': 0.01, 'batch_size': 16, 'n_hidden': 1, 'accuracy': 0.8471, 'f1': 0.58}\n"
     ]
    },
    {
     "name": "stderr",
     "output_type": "stream",
     "text": [
      "454it [4:15:16, 24.98s/it]"
     ]
    },
    {
     "name": "stdout",
     "output_type": "stream",
     "text": [
      "Confusion matrix:\n",
      " [[59 14]\n",
      " [ 2 10]]\n",
      "{'dropout': 0.3, 'hidden_size': 100, 'learning_rate': 0.01, 'batch_size': 16, 'n_hidden': 2, 'accuracy': 0.8118, 'f1': 0.56}\n"
     ]
    },
    {
     "name": "stderr",
     "output_type": "stream",
     "text": [
      "455it [4:16:02, 31.30s/it]"
     ]
    },
    {
     "name": "stdout",
     "output_type": "stream",
     "text": [
      "Confusion matrix:\n",
      " [[68  5]\n",
      " [ 9  3]]\n",
      "{'dropout': 0.3, 'hidden_size': 100, 'learning_rate': 0.01, 'batch_size': 16, 'n_hidden': 3, 'accuracy': 0.8353, 'f1': 0.3}\n"
     ]
    },
    {
     "name": "stderr",
     "output_type": "stream",
     "text": [
      "456it [4:16:16, 26.23s/it]"
     ]
    },
    {
     "name": "stdout",
     "output_type": "stream",
     "text": [
      "Confusion matrix:\n",
      " [[73  0]\n",
      " [12  0]]\n",
      "{'dropout': 0.3, 'hidden_size': 100, 'learning_rate': 0.01, 'batch_size': 16, 'n_hidden': 4, 'accuracy': 0.8588, 'f1': 0.0}\n"
     ]
    },
    {
     "name": "stderr",
     "output_type": "stream",
     "text": [
      "C:\\Users\\William\\AppData\\Roaming\\Python\\Python311\\site-packages\\torch\\nn\\modules\\rnn.py:82: UserWarning: dropout option adds dropout after all but last recurrent layer, so non-zero dropout expects num_layers greater than 1, but got dropout=0.3 and num_layers=1\n",
      "  warnings.warn(\"dropout option adds dropout after all but last \"\n",
      "C:\\Users\\William\\AppData\\Roaming\\Python\\Python311\\site-packages\\torch\\nn\\modules\\rnn.py:82: UserWarning: dropout option adds dropout after all but last recurrent layer, so non-zero dropout expects num_layers greater than 1, but got dropout=0.3 and num_layers=1\n",
      "  warnings.warn(\"dropout option adds dropout after all but last \"\n",
      "457it [4:16:25, 20.95s/it]"
     ]
    },
    {
     "name": "stdout",
     "output_type": "stream",
     "text": [
      "Confusion matrix:\n",
      " [[45 28]\n",
      " [ 0 12]]\n",
      "{'dropout': 0.3, 'hidden_size': 100, 'learning_rate': 0.01, 'batch_size': 32, 'n_hidden': 1, 'accuracy': 0.6706, 'f1': 0.46}\n"
     ]
    },
    {
     "name": "stderr",
     "output_type": "stream",
     "text": [
      "458it [4:16:39, 18.81s/it]"
     ]
    },
    {
     "name": "stdout",
     "output_type": "stream",
     "text": [
      "Confusion matrix:\n",
      " [[59 14]\n",
      " [ 1 11]]\n",
      "{'dropout': 0.3, 'hidden_size': 100, 'learning_rate': 0.01, 'batch_size': 32, 'n_hidden': 2, 'accuracy': 0.8235, 'f1': 0.59}\n"
     ]
    },
    {
     "name": "stderr",
     "output_type": "stream",
     "text": [
      "459it [4:17:12, 23.26s/it]"
     ]
    },
    {
     "name": "stdout",
     "output_type": "stream",
     "text": [
      "Confusion matrix:\n",
      " [[66  7]\n",
      " [ 3  9]]\n",
      "{'dropout': 0.3, 'hidden_size': 100, 'learning_rate': 0.01, 'batch_size': 32, 'n_hidden': 3, 'accuracy': 0.8824, 'f1': 0.64}\n"
     ]
    },
    {
     "name": "stderr",
     "output_type": "stream",
     "text": [
      "460it [4:17:25, 20.15s/it]"
     ]
    },
    {
     "name": "stdout",
     "output_type": "stream",
     "text": [
      "Confusion matrix:\n",
      " [[57 16]\n",
      " [ 5  7]]\n",
      "{'dropout': 0.3, 'hidden_size': 100, 'learning_rate': 0.01, 'batch_size': 32, 'n_hidden': 4, 'accuracy': 0.7529, 'f1': 0.4}\n"
     ]
    },
    {
     "name": "stderr",
     "output_type": "stream",
     "text": [
      "C:\\Users\\William\\AppData\\Roaming\\Python\\Python311\\site-packages\\torch\\nn\\modules\\rnn.py:82: UserWarning: dropout option adds dropout after all but last recurrent layer, so non-zero dropout expects num_layers greater than 1, but got dropout=0.3 and num_layers=1\n",
      "  warnings.warn(\"dropout option adds dropout after all but last \"\n",
      "C:\\Users\\William\\AppData\\Roaming\\Python\\Python311\\site-packages\\torch\\nn\\modules\\rnn.py:82: UserWarning: dropout option adds dropout after all but last recurrent layer, so non-zero dropout expects num_layers greater than 1, but got dropout=0.3 and num_layers=1\n",
      "  warnings.warn(\"dropout option adds dropout after all but last \"\n",
      "461it [4:17:34, 16.70s/it]"
     ]
    },
    {
     "name": "stdout",
     "output_type": "stream",
     "text": [
      "Confusion matrix:\n",
      " [[63 10]\n",
      " [ 2 10]]\n",
      "{'dropout': 0.3, 'hidden_size': 100, 'learning_rate': 0.01, 'batch_size': 64, 'n_hidden': 1, 'accuracy': 0.8588, 'f1': 0.62}\n"
     ]
    },
    {
     "name": "stderr",
     "output_type": "stream",
     "text": [
      "462it [4:17:45, 15.06s/it]"
     ]
    },
    {
     "name": "stdout",
     "output_type": "stream",
     "text": [
      "Confusion matrix:\n",
      " [[64  9]\n",
      " [ 2 10]]\n",
      "{'dropout': 0.3, 'hidden_size': 100, 'learning_rate': 0.01, 'batch_size': 64, 'n_hidden': 2, 'accuracy': 0.8706, 'f1': 0.65}\n"
     ]
    },
    {
     "name": "stderr",
     "output_type": "stream",
     "text": [
      "463it [4:17:56, 13.92s/it]"
     ]
    },
    {
     "name": "stdout",
     "output_type": "stream",
     "text": [
      "Confusion matrix:\n",
      " [[68  5]\n",
      " [ 3  9]]\n",
      "{'dropout': 0.3, 'hidden_size': 100, 'learning_rate': 0.01, 'batch_size': 64, 'n_hidden': 3, 'accuracy': 0.9059, 'f1': 0.69}\n"
     ]
    },
    {
     "name": "stderr",
     "output_type": "stream",
     "text": [
      "464it [4:18:11, 14.09s/it]"
     ]
    },
    {
     "name": "stdout",
     "output_type": "stream",
     "text": [
      "Confusion matrix:\n",
      " [[64  9]\n",
      " [ 1 11]]\n",
      "{'dropout': 0.3, 'hidden_size': 100, 'learning_rate': 0.01, 'batch_size': 64, 'n_hidden': 4, 'accuracy': 0.8824, 'f1': 0.69}\n"
     ]
    },
    {
     "name": "stderr",
     "output_type": "stream",
     "text": [
      "C:\\Users\\William\\AppData\\Roaming\\Python\\Python311\\site-packages\\torch\\nn\\modules\\rnn.py:82: UserWarning: dropout option adds dropout after all but last recurrent layer, so non-zero dropout expects num_layers greater than 1, but got dropout=0.3 and num_layers=1\n",
      "  warnings.warn(\"dropout option adds dropout after all but last \"\n",
      "C:\\Users\\William\\AppData\\Roaming\\Python\\Python311\\site-packages\\torch\\nn\\modules\\rnn.py:82: UserWarning: dropout option adds dropout after all but last recurrent layer, so non-zero dropout expects num_layers greater than 1, but got dropout=0.3 and num_layers=1\n",
      "  warnings.warn(\"dropout option adds dropout after all but last \"\n",
      "465it [4:18:56, 23.50s/it]"
     ]
    },
    {
     "name": "stdout",
     "output_type": "stream",
     "text": [
      "Confusion matrix:\n",
      " [[69  4]\n",
      " [ 4  8]]\n",
      "{'dropout': 0.3, 'hidden_size': 100, 'learning_rate': 0.001, 'batch_size': 8, 'n_hidden': 1, 'accuracy': 0.9059, 'f1': 0.67}\n"
     ]
    },
    {
     "name": "stderr",
     "output_type": "stream",
     "text": [
      "466it [4:19:26, 25.50s/it]"
     ]
    },
    {
     "name": "stdout",
     "output_type": "stream",
     "text": [
      "Confusion matrix:\n",
      " [[68  5]\n",
      " [ 3  9]]\n",
      "{'dropout': 0.3, 'hidden_size': 100, 'learning_rate': 0.001, 'batch_size': 8, 'n_hidden': 2, 'accuracy': 0.9059, 'f1': 0.69}\n"
     ]
    },
    {
     "name": "stderr",
     "output_type": "stream",
     "text": [
      "467it [4:20:46, 41.84s/it]"
     ]
    },
    {
     "name": "stdout",
     "output_type": "stream",
     "text": [
      "Confusion matrix:\n",
      " [[67  6]\n",
      " [ 4  8]]\n",
      "{'dropout': 0.3, 'hidden_size': 100, 'learning_rate': 0.001, 'batch_size': 8, 'n_hidden': 3, 'accuracy': 0.8824, 'f1': 0.62}\n"
     ]
    },
    {
     "name": "stderr",
     "output_type": "stream",
     "text": [
      "468it [4:21:25, 41.01s/it]"
     ]
    },
    {
     "name": "stdout",
     "output_type": "stream",
     "text": [
      "Confusion matrix:\n",
      " [[71  2]\n",
      " [ 7  5]]\n",
      "{'dropout': 0.3, 'hidden_size': 100, 'learning_rate': 0.001, 'batch_size': 8, 'n_hidden': 4, 'accuracy': 0.8941, 'f1': 0.53}\n"
     ]
    },
    {
     "name": "stderr",
     "output_type": "stream",
     "text": [
      "C:\\Users\\William\\AppData\\Roaming\\Python\\Python311\\site-packages\\torch\\nn\\modules\\rnn.py:82: UserWarning: dropout option adds dropout after all but last recurrent layer, so non-zero dropout expects num_layers greater than 1, but got dropout=0.3 and num_layers=1\n",
      "  warnings.warn(\"dropout option adds dropout after all but last \"\n",
      "C:\\Users\\William\\AppData\\Roaming\\Python\\Python311\\site-packages\\torch\\nn\\modules\\rnn.py:82: UserWarning: dropout option adds dropout after all but last recurrent layer, so non-zero dropout expects num_layers greater than 1, but got dropout=0.3 and num_layers=1\n",
      "  warnings.warn(\"dropout option adds dropout after all but last \"\n",
      "469it [4:21:55, 37.66s/it]"
     ]
    },
    {
     "name": "stdout",
     "output_type": "stream",
     "text": [
      "Confusion matrix:\n",
      " [[68  5]\n",
      " [ 3  9]]\n",
      "{'dropout': 0.3, 'hidden_size': 100, 'learning_rate': 0.001, 'batch_size': 16, 'n_hidden': 1, 'accuracy': 0.9059, 'f1': 0.69}\n"
     ]
    },
    {
     "name": "stderr",
     "output_type": "stream",
     "text": [
      "470it [4:22:17, 32.75s/it]"
     ]
    },
    {
     "name": "stdout",
     "output_type": "stream",
     "text": [
      "Confusion matrix:\n",
      " [[59 14]\n",
      " [ 1 11]]\n",
      "{'dropout': 0.3, 'hidden_size': 100, 'learning_rate': 0.001, 'batch_size': 16, 'n_hidden': 2, 'accuracy': 0.8235, 'f1': 0.59}\n"
     ]
    },
    {
     "name": "stderr",
     "output_type": "stream",
     "text": [
      "471it [4:22:55, 34.31s/it]"
     ]
    },
    {
     "name": "stdout",
     "output_type": "stream",
     "text": [
      "Confusion matrix:\n",
      " [[61 12]\n",
      " [ 1 11]]\n",
      "{'dropout': 0.3, 'hidden_size': 100, 'learning_rate': 0.001, 'batch_size': 16, 'n_hidden': 3, 'accuracy': 0.8471, 'f1': 0.63}\n"
     ]
    },
    {
     "name": "stderr",
     "output_type": "stream",
     "text": [
      "472it [4:23:24, 32.96s/it]"
     ]
    },
    {
     "name": "stdout",
     "output_type": "stream",
     "text": [
      "Confusion matrix:\n",
      " [[68  5]\n",
      " [ 3  9]]\n",
      "{'dropout': 0.3, 'hidden_size': 100, 'learning_rate': 0.001, 'batch_size': 16, 'n_hidden': 4, 'accuracy': 0.9059, 'f1': 0.69}\n"
     ]
    },
    {
     "name": "stderr",
     "output_type": "stream",
     "text": [
      "C:\\Users\\William\\AppData\\Roaming\\Python\\Python311\\site-packages\\torch\\nn\\modules\\rnn.py:82: UserWarning: dropout option adds dropout after all but last recurrent layer, so non-zero dropout expects num_layers greater than 1, but got dropout=0.3 and num_layers=1\n",
      "  warnings.warn(\"dropout option adds dropout after all but last \"\n",
      "C:\\Users\\William\\AppData\\Roaming\\Python\\Python311\\site-packages\\torch\\nn\\modules\\rnn.py:82: UserWarning: dropout option adds dropout after all but last recurrent layer, so non-zero dropout expects num_layers greater than 1, but got dropout=0.3 and num_layers=1\n",
      "  warnings.warn(\"dropout option adds dropout after all but last \"\n",
      "473it [4:23:41, 28.02s/it]"
     ]
    },
    {
     "name": "stdout",
     "output_type": "stream",
     "text": [
      "Confusion matrix:\n",
      " [[67  6]\n",
      " [ 2 10]]\n",
      "{'dropout': 0.3, 'hidden_size': 100, 'learning_rate': 0.001, 'batch_size': 32, 'n_hidden': 1, 'accuracy': 0.9059, 'f1': 0.71}\n"
     ]
    },
    {
     "name": "stderr",
     "output_type": "stream",
     "text": [
      "474it [4:24:03, 26.32s/it]"
     ]
    },
    {
     "name": "stdout",
     "output_type": "stream",
     "text": [
      "Confusion matrix:\n",
      " [[62 11]\n",
      " [ 1 11]]\n",
      "{'dropout': 0.3, 'hidden_size': 100, 'learning_rate': 0.001, 'batch_size': 32, 'n_hidden': 2, 'accuracy': 0.8588, 'f1': 0.65}\n"
     ]
    },
    {
     "name": "stderr",
     "output_type": "stream",
     "text": [
      "475it [4:24:30, 26.33s/it]"
     ]
    },
    {
     "name": "stdout",
     "output_type": "stream",
     "text": [
      "Confusion matrix:\n",
      " [[65  8]\n",
      " [ 2 10]]\n",
      "{'dropout': 0.3, 'hidden_size': 100, 'learning_rate': 0.001, 'batch_size': 32, 'n_hidden': 3, 'accuracy': 0.8824, 'f1': 0.67}\n"
     ]
    },
    {
     "name": "stderr",
     "output_type": "stream",
     "text": [
      "476it [4:24:49, 24.32s/it]"
     ]
    },
    {
     "name": "stdout",
     "output_type": "stream",
     "text": [
      "Confusion matrix:\n",
      " [[63 10]\n",
      " [ 2 10]]\n",
      "{'dropout': 0.3, 'hidden_size': 100, 'learning_rate': 0.001, 'batch_size': 32, 'n_hidden': 4, 'accuracy': 0.8588, 'f1': 0.62}\n"
     ]
    },
    {
     "name": "stderr",
     "output_type": "stream",
     "text": [
      "C:\\Users\\William\\AppData\\Roaming\\Python\\Python311\\site-packages\\torch\\nn\\modules\\rnn.py:82: UserWarning: dropout option adds dropout after all but last recurrent layer, so non-zero dropout expects num_layers greater than 1, but got dropout=0.3 and num_layers=1\n",
      "  warnings.warn(\"dropout option adds dropout after all but last \"\n",
      "C:\\Users\\William\\AppData\\Roaming\\Python\\Python311\\site-packages\\torch\\nn\\modules\\rnn.py:82: UserWarning: dropout option adds dropout after all but last recurrent layer, so non-zero dropout expects num_layers greater than 1, but got dropout=0.3 and num_layers=1\n",
      "  warnings.warn(\"dropout option adds dropout after all but last \"\n",
      "477it [4:24:59, 20.11s/it]"
     ]
    },
    {
     "name": "stdout",
     "output_type": "stream",
     "text": [
      "Confusion matrix:\n",
      " [[59 14]\n",
      " [ 0 12]]\n",
      "{'dropout': 0.3, 'hidden_size': 100, 'learning_rate': 0.001, 'batch_size': 64, 'n_hidden': 1, 'accuracy': 0.8353, 'f1': 0.63}\n"
     ]
    },
    {
     "name": "stderr",
     "output_type": "stream",
     "text": [
      "478it [4:25:07, 16.45s/it]"
     ]
    },
    {
     "name": "stdout",
     "output_type": "stream",
     "text": [
      "Confusion matrix:\n",
      " [[63 10]\n",
      " [ 2 10]]\n",
      "{'dropout': 0.3, 'hidden_size': 100, 'learning_rate': 0.001, 'batch_size': 64, 'n_hidden': 2, 'accuracy': 0.8588, 'f1': 0.62}\n"
     ]
    },
    {
     "name": "stderr",
     "output_type": "stream",
     "text": [
      "479it [4:25:23, 16.15s/it]"
     ]
    },
    {
     "name": "stdout",
     "output_type": "stream",
     "text": [
      "Confusion matrix:\n",
      " [[63 10]\n",
      " [ 2 10]]\n",
      "{'dropout': 0.3, 'hidden_size': 100, 'learning_rate': 0.001, 'batch_size': 64, 'n_hidden': 3, 'accuracy': 0.8588, 'f1': 0.62}\n"
     ]
    },
    {
     "name": "stderr",
     "output_type": "stream",
     "text": [
      "480it [4:25:43, 17.38s/it]"
     ]
    },
    {
     "name": "stdout",
     "output_type": "stream",
     "text": [
      "Confusion matrix:\n",
      " [[63 10]\n",
      " [ 1 11]]\n",
      "{'dropout': 0.3, 'hidden_size': 100, 'learning_rate': 0.001, 'batch_size': 64, 'n_hidden': 4, 'accuracy': 0.8706, 'f1': 0.67}\n"
     ]
    },
    {
     "name": "stderr",
     "output_type": "stream",
     "text": [
      "C:\\Users\\William\\AppData\\Roaming\\Python\\Python311\\site-packages\\torch\\nn\\modules\\rnn.py:82: UserWarning: dropout option adds dropout after all but last recurrent layer, so non-zero dropout expects num_layers greater than 1, but got dropout=0.3 and num_layers=1\n",
      "  warnings.warn(\"dropout option adds dropout after all but last \"\n",
      "C:\\Users\\William\\AppData\\Roaming\\Python\\Python311\\site-packages\\torch\\nn\\modules\\rnn.py:82: UserWarning: dropout option adds dropout after all but last recurrent layer, so non-zero dropout expects num_layers greater than 1, but got dropout=0.3 and num_layers=1\n",
      "  warnings.warn(\"dropout option adds dropout after all but last \"\n",
      "481it [4:27:14, 39.48s/it]"
     ]
    },
    {
     "name": "stdout",
     "output_type": "stream",
     "text": [
      "Confusion matrix:\n",
      " [[69  4]\n",
      " [ 3  9]]\n",
      "{'dropout': 0.3, 'hidden_size': 100, 'learning_rate': 0.0001, 'batch_size': 8, 'n_hidden': 1, 'accuracy': 0.9176, 'f1': 0.72}\n"
     ]
    },
    {
     "name": "stderr",
     "output_type": "stream",
     "text": [
      "482it [4:28:31, 50.57s/it]"
     ]
    },
    {
     "name": "stdout",
     "output_type": "stream",
     "text": [
      "Confusion matrix:\n",
      " [[68  5]\n",
      " [ 2 10]]\n",
      "{'dropout': 0.3, 'hidden_size': 100, 'learning_rate': 0.0001, 'batch_size': 8, 'n_hidden': 2, 'accuracy': 0.9176, 'f1': 0.74}\n"
     ]
    },
    {
     "name": "stderr",
     "output_type": "stream",
     "text": [
      "483it [4:29:26, 52.04s/it]"
     ]
    },
    {
     "name": "stdout",
     "output_type": "stream",
     "text": [
      "Confusion matrix:\n",
      " [[66  7]\n",
      " [ 1 11]]\n",
      "{'dropout': 0.3, 'hidden_size': 100, 'learning_rate': 0.0001, 'batch_size': 8, 'n_hidden': 3, 'accuracy': 0.9059, 'f1': 0.73}\n"
     ]
    },
    {
     "name": "stderr",
     "output_type": "stream",
     "text": [
      "484it [4:30:42, 59.17s/it]"
     ]
    },
    {
     "name": "stdout",
     "output_type": "stream",
     "text": [
      "Confusion matrix:\n",
      " [[66  7]\n",
      " [ 3  9]]\n",
      "{'dropout': 0.3, 'hidden_size': 100, 'learning_rate': 0.0001, 'batch_size': 8, 'n_hidden': 4, 'accuracy': 0.8824, 'f1': 0.64}\n"
     ]
    },
    {
     "name": "stderr",
     "output_type": "stream",
     "text": [
      "C:\\Users\\William\\AppData\\Roaming\\Python\\Python311\\site-packages\\torch\\nn\\modules\\rnn.py:82: UserWarning: dropout option adds dropout after all but last recurrent layer, so non-zero dropout expects num_layers greater than 1, but got dropout=0.3 and num_layers=1\n",
      "  warnings.warn(\"dropout option adds dropout after all but last \"\n",
      "C:\\Users\\William\\AppData\\Roaming\\Python\\Python311\\site-packages\\torch\\nn\\modules\\rnn.py:82: UserWarning: dropout option adds dropout after all but last recurrent layer, so non-zero dropout expects num_layers greater than 1, but got dropout=0.3 and num_layers=1\n",
      "  warnings.warn(\"dropout option adds dropout after all but last \"\n",
      "485it [4:31:12, 50.35s/it]"
     ]
    },
    {
     "name": "stdout",
     "output_type": "stream",
     "text": [
      "Confusion matrix:\n",
      " [[64  9]\n",
      " [ 2 10]]\n",
      "{'dropout': 0.3, 'hidden_size': 100, 'learning_rate': 0.0001, 'batch_size': 16, 'n_hidden': 1, 'accuracy': 0.8706, 'f1': 0.65}\n"
     ]
    },
    {
     "name": "stderr",
     "output_type": "stream",
     "text": [
      "486it [4:31:54, 48.04s/it]"
     ]
    },
    {
     "name": "stdout",
     "output_type": "stream",
     "text": [
      "Confusion matrix:\n",
      " [[60 13]\n",
      " [ 1 11]]\n",
      "{'dropout': 0.3, 'hidden_size': 100, 'learning_rate': 0.0001, 'batch_size': 16, 'n_hidden': 2, 'accuracy': 0.8353, 'f1': 0.61}\n"
     ]
    },
    {
     "name": "stderr",
     "output_type": "stream",
     "text": [
      "487it [4:32:54, 51.57s/it]"
     ]
    },
    {
     "name": "stdout",
     "output_type": "stream",
     "text": [
      "Confusion matrix:\n",
      " [[65  8]\n",
      " [ 2 10]]\n",
      "{'dropout': 0.3, 'hidden_size': 100, 'learning_rate': 0.0001, 'batch_size': 16, 'n_hidden': 3, 'accuracy': 0.8824, 'f1': 0.67}\n"
     ]
    },
    {
     "name": "stderr",
     "output_type": "stream",
     "text": [
      "488it [4:33:33, 47.64s/it]"
     ]
    },
    {
     "name": "stdout",
     "output_type": "stream",
     "text": [
      "Confusion matrix:\n",
      " [[68  5]\n",
      " [ 2 10]]\n",
      "{'dropout': 0.3, 'hidden_size': 100, 'learning_rate': 0.0001, 'batch_size': 16, 'n_hidden': 4, 'accuracy': 0.9176, 'f1': 0.74}\n"
     ]
    },
    {
     "name": "stderr",
     "output_type": "stream",
     "text": [
      "C:\\Users\\William\\AppData\\Roaming\\Python\\Python311\\site-packages\\torch\\nn\\modules\\rnn.py:82: UserWarning: dropout option adds dropout after all but last recurrent layer, so non-zero dropout expects num_layers greater than 1, but got dropout=0.3 and num_layers=1\n",
      "  warnings.warn(\"dropout option adds dropout after all but last \"\n",
      "C:\\Users\\William\\AppData\\Roaming\\Python\\Python311\\site-packages\\torch\\nn\\modules\\rnn.py:82: UserWarning: dropout option adds dropout after all but last recurrent layer, so non-zero dropout expects num_layers greater than 1, but got dropout=0.3 and num_layers=1\n",
      "  warnings.warn(\"dropout option adds dropout after all but last \"\n",
      "489it [4:34:09, 44.24s/it]"
     ]
    },
    {
     "name": "stdout",
     "output_type": "stream",
     "text": [
      "Confusion matrix:\n",
      " [[67  6]\n",
      " [ 1 11]]\n",
      "{'dropout': 0.3, 'hidden_size': 100, 'learning_rate': 0.0001, 'batch_size': 32, 'n_hidden': 1, 'accuracy': 0.9176, 'f1': 0.76}\n"
     ]
    },
    {
     "name": "stderr",
     "output_type": "stream",
     "text": [
      "490it [4:34:55, 44.84s/it]"
     ]
    },
    {
     "name": "stdout",
     "output_type": "stream",
     "text": [
      "Confusion matrix:\n",
      " [[67  6]\n",
      " [ 3  9]]\n",
      "{'dropout': 0.3, 'hidden_size': 100, 'learning_rate': 0.0001, 'batch_size': 32, 'n_hidden': 2, 'accuracy': 0.8941, 'f1': 0.67}\n"
     ]
    },
    {
     "name": "stderr",
     "output_type": "stream",
     "text": [
      "491it [4:35:22, 39.37s/it]"
     ]
    },
    {
     "name": "stdout",
     "output_type": "stream",
     "text": [
      "Confusion matrix:\n",
      " [[65  8]\n",
      " [ 2 10]]\n",
      "{'dropout': 0.3, 'hidden_size': 100, 'learning_rate': 0.0001, 'batch_size': 32, 'n_hidden': 3, 'accuracy': 0.8824, 'f1': 0.67}\n"
     ]
    },
    {
     "name": "stderr",
     "output_type": "stream",
     "text": [
      "492it [4:35:46, 34.91s/it]"
     ]
    },
    {
     "name": "stdout",
     "output_type": "stream",
     "text": [
      "Confusion matrix:\n",
      " [[66  7]\n",
      " [ 2 10]]\n",
      "{'dropout': 0.3, 'hidden_size': 100, 'learning_rate': 0.0001, 'batch_size': 32, 'n_hidden': 4, 'accuracy': 0.8941, 'f1': 0.69}\n"
     ]
    },
    {
     "name": "stderr",
     "output_type": "stream",
     "text": [
      "C:\\Users\\William\\AppData\\Roaming\\Python\\Python311\\site-packages\\torch\\nn\\modules\\rnn.py:82: UserWarning: dropout option adds dropout after all but last recurrent layer, so non-zero dropout expects num_layers greater than 1, but got dropout=0.3 and num_layers=1\n",
      "  warnings.warn(\"dropout option adds dropout after all but last \"\n",
      "C:\\Users\\William\\AppData\\Roaming\\Python\\Python311\\site-packages\\torch\\nn\\modules\\rnn.py:82: UserWarning: dropout option adds dropout after all but last recurrent layer, so non-zero dropout expects num_layers greater than 1, but got dropout=0.3 and num_layers=1\n",
      "  warnings.warn(\"dropout option adds dropout after all but last \"\n",
      "493it [4:36:10, 31.50s/it]"
     ]
    },
    {
     "name": "stdout",
     "output_type": "stream",
     "text": [
      "Confusion matrix:\n",
      " [[67  6]\n",
      " [ 1 11]]\n",
      "{'dropout': 0.3, 'hidden_size': 100, 'learning_rate': 0.0001, 'batch_size': 64, 'n_hidden': 1, 'accuracy': 0.9176, 'f1': 0.76}\n"
     ]
    },
    {
     "name": "stderr",
     "output_type": "stream",
     "text": [
      "494it [4:36:42, 31.83s/it]"
     ]
    },
    {
     "name": "stdout",
     "output_type": "stream",
     "text": [
      "Confusion matrix:\n",
      " [[65  8]\n",
      " [ 2 10]]\n",
      "{'dropout': 0.3, 'hidden_size': 100, 'learning_rate': 0.0001, 'batch_size': 64, 'n_hidden': 2, 'accuracy': 0.8824, 'f1': 0.67}\n"
     ]
    },
    {
     "name": "stderr",
     "output_type": "stream",
     "text": [
      "495it [4:37:08, 29.93s/it]"
     ]
    },
    {
     "name": "stdout",
     "output_type": "stream",
     "text": [
      "Confusion matrix:\n",
      " [[66  7]\n",
      " [ 3  9]]\n",
      "{'dropout': 0.3, 'hidden_size': 100, 'learning_rate': 0.0001, 'batch_size': 64, 'n_hidden': 3, 'accuracy': 0.8824, 'f1': 0.64}\n"
     ]
    },
    {
     "name": "stderr",
     "output_type": "stream",
     "text": [
      "496it [4:37:40, 30.46s/it]"
     ]
    },
    {
     "name": "stdout",
     "output_type": "stream",
     "text": [
      "Confusion matrix:\n",
      " [[65  8]\n",
      " [ 3  9]]\n",
      "{'dropout': 0.3, 'hidden_size': 100, 'learning_rate': 0.0001, 'batch_size': 64, 'n_hidden': 4, 'accuracy': 0.8706, 'f1': 0.62}\n"
     ]
    },
    {
     "name": "stderr",
     "output_type": "stream",
     "text": [
      "C:\\Users\\William\\AppData\\Roaming\\Python\\Python311\\site-packages\\torch\\nn\\modules\\rnn.py:82: UserWarning: dropout option adds dropout after all but last recurrent layer, so non-zero dropout expects num_layers greater than 1, but got dropout=0.3 and num_layers=1\n",
      "  warnings.warn(\"dropout option adds dropout after all but last \"\n",
      "C:\\Users\\William\\AppData\\Roaming\\Python\\Python311\\site-packages\\torch\\nn\\modules\\rnn.py:82: UserWarning: dropout option adds dropout after all but last recurrent layer, so non-zero dropout expects num_layers greater than 1, but got dropout=0.3 and num_layers=1\n",
      "  warnings.warn(\"dropout option adds dropout after all but last \"\n",
      "497it [4:39:09, 48.05s/it]"
     ]
    },
    {
     "name": "stdout",
     "output_type": "stream",
     "text": [
      "Confusion matrix:\n",
      " [[73  0]\n",
      " [12  0]]\n",
      "{'dropout': 0.3, 'hidden_size': 100, 'learning_rate': 1e-05, 'batch_size': 8, 'n_hidden': 1, 'accuracy': 0.8588, 'f1': 0.0}\n"
     ]
    },
    {
     "name": "stderr",
     "output_type": "stream",
     "text": [
      "498it [4:40:08, 51.55s/it]"
     ]
    },
    {
     "name": "stdout",
     "output_type": "stream",
     "text": [
      "Confusion matrix:\n",
      " [[73  0]\n",
      " [12  0]]\n",
      "{'dropout': 0.3, 'hidden_size': 100, 'learning_rate': 1e-05, 'batch_size': 8, 'n_hidden': 2, 'accuracy': 0.8588, 'f1': 0.0}\n"
     ]
    },
    {
     "name": "stderr",
     "output_type": "stream",
     "text": [
      "499it [4:42:11, 72.82s/it]"
     ]
    },
    {
     "name": "stdout",
     "output_type": "stream",
     "text": [
      "Confusion matrix:\n",
      " [[67  6]\n",
      " [ 5  7]]\n",
      "{'dropout': 0.3, 'hidden_size': 100, 'learning_rate': 1e-05, 'batch_size': 8, 'n_hidden': 3, 'accuracy': 0.8706, 'f1': 0.56}\n"
     ]
    },
    {
     "name": "stderr",
     "output_type": "stream",
     "text": [
      "500it [4:43:49, 80.54s/it]"
     ]
    },
    {
     "name": "stdout",
     "output_type": "stream",
     "text": [
      "Confusion matrix:\n",
      " [[68  5]\n",
      " [ 7  5]]\n",
      "{'dropout': 0.3, 'hidden_size': 100, 'learning_rate': 1e-05, 'batch_size': 8, 'n_hidden': 4, 'accuracy': 0.8588, 'f1': 0.45}\n"
     ]
    },
    {
     "name": "stderr",
     "output_type": "stream",
     "text": [
      "C:\\Users\\William\\AppData\\Roaming\\Python\\Python311\\site-packages\\torch\\nn\\modules\\rnn.py:82: UserWarning: dropout option adds dropout after all but last recurrent layer, so non-zero dropout expects num_layers greater than 1, but got dropout=0.3 and num_layers=1\n",
      "  warnings.warn(\"dropout option adds dropout after all but last \"\n",
      "C:\\Users\\William\\AppData\\Roaming\\Python\\Python311\\site-packages\\torch\\nn\\modules\\rnn.py:82: UserWarning: dropout option adds dropout after all but last recurrent layer, so non-zero dropout expects num_layers greater than 1, but got dropout=0.3 and num_layers=1\n",
      "  warnings.warn(\"dropout option adds dropout after all but last \"\n",
      "501it [4:44:40, 71.68s/it]"
     ]
    },
    {
     "name": "stdout",
     "output_type": "stream",
     "text": [
      "Confusion matrix:\n",
      " [[73  0]\n",
      " [12  0]]\n",
      "{'dropout': 0.3, 'hidden_size': 100, 'learning_rate': 1e-05, 'batch_size': 16, 'n_hidden': 1, 'accuracy': 0.8588, 'f1': 0.0}\n"
     ]
    },
    {
     "name": "stderr",
     "output_type": "stream",
     "text": [
      "502it [4:45:15, 60.49s/it]"
     ]
    },
    {
     "name": "stdout",
     "output_type": "stream",
     "text": [
      "Confusion matrix:\n",
      " [[73  0]\n",
      " [12  0]]\n",
      "{'dropout': 0.3, 'hidden_size': 100, 'learning_rate': 1e-05, 'batch_size': 16, 'n_hidden': 2, 'accuracy': 0.8588, 'f1': 0.0}\n"
     ]
    },
    {
     "name": "stderr",
     "output_type": "stream",
     "text": [
      "503it [4:46:36, 66.80s/it]"
     ]
    },
    {
     "name": "stdout",
     "output_type": "stream",
     "text": [
      "Confusion matrix:\n",
      " [[53 20]\n",
      " [ 3  9]]\n",
      "{'dropout': 0.3, 'hidden_size': 100, 'learning_rate': 1e-05, 'batch_size': 16, 'n_hidden': 3, 'accuracy': 0.7294, 'f1': 0.44}\n"
     ]
    },
    {
     "name": "stderr",
     "output_type": "stream",
     "text": [
      "504it [4:48:01, 72.32s/it]"
     ]
    },
    {
     "name": "stdout",
     "output_type": "stream",
     "text": [
      "Confusion matrix:\n",
      " [[55 18]\n",
      " [ 3  9]]\n",
      "{'dropout': 0.3, 'hidden_size': 100, 'learning_rate': 1e-05, 'batch_size': 16, 'n_hidden': 4, 'accuracy': 0.7529, 'f1': 0.46}\n"
     ]
    },
    {
     "name": "stderr",
     "output_type": "stream",
     "text": [
      "C:\\Users\\William\\AppData\\Roaming\\Python\\Python311\\site-packages\\torch\\nn\\modules\\rnn.py:82: UserWarning: dropout option adds dropout after all but last recurrent layer, so non-zero dropout expects num_layers greater than 1, but got dropout=0.3 and num_layers=1\n",
      "  warnings.warn(\"dropout option adds dropout after all but last \"\n",
      "C:\\Users\\William\\AppData\\Roaming\\Python\\Python311\\site-packages\\torch\\nn\\modules\\rnn.py:82: UserWarning: dropout option adds dropout after all but last recurrent layer, so non-zero dropout expects num_layers greater than 1, but got dropout=0.3 and num_layers=1\n",
      "  warnings.warn(\"dropout option adds dropout after all but last \"\n",
      "505it [4:48:33, 60.18s/it]"
     ]
    },
    {
     "name": "stdout",
     "output_type": "stream",
     "text": [
      "Confusion matrix:\n",
      " [[73  0]\n",
      " [10  2]]\n",
      "{'dropout': 0.3, 'hidden_size': 100, 'learning_rate': 1e-05, 'batch_size': 32, 'n_hidden': 1, 'accuracy': 0.8824, 'f1': 0.29}\n"
     ]
    },
    {
     "name": "stderr",
     "output_type": "stream",
     "text": [
      "506it [4:49:05, 51.60s/it]"
     ]
    },
    {
     "name": "stdout",
     "output_type": "stream",
     "text": [
      "Confusion matrix:\n",
      " [[73  0]\n",
      " [11  1]]\n",
      "{'dropout': 0.3, 'hidden_size': 100, 'learning_rate': 1e-05, 'batch_size': 32, 'n_hidden': 2, 'accuracy': 0.8706, 'f1': 0.15}\n"
     ]
    },
    {
     "name": "stderr",
     "output_type": "stream",
     "text": [
      "507it [4:49:21, 41.00s/it]"
     ]
    },
    {
     "name": "stdout",
     "output_type": "stream",
     "text": [
      "Confusion matrix:\n",
      " [[73  0]\n",
      " [12  0]]\n",
      "{'dropout': 0.3, 'hidden_size': 100, 'learning_rate': 1e-05, 'batch_size': 32, 'n_hidden': 3, 'accuracy': 0.8588, 'f1': 0.0}\n"
     ]
    },
    {
     "name": "stderr",
     "output_type": "stream",
     "text": [
      "508it [4:50:21, 46.72s/it]"
     ]
    },
    {
     "name": "stdout",
     "output_type": "stream",
     "text": [
      "Confusion matrix:\n",
      " [[53 20]\n",
      " [ 3  9]]\n",
      "{'dropout': 0.3, 'hidden_size': 100, 'learning_rate': 1e-05, 'batch_size': 32, 'n_hidden': 4, 'accuracy': 0.7294, 'f1': 0.44}\n"
     ]
    },
    {
     "name": "stderr",
     "output_type": "stream",
     "text": [
      "C:\\Users\\William\\AppData\\Roaming\\Python\\Python311\\site-packages\\torch\\nn\\modules\\rnn.py:82: UserWarning: dropout option adds dropout after all but last recurrent layer, so non-zero dropout expects num_layers greater than 1, but got dropout=0.3 and num_layers=1\n",
      "  warnings.warn(\"dropout option adds dropout after all but last \"\n",
      "C:\\Users\\William\\AppData\\Roaming\\Python\\Python311\\site-packages\\torch\\nn\\modules\\rnn.py:82: UserWarning: dropout option adds dropout after all but last recurrent layer, so non-zero dropout expects num_layers greater than 1, but got dropout=0.3 and num_layers=1\n",
      "  warnings.warn(\"dropout option adds dropout after all but last \"\n",
      "509it [4:50:50, 41.23s/it]"
     ]
    },
    {
     "name": "stdout",
     "output_type": "stream",
     "text": [
      "Confusion matrix:\n",
      " [[72  1]\n",
      " [ 8  4]]\n",
      "{'dropout': 0.3, 'hidden_size': 100, 'learning_rate': 1e-05, 'batch_size': 64, 'n_hidden': 1, 'accuracy': 0.8941, 'f1': 0.47}\n"
     ]
    },
    {
     "name": "stderr",
     "output_type": "stream",
     "text": [
      "510it [4:51:08, 34.44s/it]"
     ]
    },
    {
     "name": "stdout",
     "output_type": "stream",
     "text": [
      "Confusion matrix:\n",
      " [[65  8]\n",
      " [ 6  6]]\n",
      "{'dropout': 0.3, 'hidden_size': 100, 'learning_rate': 1e-05, 'batch_size': 64, 'n_hidden': 2, 'accuracy': 0.8353, 'f1': 0.46}\n"
     ]
    },
    {
     "name": "stderr",
     "output_type": "stream",
     "text": [
      "511it [4:51:20, 27.71s/it]"
     ]
    },
    {
     "name": "stdout",
     "output_type": "stream",
     "text": [
      "Confusion matrix:\n",
      " [[73  0]\n",
      " [12  0]]\n",
      "{'dropout': 0.3, 'hidden_size': 100, 'learning_rate': 1e-05, 'batch_size': 64, 'n_hidden': 3, 'accuracy': 0.8588, 'f1': 0.0}\n"
     ]
    },
    {
     "name": "stderr",
     "output_type": "stream",
     "text": [
      "512it [4:51:30, 22.35s/it]"
     ]
    },
    {
     "name": "stdout",
     "output_type": "stream",
     "text": [
      "Confusion matrix:\n",
      " [[73  0]\n",
      " [12  0]]\n",
      "{'dropout': 0.3, 'hidden_size': 100, 'learning_rate': 1e-05, 'batch_size': 64, 'n_hidden': 4, 'accuracy': 0.8588, 'f1': 0.0}\n"
     ]
    },
    {
     "name": "stderr",
     "output_type": "stream",
     "text": [
      "C:\\Users\\William\\AppData\\Roaming\\Python\\Python311\\site-packages\\torch\\nn\\modules\\rnn.py:82: UserWarning: dropout option adds dropout after all but last recurrent layer, so non-zero dropout expects num_layers greater than 1, but got dropout=0.6 and num_layers=1\n",
      "  warnings.warn(\"dropout option adds dropout after all but last \"\n",
      "C:\\Users\\William\\AppData\\Roaming\\Python\\Python311\\site-packages\\torch\\nn\\modules\\rnn.py:82: UserWarning: dropout option adds dropout after all but last recurrent layer, so non-zero dropout expects num_layers greater than 1, but got dropout=0.6 and num_layers=1\n",
      "  warnings.warn(\"dropout option adds dropout after all but last \"\n",
      "513it [4:52:02, 25.11s/it]"
     ]
    },
    {
     "name": "stdout",
     "output_type": "stream",
     "text": [
      "Confusion matrix:\n",
      " [[62 11]\n",
      " [ 0 12]]\n",
      "{'dropout': 0.6, 'hidden_size': 25, 'learning_rate': 0.01, 'batch_size': 8, 'n_hidden': 1, 'accuracy': 0.8706, 'f1': 0.69}\n"
     ]
    },
    {
     "name": "stderr",
     "output_type": "stream",
     "text": [
      "514it [4:53:12, 38.74s/it]"
     ]
    },
    {
     "name": "stdout",
     "output_type": "stream",
     "text": [
      "Confusion matrix:\n",
      " [[70  3]\n",
      " [ 3  9]]\n",
      "{'dropout': 0.6, 'hidden_size': 25, 'learning_rate': 0.01, 'batch_size': 8, 'n_hidden': 2, 'accuracy': 0.9294, 'f1': 0.75}\n"
     ]
    },
    {
     "name": "stderr",
     "output_type": "stream",
     "text": [
      "515it [4:53:44, 36.56s/it]"
     ]
    },
    {
     "name": "stdout",
     "output_type": "stream",
     "text": [
      "Confusion matrix:\n",
      " [[73  0]\n",
      " [12  0]]\n",
      "{'dropout': 0.6, 'hidden_size': 25, 'learning_rate': 0.01, 'batch_size': 8, 'n_hidden': 3, 'accuracy': 0.8588, 'f1': 0.0}\n"
     ]
    },
    {
     "name": "stderr",
     "output_type": "stream",
     "text": [
      "516it [4:54:03, 31.55s/it]"
     ]
    },
    {
     "name": "stdout",
     "output_type": "stream",
     "text": [
      "Confusion matrix:\n",
      " [[73  0]\n",
      " [12  0]]\n",
      "{'dropout': 0.6, 'hidden_size': 25, 'learning_rate': 0.01, 'batch_size': 8, 'n_hidden': 4, 'accuracy': 0.8588, 'f1': 0.0}\n"
     ]
    },
    {
     "name": "stderr",
     "output_type": "stream",
     "text": [
      "C:\\Users\\William\\AppData\\Roaming\\Python\\Python311\\site-packages\\torch\\nn\\modules\\rnn.py:82: UserWarning: dropout option adds dropout after all but last recurrent layer, so non-zero dropout expects num_layers greater than 1, but got dropout=0.6 and num_layers=1\n",
      "  warnings.warn(\"dropout option adds dropout after all but last \"\n",
      "C:\\Users\\William\\AppData\\Roaming\\Python\\Python311\\site-packages\\torch\\nn\\modules\\rnn.py:82: UserWarning: dropout option adds dropout after all but last recurrent layer, so non-zero dropout expects num_layers greater than 1, but got dropout=0.6 and num_layers=1\n",
      "  warnings.warn(\"dropout option adds dropout after all but last \"\n",
      "517it [4:54:25, 28.58s/it]"
     ]
    },
    {
     "name": "stdout",
     "output_type": "stream",
     "text": [
      "Confusion matrix:\n",
      " [[66  7]\n",
      " [ 2 10]]\n",
      "{'dropout': 0.6, 'hidden_size': 25, 'learning_rate': 0.01, 'batch_size': 16, 'n_hidden': 1, 'accuracy': 0.8941, 'f1': 0.69}\n"
     ]
    },
    {
     "name": "stderr",
     "output_type": "stream",
     "text": [
      "518it [4:54:39, 24.29s/it]"
     ]
    },
    {
     "name": "stdout",
     "output_type": "stream",
     "text": [
      "Confusion matrix:\n",
      " [[60 13]\n",
      " [ 0 12]]\n",
      "{'dropout': 0.6, 'hidden_size': 25, 'learning_rate': 0.01, 'batch_size': 16, 'n_hidden': 2, 'accuracy': 0.8471, 'f1': 0.65}\n"
     ]
    },
    {
     "name": "stderr",
     "output_type": "stream",
     "text": [
      "519it [4:54:58, 22.44s/it]"
     ]
    },
    {
     "name": "stdout",
     "output_type": "stream",
     "text": [
      "Confusion matrix:\n",
      " [[64  9]\n",
      " [ 2 10]]\n",
      "{'dropout': 0.6, 'hidden_size': 25, 'learning_rate': 0.01, 'batch_size': 16, 'n_hidden': 3, 'accuracy': 0.8706, 'f1': 0.65}\n"
     ]
    },
    {
     "name": "stderr",
     "output_type": "stream",
     "text": [
      "520it [4:55:19, 22.02s/it]"
     ]
    },
    {
     "name": "stdout",
     "output_type": "stream",
     "text": [
      "Confusion matrix:\n",
      " [[73  0]\n",
      " [12  0]]\n",
      "{'dropout': 0.6, 'hidden_size': 25, 'learning_rate': 0.01, 'batch_size': 16, 'n_hidden': 4, 'accuracy': 0.8588, 'f1': 0.0}\n"
     ]
    },
    {
     "name": "stderr",
     "output_type": "stream",
     "text": [
      "C:\\Users\\William\\AppData\\Roaming\\Python\\Python311\\site-packages\\torch\\nn\\modules\\rnn.py:82: UserWarning: dropout option adds dropout after all but last recurrent layer, so non-zero dropout expects num_layers greater than 1, but got dropout=0.6 and num_layers=1\n",
      "  warnings.warn(\"dropout option adds dropout after all but last \"\n",
      "C:\\Users\\William\\AppData\\Roaming\\Python\\Python311\\site-packages\\torch\\nn\\modules\\rnn.py:82: UserWarning: dropout option adds dropout after all but last recurrent layer, so non-zero dropout expects num_layers greater than 1, but got dropout=0.6 and num_layers=1\n",
      "  warnings.warn(\"dropout option adds dropout after all but last \"\n",
      "521it [4:55:34, 20.15s/it]"
     ]
    },
    {
     "name": "stdout",
     "output_type": "stream",
     "text": [
      "Confusion matrix:\n",
      " [[66  7]\n",
      " [ 2 10]]\n",
      "{'dropout': 0.6, 'hidden_size': 25, 'learning_rate': 0.01, 'batch_size': 32, 'n_hidden': 1, 'accuracy': 0.8941, 'f1': 0.69}\n"
     ]
    },
    {
     "name": "stderr",
     "output_type": "stream",
     "text": [
      "522it [4:55:52, 19.45s/it]"
     ]
    },
    {
     "name": "stdout",
     "output_type": "stream",
     "text": [
      "Confusion matrix:\n",
      " [[61 12]\n",
      " [ 2 10]]\n",
      "{'dropout': 0.6, 'hidden_size': 25, 'learning_rate': 0.01, 'batch_size': 32, 'n_hidden': 2, 'accuracy': 0.8353, 'f1': 0.59}\n"
     ]
    },
    {
     "name": "stderr",
     "output_type": "stream",
     "text": [
      "523it [4:56:06, 17.75s/it]"
     ]
    },
    {
     "name": "stdout",
     "output_type": "stream",
     "text": [
      "Confusion matrix:\n",
      " [[61 12]\n",
      " [ 2 10]]\n",
      "{'dropout': 0.6, 'hidden_size': 25, 'learning_rate': 0.01, 'batch_size': 32, 'n_hidden': 3, 'accuracy': 0.8353, 'f1': 0.59}\n"
     ]
    },
    {
     "name": "stderr",
     "output_type": "stream",
     "text": [
      "524it [4:56:25, 18.23s/it]"
     ]
    },
    {
     "name": "stdout",
     "output_type": "stream",
     "text": [
      "Confusion matrix:\n",
      " [[68  5]\n",
      " [ 2 10]]\n",
      "{'dropout': 0.6, 'hidden_size': 25, 'learning_rate': 0.01, 'batch_size': 32, 'n_hidden': 4, 'accuracy': 0.9176, 'f1': 0.74}\n"
     ]
    },
    {
     "name": "stderr",
     "output_type": "stream",
     "text": [
      "C:\\Users\\William\\AppData\\Roaming\\Python\\Python311\\site-packages\\torch\\nn\\modules\\rnn.py:82: UserWarning: dropout option adds dropout after all but last recurrent layer, so non-zero dropout expects num_layers greater than 1, but got dropout=0.6 and num_layers=1\n",
      "  warnings.warn(\"dropout option adds dropout after all but last \"\n",
      "C:\\Users\\William\\AppData\\Roaming\\Python\\Python311\\site-packages\\torch\\nn\\modules\\rnn.py:82: UserWarning: dropout option adds dropout after all but last recurrent layer, so non-zero dropout expects num_layers greater than 1, but got dropout=0.6 and num_layers=1\n",
      "  warnings.warn(\"dropout option adds dropout after all but last \"\n",
      "525it [4:56:38, 16.44s/it]"
     ]
    },
    {
     "name": "stdout",
     "output_type": "stream",
     "text": [
      "Confusion matrix:\n",
      " [[65  8]\n",
      " [ 2 10]]\n",
      "{'dropout': 0.6, 'hidden_size': 25, 'learning_rate': 0.01, 'batch_size': 64, 'n_hidden': 1, 'accuracy': 0.8824, 'f1': 0.67}\n"
     ]
    },
    {
     "name": "stderr",
     "output_type": "stream",
     "text": [
      "526it [4:56:48, 14.67s/it]"
     ]
    },
    {
     "name": "stdout",
     "output_type": "stream",
     "text": [
      "Confusion matrix:\n",
      " [[66  7]\n",
      " [ 3  9]]\n",
      "{'dropout': 0.6, 'hidden_size': 25, 'learning_rate': 0.01, 'batch_size': 64, 'n_hidden': 2, 'accuracy': 0.8824, 'f1': 0.64}\n"
     ]
    },
    {
     "name": "stderr",
     "output_type": "stream",
     "text": [
      "527it [4:56:55, 12.32s/it]"
     ]
    },
    {
     "name": "stdout",
     "output_type": "stream",
     "text": [
      "Confusion matrix:\n",
      " [[70  3]\n",
      " [ 3  9]]\n",
      "{'dropout': 0.6, 'hidden_size': 25, 'learning_rate': 0.01, 'batch_size': 64, 'n_hidden': 3, 'accuracy': 0.9294, 'f1': 0.75}\n"
     ]
    },
    {
     "name": "stderr",
     "output_type": "stream",
     "text": [
      "528it [4:57:06, 11.99s/it]"
     ]
    },
    {
     "name": "stdout",
     "output_type": "stream",
     "text": [
      "Confusion matrix:\n",
      " [[57 16]\n",
      " [ 0 12]]\n",
      "{'dropout': 0.6, 'hidden_size': 25, 'learning_rate': 0.01, 'batch_size': 64, 'n_hidden': 4, 'accuracy': 0.8118, 'f1': 0.6}\n"
     ]
    },
    {
     "name": "stderr",
     "output_type": "stream",
     "text": [
      "C:\\Users\\William\\AppData\\Roaming\\Python\\Python311\\site-packages\\torch\\nn\\modules\\rnn.py:82: UserWarning: dropout option adds dropout after all but last recurrent layer, so non-zero dropout expects num_layers greater than 1, but got dropout=0.6 and num_layers=1\n",
      "  warnings.warn(\"dropout option adds dropout after all but last \"\n",
      "C:\\Users\\William\\AppData\\Roaming\\Python\\Python311\\site-packages\\torch\\nn\\modules\\rnn.py:82: UserWarning: dropout option adds dropout after all but last recurrent layer, so non-zero dropout expects num_layers greater than 1, but got dropout=0.6 and num_layers=1\n",
      "  warnings.warn(\"dropout option adds dropout after all but last \"\n",
      "529it [4:57:45, 20.10s/it]"
     ]
    },
    {
     "name": "stdout",
     "output_type": "stream",
     "text": [
      "Confusion matrix:\n",
      " [[67  6]\n",
      " [ 3  9]]\n",
      "{'dropout': 0.6, 'hidden_size': 25, 'learning_rate': 0.001, 'batch_size': 8, 'n_hidden': 1, 'accuracy': 0.8941, 'f1': 0.67}\n"
     ]
    },
    {
     "name": "stderr",
     "output_type": "stream",
     "text": [
      "530it [4:58:22, 25.06s/it]"
     ]
    },
    {
     "name": "stdout",
     "output_type": "stream",
     "text": [
      "Confusion matrix:\n",
      " [[66  7]\n",
      " [ 3  9]]\n",
      "{'dropout': 0.6, 'hidden_size': 25, 'learning_rate': 0.001, 'batch_size': 8, 'n_hidden': 2, 'accuracy': 0.8824, 'f1': 0.64}\n"
     ]
    },
    {
     "name": "stderr",
     "output_type": "stream",
     "text": [
      "531it [4:59:44, 42.34s/it]"
     ]
    },
    {
     "name": "stdout",
     "output_type": "stream",
     "text": [
      "Confusion matrix:\n",
      " [[67  6]\n",
      " [ 5  7]]\n",
      "{'dropout': 0.6, 'hidden_size': 25, 'learning_rate': 0.001, 'batch_size': 8, 'n_hidden': 3, 'accuracy': 0.8706, 'f1': 0.56}\n"
     ]
    },
    {
     "name": "stderr",
     "output_type": "stream",
     "text": [
      "532it [5:00:29, 42.86s/it]"
     ]
    },
    {
     "name": "stdout",
     "output_type": "stream",
     "text": [
      "Confusion matrix:\n",
      " [[66  7]\n",
      " [ 3  9]]\n",
      "{'dropout': 0.6, 'hidden_size': 25, 'learning_rate': 0.001, 'batch_size': 8, 'n_hidden': 4, 'accuracy': 0.8824, 'f1': 0.64}\n"
     ]
    },
    {
     "name": "stderr",
     "output_type": "stream",
     "text": [
      "C:\\Users\\William\\AppData\\Roaming\\Python\\Python311\\site-packages\\torch\\nn\\modules\\rnn.py:82: UserWarning: dropout option adds dropout after all but last recurrent layer, so non-zero dropout expects num_layers greater than 1, but got dropout=0.6 and num_layers=1\n",
      "  warnings.warn(\"dropout option adds dropout after all but last \"\n",
      "C:\\Users\\William\\AppData\\Roaming\\Python\\Python311\\site-packages\\torch\\nn\\modules\\rnn.py:82: UserWarning: dropout option adds dropout after all but last recurrent layer, so non-zero dropout expects num_layers greater than 1, but got dropout=0.6 and num_layers=1\n",
      "  warnings.warn(\"dropout option adds dropout after all but last \"\n",
      "533it [5:01:00, 39.35s/it]"
     ]
    },
    {
     "name": "stdout",
     "output_type": "stream",
     "text": [
      "Confusion matrix:\n",
      " [[68  5]\n",
      " [ 5  7]]\n",
      "{'dropout': 0.6, 'hidden_size': 25, 'learning_rate': 0.001, 'batch_size': 16, 'n_hidden': 1, 'accuracy': 0.8824, 'f1': 0.58}\n"
     ]
    },
    {
     "name": "stderr",
     "output_type": "stream",
     "text": [
      "534it [5:01:35, 38.20s/it]"
     ]
    },
    {
     "name": "stdout",
     "output_type": "stream",
     "text": [
      "Confusion matrix:\n",
      " [[59 14]\n",
      " [ 2 10]]\n",
      "{'dropout': 0.6, 'hidden_size': 25, 'learning_rate': 0.001, 'batch_size': 16, 'n_hidden': 2, 'accuracy': 0.8118, 'f1': 0.56}\n"
     ]
    },
    {
     "name": "stderr",
     "output_type": "stream",
     "text": [
      "535it [5:01:59, 33.79s/it]"
     ]
    },
    {
     "name": "stdout",
     "output_type": "stream",
     "text": [
      "Confusion matrix:\n",
      " [[62 11]\n",
      " [ 1 11]]\n",
      "{'dropout': 0.6, 'hidden_size': 25, 'learning_rate': 0.001, 'batch_size': 16, 'n_hidden': 3, 'accuracy': 0.8588, 'f1': 0.65}\n"
     ]
    },
    {
     "name": "stderr",
     "output_type": "stream",
     "text": [
      "536it [5:02:21, 30.35s/it]"
     ]
    },
    {
     "name": "stdout",
     "output_type": "stream",
     "text": [
      "Confusion matrix:\n",
      " [[61 12]\n",
      " [ 2 10]]\n",
      "{'dropout': 0.6, 'hidden_size': 25, 'learning_rate': 0.001, 'batch_size': 16, 'n_hidden': 4, 'accuracy': 0.8353, 'f1': 0.59}\n"
     ]
    },
    {
     "name": "stderr",
     "output_type": "stream",
     "text": [
      "C:\\Users\\William\\AppData\\Roaming\\Python\\Python311\\site-packages\\torch\\nn\\modules\\rnn.py:82: UserWarning: dropout option adds dropout after all but last recurrent layer, so non-zero dropout expects num_layers greater than 1, but got dropout=0.6 and num_layers=1\n",
      "  warnings.warn(\"dropout option adds dropout after all but last \"\n",
      "C:\\Users\\William\\AppData\\Roaming\\Python\\Python311\\site-packages\\torch\\nn\\modules\\rnn.py:82: UserWarning: dropout option adds dropout after all but last recurrent layer, so non-zero dropout expects num_layers greater than 1, but got dropout=0.6 and num_layers=1\n",
      "  warnings.warn(\"dropout option adds dropout after all but last \"\n",
      "537it [5:02:52, 30.45s/it]"
     ]
    },
    {
     "name": "stdout",
     "output_type": "stream",
     "text": [
      "Confusion matrix:\n",
      " [[68  5]\n",
      " [ 4  8]]\n",
      "{'dropout': 0.6, 'hidden_size': 25, 'learning_rate': 0.001, 'batch_size': 32, 'n_hidden': 1, 'accuracy': 0.8941, 'f1': 0.64}\n"
     ]
    },
    {
     "name": "stderr",
     "output_type": "stream",
     "text": [
      "538it [5:03:18, 29.07s/it]"
     ]
    },
    {
     "name": "stdout",
     "output_type": "stream",
     "text": [
      "Confusion matrix:\n",
      " [[60 13]\n",
      " [ 2 10]]\n",
      "{'dropout': 0.6, 'hidden_size': 25, 'learning_rate': 0.001, 'batch_size': 32, 'n_hidden': 2, 'accuracy': 0.8235, 'f1': 0.57}\n"
     ]
    },
    {
     "name": "stderr",
     "output_type": "stream",
     "text": [
      "539it [5:03:51, 30.23s/it]"
     ]
    },
    {
     "name": "stdout",
     "output_type": "stream",
     "text": [
      "Confusion matrix:\n",
      " [[67  6]\n",
      " [ 2 10]]\n",
      "{'dropout': 0.6, 'hidden_size': 25, 'learning_rate': 0.001, 'batch_size': 32, 'n_hidden': 3, 'accuracy': 0.9059, 'f1': 0.71}\n"
     ]
    },
    {
     "name": "stderr",
     "output_type": "stream",
     "text": [
      "540it [5:04:17, 29.05s/it]"
     ]
    },
    {
     "name": "stdout",
     "output_type": "stream",
     "text": [
      "Confusion matrix:\n",
      " [[67  6]\n",
      " [ 4  8]]\n",
      "{'dropout': 0.6, 'hidden_size': 25, 'learning_rate': 0.001, 'batch_size': 32, 'n_hidden': 4, 'accuracy': 0.8824, 'f1': 0.62}\n"
     ]
    },
    {
     "name": "stderr",
     "output_type": "stream",
     "text": [
      "C:\\Users\\William\\AppData\\Roaming\\Python\\Python311\\site-packages\\torch\\nn\\modules\\rnn.py:82: UserWarning: dropout option adds dropout after all but last recurrent layer, so non-zero dropout expects num_layers greater than 1, but got dropout=0.6 and num_layers=1\n",
      "  warnings.warn(\"dropout option adds dropout after all but last \"\n",
      "C:\\Users\\William\\AppData\\Roaming\\Python\\Python311\\site-packages\\torch\\nn\\modules\\rnn.py:82: UserWarning: dropout option adds dropout after all but last recurrent layer, so non-zero dropout expects num_layers greater than 1, but got dropout=0.6 and num_layers=1\n",
      "  warnings.warn(\"dropout option adds dropout after all but last \"\n",
      "541it [5:04:27, 23.41s/it]"
     ]
    },
    {
     "name": "stdout",
     "output_type": "stream",
     "text": [
      "Confusion matrix:\n",
      " [[65  8]\n",
      " [ 1 11]]\n",
      "{'dropout': 0.6, 'hidden_size': 25, 'learning_rate': 0.001, 'batch_size': 64, 'n_hidden': 1, 'accuracy': 0.8941, 'f1': 0.71}\n"
     ]
    },
    {
     "name": "stderr",
     "output_type": "stream",
     "text": [
      "542it [5:04:39, 19.82s/it]"
     ]
    },
    {
     "name": "stdout",
     "output_type": "stream",
     "text": [
      "Confusion matrix:\n",
      " [[67  6]\n",
      " [ 1 11]]\n",
      "{'dropout': 0.6, 'hidden_size': 25, 'learning_rate': 0.001, 'batch_size': 64, 'n_hidden': 2, 'accuracy': 0.9176, 'f1': 0.76}\n"
     ]
    },
    {
     "name": "stderr",
     "output_type": "stream",
     "text": [
      "543it [5:04:54, 18.47s/it]"
     ]
    },
    {
     "name": "stdout",
     "output_type": "stream",
     "text": [
      "Confusion matrix:\n",
      " [[67  6]\n",
      " [ 2 10]]\n",
      "{'dropout': 0.6, 'hidden_size': 25, 'learning_rate': 0.001, 'batch_size': 64, 'n_hidden': 3, 'accuracy': 0.9059, 'f1': 0.71}\n"
     ]
    },
    {
     "name": "stderr",
     "output_type": "stream",
     "text": [
      "544it [5:05:02, 15.27s/it]"
     ]
    },
    {
     "name": "stdout",
     "output_type": "stream",
     "text": [
      "Confusion matrix:\n",
      " [[63 10]\n",
      " [ 2 10]]\n",
      "{'dropout': 0.6, 'hidden_size': 25, 'learning_rate': 0.001, 'batch_size': 64, 'n_hidden': 4, 'accuracy': 0.8588, 'f1': 0.62}\n"
     ]
    },
    {
     "name": "stderr",
     "output_type": "stream",
     "text": [
      "C:\\Users\\William\\AppData\\Roaming\\Python\\Python311\\site-packages\\torch\\nn\\modules\\rnn.py:82: UserWarning: dropout option adds dropout after all but last recurrent layer, so non-zero dropout expects num_layers greater than 1, but got dropout=0.6 and num_layers=1\n",
      "  warnings.warn(\"dropout option adds dropout after all but last \"\n",
      "C:\\Users\\William\\AppData\\Roaming\\Python\\Python311\\site-packages\\torch\\nn\\modules\\rnn.py:82: UserWarning: dropout option adds dropout after all but last recurrent layer, so non-zero dropout expects num_layers greater than 1, but got dropout=0.6 and num_layers=1\n",
      "  warnings.warn(\"dropout option adds dropout after all but last \"\n",
      "545it [5:06:14, 32.46s/it]"
     ]
    },
    {
     "name": "stdout",
     "output_type": "stream",
     "text": [
      "Confusion matrix:\n",
      " [[66  7]\n",
      " [ 1 11]]\n",
      "{'dropout': 0.6, 'hidden_size': 25, 'learning_rate': 0.0001, 'batch_size': 8, 'n_hidden': 1, 'accuracy': 0.9059, 'f1': 0.73}\n"
     ]
    },
    {
     "name": "stderr",
     "output_type": "stream",
     "text": [
      "546it [5:07:26, 44.33s/it]"
     ]
    },
    {
     "name": "stdout",
     "output_type": "stream",
     "text": [
      "Confusion matrix:\n",
      " [[65  8]\n",
      " [ 2 10]]\n",
      "{'dropout': 0.6, 'hidden_size': 25, 'learning_rate': 0.0001, 'batch_size': 8, 'n_hidden': 2, 'accuracy': 0.8824, 'f1': 0.67}\n"
     ]
    },
    {
     "name": "stderr",
     "output_type": "stream",
     "text": [
      "547it [5:08:52, 56.80s/it]"
     ]
    },
    {
     "name": "stdout",
     "output_type": "stream",
     "text": [
      "Confusion matrix:\n",
      " [[68  5]\n",
      " [ 2 10]]\n",
      "{'dropout': 0.6, 'hidden_size': 25, 'learning_rate': 0.0001, 'batch_size': 8, 'n_hidden': 3, 'accuracy': 0.9176, 'f1': 0.74}\n"
     ]
    },
    {
     "name": "stderr",
     "output_type": "stream",
     "text": [
      "548it [5:10:14, 64.40s/it]"
     ]
    },
    {
     "name": "stdout",
     "output_type": "stream",
     "text": [
      "Confusion matrix:\n",
      " [[68  5]\n",
      " [ 3  9]]\n",
      "{'dropout': 0.6, 'hidden_size': 25, 'learning_rate': 0.0001, 'batch_size': 8, 'n_hidden': 4, 'accuracy': 0.9059, 'f1': 0.69}\n"
     ]
    },
    {
     "name": "stderr",
     "output_type": "stream",
     "text": [
      "C:\\Users\\William\\AppData\\Roaming\\Python\\Python311\\site-packages\\torch\\nn\\modules\\rnn.py:82: UserWarning: dropout option adds dropout after all but last recurrent layer, so non-zero dropout expects num_layers greater than 1, but got dropout=0.6 and num_layers=1\n",
      "  warnings.warn(\"dropout option adds dropout after all but last \"\n",
      "C:\\Users\\William\\AppData\\Roaming\\Python\\Python311\\site-packages\\torch\\nn\\modules\\rnn.py:82: UserWarning: dropout option adds dropout after all but last recurrent layer, so non-zero dropout expects num_layers greater than 1, but got dropout=0.6 and num_layers=1\n",
      "  warnings.warn(\"dropout option adds dropout after all but last \"\n",
      "549it [5:11:15, 63.39s/it]"
     ]
    },
    {
     "name": "stdout",
     "output_type": "stream",
     "text": [
      "Confusion matrix:\n",
      " [[64  9]\n",
      " [ 1 11]]\n",
      "{'dropout': 0.6, 'hidden_size': 25, 'learning_rate': 0.0001, 'batch_size': 16, 'n_hidden': 1, 'accuracy': 0.8824, 'f1': 0.69}\n"
     ]
    },
    {
     "name": "stderr",
     "output_type": "stream",
     "text": [
      "550it [5:12:18, 63.18s/it]"
     ]
    },
    {
     "name": "stdout",
     "output_type": "stream",
     "text": [
      "Confusion matrix:\n",
      " [[66  7]\n",
      " [ 1 11]]\n",
      "{'dropout': 0.6, 'hidden_size': 25, 'learning_rate': 0.0001, 'batch_size': 16, 'n_hidden': 2, 'accuracy': 0.9059, 'f1': 0.73}\n"
     ]
    },
    {
     "name": "stderr",
     "output_type": "stream",
     "text": [
      "551it [5:13:11, 60.11s/it]"
     ]
    },
    {
     "name": "stdout",
     "output_type": "stream",
     "text": [
      "Confusion matrix:\n",
      " [[67  6]\n",
      " [ 3  9]]\n",
      "{'dropout': 0.6, 'hidden_size': 25, 'learning_rate': 0.0001, 'batch_size': 16, 'n_hidden': 3, 'accuracy': 0.8941, 'f1': 0.67}\n"
     ]
    },
    {
     "name": "stderr",
     "output_type": "stream",
     "text": [
      "552it [5:14:07, 58.95s/it]"
     ]
    },
    {
     "name": "stdout",
     "output_type": "stream",
     "text": [
      "Confusion matrix:\n",
      " [[68  5]\n",
      " [ 1 11]]\n",
      "{'dropout': 0.6, 'hidden_size': 25, 'learning_rate': 0.0001, 'batch_size': 16, 'n_hidden': 4, 'accuracy': 0.9294, 'f1': 0.79}\n"
     ]
    },
    {
     "name": "stderr",
     "output_type": "stream",
     "text": [
      "C:\\Users\\William\\AppData\\Roaming\\Python\\Python311\\site-packages\\torch\\nn\\modules\\rnn.py:82: UserWarning: dropout option adds dropout after all but last recurrent layer, so non-zero dropout expects num_layers greater than 1, but got dropout=0.6 and num_layers=1\n",
      "  warnings.warn(\"dropout option adds dropout after all but last \"\n",
      "C:\\Users\\William\\AppData\\Roaming\\Python\\Python311\\site-packages\\torch\\nn\\modules\\rnn.py:82: UserWarning: dropout option adds dropout after all but last recurrent layer, so non-zero dropout expects num_layers greater than 1, but got dropout=0.6 and num_layers=1\n",
      "  warnings.warn(\"dropout option adds dropout after all but last \"\n",
      "553it [5:14:48, 53.58s/it]"
     ]
    },
    {
     "name": "stdout",
     "output_type": "stream",
     "text": [
      "Confusion matrix:\n",
      " [[62 11]\n",
      " [ 1 11]]\n",
      "{'dropout': 0.6, 'hidden_size': 25, 'learning_rate': 0.0001, 'batch_size': 32, 'n_hidden': 1, 'accuracy': 0.8588, 'f1': 0.65}\n"
     ]
    },
    {
     "name": "stderr",
     "output_type": "stream",
     "text": [
      "554it [5:15:34, 51.09s/it]"
     ]
    },
    {
     "name": "stdout",
     "output_type": "stream",
     "text": [
      "Confusion matrix:\n",
      " [[66  7]\n",
      " [ 2 10]]\n",
      "{'dropout': 0.6, 'hidden_size': 25, 'learning_rate': 0.0001, 'batch_size': 32, 'n_hidden': 2, 'accuracy': 0.8941, 'f1': 0.69}\n"
     ]
    },
    {
     "name": "stderr",
     "output_type": "stream",
     "text": [
      "555it [5:16:16, 48.39s/it]"
     ]
    },
    {
     "name": "stdout",
     "output_type": "stream",
     "text": [
      "Confusion matrix:\n",
      " [[63 10]\n",
      " [ 2 10]]\n",
      "{'dropout': 0.6, 'hidden_size': 25, 'learning_rate': 0.0001, 'batch_size': 32, 'n_hidden': 3, 'accuracy': 0.8588, 'f1': 0.62}\n"
     ]
    },
    {
     "name": "stderr",
     "output_type": "stream",
     "text": [
      "556it [5:17:03, 47.97s/it]"
     ]
    },
    {
     "name": "stdout",
     "output_type": "stream",
     "text": [
      "Confusion matrix:\n",
      " [[67  6]\n",
      " [ 1 11]]\n",
      "{'dropout': 0.6, 'hidden_size': 25, 'learning_rate': 0.0001, 'batch_size': 32, 'n_hidden': 4, 'accuracy': 0.9176, 'f1': 0.76}\n"
     ]
    },
    {
     "name": "stderr",
     "output_type": "stream",
     "text": [
      "C:\\Users\\William\\AppData\\Roaming\\Python\\Python311\\site-packages\\torch\\nn\\modules\\rnn.py:82: UserWarning: dropout option adds dropout after all but last recurrent layer, so non-zero dropout expects num_layers greater than 1, but got dropout=0.6 and num_layers=1\n",
      "  warnings.warn(\"dropout option adds dropout after all but last \"\n",
      "C:\\Users\\William\\AppData\\Roaming\\Python\\Python311\\site-packages\\torch\\nn\\modules\\rnn.py:82: UserWarning: dropout option adds dropout after all but last recurrent layer, so non-zero dropout expects num_layers greater than 1, but got dropout=0.6 and num_layers=1\n",
      "  warnings.warn(\"dropout option adds dropout after all but last \"\n",
      "557it [5:17:35, 43.21s/it]"
     ]
    },
    {
     "name": "stdout",
     "output_type": "stream",
     "text": [
      "Confusion matrix:\n",
      " [[62 11]\n",
      " [ 1 11]]\n",
      "{'dropout': 0.6, 'hidden_size': 25, 'learning_rate': 0.0001, 'batch_size': 64, 'n_hidden': 1, 'accuracy': 0.8588, 'f1': 0.65}\n"
     ]
    },
    {
     "name": "stderr",
     "output_type": "stream",
     "text": [
      "558it [5:18:17, 42.85s/it]"
     ]
    },
    {
     "name": "stdout",
     "output_type": "stream",
     "text": [
      "Confusion matrix:\n",
      " [[66  7]\n",
      " [ 2 10]]\n",
      "{'dropout': 0.6, 'hidden_size': 25, 'learning_rate': 0.0001, 'batch_size': 64, 'n_hidden': 2, 'accuracy': 0.8941, 'f1': 0.69}\n"
     ]
    },
    {
     "name": "stderr",
     "output_type": "stream",
     "text": [
      "559it [5:18:23, 31.76s/it]"
     ]
    },
    {
     "name": "stdout",
     "output_type": "stream",
     "text": [
      "Confusion matrix:\n",
      " [[73  0]\n",
      " [12  0]]\n",
      "{'dropout': 0.6, 'hidden_size': 25, 'learning_rate': 0.0001, 'batch_size': 64, 'n_hidden': 3, 'accuracy': 0.8588, 'f1': 0.0}\n"
     ]
    },
    {
     "name": "stderr",
     "output_type": "stream",
     "text": [
      "560it [5:19:00, 33.59s/it]"
     ]
    },
    {
     "name": "stdout",
     "output_type": "stream",
     "text": [
      "Confusion matrix:\n",
      " [[64  9]\n",
      " [ 2 10]]\n",
      "{'dropout': 0.6, 'hidden_size': 25, 'learning_rate': 0.0001, 'batch_size': 64, 'n_hidden': 4, 'accuracy': 0.8706, 'f1': 0.65}\n"
     ]
    },
    {
     "name": "stderr",
     "output_type": "stream",
     "text": [
      "C:\\Users\\William\\AppData\\Roaming\\Python\\Python311\\site-packages\\torch\\nn\\modules\\rnn.py:82: UserWarning: dropout option adds dropout after all but last recurrent layer, so non-zero dropout expects num_layers greater than 1, but got dropout=0.6 and num_layers=1\n",
      "  warnings.warn(\"dropout option adds dropout after all but last \"\n",
      "C:\\Users\\William\\AppData\\Roaming\\Python\\Python311\\site-packages\\torch\\nn\\modules\\rnn.py:82: UserWarning: dropout option adds dropout after all but last recurrent layer, so non-zero dropout expects num_layers greater than 1, but got dropout=0.6 and num_layers=1\n",
      "  warnings.warn(\"dropout option adds dropout after all but last \"\n",
      "561it [5:20:17, 46.43s/it]"
     ]
    },
    {
     "name": "stdout",
     "output_type": "stream",
     "text": [
      "Confusion matrix:\n",
      " [[73  0]\n",
      " [12  0]]\n",
      "{'dropout': 0.6, 'hidden_size': 25, 'learning_rate': 1e-05, 'batch_size': 8, 'n_hidden': 1, 'accuracy': 0.8588, 'f1': 0.0}\n"
     ]
    },
    {
     "name": "stderr",
     "output_type": "stream",
     "text": [
      "562it [5:21:55, 62.04s/it]"
     ]
    },
    {
     "name": "stdout",
     "output_type": "stream",
     "text": [
      "Confusion matrix:\n",
      " [[73  0]\n",
      " [12  0]]\n",
      "{'dropout': 0.6, 'hidden_size': 25, 'learning_rate': 1e-05, 'batch_size': 8, 'n_hidden': 2, 'accuracy': 0.8588, 'f1': 0.0}\n"
     ]
    },
    {
     "name": "stderr",
     "output_type": "stream",
     "text": [
      "563it [5:23:19, 68.46s/it]"
     ]
    },
    {
     "name": "stdout",
     "output_type": "stream",
     "text": [
      "Confusion matrix:\n",
      " [[73  0]\n",
      " [12  0]]\n",
      "{'dropout': 0.6, 'hidden_size': 25, 'learning_rate': 1e-05, 'batch_size': 8, 'n_hidden': 3, 'accuracy': 0.8588, 'f1': 0.0}\n"
     ]
    },
    {
     "name": "stderr",
     "output_type": "stream",
     "text": [
      "564it [5:25:19, 83.86s/it]"
     ]
    },
    {
     "name": "stdout",
     "output_type": "stream",
     "text": [
      "Confusion matrix:\n",
      " [[73  0]\n",
      " [12  0]]\n",
      "{'dropout': 0.6, 'hidden_size': 25, 'learning_rate': 1e-05, 'batch_size': 8, 'n_hidden': 4, 'accuracy': 0.8588, 'f1': 0.0}\n"
     ]
    },
    {
     "name": "stderr",
     "output_type": "stream",
     "text": [
      "C:\\Users\\William\\AppData\\Roaming\\Python\\Python311\\site-packages\\torch\\nn\\modules\\rnn.py:82: UserWarning: dropout option adds dropout after all but last recurrent layer, so non-zero dropout expects num_layers greater than 1, but got dropout=0.6 and num_layers=1\n",
      "  warnings.warn(\"dropout option adds dropout after all but last \"\n",
      "C:\\Users\\William\\AppData\\Roaming\\Python\\Python311\\site-packages\\torch\\nn\\modules\\rnn.py:82: UserWarning: dropout option adds dropout after all but last recurrent layer, so non-zero dropout expects num_layers greater than 1, but got dropout=0.6 and num_layers=1\n",
      "  warnings.warn(\"dropout option adds dropout after all but last \"\n",
      "565it [5:26:28, 79.44s/it]"
     ]
    },
    {
     "name": "stdout",
     "output_type": "stream",
     "text": [
      "Confusion matrix:\n",
      " [[72  1]\n",
      " [12  0]]\n",
      "{'dropout': 0.6, 'hidden_size': 25, 'learning_rate': 1e-05, 'batch_size': 16, 'n_hidden': 1, 'accuracy': 0.8471, 'f1': 0.0}\n"
     ]
    },
    {
     "name": "stderr",
     "output_type": "stream",
     "text": [
      "566it [5:27:19, 71.11s/it]"
     ]
    },
    {
     "name": "stdout",
     "output_type": "stream",
     "text": [
      "Confusion matrix:\n",
      " [[73  0]\n",
      " [12  0]]\n",
      "{'dropout': 0.6, 'hidden_size': 25, 'learning_rate': 1e-05, 'batch_size': 16, 'n_hidden': 2, 'accuracy': 0.8588, 'f1': 0.0}\n"
     ]
    },
    {
     "name": "stderr",
     "output_type": "stream",
     "text": [
      "567it [5:27:47, 58.05s/it]"
     ]
    },
    {
     "name": "stdout",
     "output_type": "stream",
     "text": [
      "Confusion matrix:\n",
      " [[73  0]\n",
      " [12  0]]\n",
      "{'dropout': 0.6, 'hidden_size': 25, 'learning_rate': 1e-05, 'batch_size': 16, 'n_hidden': 3, 'accuracy': 0.8588, 'f1': 0.0}\n"
     ]
    },
    {
     "name": "stderr",
     "output_type": "stream",
     "text": [
      "568it [5:28:02, 45.02s/it]"
     ]
    },
    {
     "name": "stdout",
     "output_type": "stream",
     "text": [
      "Confusion matrix:\n",
      " [[ 0 73]\n",
      " [ 0 12]]\n",
      "{'dropout': 0.6, 'hidden_size': 25, 'learning_rate': 1e-05, 'batch_size': 16, 'n_hidden': 4, 'accuracy': 0.1412, 'f1': 0.25}\n"
     ]
    },
    {
     "name": "stderr",
     "output_type": "stream",
     "text": [
      "C:\\Users\\William\\AppData\\Roaming\\Python\\Python311\\site-packages\\torch\\nn\\modules\\rnn.py:82: UserWarning: dropout option adds dropout after all but last recurrent layer, so non-zero dropout expects num_layers greater than 1, but got dropout=0.6 and num_layers=1\n",
      "  warnings.warn(\"dropout option adds dropout after all but last \"\n",
      "C:\\Users\\William\\AppData\\Roaming\\Python\\Python311\\site-packages\\torch\\nn\\modules\\rnn.py:82: UserWarning: dropout option adds dropout after all but last recurrent layer, so non-zero dropout expects num_layers greater than 1, but got dropout=0.6 and num_layers=1\n",
      "  warnings.warn(\"dropout option adds dropout after all but last \"\n",
      "569it [5:28:51, 46.30s/it]"
     ]
    },
    {
     "name": "stdout",
     "output_type": "stream",
     "text": [
      "Confusion matrix:\n",
      " [[61 12]\n",
      " [ 6  6]]\n",
      "{'dropout': 0.6, 'hidden_size': 25, 'learning_rate': 1e-05, 'batch_size': 32, 'n_hidden': 1, 'accuracy': 0.7882, 'f1': 0.4}\n"
     ]
    },
    {
     "name": "stderr",
     "output_type": "stream",
     "text": [
      "570it [5:29:09, 37.88s/it]"
     ]
    },
    {
     "name": "stdout",
     "output_type": "stream",
     "text": [
      "Confusion matrix:\n",
      " [[73  0]\n",
      " [10  2]]\n",
      "{'dropout': 0.6, 'hidden_size': 25, 'learning_rate': 1e-05, 'batch_size': 32, 'n_hidden': 2, 'accuracy': 0.8824, 'f1': 0.29}\n"
     ]
    },
    {
     "name": "stderr",
     "output_type": "stream",
     "text": [
      "571it [5:29:19, 29.47s/it]"
     ]
    },
    {
     "name": "stdout",
     "output_type": "stream",
     "text": [
      "Confusion matrix:\n",
      " [[73  0]\n",
      " [12  0]]\n",
      "{'dropout': 0.6, 'hidden_size': 25, 'learning_rate': 1e-05, 'batch_size': 32, 'n_hidden': 3, 'accuracy': 0.8588, 'f1': 0.0}\n"
     ]
    },
    {
     "name": "stderr",
     "output_type": "stream",
     "text": [
      "572it [5:29:53, 30.98s/it]"
     ]
    },
    {
     "name": "stdout",
     "output_type": "stream",
     "text": [
      "Confusion matrix:\n",
      " [[ 0 73]\n",
      " [ 0 12]]\n",
      "{'dropout': 0.6, 'hidden_size': 25, 'learning_rate': 1e-05, 'batch_size': 32, 'n_hidden': 4, 'accuracy': 0.1412, 'f1': 0.25}\n"
     ]
    },
    {
     "name": "stderr",
     "output_type": "stream",
     "text": [
      "C:\\Users\\William\\AppData\\Roaming\\Python\\Python311\\site-packages\\torch\\nn\\modules\\rnn.py:82: UserWarning: dropout option adds dropout after all but last recurrent layer, so non-zero dropout expects num_layers greater than 1, but got dropout=0.6 and num_layers=1\n",
      "  warnings.warn(\"dropout option adds dropout after all but last \"\n",
      "C:\\Users\\William\\AppData\\Roaming\\Python\\Python311\\site-packages\\torch\\nn\\modules\\rnn.py:82: UserWarning: dropout option adds dropout after all but last recurrent layer, so non-zero dropout expects num_layers greater than 1, but got dropout=0.6 and num_layers=1\n",
      "  warnings.warn(\"dropout option adds dropout after all but last \"\n",
      "573it [5:29:58, 22.99s/it]"
     ]
    },
    {
     "name": "stdout",
     "output_type": "stream",
     "text": [
      "Confusion matrix:\n",
      " [[ 5 68]\n",
      " [ 0 12]]\n",
      "{'dropout': 0.6, 'hidden_size': 25, 'learning_rate': 1e-05, 'batch_size': 64, 'n_hidden': 1, 'accuracy': 0.2, 'f1': 0.26}\n"
     ]
    },
    {
     "name": "stderr",
     "output_type": "stream",
     "text": [
      "574it [5:30:09, 19.47s/it]"
     ]
    },
    {
     "name": "stdout",
     "output_type": "stream",
     "text": [
      "Confusion matrix:\n",
      " [[66  7]\n",
      " [ 8  4]]\n",
      "{'dropout': 0.6, 'hidden_size': 25, 'learning_rate': 1e-05, 'batch_size': 64, 'n_hidden': 2, 'accuracy': 0.8235, 'f1': 0.35}\n"
     ]
    },
    {
     "name": "stderr",
     "output_type": "stream",
     "text": [
      "575it [5:30:14, 15.10s/it]"
     ]
    },
    {
     "name": "stdout",
     "output_type": "stream",
     "text": [
      "Confusion matrix:\n",
      " [[73  0]\n",
      " [12  0]]\n",
      "{'dropout': 0.6, 'hidden_size': 25, 'learning_rate': 1e-05, 'batch_size': 64, 'n_hidden': 3, 'accuracy': 0.8588, 'f1': 0.0}\n"
     ]
    },
    {
     "name": "stderr",
     "output_type": "stream",
     "text": [
      "576it [5:30:18, 11.89s/it]"
     ]
    },
    {
     "name": "stdout",
     "output_type": "stream",
     "text": [
      "Confusion matrix:\n",
      " [[ 0 73]\n",
      " [ 0 12]]\n",
      "{'dropout': 0.6, 'hidden_size': 25, 'learning_rate': 1e-05, 'batch_size': 64, 'n_hidden': 4, 'accuracy': 0.1412, 'f1': 0.25}\n"
     ]
    },
    {
     "name": "stderr",
     "output_type": "stream",
     "text": [
      "C:\\Users\\William\\AppData\\Roaming\\Python\\Python311\\site-packages\\torch\\nn\\modules\\rnn.py:82: UserWarning: dropout option adds dropout after all but last recurrent layer, so non-zero dropout expects num_layers greater than 1, but got dropout=0.6 and num_layers=1\n",
      "  warnings.warn(\"dropout option adds dropout after all but last \"\n",
      "C:\\Users\\William\\AppData\\Roaming\\Python\\Python311\\site-packages\\torch\\nn\\modules\\rnn.py:82: UserWarning: dropout option adds dropout after all but last recurrent layer, so non-zero dropout expects num_layers greater than 1, but got dropout=0.6 and num_layers=1\n",
      "  warnings.warn(\"dropout option adds dropout after all but last \"\n",
      "577it [5:30:39, 14.53s/it]"
     ]
    },
    {
     "name": "stdout",
     "output_type": "stream",
     "text": [
      "Confusion matrix:\n",
      " [[62 11]\n",
      " [ 2 10]]\n",
      "{'dropout': 0.6, 'hidden_size': 50, 'learning_rate': 0.01, 'batch_size': 8, 'n_hidden': 1, 'accuracy': 0.8471, 'f1': 0.61}\n"
     ]
    },
    {
     "name": "stderr",
     "output_type": "stream",
     "text": [
      "578it [5:30:57, 15.55s/it]"
     ]
    },
    {
     "name": "stdout",
     "output_type": "stream",
     "text": [
      "Confusion matrix:\n",
      " [[62 11]\n",
      " [ 1 11]]\n",
      "{'dropout': 0.6, 'hidden_size': 50, 'learning_rate': 0.01, 'batch_size': 8, 'n_hidden': 2, 'accuracy': 0.8588, 'f1': 0.65}\n"
     ]
    },
    {
     "name": "stderr",
     "output_type": "stream",
     "text": [
      "579it [5:31:15, 16.43s/it]"
     ]
    },
    {
     "name": "stdout",
     "output_type": "stream",
     "text": [
      "Confusion matrix:\n",
      " [[73  0]\n",
      " [12  0]]\n",
      "{'dropout': 0.6, 'hidden_size': 50, 'learning_rate': 0.01, 'batch_size': 8, 'n_hidden': 3, 'accuracy': 0.8588, 'f1': 0.0}\n"
     ]
    },
    {
     "name": "stderr",
     "output_type": "stream",
     "text": [
      "580it [5:31:34, 17.13s/it]"
     ]
    },
    {
     "name": "stdout",
     "output_type": "stream",
     "text": [
      "Confusion matrix:\n",
      " [[73  0]\n",
      " [12  0]]\n",
      "{'dropout': 0.6, 'hidden_size': 50, 'learning_rate': 0.01, 'batch_size': 8, 'n_hidden': 4, 'accuracy': 0.8588, 'f1': 0.0}\n"
     ]
    },
    {
     "name": "stderr",
     "output_type": "stream",
     "text": [
      "C:\\Users\\William\\AppData\\Roaming\\Python\\Python311\\site-packages\\torch\\nn\\modules\\rnn.py:82: UserWarning: dropout option adds dropout after all but last recurrent layer, so non-zero dropout expects num_layers greater than 1, but got dropout=0.6 and num_layers=1\n",
      "  warnings.warn(\"dropout option adds dropout after all but last \"\n",
      "C:\\Users\\William\\AppData\\Roaming\\Python\\Python311\\site-packages\\torch\\nn\\modules\\rnn.py:82: UserWarning: dropout option adds dropout after all but last recurrent layer, so non-zero dropout expects num_layers greater than 1, but got dropout=0.6 and num_layers=1\n",
      "  warnings.warn(\"dropout option adds dropout after all but last \"\n",
      "581it [5:31:59, 19.42s/it]"
     ]
    },
    {
     "name": "stdout",
     "output_type": "stream",
     "text": [
      "Confusion matrix:\n",
      " [[62 11]\n",
      " [ 4  8]]\n",
      "{'dropout': 0.6, 'hidden_size': 50, 'learning_rate': 0.01, 'batch_size': 16, 'n_hidden': 1, 'accuracy': 0.8235, 'f1': 0.52}\n"
     ]
    },
    {
     "name": "stderr",
     "output_type": "stream",
     "text": [
      "582it [5:32:09, 16.49s/it]"
     ]
    },
    {
     "name": "stdout",
     "output_type": "stream",
     "text": [
      "Confusion matrix:\n",
      " [[69  4]\n",
      " [ 4  8]]\n",
      "{'dropout': 0.6, 'hidden_size': 50, 'learning_rate': 0.01, 'batch_size': 16, 'n_hidden': 2, 'accuracy': 0.9059, 'f1': 0.67}\n"
     ]
    },
    {
     "name": "stderr",
     "output_type": "stream",
     "text": [
      "583it [5:32:29, 17.53s/it]"
     ]
    },
    {
     "name": "stdout",
     "output_type": "stream",
     "text": [
      "Confusion matrix:\n",
      " [[72  1]\n",
      " [ 3  9]]\n",
      "{'dropout': 0.6, 'hidden_size': 50, 'learning_rate': 0.01, 'batch_size': 16, 'n_hidden': 3, 'accuracy': 0.9529, 'f1': 0.82}\n"
     ]
    },
    {
     "name": "stderr",
     "output_type": "stream",
     "text": [
      "584it [5:32:54, 19.89s/it]"
     ]
    },
    {
     "name": "stdout",
     "output_type": "stream",
     "text": [
      "Confusion matrix:\n",
      " [[73  0]\n",
      " [12  0]]\n",
      "{'dropout': 0.6, 'hidden_size': 50, 'learning_rate': 0.01, 'batch_size': 16, 'n_hidden': 4, 'accuracy': 0.8588, 'f1': 0.0}\n"
     ]
    },
    {
     "name": "stderr",
     "output_type": "stream",
     "text": [
      "C:\\Users\\William\\AppData\\Roaming\\Python\\Python311\\site-packages\\torch\\nn\\modules\\rnn.py:82: UserWarning: dropout option adds dropout after all but last recurrent layer, so non-zero dropout expects num_layers greater than 1, but got dropout=0.6 and num_layers=1\n",
      "  warnings.warn(\"dropout option adds dropout after all but last \"\n",
      "C:\\Users\\William\\AppData\\Roaming\\Python\\Python311\\site-packages\\torch\\nn\\modules\\rnn.py:82: UserWarning: dropout option adds dropout after all but last recurrent layer, so non-zero dropout expects num_layers greater than 1, but got dropout=0.6 and num_layers=1\n",
      "  warnings.warn(\"dropout option adds dropout after all but last \"\n",
      "585it [5:33:01, 16.05s/it]"
     ]
    },
    {
     "name": "stdout",
     "output_type": "stream",
     "text": [
      "Confusion matrix:\n",
      " [[68  5]\n",
      " [ 2 10]]\n",
      "{'dropout': 0.6, 'hidden_size': 50, 'learning_rate': 0.01, 'batch_size': 32, 'n_hidden': 1, 'accuracy': 0.9176, 'f1': 0.74}\n"
     ]
    },
    {
     "name": "stderr",
     "output_type": "stream",
     "text": [
      "586it [5:33:15, 15.43s/it]"
     ]
    },
    {
     "name": "stdout",
     "output_type": "stream",
     "text": [
      "Confusion matrix:\n",
      " [[62 11]\n",
      " [ 1 11]]\n",
      "{'dropout': 0.6, 'hidden_size': 50, 'learning_rate': 0.01, 'batch_size': 32, 'n_hidden': 2, 'accuracy': 0.8588, 'f1': 0.65}\n"
     ]
    },
    {
     "name": "stderr",
     "output_type": "stream",
     "text": [
      "587it [5:33:30, 15.42s/it]"
     ]
    },
    {
     "name": "stdout",
     "output_type": "stream",
     "text": [
      "Confusion matrix:\n",
      " [[67  6]\n",
      " [ 2 10]]\n",
      "{'dropout': 0.6, 'hidden_size': 50, 'learning_rate': 0.01, 'batch_size': 32, 'n_hidden': 3, 'accuracy': 0.9059, 'f1': 0.71}\n"
     ]
    },
    {
     "name": "stderr",
     "output_type": "stream",
     "text": [
      "588it [5:33:42, 14.42s/it]"
     ]
    },
    {
     "name": "stdout",
     "output_type": "stream",
     "text": [
      "Confusion matrix:\n",
      " [[65  8]\n",
      " [ 2 10]]\n",
      "{'dropout': 0.6, 'hidden_size': 50, 'learning_rate': 0.01, 'batch_size': 32, 'n_hidden': 4, 'accuracy': 0.8824, 'f1': 0.67}\n"
     ]
    },
    {
     "name": "stderr",
     "output_type": "stream",
     "text": [
      "C:\\Users\\William\\AppData\\Roaming\\Python\\Python311\\site-packages\\torch\\nn\\modules\\rnn.py:82: UserWarning: dropout option adds dropout after all but last recurrent layer, so non-zero dropout expects num_layers greater than 1, but got dropout=0.6 and num_layers=1\n",
      "  warnings.warn(\"dropout option adds dropout after all but last \"\n",
      "C:\\Users\\William\\AppData\\Roaming\\Python\\Python311\\site-packages\\torch\\nn\\modules\\rnn.py:82: UserWarning: dropout option adds dropout after all but last recurrent layer, so non-zero dropout expects num_layers greater than 1, but got dropout=0.6 and num_layers=1\n",
      "  warnings.warn(\"dropout option adds dropout after all but last \"\n",
      "589it [5:33:51, 12.71s/it]"
     ]
    },
    {
     "name": "stdout",
     "output_type": "stream",
     "text": [
      "Confusion matrix:\n",
      " [[68  5]\n",
      " [ 2 10]]\n",
      "{'dropout': 0.6, 'hidden_size': 50, 'learning_rate': 0.01, 'batch_size': 64, 'n_hidden': 1, 'accuracy': 0.9176, 'f1': 0.74}\n"
     ]
    },
    {
     "name": "stderr",
     "output_type": "stream",
     "text": [
      "590it [5:33:58, 10.81s/it]"
     ]
    },
    {
     "name": "stdout",
     "output_type": "stream",
     "text": [
      "Confusion matrix:\n",
      " [[58 15]\n",
      " [ 1 11]]\n",
      "{'dropout': 0.6, 'hidden_size': 50, 'learning_rate': 0.01, 'batch_size': 64, 'n_hidden': 2, 'accuracy': 0.8118, 'f1': 0.58}\n"
     ]
    },
    {
     "name": "stderr",
     "output_type": "stream",
     "text": [
      "591it [5:34:11, 11.68s/it]"
     ]
    },
    {
     "name": "stdout",
     "output_type": "stream",
     "text": [
      "Confusion matrix:\n",
      " [[58 15]\n",
      " [ 0 12]]\n",
      "{'dropout': 0.6, 'hidden_size': 50, 'learning_rate': 0.01, 'batch_size': 64, 'n_hidden': 3, 'accuracy': 0.8235, 'f1': 0.62}\n"
     ]
    },
    {
     "name": "stderr",
     "output_type": "stream",
     "text": [
      "592it [5:34:27, 12.90s/it]"
     ]
    },
    {
     "name": "stdout",
     "output_type": "stream",
     "text": [
      "Confusion matrix:\n",
      " [[70  3]\n",
      " [ 2 10]]\n",
      "{'dropout': 0.6, 'hidden_size': 50, 'learning_rate': 0.01, 'batch_size': 64, 'n_hidden': 4, 'accuracy': 0.9412, 'f1': 0.8}\n"
     ]
    },
    {
     "name": "stderr",
     "output_type": "stream",
     "text": [
      "C:\\Users\\William\\AppData\\Roaming\\Python\\Python311\\site-packages\\torch\\nn\\modules\\rnn.py:82: UserWarning: dropout option adds dropout after all but last recurrent layer, so non-zero dropout expects num_layers greater than 1, but got dropout=0.6 and num_layers=1\n",
      "  warnings.warn(\"dropout option adds dropout after all but last \"\n",
      "C:\\Users\\William\\AppData\\Roaming\\Python\\Python311\\site-packages\\torch\\nn\\modules\\rnn.py:82: UserWarning: dropout option adds dropout after all but last recurrent layer, so non-zero dropout expects num_layers greater than 1, but got dropout=0.6 and num_layers=1\n",
      "  warnings.warn(\"dropout option adds dropout after all but last \"\n",
      "593it [5:34:58, 18.34s/it]"
     ]
    },
    {
     "name": "stdout",
     "output_type": "stream",
     "text": [
      "Confusion matrix:\n",
      " [[71  2]\n",
      " [ 6  6]]\n",
      "{'dropout': 0.6, 'hidden_size': 50, 'learning_rate': 0.001, 'batch_size': 8, 'n_hidden': 1, 'accuracy': 0.9059, 'f1': 0.6}\n"
     ]
    },
    {
     "name": "stderr",
     "output_type": "stream",
     "text": [
      "594it [5:35:35, 24.02s/it]"
     ]
    },
    {
     "name": "stdout",
     "output_type": "stream",
     "text": [
      "Confusion matrix:\n",
      " [[66  7]\n",
      " [ 3  9]]\n",
      "{'dropout': 0.6, 'hidden_size': 50, 'learning_rate': 0.001, 'batch_size': 8, 'n_hidden': 2, 'accuracy': 0.8824, 'f1': 0.64}\n"
     ]
    },
    {
     "name": "stderr",
     "output_type": "stream",
     "text": [
      "595it [5:36:26, 32.14s/it]"
     ]
    },
    {
     "name": "stdout",
     "output_type": "stream",
     "text": [
      "Confusion matrix:\n",
      " [[64  9]\n",
      " [ 2 10]]\n",
      "{'dropout': 0.6, 'hidden_size': 50, 'learning_rate': 0.001, 'batch_size': 8, 'n_hidden': 3, 'accuracy': 0.8706, 'f1': 0.65}\n"
     ]
    },
    {
     "name": "stderr",
     "output_type": "stream",
     "text": [
      "596it [5:37:09, 35.41s/it]"
     ]
    },
    {
     "name": "stdout",
     "output_type": "stream",
     "text": [
      "Confusion matrix:\n",
      " [[68  5]\n",
      " [ 4  8]]\n",
      "{'dropout': 0.6, 'hidden_size': 50, 'learning_rate': 0.001, 'batch_size': 8, 'n_hidden': 4, 'accuracy': 0.8941, 'f1': 0.64}\n"
     ]
    },
    {
     "name": "stderr",
     "output_type": "stream",
     "text": [
      "C:\\Users\\William\\AppData\\Roaming\\Python\\Python311\\site-packages\\torch\\nn\\modules\\rnn.py:82: UserWarning: dropout option adds dropout after all but last recurrent layer, so non-zero dropout expects num_layers greater than 1, but got dropout=0.6 and num_layers=1\n",
      "  warnings.warn(\"dropout option adds dropout after all but last \"\n",
      "C:\\Users\\William\\AppData\\Roaming\\Python\\Python311\\site-packages\\torch\\nn\\modules\\rnn.py:82: UserWarning: dropout option adds dropout after all but last recurrent layer, so non-zero dropout expects num_layers greater than 1, but got dropout=0.6 and num_layers=1\n",
      "  warnings.warn(\"dropout option adds dropout after all but last \"\n",
      "597it [5:37:37, 33.17s/it]"
     ]
    },
    {
     "name": "stdout",
     "output_type": "stream",
     "text": [
      "Confusion matrix:\n",
      " [[65  8]\n",
      " [ 2 10]]\n",
      "{'dropout': 0.6, 'hidden_size': 50, 'learning_rate': 0.001, 'batch_size': 16, 'n_hidden': 1, 'accuracy': 0.8824, 'f1': 0.67}\n"
     ]
    },
    {
     "name": "stderr",
     "output_type": "stream",
     "text": [
      "598it [5:38:08, 32.32s/it]"
     ]
    },
    {
     "name": "stdout",
     "output_type": "stream",
     "text": [
      "Confusion matrix:\n",
      " [[66  7]\n",
      " [ 2 10]]\n",
      "{'dropout': 0.6, 'hidden_size': 50, 'learning_rate': 0.001, 'batch_size': 16, 'n_hidden': 2, 'accuracy': 0.8941, 'f1': 0.69}\n"
     ]
    },
    {
     "name": "stderr",
     "output_type": "stream",
     "text": [
      "599it [5:38:37, 31.47s/it]"
     ]
    },
    {
     "name": "stdout",
     "output_type": "stream",
     "text": [
      "Confusion matrix:\n",
      " [[57 16]\n",
      " [ 0 12]]\n",
      "{'dropout': 0.6, 'hidden_size': 50, 'learning_rate': 0.001, 'batch_size': 16, 'n_hidden': 3, 'accuracy': 0.8118, 'f1': 0.6}\n"
     ]
    },
    {
     "name": "stderr",
     "output_type": "stream",
     "text": [
      "600it [5:39:20, 34.77s/it]"
     ]
    },
    {
     "name": "stdout",
     "output_type": "stream",
     "text": [
      "Confusion matrix:\n",
      " [[64  9]\n",
      " [ 2 10]]\n",
      "{'dropout': 0.6, 'hidden_size': 50, 'learning_rate': 0.001, 'batch_size': 16, 'n_hidden': 4, 'accuracy': 0.8706, 'f1': 0.65}\n"
     ]
    },
    {
     "name": "stderr",
     "output_type": "stream",
     "text": [
      "C:\\Users\\William\\AppData\\Roaming\\Python\\Python311\\site-packages\\torch\\nn\\modules\\rnn.py:82: UserWarning: dropout option adds dropout after all but last recurrent layer, so non-zero dropout expects num_layers greater than 1, but got dropout=0.6 and num_layers=1\n",
      "  warnings.warn(\"dropout option adds dropout after all but last \"\n",
      "C:\\Users\\William\\AppData\\Roaming\\Python\\Python311\\site-packages\\torch\\nn\\modules\\rnn.py:82: UserWarning: dropout option adds dropout after all but last recurrent layer, so non-zero dropout expects num_layers greater than 1, but got dropout=0.6 and num_layers=1\n",
      "  warnings.warn(\"dropout option adds dropout after all but last \"\n",
      "601it [5:39:36, 29.28s/it]"
     ]
    },
    {
     "name": "stdout",
     "output_type": "stream",
     "text": [
      "Confusion matrix:\n",
      " [[69  4]\n",
      " [ 4  8]]\n",
      "{'dropout': 0.6, 'hidden_size': 50, 'learning_rate': 0.001, 'batch_size': 32, 'n_hidden': 1, 'accuracy': 0.9059, 'f1': 0.67}\n"
     ]
    },
    {
     "name": "stderr",
     "output_type": "stream",
     "text": [
      "602it [5:39:50, 24.74s/it]"
     ]
    },
    {
     "name": "stdout",
     "output_type": "stream",
     "text": [
      "Confusion matrix:\n",
      " [[66  7]\n",
      " [ 2 10]]\n",
      "{'dropout': 0.6, 'hidden_size': 50, 'learning_rate': 0.001, 'batch_size': 32, 'n_hidden': 2, 'accuracy': 0.8941, 'f1': 0.69}\n"
     ]
    },
    {
     "name": "stderr",
     "output_type": "stream",
     "text": [
      "603it [5:40:19, 25.82s/it]"
     ]
    },
    {
     "name": "stdout",
     "output_type": "stream",
     "text": [
      "Confusion matrix:\n",
      " [[65  8]\n",
      " [ 4  8]]\n",
      "{'dropout': 0.6, 'hidden_size': 50, 'learning_rate': 0.001, 'batch_size': 32, 'n_hidden': 3, 'accuracy': 0.8588, 'f1': 0.57}\n"
     ]
    },
    {
     "name": "stderr",
     "output_type": "stream",
     "text": [
      "604it [5:40:47, 26.71s/it]"
     ]
    },
    {
     "name": "stdout",
     "output_type": "stream",
     "text": [
      "Confusion matrix:\n",
      " [[63 10]\n",
      " [ 2 10]]\n",
      "{'dropout': 0.6, 'hidden_size': 50, 'learning_rate': 0.001, 'batch_size': 32, 'n_hidden': 4, 'accuracy': 0.8588, 'f1': 0.62}\n"
     ]
    },
    {
     "name": "stderr",
     "output_type": "stream",
     "text": [
      "C:\\Users\\William\\AppData\\Roaming\\Python\\Python311\\site-packages\\torch\\nn\\modules\\rnn.py:82: UserWarning: dropout option adds dropout after all but last recurrent layer, so non-zero dropout expects num_layers greater than 1, but got dropout=0.6 and num_layers=1\n",
      "  warnings.warn(\"dropout option adds dropout after all but last \"\n",
      "C:\\Users\\William\\AppData\\Roaming\\Python\\Python311\\site-packages\\torch\\nn\\modules\\rnn.py:82: UserWarning: dropout option adds dropout after all but last recurrent layer, so non-zero dropout expects num_layers greater than 1, but got dropout=0.6 and num_layers=1\n",
      "  warnings.warn(\"dropout option adds dropout after all but last \"\n",
      "605it [5:40:59, 22.21s/it]"
     ]
    },
    {
     "name": "stdout",
     "output_type": "stream",
     "text": [
      "Confusion matrix:\n",
      " [[63 10]\n",
      " [ 1 11]]\n",
      "{'dropout': 0.6, 'hidden_size': 50, 'learning_rate': 0.001, 'batch_size': 64, 'n_hidden': 1, 'accuracy': 0.8706, 'f1': 0.67}\n"
     ]
    },
    {
     "name": "stderr",
     "output_type": "stream",
     "text": [
      "606it [5:41:16, 20.45s/it]"
     ]
    },
    {
     "name": "stdout",
     "output_type": "stream",
     "text": [
      "Confusion matrix:\n",
      " [[67  6]\n",
      " [ 4  8]]\n",
      "{'dropout': 0.6, 'hidden_size': 50, 'learning_rate': 0.001, 'batch_size': 64, 'n_hidden': 2, 'accuracy': 0.8824, 'f1': 0.62}\n"
     ]
    },
    {
     "name": "stderr",
     "output_type": "stream",
     "text": [
      "607it [5:41:28, 18.19s/it]"
     ]
    },
    {
     "name": "stdout",
     "output_type": "stream",
     "text": [
      "Confusion matrix:\n",
      " [[61 12]\n",
      " [ 1 11]]\n",
      "{'dropout': 0.6, 'hidden_size': 50, 'learning_rate': 0.001, 'batch_size': 64, 'n_hidden': 3, 'accuracy': 0.8471, 'f1': 0.63}\n"
     ]
    },
    {
     "name": "stderr",
     "output_type": "stream",
     "text": [
      "608it [5:41:43, 17.11s/it]"
     ]
    },
    {
     "name": "stdout",
     "output_type": "stream",
     "text": [
      "Confusion matrix:\n",
      " [[66  7]\n",
      " [ 1 11]]\n",
      "{'dropout': 0.6, 'hidden_size': 50, 'learning_rate': 0.001, 'batch_size': 64, 'n_hidden': 4, 'accuracy': 0.9059, 'f1': 0.73}\n"
     ]
    },
    {
     "name": "stderr",
     "output_type": "stream",
     "text": [
      "C:\\Users\\William\\AppData\\Roaming\\Python\\Python311\\site-packages\\torch\\nn\\modules\\rnn.py:82: UserWarning: dropout option adds dropout after all but last recurrent layer, so non-zero dropout expects num_layers greater than 1, but got dropout=0.6 and num_layers=1\n",
      "  warnings.warn(\"dropout option adds dropout after all but last \"\n",
      "C:\\Users\\William\\AppData\\Roaming\\Python\\Python311\\site-packages\\torch\\nn\\modules\\rnn.py:82: UserWarning: dropout option adds dropout after all but last recurrent layer, so non-zero dropout expects num_layers greater than 1, but got dropout=0.6 and num_layers=1\n",
      "  warnings.warn(\"dropout option adds dropout after all but last \"\n",
      "609it [5:43:42, 47.74s/it]"
     ]
    },
    {
     "name": "stdout",
     "output_type": "stream",
     "text": [
      "Confusion matrix:\n",
      " [[67  6]\n",
      " [ 3  9]]\n",
      "{'dropout': 0.6, 'hidden_size': 50, 'learning_rate': 0.0001, 'batch_size': 8, 'n_hidden': 1, 'accuracy': 0.8941, 'f1': 0.67}\n"
     ]
    },
    {
     "name": "stderr",
     "output_type": "stream",
     "text": [
      "610it [5:44:49, 53.49s/it]"
     ]
    },
    {
     "name": "stdout",
     "output_type": "stream",
     "text": [
      "Confusion matrix:\n",
      " [[70  3]\n",
      " [ 2 10]]\n",
      "{'dropout': 0.6, 'hidden_size': 50, 'learning_rate': 0.0001, 'batch_size': 8, 'n_hidden': 2, 'accuracy': 0.9412, 'f1': 0.8}\n"
     ]
    },
    {
     "name": "stderr",
     "output_type": "stream",
     "text": [
      "611it [5:46:08, 60.98s/it]"
     ]
    },
    {
     "name": "stdout",
     "output_type": "stream",
     "text": [
      "Confusion matrix:\n",
      " [[64  9]\n",
      " [ 1 11]]\n",
      "{'dropout': 0.6, 'hidden_size': 50, 'learning_rate': 0.0001, 'batch_size': 8, 'n_hidden': 3, 'accuracy': 0.8824, 'f1': 0.69}\n"
     ]
    },
    {
     "name": "stderr",
     "output_type": "stream",
     "text": [
      "612it [5:47:44, 71.54s/it]"
     ]
    },
    {
     "name": "stdout",
     "output_type": "stream",
     "text": [
      "Confusion matrix:\n",
      " [[68  5]\n",
      " [ 3  9]]\n",
      "{'dropout': 0.6, 'hidden_size': 50, 'learning_rate': 0.0001, 'batch_size': 8, 'n_hidden': 4, 'accuracy': 0.9059, 'f1': 0.69}\n"
     ]
    },
    {
     "name": "stderr",
     "output_type": "stream",
     "text": [
      "C:\\Users\\William\\AppData\\Roaming\\Python\\Python311\\site-packages\\torch\\nn\\modules\\rnn.py:82: UserWarning: dropout option adds dropout after all but last recurrent layer, so non-zero dropout expects num_layers greater than 1, but got dropout=0.6 and num_layers=1\n",
      "  warnings.warn(\"dropout option adds dropout after all but last \"\n",
      "C:\\Users\\William\\AppData\\Roaming\\Python\\Python311\\site-packages\\torch\\nn\\modules\\rnn.py:82: UserWarning: dropout option adds dropout after all but last recurrent layer, so non-zero dropout expects num_layers greater than 1, but got dropout=0.6 and num_layers=1\n",
      "  warnings.warn(\"dropout option adds dropout after all but last \"\n",
      "613it [5:48:32, 64.65s/it]"
     ]
    },
    {
     "name": "stdout",
     "output_type": "stream",
     "text": [
      "Confusion matrix:\n",
      " [[67  6]\n",
      " [ 2 10]]\n",
      "{'dropout': 0.6, 'hidden_size': 50, 'learning_rate': 0.0001, 'batch_size': 16, 'n_hidden': 1, 'accuracy': 0.9059, 'f1': 0.71}\n"
     ]
    },
    {
     "name": "stderr",
     "output_type": "stream",
     "text": [
      "614it [5:49:12, 57.24s/it]"
     ]
    },
    {
     "name": "stdout",
     "output_type": "stream",
     "text": [
      "Confusion matrix:\n",
      " [[64  9]\n",
      " [ 1 11]]\n",
      "{'dropout': 0.6, 'hidden_size': 50, 'learning_rate': 0.0001, 'batch_size': 16, 'n_hidden': 2, 'accuracy': 0.8824, 'f1': 0.69}\n"
     ]
    },
    {
     "name": "stderr",
     "output_type": "stream",
     "text": [
      "615it [5:50:13, 58.34s/it]"
     ]
    },
    {
     "name": "stdout",
     "output_type": "stream",
     "text": [
      "Confusion matrix:\n",
      " [[66  7]\n",
      " [ 2 10]]\n",
      "{'dropout': 0.6, 'hidden_size': 50, 'learning_rate': 0.0001, 'batch_size': 16, 'n_hidden': 3, 'accuracy': 0.8941, 'f1': 0.69}\n"
     ]
    },
    {
     "name": "stderr",
     "output_type": "stream",
     "text": [
      "616it [5:51:07, 57.09s/it]"
     ]
    },
    {
     "name": "stdout",
     "output_type": "stream",
     "text": [
      "Confusion matrix:\n",
      " [[67  6]\n",
      " [ 1 11]]\n",
      "{'dropout': 0.6, 'hidden_size': 50, 'learning_rate': 0.0001, 'batch_size': 16, 'n_hidden': 4, 'accuracy': 0.9176, 'f1': 0.76}\n"
     ]
    },
    {
     "name": "stderr",
     "output_type": "stream",
     "text": [
      "C:\\Users\\William\\AppData\\Roaming\\Python\\Python311\\site-packages\\torch\\nn\\modules\\rnn.py:82: UserWarning: dropout option adds dropout after all but last recurrent layer, so non-zero dropout expects num_layers greater than 1, but got dropout=0.6 and num_layers=1\n",
      "  warnings.warn(\"dropout option adds dropout after all but last \"\n",
      "C:\\Users\\William\\AppData\\Roaming\\Python\\Python311\\site-packages\\torch\\nn\\modules\\rnn.py:82: UserWarning: dropout option adds dropout after all but last recurrent layer, so non-zero dropout expects num_layers greater than 1, but got dropout=0.6 and num_layers=1\n",
      "  warnings.warn(\"dropout option adds dropout after all but last \"\n",
      "617it [5:51:41, 50.17s/it]"
     ]
    },
    {
     "name": "stdout",
     "output_type": "stream",
     "text": [
      "Confusion matrix:\n",
      " [[62 11]\n",
      " [ 1 11]]\n",
      "{'dropout': 0.6, 'hidden_size': 50, 'learning_rate': 0.0001, 'batch_size': 32, 'n_hidden': 1, 'accuracy': 0.8588, 'f1': 0.65}\n"
     ]
    },
    {
     "name": "stderr",
     "output_type": "stream",
     "text": [
      "618it [5:52:17, 45.91s/it]"
     ]
    },
    {
     "name": "stdout",
     "output_type": "stream",
     "text": [
      "Confusion matrix:\n",
      " [[60 13]\n",
      " [ 1 11]]\n",
      "{'dropout': 0.6, 'hidden_size': 50, 'learning_rate': 0.0001, 'batch_size': 32, 'n_hidden': 2, 'accuracy': 0.8353, 'f1': 0.61}\n"
     ]
    },
    {
     "name": "stderr",
     "output_type": "stream",
     "text": [
      "619it [5:52:56, 43.65s/it]"
     ]
    },
    {
     "name": "stdout",
     "output_type": "stream",
     "text": [
      "Confusion matrix:\n",
      " [[60 13]\n",
      " [ 1 11]]\n",
      "{'dropout': 0.6, 'hidden_size': 50, 'learning_rate': 0.0001, 'batch_size': 32, 'n_hidden': 3, 'accuracy': 0.8353, 'f1': 0.61}\n"
     ]
    },
    {
     "name": "stderr",
     "output_type": "stream",
     "text": [
      "620it [5:53:32, 41.30s/it]"
     ]
    },
    {
     "name": "stdout",
     "output_type": "stream",
     "text": [
      "Confusion matrix:\n",
      " [[67  6]\n",
      " [ 2 10]]\n",
      "{'dropout': 0.6, 'hidden_size': 50, 'learning_rate': 0.0001, 'batch_size': 32, 'n_hidden': 4, 'accuracy': 0.9059, 'f1': 0.71}\n"
     ]
    },
    {
     "name": "stderr",
     "output_type": "stream",
     "text": [
      "C:\\Users\\William\\AppData\\Roaming\\Python\\Python311\\site-packages\\torch\\nn\\modules\\rnn.py:82: UserWarning: dropout option adds dropout after all but last recurrent layer, so non-zero dropout expects num_layers greater than 1, but got dropout=0.6 and num_layers=1\n",
      "  warnings.warn(\"dropout option adds dropout after all but last \"\n",
      "C:\\Users\\William\\AppData\\Roaming\\Python\\Python311\\site-packages\\torch\\nn\\modules\\rnn.py:82: UserWarning: dropout option adds dropout after all but last recurrent layer, so non-zero dropout expects num_layers greater than 1, but got dropout=0.6 and num_layers=1\n",
      "  warnings.warn(\"dropout option adds dropout after all but last \"\n",
      "621it [5:53:59, 37.18s/it]"
     ]
    },
    {
     "name": "stdout",
     "output_type": "stream",
     "text": [
      "Confusion matrix:\n",
      " [[65  8]\n",
      " [ 1 11]]\n",
      "{'dropout': 0.6, 'hidden_size': 50, 'learning_rate': 0.0001, 'batch_size': 64, 'n_hidden': 1, 'accuracy': 0.8941, 'f1': 0.71}\n"
     ]
    },
    {
     "name": "stderr",
     "output_type": "stream",
     "text": [
      "622it [5:54:28, 34.77s/it]"
     ]
    },
    {
     "name": "stdout",
     "output_type": "stream",
     "text": [
      "Confusion matrix:\n",
      " [[61 12]\n",
      " [ 1 11]]\n",
      "{'dropout': 0.6, 'hidden_size': 50, 'learning_rate': 0.0001, 'batch_size': 64, 'n_hidden': 2, 'accuracy': 0.8471, 'f1': 0.63}\n"
     ]
    },
    {
     "name": "stderr",
     "output_type": "stream",
     "text": [
      "623it [5:55:01, 34.08s/it]"
     ]
    },
    {
     "name": "stdout",
     "output_type": "stream",
     "text": [
      "Confusion matrix:\n",
      " [[61 12]\n",
      " [ 2 10]]\n",
      "{'dropout': 0.6, 'hidden_size': 50, 'learning_rate': 0.0001, 'batch_size': 64, 'n_hidden': 3, 'accuracy': 0.8353, 'f1': 0.59}\n"
     ]
    },
    {
     "name": "stderr",
     "output_type": "stream",
     "text": [
      "624it [5:55:38, 34.92s/it]"
     ]
    },
    {
     "name": "stdout",
     "output_type": "stream",
     "text": [
      "Confusion matrix:\n",
      " [[61 12]\n",
      " [ 1 11]]\n",
      "{'dropout': 0.6, 'hidden_size': 50, 'learning_rate': 0.0001, 'batch_size': 64, 'n_hidden': 4, 'accuracy': 0.8471, 'f1': 0.63}\n"
     ]
    },
    {
     "name": "stderr",
     "output_type": "stream",
     "text": [
      "C:\\Users\\William\\AppData\\Roaming\\Python\\Python311\\site-packages\\torch\\nn\\modules\\rnn.py:82: UserWarning: dropout option adds dropout after all but last recurrent layer, so non-zero dropout expects num_layers greater than 1, but got dropout=0.6 and num_layers=1\n",
      "  warnings.warn(\"dropout option adds dropout after all but last \"\n",
      "C:\\Users\\William\\AppData\\Roaming\\Python\\Python311\\site-packages\\torch\\nn\\modules\\rnn.py:82: UserWarning: dropout option adds dropout after all but last recurrent layer, so non-zero dropout expects num_layers greater than 1, but got dropout=0.6 and num_layers=1\n",
      "  warnings.warn(\"dropout option adds dropout after all but last \"\n",
      "625it [5:57:00, 49.06s/it]"
     ]
    },
    {
     "name": "stdout",
     "output_type": "stream",
     "text": [
      "Confusion matrix:\n",
      " [[73  0]\n",
      " [12  0]]\n",
      "{'dropout': 0.6, 'hidden_size': 50, 'learning_rate': 1e-05, 'batch_size': 8, 'n_hidden': 1, 'accuracy': 0.8588, 'f1': 0.0}\n"
     ]
    },
    {
     "name": "stderr",
     "output_type": "stream",
     "text": [
      "626it [5:58:14, 56.50s/it]"
     ]
    },
    {
     "name": "stdout",
     "output_type": "stream",
     "text": [
      "Confusion matrix:\n",
      " [[73  0]\n",
      " [12  0]]\n",
      "{'dropout': 0.6, 'hidden_size': 50, 'learning_rate': 1e-05, 'batch_size': 8, 'n_hidden': 2, 'accuracy': 0.8588, 'f1': 0.0}\n"
     ]
    },
    {
     "name": "stderr",
     "output_type": "stream",
     "text": [
      "627it [6:00:40, 83.47s/it]"
     ]
    },
    {
     "name": "stdout",
     "output_type": "stream",
     "text": [
      "Confusion matrix:\n",
      " [[72  1]\n",
      " [ 9  3]]\n",
      "{'dropout': 0.6, 'hidden_size': 50, 'learning_rate': 1e-05, 'batch_size': 8, 'n_hidden': 3, 'accuracy': 0.8824, 'f1': 0.38}\n"
     ]
    },
    {
     "name": "stderr",
     "output_type": "stream",
     "text": [
      "628it [6:02:08, 84.73s/it]"
     ]
    },
    {
     "name": "stdout",
     "output_type": "stream",
     "text": [
      "Confusion matrix:\n",
      " [[73  0]\n",
      " [12  0]]\n",
      "{'dropout': 0.6, 'hidden_size': 50, 'learning_rate': 1e-05, 'batch_size': 8, 'n_hidden': 4, 'accuracy': 0.8588, 'f1': 0.0}\n"
     ]
    },
    {
     "name": "stderr",
     "output_type": "stream",
     "text": [
      "C:\\Users\\William\\AppData\\Roaming\\Python\\Python311\\site-packages\\torch\\nn\\modules\\rnn.py:82: UserWarning: dropout option adds dropout after all but last recurrent layer, so non-zero dropout expects num_layers greater than 1, but got dropout=0.6 and num_layers=1\n",
      "  warnings.warn(\"dropout option adds dropout after all but last \"\n",
      "C:\\Users\\William\\AppData\\Roaming\\Python\\Python311\\site-packages\\torch\\nn\\modules\\rnn.py:82: UserWarning: dropout option adds dropout after all but last recurrent layer, so non-zero dropout expects num_layers greater than 1, but got dropout=0.6 and num_layers=1\n",
      "  warnings.warn(\"dropout option adds dropout after all but last \"\n",
      "629it [6:03:03, 75.98s/it]"
     ]
    },
    {
     "name": "stdout",
     "output_type": "stream",
     "text": [
      "Confusion matrix:\n",
      " [[71  2]\n",
      " [12  0]]\n",
      "{'dropout': 0.6, 'hidden_size': 50, 'learning_rate': 1e-05, 'batch_size': 16, 'n_hidden': 1, 'accuracy': 0.8353, 'f1': 0.0}\n"
     ]
    },
    {
     "name": "stderr",
     "output_type": "stream",
     "text": [
      "630it [6:03:49, 66.87s/it]"
     ]
    },
    {
     "name": "stdout",
     "output_type": "stream",
     "text": [
      "Confusion matrix:\n",
      " [[73  0]\n",
      " [12  0]]\n",
      "{'dropout': 0.6, 'hidden_size': 50, 'learning_rate': 1e-05, 'batch_size': 16, 'n_hidden': 2, 'accuracy': 0.8588, 'f1': 0.0}\n"
     ]
    },
    {
     "name": "stderr",
     "output_type": "stream",
     "text": [
      "631it [6:04:39, 61.76s/it]"
     ]
    },
    {
     "name": "stdout",
     "output_type": "stream",
     "text": [
      "Confusion matrix:\n",
      " [[73  0]\n",
      " [12  0]]\n",
      "{'dropout': 0.6, 'hidden_size': 50, 'learning_rate': 1e-05, 'batch_size': 16, 'n_hidden': 3, 'accuracy': 0.8588, 'f1': 0.0}\n"
     ]
    },
    {
     "name": "stderr",
     "output_type": "stream",
     "text": [
      "632it [6:05:31, 58.96s/it]"
     ]
    },
    {
     "name": "stdout",
     "output_type": "stream",
     "text": [
      "Confusion matrix:\n",
      " [[73  0]\n",
      " [12  0]]\n",
      "{'dropout': 0.6, 'hidden_size': 50, 'learning_rate': 1e-05, 'batch_size': 16, 'n_hidden': 4, 'accuracy': 0.8588, 'f1': 0.0}\n"
     ]
    },
    {
     "name": "stderr",
     "output_type": "stream",
     "text": [
      "C:\\Users\\William\\AppData\\Roaming\\Python\\Python311\\site-packages\\torch\\nn\\modules\\rnn.py:82: UserWarning: dropout option adds dropout after all but last recurrent layer, so non-zero dropout expects num_layers greater than 1, but got dropout=0.6 and num_layers=1\n",
      "  warnings.warn(\"dropout option adds dropout after all but last \"\n",
      "C:\\Users\\William\\AppData\\Roaming\\Python\\Python311\\site-packages\\torch\\nn\\modules\\rnn.py:82: UserWarning: dropout option adds dropout after all but last recurrent layer, so non-zero dropout expects num_layers greater than 1, but got dropout=0.6 and num_layers=1\n",
      "  warnings.warn(\"dropout option adds dropout after all but last \"\n",
      "633it [6:06:00, 50.03s/it]"
     ]
    },
    {
     "name": "stdout",
     "output_type": "stream",
     "text": [
      "Confusion matrix:\n",
      " [[65  8]\n",
      " [10  2]]\n",
      "{'dropout': 0.6, 'hidden_size': 50, 'learning_rate': 1e-05, 'batch_size': 32, 'n_hidden': 1, 'accuracy': 0.7882, 'f1': 0.18}\n"
     ]
    },
    {
     "name": "stderr",
     "output_type": "stream",
     "text": [
      "634it [6:06:14, 39.06s/it]"
     ]
    },
    {
     "name": "stdout",
     "output_type": "stream",
     "text": [
      "Confusion matrix:\n",
      " [[73  0]\n",
      " [12  0]]\n",
      "{'dropout': 0.6, 'hidden_size': 50, 'learning_rate': 1e-05, 'batch_size': 32, 'n_hidden': 2, 'accuracy': 0.8588, 'f1': 0.0}\n"
     ]
    },
    {
     "name": "stderr",
     "output_type": "stream",
     "text": [
      "635it [6:06:41, 35.57s/it]"
     ]
    },
    {
     "name": "stdout",
     "output_type": "stream",
     "text": [
      "Confusion matrix:\n",
      " [[73  0]\n",
      " [12  0]]\n",
      "{'dropout': 0.6, 'hidden_size': 50, 'learning_rate': 1e-05, 'batch_size': 32, 'n_hidden': 3, 'accuracy': 0.8588, 'f1': 0.0}\n"
     ]
    },
    {
     "name": "stderr",
     "output_type": "stream",
     "text": [
      "636it [6:07:28, 38.94s/it]"
     ]
    },
    {
     "name": "stdout",
     "output_type": "stream",
     "text": [
      "Confusion matrix:\n",
      " [[73  0]\n",
      " [12  0]]\n",
      "{'dropout': 0.6, 'hidden_size': 50, 'learning_rate': 1e-05, 'batch_size': 32, 'n_hidden': 4, 'accuracy': 0.8588, 'f1': 0.0}\n"
     ]
    },
    {
     "name": "stderr",
     "output_type": "stream",
     "text": [
      "C:\\Users\\William\\AppData\\Roaming\\Python\\Python311\\site-packages\\torch\\nn\\modules\\rnn.py:82: UserWarning: dropout option adds dropout after all but last recurrent layer, so non-zero dropout expects num_layers greater than 1, but got dropout=0.6 and num_layers=1\n",
      "  warnings.warn(\"dropout option adds dropout after all but last \"\n",
      "C:\\Users\\William\\AppData\\Roaming\\Python\\Python311\\site-packages\\torch\\nn\\modules\\rnn.py:82: UserWarning: dropout option adds dropout after all but last recurrent layer, so non-zero dropout expects num_layers greater than 1, but got dropout=0.6 and num_layers=1\n",
      "  warnings.warn(\"dropout option adds dropout after all but last \"\n",
      "637it [6:07:42, 31.47s/it]"
     ]
    },
    {
     "name": "stdout",
     "output_type": "stream",
     "text": [
      "Confusion matrix:\n",
      " [[45 28]\n",
      " [ 5  7]]\n",
      "{'dropout': 0.6, 'hidden_size': 50, 'learning_rate': 1e-05, 'batch_size': 64, 'n_hidden': 1, 'accuracy': 0.6118, 'f1': 0.3}\n"
     ]
    },
    {
     "name": "stderr",
     "output_type": "stream",
     "text": [
      "638it [6:07:52, 25.01s/it]"
     ]
    },
    {
     "name": "stdout",
     "output_type": "stream",
     "text": [
      "Confusion matrix:\n",
      " [[73  0]\n",
      " [12  0]]\n",
      "{'dropout': 0.6, 'hidden_size': 50, 'learning_rate': 1e-05, 'batch_size': 64, 'n_hidden': 2, 'accuracy': 0.8588, 'f1': 0.0}\n"
     ]
    },
    {
     "name": "stderr",
     "output_type": "stream",
     "text": [
      "639it [6:08:29, 28.51s/it]"
     ]
    },
    {
     "name": "stdout",
     "output_type": "stream",
     "text": [
      "Confusion matrix:\n",
      " [[73  0]\n",
      " [11  1]]\n",
      "{'dropout': 0.6, 'hidden_size': 50, 'learning_rate': 1e-05, 'batch_size': 64, 'n_hidden': 3, 'accuracy': 0.8706, 'f1': 0.15}\n"
     ]
    },
    {
     "name": "stderr",
     "output_type": "stream",
     "text": [
      "640it [6:08:34, 21.71s/it]"
     ]
    },
    {
     "name": "stdout",
     "output_type": "stream",
     "text": [
      "Confusion matrix:\n",
      " [[ 0 73]\n",
      " [ 0 12]]\n",
      "{'dropout': 0.6, 'hidden_size': 50, 'learning_rate': 1e-05, 'batch_size': 64, 'n_hidden': 4, 'accuracy': 0.1412, 'f1': 0.25}\n"
     ]
    },
    {
     "name": "stderr",
     "output_type": "stream",
     "text": [
      "C:\\Users\\William\\AppData\\Roaming\\Python\\Python311\\site-packages\\torch\\nn\\modules\\rnn.py:82: UserWarning: dropout option adds dropout after all but last recurrent layer, so non-zero dropout expects num_layers greater than 1, but got dropout=0.6 and num_layers=1\n",
      "  warnings.warn(\"dropout option adds dropout after all but last \"\n",
      "C:\\Users\\William\\AppData\\Roaming\\Python\\Python311\\site-packages\\torch\\nn\\modules\\rnn.py:82: UserWarning: dropout option adds dropout after all but last recurrent layer, so non-zero dropout expects num_layers greater than 1, but got dropout=0.6 and num_layers=1\n",
      "  warnings.warn(\"dropout option adds dropout after all but last \"\n",
      "641it [6:09:09, 25.44s/it]"
     ]
    },
    {
     "name": "stdout",
     "output_type": "stream",
     "text": [
      "Confusion matrix:\n",
      " [[68  5]\n",
      " [ 1 11]]\n",
      "{'dropout': 0.6, 'hidden_size': 75, 'learning_rate': 0.01, 'batch_size': 8, 'n_hidden': 1, 'accuracy': 0.9294, 'f1': 0.79}\n"
     ]
    },
    {
     "name": "stderr",
     "output_type": "stream",
     "text": [
      "642it [6:10:01, 33.45s/it]"
     ]
    },
    {
     "name": "stdout",
     "output_type": "stream",
     "text": [
      "Confusion matrix:\n",
      " [[67  6]\n",
      " [ 4  8]]\n",
      "{'dropout': 0.6, 'hidden_size': 75, 'learning_rate': 0.01, 'batch_size': 8, 'n_hidden': 2, 'accuracy': 0.8824, 'f1': 0.62}\n"
     ]
    },
    {
     "name": "stderr",
     "output_type": "stream",
     "text": [
      "643it [6:10:32, 32.95s/it]"
     ]
    },
    {
     "name": "stdout",
     "output_type": "stream",
     "text": [
      "Confusion matrix:\n",
      " [[72  1]\n",
      " [10  2]]\n",
      "{'dropout': 0.6, 'hidden_size': 75, 'learning_rate': 0.01, 'batch_size': 8, 'n_hidden': 3, 'accuracy': 0.8706, 'f1': 0.27}\n"
     ]
    },
    {
     "name": "stderr",
     "output_type": "stream",
     "text": [
      "644it [6:11:12, 34.78s/it]"
     ]
    },
    {
     "name": "stdout",
     "output_type": "stream",
     "text": [
      "Confusion matrix:\n",
      " [[73  0]\n",
      " [12  0]]\n",
      "{'dropout': 0.6, 'hidden_size': 75, 'learning_rate': 0.01, 'batch_size': 8, 'n_hidden': 4, 'accuracy': 0.8588, 'f1': 0.0}\n"
     ]
    },
    {
     "name": "stderr",
     "output_type": "stream",
     "text": [
      "C:\\Users\\William\\AppData\\Roaming\\Python\\Python311\\site-packages\\torch\\nn\\modules\\rnn.py:82: UserWarning: dropout option adds dropout after all but last recurrent layer, so non-zero dropout expects num_layers greater than 1, but got dropout=0.6 and num_layers=1\n",
      "  warnings.warn(\"dropout option adds dropout after all but last \"\n",
      "C:\\Users\\William\\AppData\\Roaming\\Python\\Python311\\site-packages\\torch\\nn\\modules\\rnn.py:82: UserWarning: dropout option adds dropout after all but last recurrent layer, so non-zero dropout expects num_layers greater than 1, but got dropout=0.6 and num_layers=1\n",
      "  warnings.warn(\"dropout option adds dropout after all but last \"\n",
      "645it [6:11:33, 30.68s/it]"
     ]
    },
    {
     "name": "stdout",
     "output_type": "stream",
     "text": [
      "Confusion matrix:\n",
      " [[69  4]\n",
      " [ 4  8]]\n",
      "{'dropout': 0.6, 'hidden_size': 75, 'learning_rate': 0.01, 'batch_size': 16, 'n_hidden': 1, 'accuracy': 0.9059, 'f1': 0.67}\n"
     ]
    },
    {
     "name": "stderr",
     "output_type": "stream",
     "text": [
      "646it [6:11:58, 29.12s/it]"
     ]
    },
    {
     "name": "stdout",
     "output_type": "stream",
     "text": [
      "Confusion matrix:\n",
      " [[66  7]\n",
      " [ 4  8]]\n",
      "{'dropout': 0.6, 'hidden_size': 75, 'learning_rate': 0.01, 'batch_size': 16, 'n_hidden': 2, 'accuracy': 0.8706, 'f1': 0.59}\n"
     ]
    },
    {
     "name": "stderr",
     "output_type": "stream",
     "text": [
      "647it [6:12:10, 23.88s/it]"
     ]
    },
    {
     "name": "stdout",
     "output_type": "stream",
     "text": [
      "Confusion matrix:\n",
      " [[65  8]\n",
      " [10  2]]\n",
      "{'dropout': 0.6, 'hidden_size': 75, 'learning_rate': 0.01, 'batch_size': 16, 'n_hidden': 3, 'accuracy': 0.7882, 'f1': 0.18}\n"
     ]
    },
    {
     "name": "stderr",
     "output_type": "stream",
     "text": [
      "648it [6:12:21, 20.13s/it]"
     ]
    },
    {
     "name": "stdout",
     "output_type": "stream",
     "text": [
      "Confusion matrix:\n",
      " [[73  0]\n",
      " [12  0]]\n",
      "{'dropout': 0.6, 'hidden_size': 75, 'learning_rate': 0.01, 'batch_size': 16, 'n_hidden': 4, 'accuracy': 0.8588, 'f1': 0.0}\n"
     ]
    },
    {
     "name": "stderr",
     "output_type": "stream",
     "text": [
      "C:\\Users\\William\\AppData\\Roaming\\Python\\Python311\\site-packages\\torch\\nn\\modules\\rnn.py:82: UserWarning: dropout option adds dropout after all but last recurrent layer, so non-zero dropout expects num_layers greater than 1, but got dropout=0.6 and num_layers=1\n",
      "  warnings.warn(\"dropout option adds dropout after all but last \"\n",
      "C:\\Users\\William\\AppData\\Roaming\\Python\\Python311\\site-packages\\torch\\nn\\modules\\rnn.py:82: UserWarning: dropout option adds dropout after all but last recurrent layer, so non-zero dropout expects num_layers greater than 1, but got dropout=0.6 and num_layers=1\n",
      "  warnings.warn(\"dropout option adds dropout after all but last \"\n",
      "649it [6:12:38, 19.10s/it]"
     ]
    },
    {
     "name": "stdout",
     "output_type": "stream",
     "text": [
      "Confusion matrix:\n",
      " [[64  9]\n",
      " [ 2 10]]\n",
      "{'dropout': 0.6, 'hidden_size': 75, 'learning_rate': 0.01, 'batch_size': 32, 'n_hidden': 1, 'accuracy': 0.8706, 'f1': 0.65}\n"
     ]
    },
    {
     "name": "stderr",
     "output_type": "stream",
     "text": [
      "650it [6:12:46, 15.79s/it]"
     ]
    },
    {
     "name": "stdout",
     "output_type": "stream",
     "text": [
      "Confusion matrix:\n",
      " [[60 13]\n",
      " [ 1 11]]\n",
      "{'dropout': 0.6, 'hidden_size': 75, 'learning_rate': 0.01, 'batch_size': 32, 'n_hidden': 2, 'accuracy': 0.8353, 'f1': 0.61}\n"
     ]
    },
    {
     "name": "stderr",
     "output_type": "stream",
     "text": [
      "651it [6:12:54, 13.51s/it]"
     ]
    },
    {
     "name": "stdout",
     "output_type": "stream",
     "text": [
      "Confusion matrix:\n",
      " [[66  7]\n",
      " [ 5  7]]\n",
      "{'dropout': 0.6, 'hidden_size': 75, 'learning_rate': 0.01, 'batch_size': 32, 'n_hidden': 3, 'accuracy': 0.8588, 'f1': 0.54}\n"
     ]
    },
    {
     "name": "stderr",
     "output_type": "stream",
     "text": [
      "652it [6:13:02, 11.78s/it]"
     ]
    },
    {
     "name": "stdout",
     "output_type": "stream",
     "text": [
      "Confusion matrix:\n",
      " [[73  0]\n",
      " [12  0]]\n",
      "{'dropout': 0.6, 'hidden_size': 75, 'learning_rate': 0.01, 'batch_size': 32, 'n_hidden': 4, 'accuracy': 0.8588, 'f1': 0.0}\n"
     ]
    },
    {
     "name": "stderr",
     "output_type": "stream",
     "text": [
      "C:\\Users\\William\\AppData\\Roaming\\Python\\Python311\\site-packages\\torch\\nn\\modules\\rnn.py:82: UserWarning: dropout option adds dropout after all but last recurrent layer, so non-zero dropout expects num_layers greater than 1, but got dropout=0.6 and num_layers=1\n",
      "  warnings.warn(\"dropout option adds dropout after all but last \"\n",
      "C:\\Users\\William\\AppData\\Roaming\\Python\\Python311\\site-packages\\torch\\nn\\modules\\rnn.py:82: UserWarning: dropout option adds dropout after all but last recurrent layer, so non-zero dropout expects num_layers greater than 1, but got dropout=0.6 and num_layers=1\n",
      "  warnings.warn(\"dropout option adds dropout after all but last \"\n",
      "653it [6:13:12, 11.27s/it]"
     ]
    },
    {
     "name": "stdout",
     "output_type": "stream",
     "text": [
      "Confusion matrix:\n",
      " [[69  4]\n",
      " [ 3  9]]\n",
      "{'dropout': 0.6, 'hidden_size': 75, 'learning_rate': 0.01, 'batch_size': 64, 'n_hidden': 1, 'accuracy': 0.9176, 'f1': 0.72}\n"
     ]
    },
    {
     "name": "stderr",
     "output_type": "stream",
     "text": [
      "654it [6:13:23, 11.26s/it]"
     ]
    },
    {
     "name": "stdout",
     "output_type": "stream",
     "text": [
      "Confusion matrix:\n",
      " [[70  3]\n",
      " [ 4  8]]\n",
      "{'dropout': 0.6, 'hidden_size': 75, 'learning_rate': 0.01, 'batch_size': 64, 'n_hidden': 2, 'accuracy': 0.9176, 'f1': 0.7}\n"
     ]
    },
    {
     "name": "stderr",
     "output_type": "stream",
     "text": [
      "655it [6:13:47, 15.14s/it]"
     ]
    },
    {
     "name": "stdout",
     "output_type": "stream",
     "text": [
      "Confusion matrix:\n",
      " [[68  5]\n",
      " [ 3  9]]\n",
      "{'dropout': 0.6, 'hidden_size': 75, 'learning_rate': 0.01, 'batch_size': 64, 'n_hidden': 3, 'accuracy': 0.9059, 'f1': 0.69}\n"
     ]
    },
    {
     "name": "stderr",
     "output_type": "stream",
     "text": [
      "656it [6:13:57, 13.55s/it]"
     ]
    },
    {
     "name": "stdout",
     "output_type": "stream",
     "text": [
      "Confusion matrix:\n",
      " [[64  9]\n",
      " [ 5  7]]\n",
      "{'dropout': 0.6, 'hidden_size': 75, 'learning_rate': 0.01, 'batch_size': 64, 'n_hidden': 4, 'accuracy': 0.8353, 'f1': 0.5}\n"
     ]
    },
    {
     "name": "stderr",
     "output_type": "stream",
     "text": [
      "C:\\Users\\William\\AppData\\Roaming\\Python\\Python311\\site-packages\\torch\\nn\\modules\\rnn.py:82: UserWarning: dropout option adds dropout after all but last recurrent layer, so non-zero dropout expects num_layers greater than 1, but got dropout=0.6 and num_layers=1\n",
      "  warnings.warn(\"dropout option adds dropout after all but last \"\n",
      "C:\\Users\\William\\AppData\\Roaming\\Python\\Python311\\site-packages\\torch\\nn\\modules\\rnn.py:82: UserWarning: dropout option adds dropout after all but last recurrent layer, so non-zero dropout expects num_layers greater than 1, but got dropout=0.6 and num_layers=1\n",
      "  warnings.warn(\"dropout option adds dropout after all but last \"\n",
      "657it [6:14:34, 20.42s/it]"
     ]
    },
    {
     "name": "stdout",
     "output_type": "stream",
     "text": [
      "Confusion matrix:\n",
      " [[65  8]\n",
      " [ 3  9]]\n",
      "{'dropout': 0.6, 'hidden_size': 75, 'learning_rate': 0.001, 'batch_size': 8, 'n_hidden': 1, 'accuracy': 0.8706, 'f1': 0.62}\n"
     ]
    },
    {
     "name": "stderr",
     "output_type": "stream",
     "text": [
      "658it [6:14:59, 21.81s/it]"
     ]
    },
    {
     "name": "stdout",
     "output_type": "stream",
     "text": [
      "Confusion matrix:\n",
      " [[68  5]\n",
      " [ 4  8]]\n",
      "{'dropout': 0.6, 'hidden_size': 75, 'learning_rate': 0.001, 'batch_size': 8, 'n_hidden': 2, 'accuracy': 0.8941, 'f1': 0.64}\n"
     ]
    },
    {
     "name": "stderr",
     "output_type": "stream",
     "text": [
      "659it [6:15:42, 28.24s/it]"
     ]
    },
    {
     "name": "stdout",
     "output_type": "stream",
     "text": [
      "Confusion matrix:\n",
      " [[67  6]\n",
      " [ 2 10]]\n",
      "{'dropout': 0.6, 'hidden_size': 75, 'learning_rate': 0.001, 'batch_size': 8, 'n_hidden': 3, 'accuracy': 0.9059, 'f1': 0.71}\n"
     ]
    },
    {
     "name": "stderr",
     "output_type": "stream",
     "text": [
      "660it [6:16:24, 32.27s/it]"
     ]
    },
    {
     "name": "stdout",
     "output_type": "stream",
     "text": [
      "Confusion matrix:\n",
      " [[60 13]\n",
      " [ 0 12]]\n",
      "{'dropout': 0.6, 'hidden_size': 75, 'learning_rate': 0.001, 'batch_size': 8, 'n_hidden': 4, 'accuracy': 0.8471, 'f1': 0.65}\n"
     ]
    },
    {
     "name": "stderr",
     "output_type": "stream",
     "text": [
      "C:\\Users\\William\\AppData\\Roaming\\Python\\Python311\\site-packages\\torch\\nn\\modules\\rnn.py:82: UserWarning: dropout option adds dropout after all but last recurrent layer, so non-zero dropout expects num_layers greater than 1, but got dropout=0.6 and num_layers=1\n",
      "  warnings.warn(\"dropout option adds dropout after all but last \"\n",
      "C:\\Users\\William\\AppData\\Roaming\\Python\\Python311\\site-packages\\torch\\nn\\modules\\rnn.py:82: UserWarning: dropout option adds dropout after all but last recurrent layer, so non-zero dropout expects num_layers greater than 1, but got dropout=0.6 and num_layers=1\n",
      "  warnings.warn(\"dropout option adds dropout after all but last \"\n",
      "661it [6:16:39, 27.18s/it]"
     ]
    },
    {
     "name": "stdout",
     "output_type": "stream",
     "text": [
      "Confusion matrix:\n",
      " [[64  9]\n",
      " [ 2 10]]\n",
      "{'dropout': 0.6, 'hidden_size': 75, 'learning_rate': 0.001, 'batch_size': 16, 'n_hidden': 1, 'accuracy': 0.8706, 'f1': 0.65}\n"
     ]
    },
    {
     "name": "stderr",
     "output_type": "stream",
     "text": [
      "662it [6:16:55, 23.89s/it]"
     ]
    },
    {
     "name": "stdout",
     "output_type": "stream",
     "text": [
      "Confusion matrix:\n",
      " [[60 13]\n",
      " [ 0 12]]\n",
      "{'dropout': 0.6, 'hidden_size': 75, 'learning_rate': 0.001, 'batch_size': 16, 'n_hidden': 2, 'accuracy': 0.8471, 'f1': 0.65}\n"
     ]
    },
    {
     "name": "stderr",
     "output_type": "stream",
     "text": [
      "663it [6:17:26, 25.95s/it]"
     ]
    },
    {
     "name": "stdout",
     "output_type": "stream",
     "text": [
      "Confusion matrix:\n",
      " [[62 11]\n",
      " [ 5  7]]\n",
      "{'dropout': 0.6, 'hidden_size': 75, 'learning_rate': 0.001, 'batch_size': 16, 'n_hidden': 3, 'accuracy': 0.8118, 'f1': 0.47}\n"
     ]
    },
    {
     "name": "stderr",
     "output_type": "stream",
     "text": [
      "664it [6:17:58, 27.70s/it]"
     ]
    },
    {
     "name": "stdout",
     "output_type": "stream",
     "text": [
      "Confusion matrix:\n",
      " [[66  7]\n",
      " [ 1 11]]\n",
      "{'dropout': 0.6, 'hidden_size': 75, 'learning_rate': 0.001, 'batch_size': 16, 'n_hidden': 4, 'accuracy': 0.9059, 'f1': 0.73}\n"
     ]
    },
    {
     "name": "stderr",
     "output_type": "stream",
     "text": [
      "C:\\Users\\William\\AppData\\Roaming\\Python\\Python311\\site-packages\\torch\\nn\\modules\\rnn.py:82: UserWarning: dropout option adds dropout after all but last recurrent layer, so non-zero dropout expects num_layers greater than 1, but got dropout=0.6 and num_layers=1\n",
      "  warnings.warn(\"dropout option adds dropout after all but last \"\n",
      "C:\\Users\\William\\AppData\\Roaming\\Python\\Python311\\site-packages\\torch\\nn\\modules\\rnn.py:82: UserWarning: dropout option adds dropout after all but last recurrent layer, so non-zero dropout expects num_layers greater than 1, but got dropout=0.6 and num_layers=1\n",
      "  warnings.warn(\"dropout option adds dropout after all but last \"\n",
      "665it [6:18:14, 24.15s/it]"
     ]
    },
    {
     "name": "stdout",
     "output_type": "stream",
     "text": [
      "Confusion matrix:\n",
      " [[67  6]\n",
      " [ 4  8]]\n",
      "{'dropout': 0.6, 'hidden_size': 75, 'learning_rate': 0.001, 'batch_size': 32, 'n_hidden': 1, 'accuracy': 0.8824, 'f1': 0.62}\n"
     ]
    },
    {
     "name": "stderr",
     "output_type": "stream",
     "text": [
      "666it [6:18:31, 22.23s/it]"
     ]
    },
    {
     "name": "stdout",
     "output_type": "stream",
     "text": [
      "Confusion matrix:\n",
      " [[68  5]\n",
      " [ 4  8]]\n",
      "{'dropout': 0.6, 'hidden_size': 75, 'learning_rate': 0.001, 'batch_size': 32, 'n_hidden': 2, 'accuracy': 0.8941, 'f1': 0.64}\n"
     ]
    },
    {
     "name": "stderr",
     "output_type": "stream",
     "text": [
      "667it [6:18:51, 21.50s/it]"
     ]
    },
    {
     "name": "stdout",
     "output_type": "stream",
     "text": [
      "Confusion matrix:\n",
      " [[59 14]\n",
      " [ 1 11]]\n",
      "{'dropout': 0.6, 'hidden_size': 75, 'learning_rate': 0.001, 'batch_size': 32, 'n_hidden': 3, 'accuracy': 0.8235, 'f1': 0.59}\n"
     ]
    },
    {
     "name": "stderr",
     "output_type": "stream",
     "text": [
      "668it [6:19:17, 22.77s/it]"
     ]
    },
    {
     "name": "stdout",
     "output_type": "stream",
     "text": [
      "Confusion matrix:\n",
      " [[60 13]\n",
      " [ 1 11]]\n",
      "{'dropout': 0.6, 'hidden_size': 75, 'learning_rate': 0.001, 'batch_size': 32, 'n_hidden': 4, 'accuracy': 0.8353, 'f1': 0.61}\n"
     ]
    },
    {
     "name": "stderr",
     "output_type": "stream",
     "text": [
      "C:\\Users\\William\\AppData\\Roaming\\Python\\Python311\\site-packages\\torch\\nn\\modules\\rnn.py:82: UserWarning: dropout option adds dropout after all but last recurrent layer, so non-zero dropout expects num_layers greater than 1, but got dropout=0.6 and num_layers=1\n",
      "  warnings.warn(\"dropout option adds dropout after all but last \"\n",
      "C:\\Users\\William\\AppData\\Roaming\\Python\\Python311\\site-packages\\torch\\nn\\modules\\rnn.py:82: UserWarning: dropout option adds dropout after all but last recurrent layer, so non-zero dropout expects num_layers greater than 1, but got dropout=0.6 and num_layers=1\n",
      "  warnings.warn(\"dropout option adds dropout after all but last \"\n",
      "669it [6:19:28, 19.36s/it]"
     ]
    },
    {
     "name": "stdout",
     "output_type": "stream",
     "text": [
      "Confusion matrix:\n",
      " [[66  7]\n",
      " [ 2 10]]\n",
      "{'dropout': 0.6, 'hidden_size': 75, 'learning_rate': 0.001, 'batch_size': 64, 'n_hidden': 1, 'accuracy': 0.8941, 'f1': 0.69}\n"
     ]
    },
    {
     "name": "stderr",
     "output_type": "stream",
     "text": [
      "670it [6:19:42, 17.58s/it]"
     ]
    },
    {
     "name": "stdout",
     "output_type": "stream",
     "text": [
      "Confusion matrix:\n",
      " [[59 14]\n",
      " [ 2 10]]\n",
      "{'dropout': 0.6, 'hidden_size': 75, 'learning_rate': 0.001, 'batch_size': 64, 'n_hidden': 2, 'accuracy': 0.8118, 'f1': 0.56}\n"
     ]
    },
    {
     "name": "stderr",
     "output_type": "stream",
     "text": [
      "671it [6:19:57, 16.92s/it]"
     ]
    },
    {
     "name": "stdout",
     "output_type": "stream",
     "text": [
      "Confusion matrix:\n",
      " [[65  8]\n",
      " [ 3  9]]\n",
      "{'dropout': 0.6, 'hidden_size': 75, 'learning_rate': 0.001, 'batch_size': 64, 'n_hidden': 3, 'accuracy': 0.8706, 'f1': 0.62}\n"
     ]
    },
    {
     "name": "stderr",
     "output_type": "stream",
     "text": [
      "672it [6:20:12, 16.48s/it]"
     ]
    },
    {
     "name": "stdout",
     "output_type": "stream",
     "text": [
      "Confusion matrix:\n",
      " [[63 10]\n",
      " [ 3  9]]\n",
      "{'dropout': 0.6, 'hidden_size': 75, 'learning_rate': 0.001, 'batch_size': 64, 'n_hidden': 4, 'accuracy': 0.8471, 'f1': 0.58}\n"
     ]
    },
    {
     "name": "stderr",
     "output_type": "stream",
     "text": [
      "C:\\Users\\William\\AppData\\Roaming\\Python\\Python311\\site-packages\\torch\\nn\\modules\\rnn.py:82: UserWarning: dropout option adds dropout after all but last recurrent layer, so non-zero dropout expects num_layers greater than 1, but got dropout=0.6 and num_layers=1\n",
      "  warnings.warn(\"dropout option adds dropout after all but last \"\n",
      "C:\\Users\\William\\AppData\\Roaming\\Python\\Python311\\site-packages\\torch\\nn\\modules\\rnn.py:82: UserWarning: dropout option adds dropout after all but last recurrent layer, so non-zero dropout expects num_layers greater than 1, but got dropout=0.6 and num_layers=1\n",
      "  warnings.warn(\"dropout option adds dropout after all but last \"\n",
      "673it [6:21:12, 29.50s/it]"
     ]
    },
    {
     "name": "stdout",
     "output_type": "stream",
     "text": [
      "Confusion matrix:\n",
      " [[68  5]\n",
      " [ 2 10]]\n",
      "{'dropout': 0.6, 'hidden_size': 75, 'learning_rate': 0.0001, 'batch_size': 8, 'n_hidden': 1, 'accuracy': 0.9176, 'f1': 0.74}\n"
     ]
    },
    {
     "name": "stderr",
     "output_type": "stream",
     "text": [
      "674it [6:21:59, 34.69s/it]"
     ]
    },
    {
     "name": "stdout",
     "output_type": "stream",
     "text": [
      "Confusion matrix:\n",
      " [[65  8]\n",
      " [ 0 12]]\n",
      "{'dropout': 0.6, 'hidden_size': 75, 'learning_rate': 0.0001, 'batch_size': 8, 'n_hidden': 2, 'accuracy': 0.9059, 'f1': 0.75}\n"
     ]
    },
    {
     "name": "stderr",
     "output_type": "stream",
     "text": [
      "675it [6:22:38, 35.81s/it]"
     ]
    },
    {
     "name": "stdout",
     "output_type": "stream",
     "text": [
      "Confusion matrix:\n",
      " [[66  7]\n",
      " [ 1 11]]\n",
      "{'dropout': 0.6, 'hidden_size': 75, 'learning_rate': 0.0001, 'batch_size': 8, 'n_hidden': 3, 'accuracy': 0.9059, 'f1': 0.73}\n"
     ]
    },
    {
     "name": "stderr",
     "output_type": "stream",
     "text": [
      "676it [6:23:32, 41.32s/it]"
     ]
    },
    {
     "name": "stdout",
     "output_type": "stream",
     "text": [
      "Confusion matrix:\n",
      " [[66  7]\n",
      " [ 2 10]]\n",
      "{'dropout': 0.6, 'hidden_size': 75, 'learning_rate': 0.0001, 'batch_size': 8, 'n_hidden': 4, 'accuracy': 0.8941, 'f1': 0.69}\n"
     ]
    },
    {
     "name": "stderr",
     "output_type": "stream",
     "text": [
      "C:\\Users\\William\\AppData\\Roaming\\Python\\Python311\\site-packages\\torch\\nn\\modules\\rnn.py:82: UserWarning: dropout option adds dropout after all but last recurrent layer, so non-zero dropout expects num_layers greater than 1, but got dropout=0.6 and num_layers=1\n",
      "  warnings.warn(\"dropout option adds dropout after all but last \"\n",
      "C:\\Users\\William\\AppData\\Roaming\\Python\\Python311\\site-packages\\torch\\nn\\modules\\rnn.py:82: UserWarning: dropout option adds dropout after all but last recurrent layer, so non-zero dropout expects num_layers greater than 1, but got dropout=0.6 and num_layers=1\n",
      "  warnings.warn(\"dropout option adds dropout after all but last \"\n",
      "677it [6:24:07, 39.54s/it]"
     ]
    },
    {
     "name": "stdout",
     "output_type": "stream",
     "text": [
      "Confusion matrix:\n",
      " [[69  4]\n",
      " [ 2 10]]\n",
      "{'dropout': 0.6, 'hidden_size': 75, 'learning_rate': 0.0001, 'batch_size': 16, 'n_hidden': 1, 'accuracy': 0.9294, 'f1': 0.77}\n"
     ]
    },
    {
     "name": "stderr",
     "output_type": "stream",
     "text": [
      "678it [6:24:50, 40.40s/it]"
     ]
    },
    {
     "name": "stdout",
     "output_type": "stream",
     "text": [
      "Confusion matrix:\n",
      " [[66  7]\n",
      " [ 2 10]]\n",
      "{'dropout': 0.6, 'hidden_size': 75, 'learning_rate': 0.0001, 'batch_size': 16, 'n_hidden': 2, 'accuracy': 0.8941, 'f1': 0.69}\n"
     ]
    },
    {
     "name": "stderr",
     "output_type": "stream",
     "text": [
      "679it [6:25:42, 43.87s/it]"
     ]
    },
    {
     "name": "stdout",
     "output_type": "stream",
     "text": [
      "Confusion matrix:\n",
      " [[65  8]\n",
      " [ 2 10]]\n",
      "{'dropout': 0.6, 'hidden_size': 75, 'learning_rate': 0.0001, 'batch_size': 16, 'n_hidden': 3, 'accuracy': 0.8824, 'f1': 0.67}\n"
     ]
    },
    {
     "name": "stderr",
     "output_type": "stream",
     "text": [
      "680it [6:26:15, 40.77s/it]"
     ]
    },
    {
     "name": "stdout",
     "output_type": "stream",
     "text": [
      "Confusion matrix:\n",
      " [[67  6]\n",
      " [ 2 10]]\n",
      "{'dropout': 0.6, 'hidden_size': 75, 'learning_rate': 0.0001, 'batch_size': 16, 'n_hidden': 4, 'accuracy': 0.9059, 'f1': 0.71}\n"
     ]
    },
    {
     "name": "stderr",
     "output_type": "stream",
     "text": [
      "C:\\Users\\William\\AppData\\Roaming\\Python\\Python311\\site-packages\\torch\\nn\\modules\\rnn.py:82: UserWarning: dropout option adds dropout after all but last recurrent layer, so non-zero dropout expects num_layers greater than 1, but got dropout=0.6 and num_layers=1\n",
      "  warnings.warn(\"dropout option adds dropout after all but last \"\n",
      "C:\\Users\\William\\AppData\\Roaming\\Python\\Python311\\site-packages\\torch\\nn\\modules\\rnn.py:82: UserWarning: dropout option adds dropout after all but last recurrent layer, so non-zero dropout expects num_layers greater than 1, but got dropout=0.6 and num_layers=1\n",
      "  warnings.warn(\"dropout option adds dropout after all but last \"\n",
      "681it [6:26:42, 36.55s/it]"
     ]
    },
    {
     "name": "stdout",
     "output_type": "stream",
     "text": [
      "Confusion matrix:\n",
      " [[61 12]\n",
      " [ 1 11]]\n",
      "{'dropout': 0.6, 'hidden_size': 75, 'learning_rate': 0.0001, 'batch_size': 32, 'n_hidden': 1, 'accuracy': 0.8471, 'f1': 0.63}\n"
     ]
    },
    {
     "name": "stderr",
     "output_type": "stream",
     "text": [
      "682it [6:27:20, 37.09s/it]"
     ]
    },
    {
     "name": "stdout",
     "output_type": "stream",
     "text": [
      "Confusion matrix:\n",
      " [[62 11]\n",
      " [ 1 11]]\n",
      "{'dropout': 0.6, 'hidden_size': 75, 'learning_rate': 0.0001, 'batch_size': 32, 'n_hidden': 2, 'accuracy': 0.8588, 'f1': 0.65}\n"
     ]
    },
    {
     "name": "stderr",
     "output_type": "stream",
     "text": [
      "683it [6:27:43, 32.69s/it]"
     ]
    },
    {
     "name": "stdout",
     "output_type": "stream",
     "text": [
      "Confusion matrix:\n",
      " [[66  7]\n",
      " [ 1 11]]\n",
      "{'dropout': 0.6, 'hidden_size': 75, 'learning_rate': 0.0001, 'batch_size': 32, 'n_hidden': 3, 'accuracy': 0.9059, 'f1': 0.73}\n"
     ]
    },
    {
     "name": "stderr",
     "output_type": "stream",
     "text": [
      "684it [6:28:18, 33.54s/it]"
     ]
    },
    {
     "name": "stdout",
     "output_type": "stream",
     "text": [
      "Confusion matrix:\n",
      " [[66  7]\n",
      " [ 2 10]]\n",
      "{'dropout': 0.6, 'hidden_size': 75, 'learning_rate': 0.0001, 'batch_size': 32, 'n_hidden': 4, 'accuracy': 0.8941, 'f1': 0.69}\n"
     ]
    },
    {
     "name": "stderr",
     "output_type": "stream",
     "text": [
      "C:\\Users\\William\\AppData\\Roaming\\Python\\Python311\\site-packages\\torch\\nn\\modules\\rnn.py:82: UserWarning: dropout option adds dropout after all but last recurrent layer, so non-zero dropout expects num_layers greater than 1, but got dropout=0.6 and num_layers=1\n",
      "  warnings.warn(\"dropout option adds dropout after all but last \"\n",
      "C:\\Users\\William\\AppData\\Roaming\\Python\\Python311\\site-packages\\torch\\nn\\modules\\rnn.py:82: UserWarning: dropout option adds dropout after all but last recurrent layer, so non-zero dropout expects num_layers greater than 1, but got dropout=0.6 and num_layers=1\n",
      "  warnings.warn(\"dropout option adds dropout after all but last \"\n",
      "685it [6:28:45, 31.60s/it]"
     ]
    },
    {
     "name": "stdout",
     "output_type": "stream",
     "text": [
      "Confusion matrix:\n",
      " [[63 10]\n",
      " [ 1 11]]\n",
      "{'dropout': 0.6, 'hidden_size': 75, 'learning_rate': 0.0001, 'batch_size': 64, 'n_hidden': 1, 'accuracy': 0.8706, 'f1': 0.67}\n"
     ]
    },
    {
     "name": "stderr",
     "output_type": "stream",
     "text": [
      "686it [6:29:16, 31.50s/it]"
     ]
    },
    {
     "name": "stdout",
     "output_type": "stream",
     "text": [
      "Confusion matrix:\n",
      " [[62 11]\n",
      " [ 2 10]]\n",
      "{'dropout': 0.6, 'hidden_size': 75, 'learning_rate': 0.0001, 'batch_size': 64, 'n_hidden': 2, 'accuracy': 0.8471, 'f1': 0.61}\n"
     ]
    },
    {
     "name": "stderr",
     "output_type": "stream",
     "text": [
      "687it [6:29:39, 28.89s/it]"
     ]
    },
    {
     "name": "stdout",
     "output_type": "stream",
     "text": [
      "Confusion matrix:\n",
      " [[62 11]\n",
      " [ 1 11]]\n",
      "{'dropout': 0.6, 'hidden_size': 75, 'learning_rate': 0.0001, 'batch_size': 64, 'n_hidden': 3, 'accuracy': 0.8588, 'f1': 0.65}\n"
     ]
    },
    {
     "name": "stderr",
     "output_type": "stream",
     "text": [
      "688it [6:30:09, 29.03s/it]"
     ]
    },
    {
     "name": "stdout",
     "output_type": "stream",
     "text": [
      "Confusion matrix:\n",
      " [[64  9]\n",
      " [ 2 10]]\n",
      "{'dropout': 0.6, 'hidden_size': 75, 'learning_rate': 0.0001, 'batch_size': 64, 'n_hidden': 4, 'accuracy': 0.8706, 'f1': 0.65}\n"
     ]
    },
    {
     "name": "stderr",
     "output_type": "stream",
     "text": [
      "C:\\Users\\William\\AppData\\Roaming\\Python\\Python311\\site-packages\\torch\\nn\\modules\\rnn.py:82: UserWarning: dropout option adds dropout after all but last recurrent layer, so non-zero dropout expects num_layers greater than 1, but got dropout=0.6 and num_layers=1\n",
      "  warnings.warn(\"dropout option adds dropout after all but last \"\n",
      "C:\\Users\\William\\AppData\\Roaming\\Python\\Python311\\site-packages\\torch\\nn\\modules\\rnn.py:82: UserWarning: dropout option adds dropout after all but last recurrent layer, so non-zero dropout expects num_layers greater than 1, but got dropout=0.6 and num_layers=1\n",
      "  warnings.warn(\"dropout option adds dropout after all but last \"\n",
      "689it [6:31:49, 50.57s/it]"
     ]
    },
    {
     "name": "stdout",
     "output_type": "stream",
     "text": [
      "Confusion matrix:\n",
      " [[73  0]\n",
      " [12  0]]\n",
      "{'dropout': 0.6, 'hidden_size': 75, 'learning_rate': 1e-05, 'batch_size': 8, 'n_hidden': 1, 'accuracy': 0.8588, 'f1': 0.0}\n"
     ]
    },
    {
     "name": "stderr",
     "output_type": "stream",
     "text": [
      "690it [6:33:02, 57.19s/it]"
     ]
    },
    {
     "name": "stdout",
     "output_type": "stream",
     "text": [
      "Confusion matrix:\n",
      " [[73  0]\n",
      " [12  0]]\n",
      "{'dropout': 0.6, 'hidden_size': 75, 'learning_rate': 1e-05, 'batch_size': 8, 'n_hidden': 2, 'accuracy': 0.8588, 'f1': 0.0}\n"
     ]
    },
    {
     "name": "stderr",
     "output_type": "stream",
     "text": [
      "691it [6:34:09, 60.04s/it]"
     ]
    },
    {
     "name": "stdout",
     "output_type": "stream",
     "text": [
      "Confusion matrix:\n",
      " [[73  0]\n",
      " [12  0]]\n",
      "{'dropout': 0.6, 'hidden_size': 75, 'learning_rate': 1e-05, 'batch_size': 8, 'n_hidden': 3, 'accuracy': 0.8588, 'f1': 0.0}\n"
     ]
    },
    {
     "name": "stderr",
     "output_type": "stream",
     "text": [
      "692it [6:35:31, 66.64s/it]"
     ]
    },
    {
     "name": "stdout",
     "output_type": "stream",
     "text": [
      "Confusion matrix:\n",
      " [[73  0]\n",
      " [12  0]]\n",
      "{'dropout': 0.6, 'hidden_size': 75, 'learning_rate': 1e-05, 'batch_size': 8, 'n_hidden': 4, 'accuracy': 0.8588, 'f1': 0.0}\n"
     ]
    },
    {
     "name": "stderr",
     "output_type": "stream",
     "text": [
      "C:\\Users\\William\\AppData\\Roaming\\Python\\Python311\\site-packages\\torch\\nn\\modules\\rnn.py:82: UserWarning: dropout option adds dropout after all but last recurrent layer, so non-zero dropout expects num_layers greater than 1, but got dropout=0.6 and num_layers=1\n",
      "  warnings.warn(\"dropout option adds dropout after all but last \"\n",
      "C:\\Users\\William\\AppData\\Roaming\\Python\\Python311\\site-packages\\torch\\nn\\modules\\rnn.py:82: UserWarning: dropout option adds dropout after all but last recurrent layer, so non-zero dropout expects num_layers greater than 1, but got dropout=0.6 and num_layers=1\n",
      "  warnings.warn(\"dropout option adds dropout after all but last \"\n",
      "693it [6:35:47, 51.61s/it]"
     ]
    },
    {
     "name": "stdout",
     "output_type": "stream",
     "text": [
      "Confusion matrix:\n",
      " [[73  0]\n",
      " [12  0]]\n",
      "{'dropout': 0.6, 'hidden_size': 75, 'learning_rate': 1e-05, 'batch_size': 16, 'n_hidden': 1, 'accuracy': 0.8588, 'f1': 0.0}\n"
     ]
    },
    {
     "name": "stderr",
     "output_type": "stream",
     "text": [
      "694it [6:36:51, 55.12s/it]"
     ]
    },
    {
     "name": "stdout",
     "output_type": "stream",
     "text": [
      "Confusion matrix:\n",
      " [[73  0]\n",
      " [11  1]]\n",
      "{'dropout': 0.6, 'hidden_size': 75, 'learning_rate': 1e-05, 'batch_size': 16, 'n_hidden': 2, 'accuracy': 0.8706, 'f1': 0.15}\n"
     ]
    },
    {
     "name": "stderr",
     "output_type": "stream",
     "text": [
      "695it [6:38:25, 66.98s/it]"
     ]
    },
    {
     "name": "stdout",
     "output_type": "stream",
     "text": [
      "Confusion matrix:\n",
      " [[64  9]\n",
      " [ 5  7]]\n",
      "{'dropout': 0.6, 'hidden_size': 75, 'learning_rate': 1e-05, 'batch_size': 16, 'n_hidden': 3, 'accuracy': 0.8353, 'f1': 0.5}\n"
     ]
    },
    {
     "name": "stderr",
     "output_type": "stream",
     "text": [
      "696it [6:40:18, 80.70s/it]"
     ]
    },
    {
     "name": "stdout",
     "output_type": "stream",
     "text": [
      "Confusion matrix:\n",
      " [[59 14]\n",
      " [ 5  7]]\n",
      "{'dropout': 0.6, 'hidden_size': 75, 'learning_rate': 1e-05, 'batch_size': 16, 'n_hidden': 4, 'accuracy': 0.7765, 'f1': 0.42}\n"
     ]
    },
    {
     "name": "stderr",
     "output_type": "stream",
     "text": [
      "C:\\Users\\William\\AppData\\Roaming\\Python\\Python311\\site-packages\\torch\\nn\\modules\\rnn.py:82: UserWarning: dropout option adds dropout after all but last recurrent layer, so non-zero dropout expects num_layers greater than 1, but got dropout=0.6 and num_layers=1\n",
      "  warnings.warn(\"dropout option adds dropout after all but last \"\n",
      "C:\\Users\\William\\AppData\\Roaming\\Python\\Python311\\site-packages\\torch\\nn\\modules\\rnn.py:82: UserWarning: dropout option adds dropout after all but last recurrent layer, so non-zero dropout expects num_layers greater than 1, but got dropout=0.6 and num_layers=1\n",
      "  warnings.warn(\"dropout option adds dropout after all but last \"\n",
      "697it [6:40:29, 59.91s/it]"
     ]
    },
    {
     "name": "stdout",
     "output_type": "stream",
     "text": [
      "Confusion matrix:\n",
      " [[73  0]\n",
      " [12  0]]\n",
      "{'dropout': 0.6, 'hidden_size': 75, 'learning_rate': 1e-05, 'batch_size': 32, 'n_hidden': 1, 'accuracy': 0.8588, 'f1': 0.0}\n"
     ]
    },
    {
     "name": "stderr",
     "output_type": "stream",
     "text": [
      "698it [6:40:58, 50.56s/it]"
     ]
    },
    {
     "name": "stdout",
     "output_type": "stream",
     "text": [
      "Confusion matrix:\n",
      " [[72  1]\n",
      " [11  1]]\n",
      "{'dropout': 0.6, 'hidden_size': 75, 'learning_rate': 1e-05, 'batch_size': 32, 'n_hidden': 2, 'accuracy': 0.8588, 'f1': 0.14}\n"
     ]
    },
    {
     "name": "stderr",
     "output_type": "stream",
     "text": [
      "699it [6:41:23, 43.01s/it]"
     ]
    },
    {
     "name": "stdout",
     "output_type": "stream",
     "text": [
      "Confusion matrix:\n",
      " [[73  0]\n",
      " [12  0]]\n",
      "{'dropout': 0.6, 'hidden_size': 75, 'learning_rate': 1e-05, 'batch_size': 32, 'n_hidden': 3, 'accuracy': 0.8588, 'f1': 0.0}\n"
     ]
    },
    {
     "name": "stderr",
     "output_type": "stream",
     "text": [
      "700it [6:41:50, 37.97s/it]"
     ]
    },
    {
     "name": "stdout",
     "output_type": "stream",
     "text": [
      "Confusion matrix:\n",
      " [[73  0]\n",
      " [12  0]]\n",
      "{'dropout': 0.6, 'hidden_size': 75, 'learning_rate': 1e-05, 'batch_size': 32, 'n_hidden': 4, 'accuracy': 0.8588, 'f1': 0.0}\n"
     ]
    },
    {
     "name": "stderr",
     "output_type": "stream",
     "text": [
      "C:\\Users\\William\\AppData\\Roaming\\Python\\Python311\\site-packages\\torch\\nn\\modules\\rnn.py:82: UserWarning: dropout option adds dropout after all but last recurrent layer, so non-zero dropout expects num_layers greater than 1, but got dropout=0.6 and num_layers=1\n",
      "  warnings.warn(\"dropout option adds dropout after all but last \"\n",
      "C:\\Users\\William\\AppData\\Roaming\\Python\\Python311\\site-packages\\torch\\nn\\modules\\rnn.py:82: UserWarning: dropout option adds dropout after all but last recurrent layer, so non-zero dropout expects num_layers greater than 1, but got dropout=0.6 and num_layers=1\n",
      "  warnings.warn(\"dropout option adds dropout after all but last \"\n",
      "701it [6:41:57, 28.84s/it]"
     ]
    },
    {
     "name": "stdout",
     "output_type": "stream",
     "text": [
      "Confusion matrix:\n",
      " [[73  0]\n",
      " [12  0]]\n",
      "{'dropout': 0.6, 'hidden_size': 75, 'learning_rate': 1e-05, 'batch_size': 64, 'n_hidden': 1, 'accuracy': 0.8588, 'f1': 0.0}\n"
     ]
    },
    {
     "name": "stderr",
     "output_type": "stream",
     "text": [
      "702it [6:42:26, 28.95s/it]"
     ]
    },
    {
     "name": "stdout",
     "output_type": "stream",
     "text": [
      "Confusion matrix:\n",
      " [[69  4]\n",
      " [ 8  4]]\n",
      "{'dropout': 0.6, 'hidden_size': 75, 'learning_rate': 1e-05, 'batch_size': 64, 'n_hidden': 2, 'accuracy': 0.8588, 'f1': 0.4}\n"
     ]
    },
    {
     "name": "stderr",
     "output_type": "stream",
     "text": [
      "703it [6:42:46, 25.99s/it]"
     ]
    },
    {
     "name": "stdout",
     "output_type": "stream",
     "text": [
      "Confusion matrix:\n",
      " [[73  0]\n",
      " [12  0]]\n",
      "{'dropout': 0.6, 'hidden_size': 75, 'learning_rate': 1e-05, 'batch_size': 64, 'n_hidden': 3, 'accuracy': 0.8588, 'f1': 0.0}\n"
     ]
    },
    {
     "name": "stderr",
     "output_type": "stream",
     "text": [
      "704it [6:43:26, 30.28s/it]"
     ]
    },
    {
     "name": "stdout",
     "output_type": "stream",
     "text": [
      "Confusion matrix:\n",
      " [[73  0]\n",
      " [12  0]]\n",
      "{'dropout': 0.6, 'hidden_size': 75, 'learning_rate': 1e-05, 'batch_size': 64, 'n_hidden': 4, 'accuracy': 0.8588, 'f1': 0.0}\n"
     ]
    },
    {
     "name": "stderr",
     "output_type": "stream",
     "text": [
      "C:\\Users\\William\\AppData\\Roaming\\Python\\Python311\\site-packages\\torch\\nn\\modules\\rnn.py:82: UserWarning: dropout option adds dropout after all but last recurrent layer, so non-zero dropout expects num_layers greater than 1, but got dropout=0.6 and num_layers=1\n",
      "  warnings.warn(\"dropout option adds dropout after all but last \"\n",
      "C:\\Users\\William\\AppData\\Roaming\\Python\\Python311\\site-packages\\torch\\nn\\modules\\rnn.py:82: UserWarning: dropout option adds dropout after all but last recurrent layer, so non-zero dropout expects num_layers greater than 1, but got dropout=0.6 and num_layers=1\n",
      "  warnings.warn(\"dropout option adds dropout after all but last \"\n",
      "705it [6:43:56, 30.11s/it]"
     ]
    },
    {
     "name": "stdout",
     "output_type": "stream",
     "text": [
      "Confusion matrix:\n",
      " [[63 10]\n",
      " [ 2 10]]\n",
      "{'dropout': 0.6, 'hidden_size': 100, 'learning_rate': 0.01, 'batch_size': 8, 'n_hidden': 1, 'accuracy': 0.8588, 'f1': 0.62}\n"
     ]
    },
    {
     "name": "stderr",
     "output_type": "stream",
     "text": [
      "706it [6:44:55, 39.06s/it]"
     ]
    },
    {
     "name": "stdout",
     "output_type": "stream",
     "text": [
      "Confusion matrix:\n",
      " [[69  4]\n",
      " [ 3  9]]\n",
      "{'dropout': 0.6, 'hidden_size': 100, 'learning_rate': 0.01, 'batch_size': 8, 'n_hidden': 2, 'accuracy': 0.9176, 'f1': 0.72}\n"
     ]
    },
    {
     "name": "stderr",
     "output_type": "stream",
     "text": [
      "707it [6:45:33, 38.62s/it]"
     ]
    },
    {
     "name": "stdout",
     "output_type": "stream",
     "text": [
      "Confusion matrix:\n",
      " [[73  0]\n",
      " [12  0]]\n",
      "{'dropout': 0.6, 'hidden_size': 100, 'learning_rate': 0.01, 'batch_size': 8, 'n_hidden': 3, 'accuracy': 0.8588, 'f1': 0.0}\n"
     ]
    },
    {
     "name": "stderr",
     "output_type": "stream",
     "text": [
      "708it [6:46:13, 39.06s/it]"
     ]
    },
    {
     "name": "stdout",
     "output_type": "stream",
     "text": [
      "Confusion matrix:\n",
      " [[73  0]\n",
      " [12  0]]\n",
      "{'dropout': 0.6, 'hidden_size': 100, 'learning_rate': 0.01, 'batch_size': 8, 'n_hidden': 4, 'accuracy': 0.8588, 'f1': 0.0}\n"
     ]
    },
    {
     "name": "stderr",
     "output_type": "stream",
     "text": [
      "C:\\Users\\William\\AppData\\Roaming\\Python\\Python311\\site-packages\\torch\\nn\\modules\\rnn.py:82: UserWarning: dropout option adds dropout after all but last recurrent layer, so non-zero dropout expects num_layers greater than 1, but got dropout=0.6 and num_layers=1\n",
      "  warnings.warn(\"dropout option adds dropout after all but last \"\n",
      "C:\\Users\\William\\AppData\\Roaming\\Python\\Python311\\site-packages\\torch\\nn\\modules\\rnn.py:82: UserWarning: dropout option adds dropout after all but last recurrent layer, so non-zero dropout expects num_layers greater than 1, but got dropout=0.6 and num_layers=1\n",
      "  warnings.warn(\"dropout option adds dropout after all but last \"\n",
      "709it [6:46:37, 34.44s/it]"
     ]
    },
    {
     "name": "stdout",
     "output_type": "stream",
     "text": [
      "Confusion matrix:\n",
      " [[63 10]\n",
      " [ 3  9]]\n",
      "{'dropout': 0.6, 'hidden_size': 100, 'learning_rate': 0.01, 'batch_size': 16, 'n_hidden': 1, 'accuracy': 0.8471, 'f1': 0.58}\n"
     ]
    },
    {
     "name": "stderr",
     "output_type": "stream",
     "text": [
      "710it [6:46:54, 29.20s/it]"
     ]
    },
    {
     "name": "stdout",
     "output_type": "stream",
     "text": [
      "Confusion matrix:\n",
      " [[63 10]\n",
      " [ 2 10]]\n",
      "{'dropout': 0.6, 'hidden_size': 100, 'learning_rate': 0.01, 'batch_size': 16, 'n_hidden': 2, 'accuracy': 0.8588, 'f1': 0.62}\n"
     ]
    },
    {
     "name": "stderr",
     "output_type": "stream",
     "text": [
      "711it [6:47:06, 23.95s/it]"
     ]
    },
    {
     "name": "stdout",
     "output_type": "stream",
     "text": [
      "Confusion matrix:\n",
      " [[56 17]\n",
      " [ 2 10]]\n",
      "{'dropout': 0.6, 'hidden_size': 100, 'learning_rate': 0.01, 'batch_size': 16, 'n_hidden': 3, 'accuracy': 0.7765, 'f1': 0.51}\n"
     ]
    },
    {
     "name": "stderr",
     "output_type": "stream",
     "text": [
      "712it [6:47:42, 27.86s/it]"
     ]
    },
    {
     "name": "stdout",
     "output_type": "stream",
     "text": [
      "Confusion matrix:\n",
      " [[73  0]\n",
      " [12  0]]\n",
      "{'dropout': 0.6, 'hidden_size': 100, 'learning_rate': 0.01, 'batch_size': 16, 'n_hidden': 4, 'accuracy': 0.8588, 'f1': 0.0}\n"
     ]
    },
    {
     "name": "stderr",
     "output_type": "stream",
     "text": [
      "C:\\Users\\William\\AppData\\Roaming\\Python\\Python311\\site-packages\\torch\\nn\\modules\\rnn.py:82: UserWarning: dropout option adds dropout after all but last recurrent layer, so non-zero dropout expects num_layers greater than 1, but got dropout=0.6 and num_layers=1\n",
      "  warnings.warn(\"dropout option adds dropout after all but last \"\n",
      "C:\\Users\\William\\AppData\\Roaming\\Python\\Python311\\site-packages\\torch\\nn\\modules\\rnn.py:82: UserWarning: dropout option adds dropout after all but last recurrent layer, so non-zero dropout expects num_layers greater than 1, but got dropout=0.6 and num_layers=1\n",
      "  warnings.warn(\"dropout option adds dropout after all but last \"\n",
      "713it [6:47:51, 22.02s/it]"
     ]
    },
    {
     "name": "stdout",
     "output_type": "stream",
     "text": [
      "Confusion matrix:\n",
      " [[45 28]\n",
      " [ 0 12]]\n",
      "{'dropout': 0.6, 'hidden_size': 100, 'learning_rate': 0.01, 'batch_size': 32, 'n_hidden': 1, 'accuracy': 0.6706, 'f1': 0.46}\n"
     ]
    },
    {
     "name": "stderr",
     "output_type": "stream",
     "text": [
      "714it [6:48:10, 21.04s/it]"
     ]
    },
    {
     "name": "stdout",
     "output_type": "stream",
     "text": [
      "Confusion matrix:\n",
      " [[65  8]\n",
      " [ 1 11]]\n",
      "{'dropout': 0.6, 'hidden_size': 100, 'learning_rate': 0.01, 'batch_size': 32, 'n_hidden': 2, 'accuracy': 0.8941, 'f1': 0.71}\n"
     ]
    },
    {
     "name": "stderr",
     "output_type": "stream",
     "text": [
      "715it [6:48:32, 21.56s/it]"
     ]
    },
    {
     "name": "stdout",
     "output_type": "stream",
     "text": [
      "Confusion matrix:\n",
      " [[54 19]\n",
      " [ 1 11]]\n",
      "{'dropout': 0.6, 'hidden_size': 100, 'learning_rate': 0.01, 'batch_size': 32, 'n_hidden': 3, 'accuracy': 0.7647, 'f1': 0.52}\n"
     ]
    },
    {
     "name": "stderr",
     "output_type": "stream",
     "text": [
      "716it [6:48:53, 21.34s/it]"
     ]
    },
    {
     "name": "stdout",
     "output_type": "stream",
     "text": [
      "Confusion matrix:\n",
      " [[60 13]\n",
      " [ 2 10]]\n",
      "{'dropout': 0.6, 'hidden_size': 100, 'learning_rate': 0.01, 'batch_size': 32, 'n_hidden': 4, 'accuracy': 0.8235, 'f1': 0.57}\n"
     ]
    },
    {
     "name": "stderr",
     "output_type": "stream",
     "text": [
      "C:\\Users\\William\\AppData\\Roaming\\Python\\Python311\\site-packages\\torch\\nn\\modules\\rnn.py:82: UserWarning: dropout option adds dropout after all but last recurrent layer, so non-zero dropout expects num_layers greater than 1, but got dropout=0.6 and num_layers=1\n",
      "  warnings.warn(\"dropout option adds dropout after all but last \"\n",
      "C:\\Users\\William\\AppData\\Roaming\\Python\\Python311\\site-packages\\torch\\nn\\modules\\rnn.py:82: UserWarning: dropout option adds dropout after all but last recurrent layer, so non-zero dropout expects num_layers greater than 1, but got dropout=0.6 and num_layers=1\n",
      "  warnings.warn(\"dropout option adds dropout after all but last \"\n",
      "717it [6:49:02, 17.44s/it]"
     ]
    },
    {
     "name": "stdout",
     "output_type": "stream",
     "text": [
      "Confusion matrix:\n",
      " [[63 10]\n",
      " [ 2 10]]\n",
      "{'dropout': 0.6, 'hidden_size': 100, 'learning_rate': 0.01, 'batch_size': 64, 'n_hidden': 1, 'accuracy': 0.8588, 'f1': 0.62}\n"
     ]
    },
    {
     "name": "stderr",
     "output_type": "stream",
     "text": [
      "718it [6:49:18, 17.22s/it]"
     ]
    },
    {
     "name": "stdout",
     "output_type": "stream",
     "text": [
      "Confusion matrix:\n",
      " [[64  9]\n",
      " [ 2 10]]\n",
      "{'dropout': 0.6, 'hidden_size': 100, 'learning_rate': 0.01, 'batch_size': 64, 'n_hidden': 2, 'accuracy': 0.8706, 'f1': 0.65}\n"
     ]
    },
    {
     "name": "stderr",
     "output_type": "stream",
     "text": [
      "719it [6:49:35, 17.08s/it]"
     ]
    },
    {
     "name": "stdout",
     "output_type": "stream",
     "text": [
      "Confusion matrix:\n",
      " [[62 11]\n",
      " [ 2 10]]\n",
      "{'dropout': 0.6, 'hidden_size': 100, 'learning_rate': 0.01, 'batch_size': 64, 'n_hidden': 3, 'accuracy': 0.8471, 'f1': 0.61}\n"
     ]
    },
    {
     "name": "stderr",
     "output_type": "stream",
     "text": [
      "720it [6:49:54, 17.58s/it]"
     ]
    },
    {
     "name": "stdout",
     "output_type": "stream",
     "text": [
      "Confusion matrix:\n",
      " [[66  7]\n",
      " [ 2 10]]\n",
      "{'dropout': 0.6, 'hidden_size': 100, 'learning_rate': 0.01, 'batch_size': 64, 'n_hidden': 4, 'accuracy': 0.8941, 'f1': 0.69}\n"
     ]
    },
    {
     "name": "stderr",
     "output_type": "stream",
     "text": [
      "C:\\Users\\William\\AppData\\Roaming\\Python\\Python311\\site-packages\\torch\\nn\\modules\\rnn.py:82: UserWarning: dropout option adds dropout after all but last recurrent layer, so non-zero dropout expects num_layers greater than 1, but got dropout=0.6 and num_layers=1\n",
      "  warnings.warn(\"dropout option adds dropout after all but last \"\n",
      "C:\\Users\\William\\AppData\\Roaming\\Python\\Python311\\site-packages\\torch\\nn\\modules\\rnn.py:82: UserWarning: dropout option adds dropout after all but last recurrent layer, so non-zero dropout expects num_layers greater than 1, but got dropout=0.6 and num_layers=1\n",
      "  warnings.warn(\"dropout option adds dropout after all but last \"\n",
      "721it [6:50:40, 26.09s/it]"
     ]
    },
    {
     "name": "stdout",
     "output_type": "stream",
     "text": [
      "Confusion matrix:\n",
      " [[69  4]\n",
      " [ 4  8]]\n",
      "{'dropout': 0.6, 'hidden_size': 100, 'learning_rate': 0.001, 'batch_size': 8, 'n_hidden': 1, 'accuracy': 0.9059, 'f1': 0.67}\n"
     ]
    },
    {
     "name": "stderr",
     "output_type": "stream",
     "text": [
      "722it [6:51:11, 27.70s/it]"
     ]
    },
    {
     "name": "stdout",
     "output_type": "stream",
     "text": [
      "Confusion matrix:\n",
      " [[69  4]\n",
      " [ 3  9]]\n",
      "{'dropout': 0.6, 'hidden_size': 100, 'learning_rate': 0.001, 'batch_size': 8, 'n_hidden': 2, 'accuracy': 0.9176, 'f1': 0.72}\n"
     ]
    },
    {
     "name": "stderr",
     "output_type": "stream",
     "text": [
      "723it [6:52:07, 36.22s/it]"
     ]
    },
    {
     "name": "stdout",
     "output_type": "stream",
     "text": [
      "Confusion matrix:\n",
      " [[62 11]\n",
      " [ 2 10]]\n",
      "{'dropout': 0.6, 'hidden_size': 100, 'learning_rate': 0.001, 'batch_size': 8, 'n_hidden': 3, 'accuracy': 0.8471, 'f1': 0.61}\n"
     ]
    },
    {
     "name": "stderr",
     "output_type": "stream",
     "text": [
      "724it [6:53:14, 45.40s/it]"
     ]
    },
    {
     "name": "stdout",
     "output_type": "stream",
     "text": [
      "Confusion matrix:\n",
      " [[63 10]\n",
      " [ 2 10]]\n",
      "{'dropout': 0.6, 'hidden_size': 100, 'learning_rate': 0.001, 'batch_size': 8, 'n_hidden': 4, 'accuracy': 0.8588, 'f1': 0.62}\n"
     ]
    },
    {
     "name": "stderr",
     "output_type": "stream",
     "text": [
      "C:\\Users\\William\\AppData\\Roaming\\Python\\Python311\\site-packages\\torch\\nn\\modules\\rnn.py:82: UserWarning: dropout option adds dropout after all but last recurrent layer, so non-zero dropout expects num_layers greater than 1, but got dropout=0.6 and num_layers=1\n",
      "  warnings.warn(\"dropout option adds dropout after all but last \"\n",
      "C:\\Users\\William\\AppData\\Roaming\\Python\\Python311\\site-packages\\torch\\nn\\modules\\rnn.py:82: UserWarning: dropout option adds dropout after all but last recurrent layer, so non-zero dropout expects num_layers greater than 1, but got dropout=0.6 and num_layers=1\n",
      "  warnings.warn(\"dropout option adds dropout after all but last \"\n",
      "725it [6:53:44, 40.75s/it]"
     ]
    },
    {
     "name": "stdout",
     "output_type": "stream",
     "text": [
      "Confusion matrix:\n",
      " [[68  5]\n",
      " [ 3  9]]\n",
      "{'dropout': 0.6, 'hidden_size': 100, 'learning_rate': 0.001, 'batch_size': 16, 'n_hidden': 1, 'accuracy': 0.9059, 'f1': 0.69}\n"
     ]
    },
    {
     "name": "stderr",
     "output_type": "stream",
     "text": [
      "726it [6:54:06, 34.98s/it]"
     ]
    },
    {
     "name": "stdout",
     "output_type": "stream",
     "text": [
      "Confusion matrix:\n",
      " [[54 19]\n",
      " [ 0 12]]\n",
      "{'dropout': 0.6, 'hidden_size': 100, 'learning_rate': 0.001, 'batch_size': 16, 'n_hidden': 2, 'accuracy': 0.7765, 'f1': 0.56}\n"
     ]
    },
    {
     "name": "stderr",
     "output_type": "stream",
     "text": [
      "727it [6:54:37, 33.80s/it]"
     ]
    },
    {
     "name": "stdout",
     "output_type": "stream",
     "text": [
      "Confusion matrix:\n",
      " [[62 11]\n",
      " [ 1 11]]\n",
      "{'dropout': 0.6, 'hidden_size': 100, 'learning_rate': 0.001, 'batch_size': 16, 'n_hidden': 3, 'accuracy': 0.8588, 'f1': 0.65}\n"
     ]
    },
    {
     "name": "stderr",
     "output_type": "stream",
     "text": [
      "728it [6:55:06, 32.60s/it]"
     ]
    },
    {
     "name": "stdout",
     "output_type": "stream",
     "text": [
      "Confusion matrix:\n",
      " [[66  7]\n",
      " [ 3  9]]\n",
      "{'dropout': 0.6, 'hidden_size': 100, 'learning_rate': 0.001, 'batch_size': 16, 'n_hidden': 4, 'accuracy': 0.8824, 'f1': 0.64}\n"
     ]
    },
    {
     "name": "stderr",
     "output_type": "stream",
     "text": [
      "C:\\Users\\William\\AppData\\Roaming\\Python\\Python311\\site-packages\\torch\\nn\\modules\\rnn.py:82: UserWarning: dropout option adds dropout after all but last recurrent layer, so non-zero dropout expects num_layers greater than 1, but got dropout=0.6 and num_layers=1\n",
      "  warnings.warn(\"dropout option adds dropout after all but last \"\n",
      "C:\\Users\\William\\AppData\\Roaming\\Python\\Python311\\site-packages\\torch\\nn\\modules\\rnn.py:82: UserWarning: dropout option adds dropout after all but last recurrent layer, so non-zero dropout expects num_layers greater than 1, but got dropout=0.6 and num_layers=1\n",
      "  warnings.warn(\"dropout option adds dropout after all but last \"\n",
      "729it [6:55:23, 27.68s/it]"
     ]
    },
    {
     "name": "stdout",
     "output_type": "stream",
     "text": [
      "Confusion matrix:\n",
      " [[67  6]\n",
      " [ 2 10]]\n",
      "{'dropout': 0.6, 'hidden_size': 100, 'learning_rate': 0.001, 'batch_size': 32, 'n_hidden': 1, 'accuracy': 0.9059, 'f1': 0.71}\n"
     ]
    },
    {
     "name": "stderr",
     "output_type": "stream",
     "text": [
      "730it [6:55:35, 23.12s/it]"
     ]
    },
    {
     "name": "stdout",
     "output_type": "stream",
     "text": [
      "Confusion matrix:\n",
      " [[61 12]\n",
      " [ 1 11]]\n",
      "{'dropout': 0.6, 'hidden_size': 100, 'learning_rate': 0.001, 'batch_size': 32, 'n_hidden': 2, 'accuracy': 0.8471, 'f1': 0.63}\n"
     ]
    },
    {
     "name": "stderr",
     "output_type": "stream",
     "text": [
      "731it [6:55:53, 21.63s/it]"
     ]
    },
    {
     "name": "stdout",
     "output_type": "stream",
     "text": [
      "Confusion matrix:\n",
      " [[64  9]\n",
      " [ 2 10]]\n",
      "{'dropout': 0.6, 'hidden_size': 100, 'learning_rate': 0.001, 'batch_size': 32, 'n_hidden': 3, 'accuracy': 0.8706, 'f1': 0.65}\n"
     ]
    },
    {
     "name": "stderr",
     "output_type": "stream",
     "text": [
      "732it [6:56:14, 21.28s/it]"
     ]
    },
    {
     "name": "stdout",
     "output_type": "stream",
     "text": [
      "Confusion matrix:\n",
      " [[64  9]\n",
      " [ 2 10]]\n",
      "{'dropout': 0.6, 'hidden_size': 100, 'learning_rate': 0.001, 'batch_size': 32, 'n_hidden': 4, 'accuracy': 0.8706, 'f1': 0.65}\n"
     ]
    },
    {
     "name": "stderr",
     "output_type": "stream",
     "text": [
      "C:\\Users\\William\\AppData\\Roaming\\Python\\Python311\\site-packages\\torch\\nn\\modules\\rnn.py:82: UserWarning: dropout option adds dropout after all but last recurrent layer, so non-zero dropout expects num_layers greater than 1, but got dropout=0.6 and num_layers=1\n",
      "  warnings.warn(\"dropout option adds dropout after all but last \"\n",
      "C:\\Users\\William\\AppData\\Roaming\\Python\\Python311\\site-packages\\torch\\nn\\modules\\rnn.py:82: UserWarning: dropout option adds dropout after all but last recurrent layer, so non-zero dropout expects num_layers greater than 1, but got dropout=0.6 and num_layers=1\n",
      "  warnings.warn(\"dropout option adds dropout after all but last \"\n",
      "733it [6:56:25, 18.30s/it]"
     ]
    },
    {
     "name": "stdout",
     "output_type": "stream",
     "text": [
      "Confusion matrix:\n",
      " [[59 14]\n",
      " [ 0 12]]\n",
      "{'dropout': 0.6, 'hidden_size': 100, 'learning_rate': 0.001, 'batch_size': 64, 'n_hidden': 1, 'accuracy': 0.8353, 'f1': 0.63}\n"
     ]
    },
    {
     "name": "stderr",
     "output_type": "stream",
     "text": [
      "734it [6:56:39, 17.12s/it]"
     ]
    },
    {
     "name": "stdout",
     "output_type": "stream",
     "text": [
      "Confusion matrix:\n",
      " [[68  5]\n",
      " [ 3  9]]\n",
      "{'dropout': 0.6, 'hidden_size': 100, 'learning_rate': 0.001, 'batch_size': 64, 'n_hidden': 2, 'accuracy': 0.9059, 'f1': 0.69}\n"
     ]
    },
    {
     "name": "stderr",
     "output_type": "stream",
     "text": [
      "735it [6:57:01, 18.48s/it]"
     ]
    },
    {
     "name": "stdout",
     "output_type": "stream",
     "text": [
      "Confusion matrix:\n",
      " [[64  9]\n",
      " [ 4  8]]\n",
      "{'dropout': 0.6, 'hidden_size': 100, 'learning_rate': 0.001, 'batch_size': 64, 'n_hidden': 3, 'accuracy': 0.8471, 'f1': 0.55}\n"
     ]
    },
    {
     "name": "stderr",
     "output_type": "stream",
     "text": [
      "736it [6:57:17, 17.62s/it]"
     ]
    },
    {
     "name": "stdout",
     "output_type": "stream",
     "text": [
      "Confusion matrix:\n",
      " [[61 12]\n",
      " [ 1 11]]\n",
      "{'dropout': 0.6, 'hidden_size': 100, 'learning_rate': 0.001, 'batch_size': 64, 'n_hidden': 4, 'accuracy': 0.8471, 'f1': 0.63}\n"
     ]
    },
    {
     "name": "stderr",
     "output_type": "stream",
     "text": [
      "C:\\Users\\William\\AppData\\Roaming\\Python\\Python311\\site-packages\\torch\\nn\\modules\\rnn.py:82: UserWarning: dropout option adds dropout after all but last recurrent layer, so non-zero dropout expects num_layers greater than 1, but got dropout=0.6 and num_layers=1\n",
      "  warnings.warn(\"dropout option adds dropout after all but last \"\n",
      "C:\\Users\\William\\AppData\\Roaming\\Python\\Python311\\site-packages\\torch\\nn\\modules\\rnn.py:82: UserWarning: dropout option adds dropout after all but last recurrent layer, so non-zero dropout expects num_layers greater than 1, but got dropout=0.6 and num_layers=1\n",
      "  warnings.warn(\"dropout option adds dropout after all but last \"\n",
      "737it [6:58:48, 39.88s/it]"
     ]
    },
    {
     "name": "stdout",
     "output_type": "stream",
     "text": [
      "Confusion matrix:\n",
      " [[69  4]\n",
      " [ 3  9]]\n",
      "{'dropout': 0.6, 'hidden_size': 100, 'learning_rate': 0.0001, 'batch_size': 8, 'n_hidden': 1, 'accuracy': 0.9176, 'f1': 0.72}\n"
     ]
    },
    {
     "name": "stderr",
     "output_type": "stream",
     "text": [
      "738it [6:59:50, 46.35s/it]"
     ]
    },
    {
     "name": "stdout",
     "output_type": "stream",
     "text": [
      "Confusion matrix:\n",
      " [[65  8]\n",
      " [ 2 10]]\n",
      "{'dropout': 0.6, 'hidden_size': 100, 'learning_rate': 0.0001, 'batch_size': 8, 'n_hidden': 2, 'accuracy': 0.8824, 'f1': 0.67}\n"
     ]
    },
    {
     "name": "stderr",
     "output_type": "stream",
     "text": [
      "739it [7:00:54, 51.66s/it]"
     ]
    },
    {
     "name": "stdout",
     "output_type": "stream",
     "text": [
      "Confusion matrix:\n",
      " [[66  7]\n",
      " [ 1 11]]\n",
      "{'dropout': 0.6, 'hidden_size': 100, 'learning_rate': 0.0001, 'batch_size': 8, 'n_hidden': 3, 'accuracy': 0.9059, 'f1': 0.73}\n"
     ]
    },
    {
     "name": "stderr",
     "output_type": "stream",
     "text": [
      "740it [7:02:17, 60.97s/it]"
     ]
    },
    {
     "name": "stdout",
     "output_type": "stream",
     "text": [
      "Confusion matrix:\n",
      " [[65  8]\n",
      " [ 2 10]]\n",
      "{'dropout': 0.6, 'hidden_size': 100, 'learning_rate': 0.0001, 'batch_size': 8, 'n_hidden': 4, 'accuracy': 0.8824, 'f1': 0.67}\n"
     ]
    },
    {
     "name": "stderr",
     "output_type": "stream",
     "text": [
      "C:\\Users\\William\\AppData\\Roaming\\Python\\Python311\\site-packages\\torch\\nn\\modules\\rnn.py:82: UserWarning: dropout option adds dropout after all but last recurrent layer, so non-zero dropout expects num_layers greater than 1, but got dropout=0.6 and num_layers=1\n",
      "  warnings.warn(\"dropout option adds dropout after all but last \"\n",
      "C:\\Users\\William\\AppData\\Roaming\\Python\\Python311\\site-packages\\torch\\nn\\modules\\rnn.py:82: UserWarning: dropout option adds dropout after all but last recurrent layer, so non-zero dropout expects num_layers greater than 1, but got dropout=0.6 and num_layers=1\n",
      "  warnings.warn(\"dropout option adds dropout after all but last \"\n",
      "741it [7:02:46, 51.61s/it]"
     ]
    },
    {
     "name": "stdout",
     "output_type": "stream",
     "text": [
      "Confusion matrix:\n",
      " [[64  9]\n",
      " [ 2 10]]\n",
      "{'dropout': 0.6, 'hidden_size': 100, 'learning_rate': 0.0001, 'batch_size': 16, 'n_hidden': 1, 'accuracy': 0.8706, 'f1': 0.65}\n"
     ]
    },
    {
     "name": "stderr",
     "output_type": "stream",
     "text": [
      "742it [7:03:32, 49.81s/it]"
     ]
    },
    {
     "name": "stdout",
     "output_type": "stream",
     "text": [
      "Confusion matrix:\n",
      " [[59 14]\n",
      " [ 1 11]]\n",
      "{'dropout': 0.6, 'hidden_size': 100, 'learning_rate': 0.0001, 'batch_size': 16, 'n_hidden': 2, 'accuracy': 0.8235, 'f1': 0.59}\n"
     ]
    },
    {
     "name": "stderr",
     "output_type": "stream",
     "text": [
      "743it [7:04:26, 51.20s/it]"
     ]
    },
    {
     "name": "stdout",
     "output_type": "stream",
     "text": [
      "Confusion matrix:\n",
      " [[67  6]\n",
      " [ 3  9]]\n",
      "{'dropout': 0.6, 'hidden_size': 100, 'learning_rate': 0.0001, 'batch_size': 16, 'n_hidden': 3, 'accuracy': 0.8941, 'f1': 0.67}\n"
     ]
    },
    {
     "name": "stderr",
     "output_type": "stream",
     "text": [
      "744it [7:05:05, 47.33s/it]"
     ]
    },
    {
     "name": "stdout",
     "output_type": "stream",
     "text": [
      "Confusion matrix:\n",
      " [[67  6]\n",
      " [ 2 10]]\n",
      "{'dropout': 0.6, 'hidden_size': 100, 'learning_rate': 0.0001, 'batch_size': 16, 'n_hidden': 4, 'accuracy': 0.9059, 'f1': 0.71}\n"
     ]
    },
    {
     "name": "stderr",
     "output_type": "stream",
     "text": [
      "C:\\Users\\William\\AppData\\Roaming\\Python\\Python311\\site-packages\\torch\\nn\\modules\\rnn.py:82: UserWarning: dropout option adds dropout after all but last recurrent layer, so non-zero dropout expects num_layers greater than 1, but got dropout=0.6 and num_layers=1\n",
      "  warnings.warn(\"dropout option adds dropout after all but last \"\n",
      "C:\\Users\\William\\AppData\\Roaming\\Python\\Python311\\site-packages\\torch\\nn\\modules\\rnn.py:82: UserWarning: dropout option adds dropout after all but last recurrent layer, so non-zero dropout expects num_layers greater than 1, but got dropout=0.6 and num_layers=1\n",
      "  warnings.warn(\"dropout option adds dropout after all but last \"\n",
      "745it [7:05:41, 44.08s/it]"
     ]
    },
    {
     "name": "stdout",
     "output_type": "stream",
     "text": [
      "Confusion matrix:\n",
      " [[67  6]\n",
      " [ 1 11]]\n",
      "{'dropout': 0.6, 'hidden_size': 100, 'learning_rate': 0.0001, 'batch_size': 32, 'n_hidden': 1, 'accuracy': 0.9176, 'f1': 0.76}\n"
     ]
    },
    {
     "name": "stderr",
     "output_type": "stream",
     "text": [
      "746it [7:06:34, 46.76s/it]"
     ]
    },
    {
     "name": "stdout",
     "output_type": "stream",
     "text": [
      "Confusion matrix:\n",
      " [[64  9]\n",
      " [ 2 10]]\n",
      "{'dropout': 0.6, 'hidden_size': 100, 'learning_rate': 0.0001, 'batch_size': 32, 'n_hidden': 2, 'accuracy': 0.8706, 'f1': 0.65}\n"
     ]
    },
    {
     "name": "stderr",
     "output_type": "stream",
     "text": [
      "747it [7:07:00, 40.52s/it]"
     ]
    },
    {
     "name": "stdout",
     "output_type": "stream",
     "text": [
      "Confusion matrix:\n",
      " [[61 12]\n",
      " [ 1 11]]\n",
      "{'dropout': 0.6, 'hidden_size': 100, 'learning_rate': 0.0001, 'batch_size': 32, 'n_hidden': 3, 'accuracy': 0.8471, 'f1': 0.63}\n"
     ]
    },
    {
     "name": "stderr",
     "output_type": "stream",
     "text": [
      "748it [7:07:30, 37.39s/it]"
     ]
    },
    {
     "name": "stdout",
     "output_type": "stream",
     "text": [
      "Confusion matrix:\n",
      " [[69  4]\n",
      " [ 3  9]]\n",
      "{'dropout': 0.6, 'hidden_size': 100, 'learning_rate': 0.0001, 'batch_size': 32, 'n_hidden': 4, 'accuracy': 0.9176, 'f1': 0.72}\n"
     ]
    },
    {
     "name": "stderr",
     "output_type": "stream",
     "text": [
      "C:\\Users\\William\\AppData\\Roaming\\Python\\Python311\\site-packages\\torch\\nn\\modules\\rnn.py:82: UserWarning: dropout option adds dropout after all but last recurrent layer, so non-zero dropout expects num_layers greater than 1, but got dropout=0.6 and num_layers=1\n",
      "  warnings.warn(\"dropout option adds dropout after all but last \"\n",
      "C:\\Users\\William\\AppData\\Roaming\\Python\\Python311\\site-packages\\torch\\nn\\modules\\rnn.py:82: UserWarning: dropout option adds dropout after all but last recurrent layer, so non-zero dropout expects num_layers greater than 1, but got dropout=0.6 and num_layers=1\n",
      "  warnings.warn(\"dropout option adds dropout after all but last \"\n",
      "749it [7:07:55, 33.60s/it]"
     ]
    },
    {
     "name": "stdout",
     "output_type": "stream",
     "text": [
      "Confusion matrix:\n",
      " [[67  6]\n",
      " [ 1 11]]\n",
      "{'dropout': 0.6, 'hidden_size': 100, 'learning_rate': 0.0001, 'batch_size': 64, 'n_hidden': 1, 'accuracy': 0.9176, 'f1': 0.76}\n"
     ]
    },
    {
     "name": "stderr",
     "output_type": "stream",
     "text": [
      "750it [7:08:28, 33.41s/it]"
     ]
    },
    {
     "name": "stdout",
     "output_type": "stream",
     "text": [
      "Confusion matrix:\n",
      " [[65  8]\n",
      " [ 1 11]]\n",
      "{'dropout': 0.6, 'hidden_size': 100, 'learning_rate': 0.0001, 'batch_size': 64, 'n_hidden': 2, 'accuracy': 0.8941, 'f1': 0.71}\n"
     ]
    },
    {
     "name": "stderr",
     "output_type": "stream",
     "text": [
      "751it [7:08:55, 31.37s/it]"
     ]
    },
    {
     "name": "stdout",
     "output_type": "stream",
     "text": [
      "Confusion matrix:\n",
      " [[63 10]\n",
      " [ 1 11]]\n",
      "{'dropout': 0.6, 'hidden_size': 100, 'learning_rate': 0.0001, 'batch_size': 64, 'n_hidden': 3, 'accuracy': 0.8706, 'f1': 0.67}\n"
     ]
    },
    {
     "name": "stderr",
     "output_type": "stream",
     "text": [
      "752it [7:09:26, 31.31s/it]"
     ]
    },
    {
     "name": "stdout",
     "output_type": "stream",
     "text": [
      "Confusion matrix:\n",
      " [[65  8]\n",
      " [ 2 10]]\n",
      "{'dropout': 0.6, 'hidden_size': 100, 'learning_rate': 0.0001, 'batch_size': 64, 'n_hidden': 4, 'accuracy': 0.8824, 'f1': 0.67}\n"
     ]
    },
    {
     "name": "stderr",
     "output_type": "stream",
     "text": [
      "C:\\Users\\William\\AppData\\Roaming\\Python\\Python311\\site-packages\\torch\\nn\\modules\\rnn.py:82: UserWarning: dropout option adds dropout after all but last recurrent layer, so non-zero dropout expects num_layers greater than 1, but got dropout=0.6 and num_layers=1\n",
      "  warnings.warn(\"dropout option adds dropout after all but last \"\n",
      "C:\\Users\\William\\AppData\\Roaming\\Python\\Python311\\site-packages\\torch\\nn\\modules\\rnn.py:82: UserWarning: dropout option adds dropout after all but last recurrent layer, so non-zero dropout expects num_layers greater than 1, but got dropout=0.6 and num_layers=1\n",
      "  warnings.warn(\"dropout option adds dropout after all but last \"\n",
      "753it [7:10:49, 46.73s/it]"
     ]
    },
    {
     "name": "stdout",
     "output_type": "stream",
     "text": [
      "Confusion matrix:\n",
      " [[73  0]\n",
      " [12  0]]\n",
      "{'dropout': 0.6, 'hidden_size': 100, 'learning_rate': 1e-05, 'batch_size': 8, 'n_hidden': 1, 'accuracy': 0.8588, 'f1': 0.0}\n"
     ]
    },
    {
     "name": "stderr",
     "output_type": "stream",
     "text": [
      "754it [7:11:48, 50.63s/it]"
     ]
    },
    {
     "name": "stdout",
     "output_type": "stream",
     "text": [
      "Confusion matrix:\n",
      " [[73  0]\n",
      " [12  0]]\n",
      "{'dropout': 0.6, 'hidden_size': 100, 'learning_rate': 1e-05, 'batch_size': 8, 'n_hidden': 2, 'accuracy': 0.8588, 'f1': 0.0}\n"
     ]
    },
    {
     "name": "stderr",
     "output_type": "stream",
     "text": [
      "755it [7:13:47, 71.21s/it]"
     ]
    },
    {
     "name": "stdout",
     "output_type": "stream",
     "text": [
      "Confusion matrix:\n",
      " [[68  5]\n",
      " [ 6  6]]\n",
      "{'dropout': 0.6, 'hidden_size': 100, 'learning_rate': 1e-05, 'batch_size': 8, 'n_hidden': 3, 'accuracy': 0.8706, 'f1': 0.52}\n"
     ]
    },
    {
     "name": "stderr",
     "output_type": "stream",
     "text": [
      "756it [7:15:34, 81.78s/it]"
     ]
    },
    {
     "name": "stdout",
     "output_type": "stream",
     "text": [
      "Confusion matrix:\n",
      " [[72  1]\n",
      " [ 8  4]]\n",
      "{'dropout': 0.6, 'hidden_size': 100, 'learning_rate': 1e-05, 'batch_size': 8, 'n_hidden': 4, 'accuracy': 0.8941, 'f1': 0.47}\n"
     ]
    },
    {
     "name": "stderr",
     "output_type": "stream",
     "text": [
      "C:\\Users\\William\\AppData\\Roaming\\Python\\Python311\\site-packages\\torch\\nn\\modules\\rnn.py:82: UserWarning: dropout option adds dropout after all but last recurrent layer, so non-zero dropout expects num_layers greater than 1, but got dropout=0.6 and num_layers=1\n",
      "  warnings.warn(\"dropout option adds dropout after all but last \"\n",
      "C:\\Users\\William\\AppData\\Roaming\\Python\\Python311\\site-packages\\torch\\nn\\modules\\rnn.py:82: UserWarning: dropout option adds dropout after all but last recurrent layer, so non-zero dropout expects num_layers greater than 1, but got dropout=0.6 and num_layers=1\n",
      "  warnings.warn(\"dropout option adds dropout after all but last \"\n",
      "757it [7:16:25, 72.61s/it]"
     ]
    },
    {
     "name": "stdout",
     "output_type": "stream",
     "text": [
      "Confusion matrix:\n",
      " [[73  0]\n",
      " [12  0]]\n",
      "{'dropout': 0.6, 'hidden_size': 100, 'learning_rate': 1e-05, 'batch_size': 16, 'n_hidden': 1, 'accuracy': 0.8588, 'f1': 0.0}\n"
     ]
    },
    {
     "name": "stderr",
     "output_type": "stream",
     "text": [
      "758it [7:17:00, 61.31s/it]"
     ]
    },
    {
     "name": "stdout",
     "output_type": "stream",
     "text": [
      "Confusion matrix:\n",
      " [[73  0]\n",
      " [12  0]]\n",
      "{'dropout': 0.6, 'hidden_size': 100, 'learning_rate': 1e-05, 'batch_size': 16, 'n_hidden': 2, 'accuracy': 0.8588, 'f1': 0.0}\n"
     ]
    },
    {
     "name": "stderr",
     "output_type": "stream",
     "text": [
      "759it [7:18:26, 68.64s/it]"
     ]
    },
    {
     "name": "stdout",
     "output_type": "stream",
     "text": [
      "Confusion matrix:\n",
      " [[59 14]\n",
      " [ 4  8]]\n",
      "{'dropout': 0.6, 'hidden_size': 100, 'learning_rate': 1e-05, 'batch_size': 16, 'n_hidden': 3, 'accuracy': 0.7882, 'f1': 0.47}\n"
     ]
    },
    {
     "name": "stderr",
     "output_type": "stream",
     "text": [
      "760it [7:19:52, 73.94s/it]"
     ]
    },
    {
     "name": "stdout",
     "output_type": "stream",
     "text": [
      "Confusion matrix:\n",
      " [[60 13]\n",
      " [ 5  7]]\n",
      "{'dropout': 0.6, 'hidden_size': 100, 'learning_rate': 1e-05, 'batch_size': 16, 'n_hidden': 4, 'accuracy': 0.7882, 'f1': 0.44}\n"
     ]
    },
    {
     "name": "stderr",
     "output_type": "stream",
     "text": [
      "C:\\Users\\William\\AppData\\Roaming\\Python\\Python311\\site-packages\\torch\\nn\\modules\\rnn.py:82: UserWarning: dropout option adds dropout after all but last recurrent layer, so non-zero dropout expects num_layers greater than 1, but got dropout=0.6 and num_layers=1\n",
      "  warnings.warn(\"dropout option adds dropout after all but last \"\n",
      "C:\\Users\\William\\AppData\\Roaming\\Python\\Python311\\site-packages\\torch\\nn\\modules\\rnn.py:82: UserWarning: dropout option adds dropout after all but last recurrent layer, so non-zero dropout expects num_layers greater than 1, but got dropout=0.6 and num_layers=1\n",
      "  warnings.warn(\"dropout option adds dropout after all but last \"\n",
      "761it [7:20:24, 61.44s/it]"
     ]
    },
    {
     "name": "stdout",
     "output_type": "stream",
     "text": [
      "Confusion matrix:\n",
      " [[73  0]\n",
      " [10  2]]\n",
      "{'dropout': 0.6, 'hidden_size': 100, 'learning_rate': 1e-05, 'batch_size': 32, 'n_hidden': 1, 'accuracy': 0.8824, 'f1': 0.29}\n"
     ]
    },
    {
     "name": "stderr",
     "output_type": "stream",
     "text": [
      "762it [7:20:57, 52.75s/it]"
     ]
    },
    {
     "name": "stdout",
     "output_type": "stream",
     "text": [
      "Confusion matrix:\n",
      " [[73  0]\n",
      " [11  1]]\n",
      "{'dropout': 0.6, 'hidden_size': 100, 'learning_rate': 1e-05, 'batch_size': 32, 'n_hidden': 2, 'accuracy': 0.8706, 'f1': 0.15}\n"
     ]
    },
    {
     "name": "stderr",
     "output_type": "stream",
     "text": [
      "763it [7:21:13, 41.86s/it]"
     ]
    },
    {
     "name": "stdout",
     "output_type": "stream",
     "text": [
      "Confusion matrix:\n",
      " [[73  0]\n",
      " [12  0]]\n",
      "{'dropout': 0.6, 'hidden_size': 100, 'learning_rate': 1e-05, 'batch_size': 32, 'n_hidden': 3, 'accuracy': 0.8588, 'f1': 0.0}\n"
     ]
    },
    {
     "name": "stderr",
     "output_type": "stream",
     "text": [
      "764it [7:21:26, 33.05s/it]"
     ]
    },
    {
     "name": "stdout",
     "output_type": "stream",
     "text": [
      "Confusion matrix:\n",
      " [[73  0]\n",
      " [12  0]]\n",
      "{'dropout': 0.6, 'hidden_size': 100, 'learning_rate': 1e-05, 'batch_size': 32, 'n_hidden': 4, 'accuracy': 0.8588, 'f1': 0.0}\n"
     ]
    },
    {
     "name": "stderr",
     "output_type": "stream",
     "text": [
      "C:\\Users\\William\\AppData\\Roaming\\Python\\Python311\\site-packages\\torch\\nn\\modules\\rnn.py:82: UserWarning: dropout option adds dropout after all but last recurrent layer, so non-zero dropout expects num_layers greater than 1, but got dropout=0.6 and num_layers=1\n",
      "  warnings.warn(\"dropout option adds dropout after all but last \"\n",
      "C:\\Users\\William\\AppData\\Roaming\\Python\\Python311\\site-packages\\torch\\nn\\modules\\rnn.py:82: UserWarning: dropout option adds dropout after all but last recurrent layer, so non-zero dropout expects num_layers greater than 1, but got dropout=0.6 and num_layers=1\n",
      "  warnings.warn(\"dropout option adds dropout after all but last \"\n",
      "765it [7:21:54, 31.52s/it]"
     ]
    },
    {
     "name": "stdout",
     "output_type": "stream",
     "text": [
      "Confusion matrix:\n",
      " [[72  1]\n",
      " [ 8  4]]\n",
      "{'dropout': 0.6, 'hidden_size': 100, 'learning_rate': 1e-05, 'batch_size': 64, 'n_hidden': 1, 'accuracy': 0.8941, 'f1': 0.47}\n"
     ]
    },
    {
     "name": "stderr",
     "output_type": "stream",
     "text": [
      "766it [7:22:11, 27.33s/it]"
     ]
    },
    {
     "name": "stdout",
     "output_type": "stream",
     "text": [
      "Confusion matrix:\n",
      " [[65  8]\n",
      " [ 6  6]]\n",
      "{'dropout': 0.6, 'hidden_size': 100, 'learning_rate': 1e-05, 'batch_size': 64, 'n_hidden': 2, 'accuracy': 0.8353, 'f1': 0.46}\n"
     ]
    },
    {
     "name": "stderr",
     "output_type": "stream",
     "text": [
      "767it [7:22:23, 22.76s/it]"
     ]
    },
    {
     "name": "stdout",
     "output_type": "stream",
     "text": [
      "Confusion matrix:\n",
      " [[73  0]\n",
      " [12  0]]\n",
      "{'dropout': 0.6, 'hidden_size': 100, 'learning_rate': 1e-05, 'batch_size': 64, 'n_hidden': 3, 'accuracy': 0.8588, 'f1': 0.0}\n"
     ]
    },
    {
     "name": "stderr",
     "output_type": "stream",
     "text": [
      "768it [7:22:33, 18.90s/it]"
     ]
    },
    {
     "name": "stdout",
     "output_type": "stream",
     "text": [
      "Confusion matrix:\n",
      " [[73  0]\n",
      " [12  0]]\n",
      "{'dropout': 0.6, 'hidden_size': 100, 'learning_rate': 1e-05, 'batch_size': 64, 'n_hidden': 4, 'accuracy': 0.8588, 'f1': 0.0}\n"
     ]
    },
    {
     "name": "stderr",
     "output_type": "stream",
     "text": [
      "C:\\Users\\William\\AppData\\Roaming\\Python\\Python311\\site-packages\\torch\\nn\\modules\\rnn.py:82: UserWarning: dropout option adds dropout after all but last recurrent layer, so non-zero dropout expects num_layers greater than 1, but got dropout=0.9 and num_layers=1\n",
      "  warnings.warn(\"dropout option adds dropout after all but last \"\n",
      "C:\\Users\\William\\AppData\\Roaming\\Python\\Python311\\site-packages\\torch\\nn\\modules\\rnn.py:82: UserWarning: dropout option adds dropout after all but last recurrent layer, so non-zero dropout expects num_layers greater than 1, but got dropout=0.9 and num_layers=1\n",
      "  warnings.warn(\"dropout option adds dropout after all but last \"\n",
      "769it [7:23:04, 22.53s/it]"
     ]
    },
    {
     "name": "stdout",
     "output_type": "stream",
     "text": [
      "Confusion matrix:\n",
      " [[62 11]\n",
      " [ 0 12]]\n",
      "{'dropout': 0.9, 'hidden_size': 25, 'learning_rate': 0.01, 'batch_size': 8, 'n_hidden': 1, 'accuracy': 0.8706, 'f1': 0.69}\n"
     ]
    },
    {
     "name": "stderr",
     "output_type": "stream",
     "text": [
      "770it [7:23:59, 32.03s/it]"
     ]
    },
    {
     "name": "stdout",
     "output_type": "stream",
     "text": [
      "Confusion matrix:\n",
      " [[73  0]\n",
      " [12  0]]\n",
      "{'dropout': 0.9, 'hidden_size': 25, 'learning_rate': 0.01, 'batch_size': 8, 'n_hidden': 2, 'accuracy': 0.8588, 'f1': 0.0}\n"
     ]
    },
    {
     "name": "stderr",
     "output_type": "stream",
     "text": [
      "771it [7:24:23, 29.71s/it]"
     ]
    },
    {
     "name": "stdout",
     "output_type": "stream",
     "text": [
      "Confusion matrix:\n",
      " [[73  0]\n",
      " [12  0]]\n",
      "{'dropout': 0.9, 'hidden_size': 25, 'learning_rate': 0.01, 'batch_size': 8, 'n_hidden': 3, 'accuracy': 0.8588, 'f1': 0.0}\n"
     ]
    },
    {
     "name": "stderr",
     "output_type": "stream",
     "text": [
      "772it [7:24:43, 26.86s/it]"
     ]
    },
    {
     "name": "stdout",
     "output_type": "stream",
     "text": [
      "Confusion matrix:\n",
      " [[73  0]\n",
      " [12  0]]\n",
      "{'dropout': 0.9, 'hidden_size': 25, 'learning_rate': 0.01, 'batch_size': 8, 'n_hidden': 4, 'accuracy': 0.8588, 'f1': 0.0}\n"
     ]
    },
    {
     "name": "stderr",
     "output_type": "stream",
     "text": [
      "C:\\Users\\William\\AppData\\Roaming\\Python\\Python311\\site-packages\\torch\\nn\\modules\\rnn.py:82: UserWarning: dropout option adds dropout after all but last recurrent layer, so non-zero dropout expects num_layers greater than 1, but got dropout=0.9 and num_layers=1\n",
      "  warnings.warn(\"dropout option adds dropout after all but last \"\n",
      "C:\\Users\\William\\AppData\\Roaming\\Python\\Python311\\site-packages\\torch\\nn\\modules\\rnn.py:82: UserWarning: dropout option adds dropout after all but last recurrent layer, so non-zero dropout expects num_layers greater than 1, but got dropout=0.9 and num_layers=1\n",
      "  warnings.warn(\"dropout option adds dropout after all but last \"\n",
      "773it [7:25:04, 25.08s/it]"
     ]
    },
    {
     "name": "stdout",
     "output_type": "stream",
     "text": [
      "Confusion matrix:\n",
      " [[66  7]\n",
      " [ 2 10]]\n",
      "{'dropout': 0.9, 'hidden_size': 25, 'learning_rate': 0.01, 'batch_size': 16, 'n_hidden': 1, 'accuracy': 0.8941, 'f1': 0.69}\n"
     ]
    },
    {
     "name": "stderr",
     "output_type": "stream",
     "text": [
      "774it [7:25:29, 24.99s/it]"
     ]
    },
    {
     "name": "stdout",
     "output_type": "stream",
     "text": [
      "Confusion matrix:\n",
      " [[45 28]\n",
      " [ 3  9]]\n",
      "{'dropout': 0.9, 'hidden_size': 25, 'learning_rate': 0.01, 'batch_size': 16, 'n_hidden': 2, 'accuracy': 0.6353, 'f1': 0.37}\n"
     ]
    },
    {
     "name": "stderr",
     "output_type": "stream",
     "text": [
      "775it [7:25:59, 26.68s/it]"
     ]
    },
    {
     "name": "stdout",
     "output_type": "stream",
     "text": [
      "Confusion matrix:\n",
      " [[73  0]\n",
      " [12  0]]\n",
      "{'dropout': 0.9, 'hidden_size': 25, 'learning_rate': 0.01, 'batch_size': 16, 'n_hidden': 3, 'accuracy': 0.8588, 'f1': 0.0}\n"
     ]
    },
    {
     "name": "stderr",
     "output_type": "stream",
     "text": [
      "776it [7:26:21, 25.15s/it]"
     ]
    },
    {
     "name": "stdout",
     "output_type": "stream",
     "text": [
      "Confusion matrix:\n",
      " [[73  0]\n",
      " [12  0]]\n",
      "{'dropout': 0.9, 'hidden_size': 25, 'learning_rate': 0.01, 'batch_size': 16, 'n_hidden': 4, 'accuracy': 0.8588, 'f1': 0.0}\n"
     ]
    },
    {
     "name": "stderr",
     "output_type": "stream",
     "text": [
      "C:\\Users\\William\\AppData\\Roaming\\Python\\Python311\\site-packages\\torch\\nn\\modules\\rnn.py:82: UserWarning: dropout option adds dropout after all but last recurrent layer, so non-zero dropout expects num_layers greater than 1, but got dropout=0.9 and num_layers=1\n",
      "  warnings.warn(\"dropout option adds dropout after all but last \"\n",
      "C:\\Users\\William\\AppData\\Roaming\\Python\\Python311\\site-packages\\torch\\nn\\modules\\rnn.py:82: UserWarning: dropout option adds dropout after all but last recurrent layer, so non-zero dropout expects num_layers greater than 1, but got dropout=0.9 and num_layers=1\n",
      "  warnings.warn(\"dropout option adds dropout after all but last \"\n",
      "777it [7:26:38, 22.82s/it]"
     ]
    },
    {
     "name": "stdout",
     "output_type": "stream",
     "text": [
      "Confusion matrix:\n",
      " [[66  7]\n",
      " [ 2 10]]\n",
      "{'dropout': 0.9, 'hidden_size': 25, 'learning_rate': 0.01, 'batch_size': 32, 'n_hidden': 1, 'accuracy': 0.8941, 'f1': 0.69}\n"
     ]
    },
    {
     "name": "stderr",
     "output_type": "stream",
     "text": [
      "778it [7:26:52, 20.06s/it]"
     ]
    },
    {
     "name": "stdout",
     "output_type": "stream",
     "text": [
      "Confusion matrix:\n",
      " [[65  8]\n",
      " [ 2 10]]\n",
      "{'dropout': 0.9, 'hidden_size': 25, 'learning_rate': 0.01, 'batch_size': 32, 'n_hidden': 2, 'accuracy': 0.8824, 'f1': 0.67}\n"
     ]
    },
    {
     "name": "stderr",
     "output_type": "stream",
     "text": [
      "779it [7:27:04, 17.67s/it]"
     ]
    },
    {
     "name": "stdout",
     "output_type": "stream",
     "text": [
      "Confusion matrix:\n",
      " [[67  6]\n",
      " [ 2 10]]\n",
      "{'dropout': 0.9, 'hidden_size': 25, 'learning_rate': 0.01, 'batch_size': 32, 'n_hidden': 3, 'accuracy': 0.9059, 'f1': 0.71}\n"
     ]
    },
    {
     "name": "stderr",
     "output_type": "stream",
     "text": [
      "780it [7:27:17, 16.11s/it]"
     ]
    },
    {
     "name": "stdout",
     "output_type": "stream",
     "text": [
      "Confusion matrix:\n",
      " [[73  0]\n",
      " [12  0]]\n",
      "{'dropout': 0.9, 'hidden_size': 25, 'learning_rate': 0.01, 'batch_size': 32, 'n_hidden': 4, 'accuracy': 0.8588, 'f1': 0.0}\n"
     ]
    },
    {
     "name": "stderr",
     "output_type": "stream",
     "text": [
      "C:\\Users\\William\\AppData\\Roaming\\Python\\Python311\\site-packages\\torch\\nn\\modules\\rnn.py:82: UserWarning: dropout option adds dropout after all but last recurrent layer, so non-zero dropout expects num_layers greater than 1, but got dropout=0.9 and num_layers=1\n",
      "  warnings.warn(\"dropout option adds dropout after all but last \"\n",
      "C:\\Users\\William\\AppData\\Roaming\\Python\\Python311\\site-packages\\torch\\nn\\modules\\rnn.py:82: UserWarning: dropout option adds dropout after all but last recurrent layer, so non-zero dropout expects num_layers greater than 1, but got dropout=0.9 and num_layers=1\n",
      "  warnings.warn(\"dropout option adds dropout after all but last \"\n",
      "781it [7:27:29, 14.90s/it]"
     ]
    },
    {
     "name": "stdout",
     "output_type": "stream",
     "text": [
      "Confusion matrix:\n",
      " [[65  8]\n",
      " [ 2 10]]\n",
      "{'dropout': 0.9, 'hidden_size': 25, 'learning_rate': 0.01, 'batch_size': 64, 'n_hidden': 1, 'accuracy': 0.8824, 'f1': 0.67}\n"
     ]
    },
    {
     "name": "stderr",
     "output_type": "stream",
     "text": [
      "782it [7:27:39, 13.58s/it]"
     ]
    },
    {
     "name": "stdout",
     "output_type": "stream",
     "text": [
      "Confusion matrix:\n",
      " [[64  9]\n",
      " [ 0 12]]\n",
      "{'dropout': 0.9, 'hidden_size': 25, 'learning_rate': 0.01, 'batch_size': 64, 'n_hidden': 2, 'accuracy': 0.8941, 'f1': 0.73}\n"
     ]
    },
    {
     "name": "stderr",
     "output_type": "stream",
     "text": [
      "783it [7:27:49, 12.61s/it]"
     ]
    },
    {
     "name": "stdout",
     "output_type": "stream",
     "text": [
      "Confusion matrix:\n",
      " [[41 32]\n",
      " [ 3  9]]\n",
      "{'dropout': 0.9, 'hidden_size': 25, 'learning_rate': 0.01, 'batch_size': 64, 'n_hidden': 3, 'accuracy': 0.5882, 'f1': 0.34}\n"
     ]
    },
    {
     "name": "stderr",
     "output_type": "stream",
     "text": [
      "784it [7:27:53,  9.98s/it]"
     ]
    },
    {
     "name": "stdout",
     "output_type": "stream",
     "text": [
      "Confusion matrix:\n",
      " [[73  0]\n",
      " [12  0]]\n",
      "{'dropout': 0.9, 'hidden_size': 25, 'learning_rate': 0.01, 'batch_size': 64, 'n_hidden': 4, 'accuracy': 0.8588, 'f1': 0.0}\n"
     ]
    },
    {
     "name": "stderr",
     "output_type": "stream",
     "text": [
      "C:\\Users\\William\\AppData\\Roaming\\Python\\Python311\\site-packages\\torch\\nn\\modules\\rnn.py:82: UserWarning: dropout option adds dropout after all but last recurrent layer, so non-zero dropout expects num_layers greater than 1, but got dropout=0.9 and num_layers=1\n",
      "  warnings.warn(\"dropout option adds dropout after all but last \"\n",
      "C:\\Users\\William\\AppData\\Roaming\\Python\\Python311\\site-packages\\torch\\nn\\modules\\rnn.py:82: UserWarning: dropout option adds dropout after all but last recurrent layer, so non-zero dropout expects num_layers greater than 1, but got dropout=0.9 and num_layers=1\n",
      "  warnings.warn(\"dropout option adds dropout after all but last \"\n",
      "785it [7:28:37, 20.24s/it]"
     ]
    },
    {
     "name": "stdout",
     "output_type": "stream",
     "text": [
      "Confusion matrix:\n",
      " [[67  6]\n",
      " [ 3  9]]\n",
      "{'dropout': 0.9, 'hidden_size': 25, 'learning_rate': 0.001, 'batch_size': 8, 'n_hidden': 1, 'accuracy': 0.8941, 'f1': 0.67}\n"
     ]
    },
    {
     "name": "stderr",
     "output_type": "stream",
     "text": [
      "786it [7:29:24, 28.25s/it]"
     ]
    },
    {
     "name": "stdout",
     "output_type": "stream",
     "text": [
      "Confusion matrix:\n",
      " [[65  8]\n",
      " [ 1 11]]\n",
      "{'dropout': 0.9, 'hidden_size': 25, 'learning_rate': 0.001, 'batch_size': 8, 'n_hidden': 2, 'accuracy': 0.8941, 'f1': 0.71}\n"
     ]
    },
    {
     "name": "stderr",
     "output_type": "stream",
     "text": [
      "787it [7:29:53, 28.49s/it]"
     ]
    },
    {
     "name": "stdout",
     "output_type": "stream",
     "text": [
      "Confusion matrix:\n",
      " [[65  8]\n",
      " [ 1 11]]\n",
      "{'dropout': 0.9, 'hidden_size': 25, 'learning_rate': 0.001, 'batch_size': 8, 'n_hidden': 3, 'accuracy': 0.8941, 'f1': 0.71}\n"
     ]
    },
    {
     "name": "stderr",
     "output_type": "stream",
     "text": [
      "788it [7:30:45, 35.39s/it]"
     ]
    },
    {
     "name": "stdout",
     "output_type": "stream",
     "text": [
      "Confusion matrix:\n",
      " [[68  5]\n",
      " [ 3  9]]\n",
      "{'dropout': 0.9, 'hidden_size': 25, 'learning_rate': 0.001, 'batch_size': 8, 'n_hidden': 4, 'accuracy': 0.9059, 'f1': 0.69}\n"
     ]
    },
    {
     "name": "stderr",
     "output_type": "stream",
     "text": [
      "C:\\Users\\William\\AppData\\Roaming\\Python\\Python311\\site-packages\\torch\\nn\\modules\\rnn.py:82: UserWarning: dropout option adds dropout after all but last recurrent layer, so non-zero dropout expects num_layers greater than 1, but got dropout=0.9 and num_layers=1\n",
      "  warnings.warn(\"dropout option adds dropout after all but last \"\n",
      "C:\\Users\\William\\AppData\\Roaming\\Python\\Python311\\site-packages\\torch\\nn\\modules\\rnn.py:82: UserWarning: dropout option adds dropout after all but last recurrent layer, so non-zero dropout expects num_layers greater than 1, but got dropout=0.9 and num_layers=1\n",
      "  warnings.warn(\"dropout option adds dropout after all but last \"\n",
      "789it [7:31:20, 35.16s/it]"
     ]
    },
    {
     "name": "stdout",
     "output_type": "stream",
     "text": [
      "Confusion matrix:\n",
      " [[68  5]\n",
      " [ 5  7]]\n",
      "{'dropout': 0.9, 'hidden_size': 25, 'learning_rate': 0.001, 'batch_size': 16, 'n_hidden': 1, 'accuracy': 0.8824, 'f1': 0.58}\n"
     ]
    },
    {
     "name": "stderr",
     "output_type": "stream",
     "text": [
      "790it [7:31:55, 35.32s/it]"
     ]
    },
    {
     "name": "stdout",
     "output_type": "stream",
     "text": [
      "Confusion matrix:\n",
      " [[66  7]\n",
      " [ 2 10]]\n",
      "{'dropout': 0.9, 'hidden_size': 25, 'learning_rate': 0.001, 'batch_size': 16, 'n_hidden': 2, 'accuracy': 0.8941, 'f1': 0.69}\n"
     ]
    },
    {
     "name": "stderr",
     "output_type": "stream",
     "text": [
      "791it [7:32:19, 31.89s/it]"
     ]
    },
    {
     "name": "stdout",
     "output_type": "stream",
     "text": [
      "Confusion matrix:\n",
      " [[63 10]\n",
      " [ 1 11]]\n",
      "{'dropout': 0.9, 'hidden_size': 25, 'learning_rate': 0.001, 'batch_size': 16, 'n_hidden': 3, 'accuracy': 0.8706, 'f1': 0.67}\n"
     ]
    },
    {
     "name": "stderr",
     "output_type": "stream",
     "text": [
      "792it [7:33:10, 37.43s/it]"
     ]
    },
    {
     "name": "stdout",
     "output_type": "stream",
     "text": [
      "Confusion matrix:\n",
      " [[65  8]\n",
      " [ 1 11]]\n",
      "{'dropout': 0.9, 'hidden_size': 25, 'learning_rate': 0.001, 'batch_size': 16, 'n_hidden': 4, 'accuracy': 0.8941, 'f1': 0.71}\n"
     ]
    },
    {
     "name": "stderr",
     "output_type": "stream",
     "text": [
      "C:\\Users\\William\\AppData\\Roaming\\Python\\Python311\\site-packages\\torch\\nn\\modules\\rnn.py:82: UserWarning: dropout option adds dropout after all but last recurrent layer, so non-zero dropout expects num_layers greater than 1, but got dropout=0.9 and num_layers=1\n",
      "  warnings.warn(\"dropout option adds dropout after all but last \"\n",
      "C:\\Users\\William\\AppData\\Roaming\\Python\\Python311\\site-packages\\torch\\nn\\modules\\rnn.py:82: UserWarning: dropout option adds dropout after all but last recurrent layer, so non-zero dropout expects num_layers greater than 1, but got dropout=0.9 and num_layers=1\n",
      "  warnings.warn(\"dropout option adds dropout after all but last \"\n",
      "793it [7:33:37, 34.55s/it]"
     ]
    },
    {
     "name": "stdout",
     "output_type": "stream",
     "text": [
      "Confusion matrix:\n",
      " [[68  5]\n",
      " [ 4  8]]\n",
      "{'dropout': 0.9, 'hidden_size': 25, 'learning_rate': 0.001, 'batch_size': 32, 'n_hidden': 1, 'accuracy': 0.8941, 'f1': 0.64}\n"
     ]
    },
    {
     "name": "stderr",
     "output_type": "stream",
     "text": [
      "794it [7:33:56, 29.64s/it]"
     ]
    },
    {
     "name": "stdout",
     "output_type": "stream",
     "text": [
      "Confusion matrix:\n",
      " [[62 11]\n",
      " [ 1 11]]\n",
      "{'dropout': 0.9, 'hidden_size': 25, 'learning_rate': 0.001, 'batch_size': 32, 'n_hidden': 2, 'accuracy': 0.8588, 'f1': 0.65}\n"
     ]
    },
    {
     "name": "stderr",
     "output_type": "stream",
     "text": [
      "795it [7:34:21, 28.51s/it]"
     ]
    },
    {
     "name": "stdout",
     "output_type": "stream",
     "text": [
      "Confusion matrix:\n",
      " [[64  9]\n",
      " [ 1 11]]\n",
      "{'dropout': 0.9, 'hidden_size': 25, 'learning_rate': 0.001, 'batch_size': 32, 'n_hidden': 3, 'accuracy': 0.8824, 'f1': 0.69}\n"
     ]
    },
    {
     "name": "stderr",
     "output_type": "stream",
     "text": [
      "796it [7:34:39, 25.28s/it]"
     ]
    },
    {
     "name": "stdout",
     "output_type": "stream",
     "text": [
      "Confusion matrix:\n",
      " [[61 12]\n",
      " [ 1 11]]\n",
      "{'dropout': 0.9, 'hidden_size': 25, 'learning_rate': 0.001, 'batch_size': 32, 'n_hidden': 4, 'accuracy': 0.8471, 'f1': 0.63}\n"
     ]
    },
    {
     "name": "stderr",
     "output_type": "stream",
     "text": [
      "C:\\Users\\William\\AppData\\Roaming\\Python\\Python311\\site-packages\\torch\\nn\\modules\\rnn.py:82: UserWarning: dropout option adds dropout after all but last recurrent layer, so non-zero dropout expects num_layers greater than 1, but got dropout=0.9 and num_layers=1\n",
      "  warnings.warn(\"dropout option adds dropout after all but last \"\n",
      "C:\\Users\\William\\AppData\\Roaming\\Python\\Python311\\site-packages\\torch\\nn\\modules\\rnn.py:82: UserWarning: dropout option adds dropout after all but last recurrent layer, so non-zero dropout expects num_layers greater than 1, but got dropout=0.9 and num_layers=1\n",
      "  warnings.warn(\"dropout option adds dropout after all but last \"\n",
      "797it [7:34:49, 20.64s/it]"
     ]
    },
    {
     "name": "stdout",
     "output_type": "stream",
     "text": [
      "Confusion matrix:\n",
      " [[65  8]\n",
      " [ 1 11]]\n",
      "{'dropout': 0.9, 'hidden_size': 25, 'learning_rate': 0.001, 'batch_size': 64, 'n_hidden': 1, 'accuracy': 0.8941, 'f1': 0.71}\n"
     ]
    },
    {
     "name": "stderr",
     "output_type": "stream",
     "text": [
      "798it [7:35:10, 20.72s/it]"
     ]
    },
    {
     "name": "stdout",
     "output_type": "stream",
     "text": [
      "Confusion matrix:\n",
      " [[65  8]\n",
      " [ 1 11]]\n",
      "{'dropout': 0.9, 'hidden_size': 25, 'learning_rate': 0.001, 'batch_size': 64, 'n_hidden': 2, 'accuracy': 0.8941, 'f1': 0.71}\n"
     ]
    },
    {
     "name": "stderr",
     "output_type": "stream",
     "text": [
      "799it [7:35:25, 19.03s/it]"
     ]
    },
    {
     "name": "stdout",
     "output_type": "stream",
     "text": [
      "Confusion matrix:\n",
      " [[65  8]\n",
      " [ 1 11]]\n",
      "{'dropout': 0.9, 'hidden_size': 25, 'learning_rate': 0.001, 'batch_size': 64, 'n_hidden': 3, 'accuracy': 0.8941, 'f1': 0.71}\n"
     ]
    },
    {
     "name": "stderr",
     "output_type": "stream",
     "text": [
      "800it [7:35:38, 17.17s/it]"
     ]
    },
    {
     "name": "stdout",
     "output_type": "stream",
     "text": [
      "Confusion matrix:\n",
      " [[57 16]\n",
      " [ 1 11]]\n",
      "{'dropout': 0.9, 'hidden_size': 25, 'learning_rate': 0.001, 'batch_size': 64, 'n_hidden': 4, 'accuracy': 0.8, 'f1': 0.56}\n"
     ]
    },
    {
     "name": "stderr",
     "output_type": "stream",
     "text": [
      "C:\\Users\\William\\AppData\\Roaming\\Python\\Python311\\site-packages\\torch\\nn\\modules\\rnn.py:82: UserWarning: dropout option adds dropout after all but last recurrent layer, so non-zero dropout expects num_layers greater than 1, but got dropout=0.9 and num_layers=1\n",
      "  warnings.warn(\"dropout option adds dropout after all but last \"\n",
      "C:\\Users\\William\\AppData\\Roaming\\Python\\Python311\\site-packages\\torch\\nn\\modules\\rnn.py:82: UserWarning: dropout option adds dropout after all but last recurrent layer, so non-zero dropout expects num_layers greater than 1, but got dropout=0.9 and num_layers=1\n",
      "  warnings.warn(\"dropout option adds dropout after all but last \"\n",
      "801it [7:36:52, 34.15s/it]"
     ]
    },
    {
     "name": "stdout",
     "output_type": "stream",
     "text": [
      "Confusion matrix:\n",
      " [[66  7]\n",
      " [ 1 11]]\n",
      "{'dropout': 0.9, 'hidden_size': 25, 'learning_rate': 0.0001, 'batch_size': 8, 'n_hidden': 1, 'accuracy': 0.9059, 'f1': 0.73}\n"
     ]
    },
    {
     "name": "stderr",
     "output_type": "stream",
     "text": [
      "802it [7:38:38, 55.77s/it]"
     ]
    },
    {
     "name": "stdout",
     "output_type": "stream",
     "text": [
      "Confusion matrix:\n",
      " [[64  9]\n",
      " [ 2 10]]\n",
      "{'dropout': 0.9, 'hidden_size': 25, 'learning_rate': 0.0001, 'batch_size': 8, 'n_hidden': 2, 'accuracy': 0.8706, 'f1': 0.65}\n"
     ]
    },
    {
     "name": "stderr",
     "output_type": "stream",
     "text": [
      "803it [7:40:27, 71.94s/it]"
     ]
    },
    {
     "name": "stdout",
     "output_type": "stream",
     "text": [
      "Confusion matrix:\n",
      " [[59 14]\n",
      " [ 3  9]]\n",
      "{'dropout': 0.9, 'hidden_size': 25, 'learning_rate': 0.0001, 'batch_size': 8, 'n_hidden': 3, 'accuracy': 0.8, 'f1': 0.51}\n"
     ]
    },
    {
     "name": "stderr",
     "output_type": "stream",
     "text": [
      "804it [7:41:09, 62.81s/it]"
     ]
    },
    {
     "name": "stdout",
     "output_type": "stream",
     "text": [
      "Confusion matrix:\n",
      " [[73  0]\n",
      " [12  0]]\n",
      "{'dropout': 0.9, 'hidden_size': 25, 'learning_rate': 0.0001, 'batch_size': 8, 'n_hidden': 4, 'accuracy': 0.8588, 'f1': 0.0}\n"
     ]
    },
    {
     "name": "stderr",
     "output_type": "stream",
     "text": [
      "C:\\Users\\William\\AppData\\Roaming\\Python\\Python311\\site-packages\\torch\\nn\\modules\\rnn.py:82: UserWarning: dropout option adds dropout after all but last recurrent layer, so non-zero dropout expects num_layers greater than 1, but got dropout=0.9 and num_layers=1\n",
      "  warnings.warn(\"dropout option adds dropout after all but last \"\n",
      "C:\\Users\\William\\AppData\\Roaming\\Python\\Python311\\site-packages\\torch\\nn\\modules\\rnn.py:82: UserWarning: dropout option adds dropout after all but last recurrent layer, so non-zero dropout expects num_layers greater than 1, but got dropout=0.9 and num_layers=1\n",
      "  warnings.warn(\"dropout option adds dropout after all but last \"\n",
      "805it [7:42:10, 62.24s/it]"
     ]
    },
    {
     "name": "stdout",
     "output_type": "stream",
     "text": [
      "Confusion matrix:\n",
      " [[64  9]\n",
      " [ 1 11]]\n",
      "{'dropout': 0.9, 'hidden_size': 25, 'learning_rate': 0.0001, 'batch_size': 16, 'n_hidden': 1, 'accuracy': 0.8824, 'f1': 0.69}\n"
     ]
    },
    {
     "name": "stderr",
     "output_type": "stream",
     "text": [
      "806it [7:43:23, 65.39s/it]"
     ]
    },
    {
     "name": "stdout",
     "output_type": "stream",
     "text": [
      "Confusion matrix:\n",
      " [[59 14]\n",
      " [ 2 10]]\n",
      "{'dropout': 0.9, 'hidden_size': 25, 'learning_rate': 0.0001, 'batch_size': 16, 'n_hidden': 2, 'accuracy': 0.8118, 'f1': 0.56}\n"
     ]
    },
    {
     "name": "stderr",
     "output_type": "stream",
     "text": [
      "807it [7:45:00, 74.93s/it]"
     ]
    },
    {
     "name": "stdout",
     "output_type": "stream",
     "text": [
      "Confusion matrix:\n",
      " [[62 11]\n",
      " [ 1 11]]\n",
      "{'dropout': 0.9, 'hidden_size': 25, 'learning_rate': 0.0001, 'batch_size': 16, 'n_hidden': 3, 'accuracy': 0.8588, 'f1': 0.65}\n"
     ]
    },
    {
     "name": "stderr",
     "output_type": "stream",
     "text": [
      "808it [7:45:35, 62.99s/it]"
     ]
    },
    {
     "name": "stdout",
     "output_type": "stream",
     "text": [
      "Confusion matrix:\n",
      " [[73  0]\n",
      " [12  0]]\n",
      "{'dropout': 0.9, 'hidden_size': 25, 'learning_rate': 0.0001, 'batch_size': 16, 'n_hidden': 4, 'accuracy': 0.8588, 'f1': 0.0}\n"
     ]
    },
    {
     "name": "stderr",
     "output_type": "stream",
     "text": [
      "C:\\Users\\William\\AppData\\Roaming\\Python\\Python311\\site-packages\\torch\\nn\\modules\\rnn.py:82: UserWarning: dropout option adds dropout after all but last recurrent layer, so non-zero dropout expects num_layers greater than 1, but got dropout=0.9 and num_layers=1\n",
      "  warnings.warn(\"dropout option adds dropout after all but last \"\n",
      "C:\\Users\\William\\AppData\\Roaming\\Python\\Python311\\site-packages\\torch\\nn\\modules\\rnn.py:82: UserWarning: dropout option adds dropout after all but last recurrent layer, so non-zero dropout expects num_layers greater than 1, but got dropout=0.9 and num_layers=1\n",
      "  warnings.warn(\"dropout option adds dropout after all but last \"\n",
      "809it [7:46:15, 56.25s/it]"
     ]
    },
    {
     "name": "stdout",
     "output_type": "stream",
     "text": [
      "Confusion matrix:\n",
      " [[62 11]\n",
      " [ 1 11]]\n",
      "{'dropout': 0.9, 'hidden_size': 25, 'learning_rate': 0.0001, 'batch_size': 32, 'n_hidden': 1, 'accuracy': 0.8588, 'f1': 0.65}\n"
     ]
    },
    {
     "name": "stderr",
     "output_type": "stream",
     "text": [
      "810it [7:47:10, 55.66s/it]"
     ]
    },
    {
     "name": "stdout",
     "output_type": "stream",
     "text": [
      "Confusion matrix:\n",
      " [[61 12]\n",
      " [ 2 10]]\n",
      "{'dropout': 0.9, 'hidden_size': 25, 'learning_rate': 0.0001, 'batch_size': 32, 'n_hidden': 2, 'accuracy': 0.8353, 'f1': 0.59}\n"
     ]
    },
    {
     "name": "stderr",
     "output_type": "stream",
     "text": [
      "811it [7:47:18, 41.52s/it]"
     ]
    },
    {
     "name": "stdout",
     "output_type": "stream",
     "text": [
      "Confusion matrix:\n",
      " [[73  0]\n",
      " [12  0]]\n",
      "{'dropout': 0.9, 'hidden_size': 25, 'learning_rate': 0.0001, 'batch_size': 32, 'n_hidden': 3, 'accuracy': 0.8588, 'f1': 0.0}\n"
     ]
    },
    {
     "name": "stderr",
     "output_type": "stream",
     "text": [
      "812it [7:47:47, 37.71s/it]"
     ]
    },
    {
     "name": "stdout",
     "output_type": "stream",
     "text": [
      "Confusion matrix:\n",
      " [[73  0]\n",
      " [12  0]]\n",
      "{'dropout': 0.9, 'hidden_size': 25, 'learning_rate': 0.0001, 'batch_size': 32, 'n_hidden': 4, 'accuracy': 0.8588, 'f1': 0.0}\n"
     ]
    },
    {
     "name": "stderr",
     "output_type": "stream",
     "text": [
      "C:\\Users\\William\\AppData\\Roaming\\Python\\Python311\\site-packages\\torch\\nn\\modules\\rnn.py:82: UserWarning: dropout option adds dropout after all but last recurrent layer, so non-zero dropout expects num_layers greater than 1, but got dropout=0.9 and num_layers=1\n",
      "  warnings.warn(\"dropout option adds dropout after all but last \"\n",
      "C:\\Users\\William\\AppData\\Roaming\\Python\\Python311\\site-packages\\torch\\nn\\modules\\rnn.py:82: UserWarning: dropout option adds dropout after all but last recurrent layer, so non-zero dropout expects num_layers greater than 1, but got dropout=0.9 and num_layers=1\n",
      "  warnings.warn(\"dropout option adds dropout after all but last \"\n",
      "813it [7:48:21, 36.50s/it]"
     ]
    },
    {
     "name": "stdout",
     "output_type": "stream",
     "text": [
      "Confusion matrix:\n",
      " [[62 11]\n",
      " [ 1 11]]\n",
      "{'dropout': 0.9, 'hidden_size': 25, 'learning_rate': 0.0001, 'batch_size': 64, 'n_hidden': 1, 'accuracy': 0.8588, 'f1': 0.65}\n"
     ]
    },
    {
     "name": "stderr",
     "output_type": "stream",
     "text": [
      "814it [7:48:32, 28.78s/it]"
     ]
    },
    {
     "name": "stdout",
     "output_type": "stream",
     "text": [
      "Confusion matrix:\n",
      " [[72  1]\n",
      " [ 9  3]]\n",
      "{'dropout': 0.9, 'hidden_size': 25, 'learning_rate': 0.0001, 'batch_size': 64, 'n_hidden': 2, 'accuracy': 0.8824, 'f1': 0.38}\n"
     ]
    },
    {
     "name": "stderr",
     "output_type": "stream",
     "text": [
      "815it [7:48:36, 21.55s/it]"
     ]
    },
    {
     "name": "stdout",
     "output_type": "stream",
     "text": [
      "Confusion matrix:\n",
      " [[73  0]\n",
      " [12  0]]\n",
      "{'dropout': 0.9, 'hidden_size': 25, 'learning_rate': 0.0001, 'batch_size': 64, 'n_hidden': 3, 'accuracy': 0.8588, 'f1': 0.0}\n"
     ]
    },
    {
     "name": "stderr",
     "output_type": "stream",
     "text": [
      "816it [7:49:01, 22.61s/it]"
     ]
    },
    {
     "name": "stdout",
     "output_type": "stream",
     "text": [
      "Confusion matrix:\n",
      " [[73  0]\n",
      " [12  0]]\n",
      "{'dropout': 0.9, 'hidden_size': 25, 'learning_rate': 0.0001, 'batch_size': 64, 'n_hidden': 4, 'accuracy': 0.8588, 'f1': 0.0}\n"
     ]
    },
    {
     "name": "stderr",
     "output_type": "stream",
     "text": [
      "C:\\Users\\William\\AppData\\Roaming\\Python\\Python311\\site-packages\\torch\\nn\\modules\\rnn.py:82: UserWarning: dropout option adds dropout after all but last recurrent layer, so non-zero dropout expects num_layers greater than 1, but got dropout=0.9 and num_layers=1\n",
      "  warnings.warn(\"dropout option adds dropout after all but last \"\n",
      "C:\\Users\\William\\AppData\\Roaming\\Python\\Python311\\site-packages\\torch\\nn\\modules\\rnn.py:82: UserWarning: dropout option adds dropout after all but last recurrent layer, so non-zero dropout expects num_layers greater than 1, but got dropout=0.9 and num_layers=1\n",
      "  warnings.warn(\"dropout option adds dropout after all but last \"\n",
      "817it [7:50:17, 38.43s/it]"
     ]
    },
    {
     "name": "stdout",
     "output_type": "stream",
     "text": [
      "Confusion matrix:\n",
      " [[73  0]\n",
      " [12  0]]\n",
      "{'dropout': 0.9, 'hidden_size': 25, 'learning_rate': 1e-05, 'batch_size': 8, 'n_hidden': 1, 'accuracy': 0.8588, 'f1': 0.0}\n"
     ]
    },
    {
     "name": "stderr",
     "output_type": "stream",
     "text": [
      "818it [7:51:56, 56.68s/it]"
     ]
    },
    {
     "name": "stdout",
     "output_type": "stream",
     "text": [
      "Confusion matrix:\n",
      " [[73  0]\n",
      " [12  0]]\n",
      "{'dropout': 0.9, 'hidden_size': 25, 'learning_rate': 1e-05, 'batch_size': 8, 'n_hidden': 2, 'accuracy': 0.8588, 'f1': 0.0}\n"
     ]
    },
    {
     "name": "stderr",
     "output_type": "stream",
     "text": [
      "819it [7:52:20, 46.85s/it]"
     ]
    },
    {
     "name": "stdout",
     "output_type": "stream",
     "text": [
      "Confusion matrix:\n",
      " [[73  0]\n",
      " [12  0]]\n",
      "{'dropout': 0.9, 'hidden_size': 25, 'learning_rate': 1e-05, 'batch_size': 8, 'n_hidden': 3, 'accuracy': 0.8588, 'f1': 0.0}\n"
     ]
    },
    {
     "name": "stderr",
     "output_type": "stream",
     "text": [
      "820it [7:54:21, 69.30s/it]"
     ]
    },
    {
     "name": "stdout",
     "output_type": "stream",
     "text": [
      "Confusion matrix:\n",
      " [[73  0]\n",
      " [12  0]]\n",
      "{'dropout': 0.9, 'hidden_size': 25, 'learning_rate': 1e-05, 'batch_size': 8, 'n_hidden': 4, 'accuracy': 0.8588, 'f1': 0.0}\n"
     ]
    },
    {
     "name": "stderr",
     "output_type": "stream",
     "text": [
      "C:\\Users\\William\\AppData\\Roaming\\Python\\Python311\\site-packages\\torch\\nn\\modules\\rnn.py:82: UserWarning: dropout option adds dropout after all but last recurrent layer, so non-zero dropout expects num_layers greater than 1, but got dropout=0.9 and num_layers=1\n",
      "  warnings.warn(\"dropout option adds dropout after all but last \"\n",
      "C:\\Users\\William\\AppData\\Roaming\\Python\\Python311\\site-packages\\torch\\nn\\modules\\rnn.py:82: UserWarning: dropout option adds dropout after all but last recurrent layer, so non-zero dropout expects num_layers greater than 1, but got dropout=0.9 and num_layers=1\n",
      "  warnings.warn(\"dropout option adds dropout after all but last \"\n",
      "821it [7:55:38, 71.38s/it]"
     ]
    },
    {
     "name": "stdout",
     "output_type": "stream",
     "text": [
      "Confusion matrix:\n",
      " [[72  1]\n",
      " [12  0]]\n",
      "{'dropout': 0.9, 'hidden_size': 25, 'learning_rate': 1e-05, 'batch_size': 16, 'n_hidden': 1, 'accuracy': 0.8471, 'f1': 0.0}\n"
     ]
    },
    {
     "name": "stderr",
     "output_type": "stream",
     "text": [
      "822it [7:56:28, 64.99s/it]"
     ]
    },
    {
     "name": "stdout",
     "output_type": "stream",
     "text": [
      "Confusion matrix:\n",
      " [[73  0]\n",
      " [12  0]]\n",
      "{'dropout': 0.9, 'hidden_size': 25, 'learning_rate': 1e-05, 'batch_size': 16, 'n_hidden': 2, 'accuracy': 0.8588, 'f1': 0.0}\n"
     ]
    },
    {
     "name": "stderr",
     "output_type": "stream",
     "text": [
      "823it [7:56:56, 54.04s/it]"
     ]
    },
    {
     "name": "stdout",
     "output_type": "stream",
     "text": [
      "Confusion matrix:\n",
      " [[73  0]\n",
      " [12  0]]\n",
      "{'dropout': 0.9, 'hidden_size': 25, 'learning_rate': 1e-05, 'batch_size': 16, 'n_hidden': 3, 'accuracy': 0.8588, 'f1': 0.0}\n"
     ]
    },
    {
     "name": "stderr",
     "output_type": "stream",
     "text": [
      "824it [7:57:11, 42.16s/it]"
     ]
    },
    {
     "name": "stdout",
     "output_type": "stream",
     "text": [
      "Confusion matrix:\n",
      " [[ 0 73]\n",
      " [ 0 12]]\n",
      "{'dropout': 0.9, 'hidden_size': 25, 'learning_rate': 1e-05, 'batch_size': 16, 'n_hidden': 4, 'accuracy': 0.1412, 'f1': 0.25}\n"
     ]
    },
    {
     "name": "stderr",
     "output_type": "stream",
     "text": [
      "C:\\Users\\William\\AppData\\Roaming\\Python\\Python311\\site-packages\\torch\\nn\\modules\\rnn.py:82: UserWarning: dropout option adds dropout after all but last recurrent layer, so non-zero dropout expects num_layers greater than 1, but got dropout=0.9 and num_layers=1\n",
      "  warnings.warn(\"dropout option adds dropout after all but last \"\n",
      "C:\\Users\\William\\AppData\\Roaming\\Python\\Python311\\site-packages\\torch\\nn\\modules\\rnn.py:82: UserWarning: dropout option adds dropout after all but last recurrent layer, so non-zero dropout expects num_layers greater than 1, but got dropout=0.9 and num_layers=1\n",
      "  warnings.warn(\"dropout option adds dropout after all but last \"\n",
      "825it [7:57:55, 42.70s/it]"
     ]
    },
    {
     "name": "stdout",
     "output_type": "stream",
     "text": [
      "Confusion matrix:\n",
      " [[61 12]\n",
      " [ 6  6]]\n",
      "{'dropout': 0.9, 'hidden_size': 25, 'learning_rate': 1e-05, 'batch_size': 32, 'n_hidden': 1, 'accuracy': 0.7882, 'f1': 0.4}\n"
     ]
    },
    {
     "name": "stderr",
     "output_type": "stream",
     "text": [
      "826it [7:58:12, 35.10s/it]"
     ]
    },
    {
     "name": "stdout",
     "output_type": "stream",
     "text": [
      "Confusion matrix:\n",
      " [[70  3]\n",
      " [10  2]]\n",
      "{'dropout': 0.9, 'hidden_size': 25, 'learning_rate': 1e-05, 'batch_size': 32, 'n_hidden': 2, 'accuracy': 0.8471, 'f1': 0.24}\n"
     ]
    },
    {
     "name": "stderr",
     "output_type": "stream",
     "text": [
      "827it [7:58:22, 27.44s/it]"
     ]
    },
    {
     "name": "stdout",
     "output_type": "stream",
     "text": [
      "Confusion matrix:\n",
      " [[73  0]\n",
      " [12  0]]\n",
      "{'dropout': 0.9, 'hidden_size': 25, 'learning_rate': 1e-05, 'batch_size': 32, 'n_hidden': 3, 'accuracy': 0.8588, 'f1': 0.0}\n"
     ]
    },
    {
     "name": "stderr",
     "output_type": "stream",
     "text": [
      "828it [7:58:56, 29.39s/it]"
     ]
    },
    {
     "name": "stdout",
     "output_type": "stream",
     "text": [
      "Confusion matrix:\n",
      " [[ 0 73]\n",
      " [ 0 12]]\n",
      "{'dropout': 0.9, 'hidden_size': 25, 'learning_rate': 1e-05, 'batch_size': 32, 'n_hidden': 4, 'accuracy': 0.1412, 'f1': 0.25}\n"
     ]
    },
    {
     "name": "stderr",
     "output_type": "stream",
     "text": [
      "C:\\Users\\William\\AppData\\Roaming\\Python\\Python311\\site-packages\\torch\\nn\\modules\\rnn.py:82: UserWarning: dropout option adds dropout after all but last recurrent layer, so non-zero dropout expects num_layers greater than 1, but got dropout=0.9 and num_layers=1\n",
      "  warnings.warn(\"dropout option adds dropout after all but last \"\n",
      "C:\\Users\\William\\AppData\\Roaming\\Python\\Python311\\site-packages\\torch\\nn\\modules\\rnn.py:82: UserWarning: dropout option adds dropout after all but last recurrent layer, so non-zero dropout expects num_layers greater than 1, but got dropout=0.9 and num_layers=1\n",
      "  warnings.warn(\"dropout option adds dropout after all but last \"\n",
      "829it [7:58:59, 21.66s/it]"
     ]
    },
    {
     "name": "stdout",
     "output_type": "stream",
     "text": [
      "Confusion matrix:\n",
      " [[ 5 68]\n",
      " [ 0 12]]\n",
      "{'dropout': 0.9, 'hidden_size': 25, 'learning_rate': 1e-05, 'batch_size': 64, 'n_hidden': 1, 'accuracy': 0.2, 'f1': 0.26}\n"
     ]
    },
    {
     "name": "stderr",
     "output_type": "stream",
     "text": [
      "830it [7:59:10, 18.49s/it]"
     ]
    },
    {
     "name": "stdout",
     "output_type": "stream",
     "text": [
      "Confusion matrix:\n",
      " [[65  8]\n",
      " [ 8  4]]\n",
      "{'dropout': 0.9, 'hidden_size': 25, 'learning_rate': 1e-05, 'batch_size': 64, 'n_hidden': 2, 'accuracy': 0.8118, 'f1': 0.33}\n"
     ]
    },
    {
     "name": "stderr",
     "output_type": "stream",
     "text": [
      "831it [7:59:15, 14.40s/it]"
     ]
    },
    {
     "name": "stdout",
     "output_type": "stream",
     "text": [
      "Confusion matrix:\n",
      " [[73  0]\n",
      " [12  0]]\n",
      "{'dropout': 0.9, 'hidden_size': 25, 'learning_rate': 1e-05, 'batch_size': 64, 'n_hidden': 3, 'accuracy': 0.8588, 'f1': 0.0}\n"
     ]
    },
    {
     "name": "stderr",
     "output_type": "stream",
     "text": [
      "832it [7:59:20, 11.46s/it]"
     ]
    },
    {
     "name": "stdout",
     "output_type": "stream",
     "text": [
      "Confusion matrix:\n",
      " [[ 0 73]\n",
      " [ 0 12]]\n",
      "{'dropout': 0.9, 'hidden_size': 25, 'learning_rate': 1e-05, 'batch_size': 64, 'n_hidden': 4, 'accuracy': 0.1412, 'f1': 0.25}\n"
     ]
    },
    {
     "name": "stderr",
     "output_type": "stream",
     "text": [
      "C:\\Users\\William\\AppData\\Roaming\\Python\\Python311\\site-packages\\torch\\nn\\modules\\rnn.py:82: UserWarning: dropout option adds dropout after all but last recurrent layer, so non-zero dropout expects num_layers greater than 1, but got dropout=0.9 and num_layers=1\n",
      "  warnings.warn(\"dropout option adds dropout after all but last \"\n",
      "C:\\Users\\William\\AppData\\Roaming\\Python\\Python311\\site-packages\\torch\\nn\\modules\\rnn.py:82: UserWarning: dropout option adds dropout after all but last recurrent layer, so non-zero dropout expects num_layers greater than 1, but got dropout=0.9 and num_layers=1\n",
      "  warnings.warn(\"dropout option adds dropout after all but last \"\n",
      "833it [7:59:41, 14.40s/it]"
     ]
    },
    {
     "name": "stdout",
     "output_type": "stream",
     "text": [
      "Confusion matrix:\n",
      " [[62 11]\n",
      " [ 2 10]]\n",
      "{'dropout': 0.9, 'hidden_size': 50, 'learning_rate': 0.01, 'batch_size': 8, 'n_hidden': 1, 'accuracy': 0.8471, 'f1': 0.61}\n"
     ]
    },
    {
     "name": "stderr",
     "output_type": "stream",
     "text": [
      "834it [8:00:01, 16.21s/it]"
     ]
    },
    {
     "name": "stdout",
     "output_type": "stream",
     "text": [
      "Confusion matrix:\n",
      " [[73  0]\n",
      " [12  0]]\n",
      "{'dropout': 0.9, 'hidden_size': 50, 'learning_rate': 0.01, 'batch_size': 8, 'n_hidden': 2, 'accuracy': 0.8588, 'f1': 0.0}\n"
     ]
    },
    {
     "name": "stderr",
     "output_type": "stream",
     "text": [
      "835it [8:00:22, 17.64s/it]"
     ]
    },
    {
     "name": "stdout",
     "output_type": "stream",
     "text": [
      "Confusion matrix:\n",
      " [[73  0]\n",
      " [12  0]]\n",
      "{'dropout': 0.9, 'hidden_size': 50, 'learning_rate': 0.01, 'batch_size': 8, 'n_hidden': 3, 'accuracy': 0.8588, 'f1': 0.0}\n"
     ]
    },
    {
     "name": "stderr",
     "output_type": "stream",
     "text": [
      "836it [8:00:45, 19.14s/it]"
     ]
    },
    {
     "name": "stdout",
     "output_type": "stream",
     "text": [
      "Confusion matrix:\n",
      " [[73  0]\n",
      " [12  0]]\n",
      "{'dropout': 0.9, 'hidden_size': 50, 'learning_rate': 0.01, 'batch_size': 8, 'n_hidden': 4, 'accuracy': 0.8588, 'f1': 0.0}\n"
     ]
    },
    {
     "name": "stderr",
     "output_type": "stream",
     "text": [
      "C:\\Users\\William\\AppData\\Roaming\\Python\\Python311\\site-packages\\torch\\nn\\modules\\rnn.py:82: UserWarning: dropout option adds dropout after all but last recurrent layer, so non-zero dropout expects num_layers greater than 1, but got dropout=0.9 and num_layers=1\n",
      "  warnings.warn(\"dropout option adds dropout after all but last \"\n",
      "C:\\Users\\William\\AppData\\Roaming\\Python\\Python311\\site-packages\\torch\\nn\\modules\\rnn.py:82: UserWarning: dropout option adds dropout after all but last recurrent layer, so non-zero dropout expects num_layers greater than 1, but got dropout=0.9 and num_layers=1\n",
      "  warnings.warn(\"dropout option adds dropout after all but last \"\n",
      "837it [8:01:12, 21.48s/it]"
     ]
    },
    {
     "name": "stdout",
     "output_type": "stream",
     "text": [
      "Confusion matrix:\n",
      " [[62 11]\n",
      " [ 4  8]]\n",
      "{'dropout': 0.9, 'hidden_size': 50, 'learning_rate': 0.01, 'batch_size': 16, 'n_hidden': 1, 'accuracy': 0.8235, 'f1': 0.52}\n"
     ]
    },
    {
     "name": "stderr",
     "output_type": "stream",
     "text": [
      "838it [8:01:29, 20.14s/it]"
     ]
    },
    {
     "name": "stdout",
     "output_type": "stream",
     "text": [
      "Confusion matrix:\n",
      " [[73  0]\n",
      " [12  0]]\n",
      "{'dropout': 0.9, 'hidden_size': 50, 'learning_rate': 0.01, 'batch_size': 16, 'n_hidden': 2, 'accuracy': 0.8588, 'f1': 0.0}\n"
     ]
    },
    {
     "name": "stderr",
     "output_type": "stream",
     "text": [
      "839it [8:01:41, 17.64s/it]"
     ]
    },
    {
     "name": "stdout",
     "output_type": "stream",
     "text": [
      "Confusion matrix:\n",
      " [[ 0 73]\n",
      " [ 0 12]]\n",
      "{'dropout': 0.9, 'hidden_size': 50, 'learning_rate': 0.01, 'batch_size': 16, 'n_hidden': 3, 'accuracy': 0.1412, 'f1': 0.25}\n"
     ]
    },
    {
     "name": "stderr",
     "output_type": "stream",
     "text": [
      "840it [8:01:54, 16.22s/it]"
     ]
    },
    {
     "name": "stdout",
     "output_type": "stream",
     "text": [
      "Confusion matrix:\n",
      " [[73  0]\n",
      " [12  0]]\n",
      "{'dropout': 0.9, 'hidden_size': 50, 'learning_rate': 0.01, 'batch_size': 16, 'n_hidden': 4, 'accuracy': 0.8588, 'f1': 0.0}\n"
     ]
    },
    {
     "name": "stderr",
     "output_type": "stream",
     "text": [
      "C:\\Users\\William\\AppData\\Roaming\\Python\\Python311\\site-packages\\torch\\nn\\modules\\rnn.py:82: UserWarning: dropout option adds dropout after all but last recurrent layer, so non-zero dropout expects num_layers greater than 1, but got dropout=0.9 and num_layers=1\n",
      "  warnings.warn(\"dropout option adds dropout after all but last \"\n",
      "C:\\Users\\William\\AppData\\Roaming\\Python\\Python311\\site-packages\\torch\\nn\\modules\\rnn.py:82: UserWarning: dropout option adds dropout after all but last recurrent layer, so non-zero dropout expects num_layers greater than 1, but got dropout=0.9 and num_layers=1\n",
      "  warnings.warn(\"dropout option adds dropout after all but last \"\n",
      "841it [8:02:00, 13.35s/it]"
     ]
    },
    {
     "name": "stdout",
     "output_type": "stream",
     "text": [
      "Confusion matrix:\n",
      " [[68  5]\n",
      " [ 2 10]]\n",
      "{'dropout': 0.9, 'hidden_size': 50, 'learning_rate': 0.01, 'batch_size': 32, 'n_hidden': 1, 'accuracy': 0.9176, 'f1': 0.74}\n"
     ]
    },
    {
     "name": "stderr",
     "output_type": "stream",
     "text": [
      "842it [8:02:18, 14.68s/it]"
     ]
    },
    {
     "name": "stdout",
     "output_type": "stream",
     "text": [
      "Confusion matrix:\n",
      " [[68  5]\n",
      " [ 2 10]]\n",
      "{'dropout': 0.9, 'hidden_size': 50, 'learning_rate': 0.01, 'batch_size': 32, 'n_hidden': 2, 'accuracy': 0.9176, 'f1': 0.74}\n"
     ]
    },
    {
     "name": "stderr",
     "output_type": "stream",
     "text": [
      "843it [8:02:29, 13.50s/it]"
     ]
    },
    {
     "name": "stdout",
     "output_type": "stream",
     "text": [
      "Confusion matrix:\n",
      " [[73  0]\n",
      " [12  0]]\n",
      "{'dropout': 0.9, 'hidden_size': 50, 'learning_rate': 0.01, 'batch_size': 32, 'n_hidden': 3, 'accuracy': 0.8588, 'f1': 0.0}\n"
     ]
    },
    {
     "name": "stderr",
     "output_type": "stream",
     "text": [
      "844it [8:02:42, 13.37s/it]"
     ]
    },
    {
     "name": "stdout",
     "output_type": "stream",
     "text": [
      "Confusion matrix:\n",
      " [[44 29]\n",
      " [10  2]]\n",
      "{'dropout': 0.9, 'hidden_size': 50, 'learning_rate': 0.01, 'batch_size': 32, 'n_hidden': 4, 'accuracy': 0.5412, 'f1': 0.09}\n"
     ]
    },
    {
     "name": "stderr",
     "output_type": "stream",
     "text": [
      "C:\\Users\\William\\AppData\\Roaming\\Python\\Python311\\site-packages\\torch\\nn\\modules\\rnn.py:82: UserWarning: dropout option adds dropout after all but last recurrent layer, so non-zero dropout expects num_layers greater than 1, but got dropout=0.9 and num_layers=1\n",
      "  warnings.warn(\"dropout option adds dropout after all but last \"\n",
      "C:\\Users\\William\\AppData\\Roaming\\Python\\Python311\\site-packages\\torch\\nn\\modules\\rnn.py:82: UserWarning: dropout option adds dropout after all but last recurrent layer, so non-zero dropout expects num_layers greater than 1, but got dropout=0.9 and num_layers=1\n",
      "  warnings.warn(\"dropout option adds dropout after all but last \"\n",
      "845it [8:02:48, 11.28s/it]"
     ]
    },
    {
     "name": "stdout",
     "output_type": "stream",
     "text": [
      "Confusion matrix:\n",
      " [[68  5]\n",
      " [ 2 10]]\n",
      "{'dropout': 0.9, 'hidden_size': 50, 'learning_rate': 0.01, 'batch_size': 64, 'n_hidden': 1, 'accuracy': 0.9176, 'f1': 0.74}\n"
     ]
    },
    {
     "name": "stderr",
     "output_type": "stream",
     "text": [
      "846it [8:03:01, 11.83s/it]"
     ]
    },
    {
     "name": "stdout",
     "output_type": "stream",
     "text": [
      "Confusion matrix:\n",
      " [[68  5]\n",
      " [ 3  9]]\n",
      "{'dropout': 0.9, 'hidden_size': 50, 'learning_rate': 0.01, 'batch_size': 64, 'n_hidden': 2, 'accuracy': 0.9059, 'f1': 0.69}\n"
     ]
    },
    {
     "name": "stderr",
     "output_type": "stream",
     "text": [
      "847it [8:03:08, 10.36s/it]"
     ]
    },
    {
     "name": "stdout",
     "output_type": "stream",
     "text": [
      "Confusion matrix:\n",
      " [[64  9]\n",
      " [ 2 10]]\n",
      "{'dropout': 0.9, 'hidden_size': 50, 'learning_rate': 0.01, 'batch_size': 64, 'n_hidden': 3, 'accuracy': 0.8706, 'f1': 0.65}\n"
     ]
    },
    {
     "name": "stderr",
     "output_type": "stream",
     "text": [
      "848it [8:03:16,  9.43s/it]"
     ]
    },
    {
     "name": "stdout",
     "output_type": "stream",
     "text": [
      "Confusion matrix:\n",
      " [[73  0]\n",
      " [12  0]]\n",
      "{'dropout': 0.9, 'hidden_size': 50, 'learning_rate': 0.01, 'batch_size': 64, 'n_hidden': 4, 'accuracy': 0.8588, 'f1': 0.0}\n"
     ]
    },
    {
     "name": "stderr",
     "output_type": "stream",
     "text": [
      "C:\\Users\\William\\AppData\\Roaming\\Python\\Python311\\site-packages\\torch\\nn\\modules\\rnn.py:82: UserWarning: dropout option adds dropout after all but last recurrent layer, so non-zero dropout expects num_layers greater than 1, but got dropout=0.9 and num_layers=1\n",
      "  warnings.warn(\"dropout option adds dropout after all but last \"\n",
      "C:\\Users\\William\\AppData\\Roaming\\Python\\Python311\\site-packages\\torch\\nn\\modules\\rnn.py:82: UserWarning: dropout option adds dropout after all but last recurrent layer, so non-zero dropout expects num_layers greater than 1, but got dropout=0.9 and num_layers=1\n",
      "  warnings.warn(\"dropout option adds dropout after all but last \"\n",
      "849it [8:03:49, 16.65s/it]"
     ]
    },
    {
     "name": "stdout",
     "output_type": "stream",
     "text": [
      "Confusion matrix:\n",
      " [[71  2]\n",
      " [ 6  6]]\n",
      "{'dropout': 0.9, 'hidden_size': 50, 'learning_rate': 0.001, 'batch_size': 8, 'n_hidden': 1, 'accuracy': 0.9059, 'f1': 0.6}\n"
     ]
    },
    {
     "name": "stderr",
     "output_type": "stream",
     "text": [
      "850it [8:04:24, 22.19s/it]"
     ]
    },
    {
     "name": "stdout",
     "output_type": "stream",
     "text": [
      "Confusion matrix:\n",
      " [[64  9]\n",
      " [ 2 10]]\n",
      "{'dropout': 0.9, 'hidden_size': 50, 'learning_rate': 0.001, 'batch_size': 8, 'n_hidden': 2, 'accuracy': 0.8706, 'f1': 0.65}\n"
     ]
    },
    {
     "name": "stderr",
     "output_type": "stream",
     "text": [
      "851it [8:05:00, 26.31s/it]"
     ]
    },
    {
     "name": "stdout",
     "output_type": "stream",
     "text": [
      "Confusion matrix:\n",
      " [[66  7]\n",
      " [ 3  9]]\n",
      "{'dropout': 0.9, 'hidden_size': 50, 'learning_rate': 0.001, 'batch_size': 8, 'n_hidden': 3, 'accuracy': 0.8824, 'f1': 0.64}\n"
     ]
    },
    {
     "name": "stderr",
     "output_type": "stream",
     "text": [
      "852it [8:05:40, 30.35s/it]"
     ]
    },
    {
     "name": "stdout",
     "output_type": "stream",
     "text": [
      "Confusion matrix:\n",
      " [[66  7]\n",
      " [ 2 10]]\n",
      "{'dropout': 0.9, 'hidden_size': 50, 'learning_rate': 0.001, 'batch_size': 8, 'n_hidden': 4, 'accuracy': 0.8941, 'f1': 0.69}\n"
     ]
    },
    {
     "name": "stderr",
     "output_type": "stream",
     "text": [
      "C:\\Users\\William\\AppData\\Roaming\\Python\\Python311\\site-packages\\torch\\nn\\modules\\rnn.py:82: UserWarning: dropout option adds dropout after all but last recurrent layer, so non-zero dropout expects num_layers greater than 1, but got dropout=0.9 and num_layers=1\n",
      "  warnings.warn(\"dropout option adds dropout after all but last \"\n",
      "C:\\Users\\William\\AppData\\Roaming\\Python\\Python311\\site-packages\\torch\\nn\\modules\\rnn.py:82: UserWarning: dropout option adds dropout after all but last recurrent layer, so non-zero dropout expects num_layers greater than 1, but got dropout=0.9 and num_layers=1\n",
      "  warnings.warn(\"dropout option adds dropout after all but last \"\n",
      "853it [8:06:03, 28.18s/it]"
     ]
    },
    {
     "name": "stdout",
     "output_type": "stream",
     "text": [
      "Confusion matrix:\n",
      " [[65  8]\n",
      " [ 2 10]]\n",
      "{'dropout': 0.9, 'hidden_size': 50, 'learning_rate': 0.001, 'batch_size': 16, 'n_hidden': 1, 'accuracy': 0.8824, 'f1': 0.67}\n"
     ]
    },
    {
     "name": "stderr",
     "output_type": "stream",
     "text": [
      "854it [8:06:27, 26.93s/it]"
     ]
    },
    {
     "name": "stdout",
     "output_type": "stream",
     "text": [
      "Confusion matrix:\n",
      " [[65  8]\n",
      " [ 2 10]]\n",
      "{'dropout': 0.9, 'hidden_size': 50, 'learning_rate': 0.001, 'batch_size': 16, 'n_hidden': 2, 'accuracy': 0.8824, 'f1': 0.67}\n"
     ]
    },
    {
     "name": "stderr",
     "output_type": "stream",
     "text": [
      "855it [8:06:53, 26.52s/it]"
     ]
    },
    {
     "name": "stdout",
     "output_type": "stream",
     "text": [
      "Confusion matrix:\n",
      " [[63 10]\n",
      " [ 2 10]]\n",
      "{'dropout': 0.9, 'hidden_size': 50, 'learning_rate': 0.001, 'batch_size': 16, 'n_hidden': 3, 'accuracy': 0.8588, 'f1': 0.62}\n"
     ]
    },
    {
     "name": "stderr",
     "output_type": "stream",
     "text": [
      "856it [8:07:27, 28.94s/it]"
     ]
    },
    {
     "name": "stdout",
     "output_type": "stream",
     "text": [
      "Confusion matrix:\n",
      " [[70  3]\n",
      " [ 4  8]]\n",
      "{'dropout': 0.9, 'hidden_size': 50, 'learning_rate': 0.001, 'batch_size': 16, 'n_hidden': 4, 'accuracy': 0.9176, 'f1': 0.7}\n"
     ]
    },
    {
     "name": "stderr",
     "output_type": "stream",
     "text": [
      "C:\\Users\\William\\AppData\\Roaming\\Python\\Python311\\site-packages\\torch\\nn\\modules\\rnn.py:82: UserWarning: dropout option adds dropout after all but last recurrent layer, so non-zero dropout expects num_layers greater than 1, but got dropout=0.9 and num_layers=1\n",
      "  warnings.warn(\"dropout option adds dropout after all but last \"\n",
      "C:\\Users\\William\\AppData\\Roaming\\Python\\Python311\\site-packages\\torch\\nn\\modules\\rnn.py:82: UserWarning: dropout option adds dropout after all but last recurrent layer, so non-zero dropout expects num_layers greater than 1, but got dropout=0.9 and num_layers=1\n",
      "  warnings.warn(\"dropout option adds dropout after all but last \"\n",
      "857it [8:07:46, 25.75s/it]"
     ]
    },
    {
     "name": "stdout",
     "output_type": "stream",
     "text": [
      "Confusion matrix:\n",
      " [[69  4]\n",
      " [ 4  8]]\n",
      "{'dropout': 0.9, 'hidden_size': 50, 'learning_rate': 0.001, 'batch_size': 32, 'n_hidden': 1, 'accuracy': 0.9059, 'f1': 0.67}\n"
     ]
    },
    {
     "name": "stderr",
     "output_type": "stream",
     "text": [
      "858it [8:08:10, 25.29s/it]"
     ]
    },
    {
     "name": "stdout",
     "output_type": "stream",
     "text": [
      "Confusion matrix:\n",
      " [[61 12]\n",
      " [ 2 10]]\n",
      "{'dropout': 0.9, 'hidden_size': 50, 'learning_rate': 0.001, 'batch_size': 32, 'n_hidden': 2, 'accuracy': 0.8353, 'f1': 0.59}\n"
     ]
    },
    {
     "name": "stderr",
     "output_type": "stream",
     "text": [
      "859it [8:08:32, 24.35s/it]"
     ]
    },
    {
     "name": "stdout",
     "output_type": "stream",
     "text": [
      "Confusion matrix:\n",
      " [[67  6]\n",
      " [ 1 11]]\n",
      "{'dropout': 0.9, 'hidden_size': 50, 'learning_rate': 0.001, 'batch_size': 32, 'n_hidden': 3, 'accuracy': 0.9176, 'f1': 0.76}\n"
     ]
    },
    {
     "name": "stderr",
     "output_type": "stream",
     "text": [
      "860it [8:09:00, 25.44s/it]"
     ]
    },
    {
     "name": "stdout",
     "output_type": "stream",
     "text": [
      "Confusion matrix:\n",
      " [[67  6]\n",
      " [ 1 11]]\n",
      "{'dropout': 0.9, 'hidden_size': 50, 'learning_rate': 0.001, 'batch_size': 32, 'n_hidden': 4, 'accuracy': 0.9176, 'f1': 0.76}\n"
     ]
    },
    {
     "name": "stderr",
     "output_type": "stream",
     "text": [
      "C:\\Users\\William\\AppData\\Roaming\\Python\\Python311\\site-packages\\torch\\nn\\modules\\rnn.py:82: UserWarning: dropout option adds dropout after all but last recurrent layer, so non-zero dropout expects num_layers greater than 1, but got dropout=0.9 and num_layers=1\n",
      "  warnings.warn(\"dropout option adds dropout after all but last \"\n",
      "C:\\Users\\William\\AppData\\Roaming\\Python\\Python311\\site-packages\\torch\\nn\\modules\\rnn.py:82: UserWarning: dropout option adds dropout after all but last recurrent layer, so non-zero dropout expects num_layers greater than 1, but got dropout=0.9 and num_layers=1\n",
      "  warnings.warn(\"dropout option adds dropout after all but last \"\n",
      "861it [8:09:12, 21.47s/it]"
     ]
    },
    {
     "name": "stdout",
     "output_type": "stream",
     "text": [
      "Confusion matrix:\n",
      " [[63 10]\n",
      " [ 1 11]]\n",
      "{'dropout': 0.9, 'hidden_size': 50, 'learning_rate': 0.001, 'batch_size': 64, 'n_hidden': 1, 'accuracy': 0.8706, 'f1': 0.67}\n"
     ]
    },
    {
     "name": "stderr",
     "output_type": "stream",
     "text": [
      "862it [8:09:34, 21.45s/it]"
     ]
    },
    {
     "name": "stdout",
     "output_type": "stream",
     "text": [
      "Confusion matrix:\n",
      " [[66  7]\n",
      " [ 1 11]]\n",
      "{'dropout': 0.9, 'hidden_size': 50, 'learning_rate': 0.001, 'batch_size': 64, 'n_hidden': 2, 'accuracy': 0.9059, 'f1': 0.73}\n"
     ]
    },
    {
     "name": "stderr",
     "output_type": "stream",
     "text": [
      "863it [8:09:57, 22.06s/it]"
     ]
    },
    {
     "name": "stdout",
     "output_type": "stream",
     "text": [
      "Confusion matrix:\n",
      " [[64  9]\n",
      " [ 1 11]]\n",
      "{'dropout': 0.9, 'hidden_size': 50, 'learning_rate': 0.001, 'batch_size': 64, 'n_hidden': 3, 'accuracy': 0.8824, 'f1': 0.69}\n"
     ]
    },
    {
     "name": "stderr",
     "output_type": "stream",
     "text": [
      "864it [8:10:20, 22.40s/it]"
     ]
    },
    {
     "name": "stdout",
     "output_type": "stream",
     "text": [
      "Confusion matrix:\n",
      " [[68  5]\n",
      " [ 1 11]]\n",
      "{'dropout': 0.9, 'hidden_size': 50, 'learning_rate': 0.001, 'batch_size': 64, 'n_hidden': 4, 'accuracy': 0.9294, 'f1': 0.79}\n"
     ]
    },
    {
     "name": "stderr",
     "output_type": "stream",
     "text": [
      "C:\\Users\\William\\AppData\\Roaming\\Python\\Python311\\site-packages\\torch\\nn\\modules\\rnn.py:82: UserWarning: dropout option adds dropout after all but last recurrent layer, so non-zero dropout expects num_layers greater than 1, but got dropout=0.9 and num_layers=1\n",
      "  warnings.warn(\"dropout option adds dropout after all but last \"\n",
      "C:\\Users\\William\\AppData\\Roaming\\Python\\Python311\\site-packages\\torch\\nn\\modules\\rnn.py:82: UserWarning: dropout option adds dropout after all but last recurrent layer, so non-zero dropout expects num_layers greater than 1, but got dropout=0.9 and num_layers=1\n",
      "  warnings.warn(\"dropout option adds dropout after all but last \"\n",
      "865it [8:12:19, 51.22s/it]"
     ]
    },
    {
     "name": "stdout",
     "output_type": "stream",
     "text": [
      "Confusion matrix:\n",
      " [[67  6]\n",
      " [ 3  9]]\n",
      "{'dropout': 0.9, 'hidden_size': 50, 'learning_rate': 0.0001, 'batch_size': 8, 'n_hidden': 1, 'accuracy': 0.8941, 'f1': 0.67}\n"
     ]
    },
    {
     "name": "stderr",
     "output_type": "stream",
     "text": [
      "866it [8:13:19, 54.06s/it]"
     ]
    },
    {
     "name": "stdout",
     "output_type": "stream",
     "text": [
      "Confusion matrix:\n",
      " [[69  4]\n",
      " [ 2 10]]\n",
      "{'dropout': 0.9, 'hidden_size': 50, 'learning_rate': 0.0001, 'batch_size': 8, 'n_hidden': 2, 'accuracy': 0.9294, 'f1': 0.77}\n"
     ]
    },
    {
     "name": "stderr",
     "output_type": "stream",
     "text": [
      "867it [8:15:11, 71.36s/it]"
     ]
    },
    {
     "name": "stdout",
     "output_type": "stream",
     "text": [
      "Confusion matrix:\n",
      " [[66  7]\n",
      " [ 2 10]]\n",
      "{'dropout': 0.9, 'hidden_size': 50, 'learning_rate': 0.0001, 'batch_size': 8, 'n_hidden': 3, 'accuracy': 0.8941, 'f1': 0.69}\n"
     ]
    },
    {
     "name": "stderr",
     "output_type": "stream",
     "text": [
      "868it [8:16:44, 77.91s/it]"
     ]
    },
    {
     "name": "stdout",
     "output_type": "stream",
     "text": [
      "Confusion matrix:\n",
      " [[56 17]\n",
      " [ 1 11]]\n",
      "{'dropout': 0.9, 'hidden_size': 50, 'learning_rate': 0.0001, 'batch_size': 8, 'n_hidden': 4, 'accuracy': 0.7882, 'f1': 0.55}\n"
     ]
    },
    {
     "name": "stderr",
     "output_type": "stream",
     "text": [
      "C:\\Users\\William\\AppData\\Roaming\\Python\\Python311\\site-packages\\torch\\nn\\modules\\rnn.py:82: UserWarning: dropout option adds dropout after all but last recurrent layer, so non-zero dropout expects num_layers greater than 1, but got dropout=0.9 and num_layers=1\n",
      "  warnings.warn(\"dropout option adds dropout after all but last \"\n",
      "C:\\Users\\William\\AppData\\Roaming\\Python\\Python311\\site-packages\\torch\\nn\\modules\\rnn.py:82: UserWarning: dropout option adds dropout after all but last recurrent layer, so non-zero dropout expects num_layers greater than 1, but got dropout=0.9 and num_layers=1\n",
      "  warnings.warn(\"dropout option adds dropout after all but last \"\n",
      "869it [8:17:34, 69.39s/it]"
     ]
    },
    {
     "name": "stdout",
     "output_type": "stream",
     "text": [
      "Confusion matrix:\n",
      " [[67  6]\n",
      " [ 2 10]]\n",
      "{'dropout': 0.9, 'hidden_size': 50, 'learning_rate': 0.0001, 'batch_size': 16, 'n_hidden': 1, 'accuracy': 0.9059, 'f1': 0.71}\n"
     ]
    },
    {
     "name": "stderr",
     "output_type": "stream",
     "text": [
      "870it [8:18:18, 61.69s/it]"
     ]
    },
    {
     "name": "stdout",
     "output_type": "stream",
     "text": [
      "Confusion matrix:\n",
      " [[63 10]\n",
      " [ 1 11]]\n",
      "{'dropout': 0.9, 'hidden_size': 50, 'learning_rate': 0.0001, 'batch_size': 16, 'n_hidden': 2, 'accuracy': 0.8706, 'f1': 0.67}\n"
     ]
    },
    {
     "name": "stderr",
     "output_type": "stream",
     "text": [
      "871it [8:18:53, 53.69s/it]"
     ]
    },
    {
     "name": "stdout",
     "output_type": "stream",
     "text": [
      "Confusion matrix:\n",
      " [[54 19]\n",
      " [ 3  9]]\n",
      "{'dropout': 0.9, 'hidden_size': 50, 'learning_rate': 0.0001, 'batch_size': 16, 'n_hidden': 3, 'accuracy': 0.7412, 'f1': 0.45}\n"
     ]
    },
    {
     "name": "stderr",
     "output_type": "stream",
     "text": [
      "872it [8:19:14, 44.10s/it]"
     ]
    },
    {
     "name": "stdout",
     "output_type": "stream",
     "text": [
      "Confusion matrix:\n",
      " [[73  0]\n",
      " [12  0]]\n",
      "{'dropout': 0.9, 'hidden_size': 50, 'learning_rate': 0.0001, 'batch_size': 16, 'n_hidden': 4, 'accuracy': 0.8588, 'f1': 0.0}\n"
     ]
    },
    {
     "name": "stderr",
     "output_type": "stream",
     "text": [
      "C:\\Users\\William\\AppData\\Roaming\\Python\\Python311\\site-packages\\torch\\nn\\modules\\rnn.py:82: UserWarning: dropout option adds dropout after all but last recurrent layer, so non-zero dropout expects num_layers greater than 1, but got dropout=0.9 and num_layers=1\n",
      "  warnings.warn(\"dropout option adds dropout after all but last \"\n",
      "C:\\Users\\William\\AppData\\Roaming\\Python\\Python311\\site-packages\\torch\\nn\\modules\\rnn.py:82: UserWarning: dropout option adds dropout after all but last recurrent layer, so non-zero dropout expects num_layers greater than 1, but got dropout=0.9 and num_layers=1\n",
      "  warnings.warn(\"dropout option adds dropout after all but last \"\n",
      "873it [8:19:43, 39.43s/it]"
     ]
    },
    {
     "name": "stdout",
     "output_type": "stream",
     "text": [
      "Confusion matrix:\n",
      " [[62 11]\n",
      " [ 1 11]]\n",
      "{'dropout': 0.9, 'hidden_size': 50, 'learning_rate': 0.0001, 'batch_size': 32, 'n_hidden': 1, 'accuracy': 0.8588, 'f1': 0.65}\n"
     ]
    },
    {
     "name": "stderr",
     "output_type": "stream",
     "text": [
      "874it [8:20:21, 38.95s/it]"
     ]
    },
    {
     "name": "stdout",
     "output_type": "stream",
     "text": [
      "Confusion matrix:\n",
      " [[59 14]\n",
      " [ 1 11]]\n",
      "{'dropout': 0.9, 'hidden_size': 50, 'learning_rate': 0.0001, 'batch_size': 32, 'n_hidden': 2, 'accuracy': 0.8235, 'f1': 0.59}\n"
     ]
    },
    {
     "name": "stderr",
     "output_type": "stream",
     "text": [
      "875it [8:21:03, 40.07s/it]"
     ]
    },
    {
     "name": "stdout",
     "output_type": "stream",
     "text": [
      "Confusion matrix:\n",
      " [[55 18]\n",
      " [ 2 10]]\n",
      "{'dropout': 0.9, 'hidden_size': 50, 'learning_rate': 0.0001, 'batch_size': 32, 'n_hidden': 3, 'accuracy': 0.7647, 'f1': 0.5}\n"
     ]
    },
    {
     "name": "stderr",
     "output_type": "stream",
     "text": [
      "876it [8:21:58, 44.32s/it]"
     ]
    },
    {
     "name": "stdout",
     "output_type": "stream",
     "text": [
      "Confusion matrix:\n",
      " [[63 10]\n",
      " [ 1 11]]\n",
      "{'dropout': 0.9, 'hidden_size': 50, 'learning_rate': 0.0001, 'batch_size': 32, 'n_hidden': 4, 'accuracy': 0.8706, 'f1': 0.67}\n"
     ]
    },
    {
     "name": "stderr",
     "output_type": "stream",
     "text": [
      "C:\\Users\\William\\AppData\\Roaming\\Python\\Python311\\site-packages\\torch\\nn\\modules\\rnn.py:82: UserWarning: dropout option adds dropout after all but last recurrent layer, so non-zero dropout expects num_layers greater than 1, but got dropout=0.9 and num_layers=1\n",
      "  warnings.warn(\"dropout option adds dropout after all but last \"\n",
      "C:\\Users\\William\\AppData\\Roaming\\Python\\Python311\\site-packages\\torch\\nn\\modules\\rnn.py:82: UserWarning: dropout option adds dropout after all but last recurrent layer, so non-zero dropout expects num_layers greater than 1, but got dropout=0.9 and num_layers=1\n",
      "  warnings.warn(\"dropout option adds dropout after all but last \"\n",
      "877it [8:22:22, 38.41s/it]"
     ]
    },
    {
     "name": "stdout",
     "output_type": "stream",
     "text": [
      "Confusion matrix:\n",
      " [[65  8]\n",
      " [ 1 11]]\n",
      "{'dropout': 0.9, 'hidden_size': 50, 'learning_rate': 0.0001, 'batch_size': 64, 'n_hidden': 1, 'accuracy': 0.8941, 'f1': 0.71}\n"
     ]
    },
    {
     "name": "stderr",
     "output_type": "stream",
     "text": [
      "878it [8:22:30, 29.31s/it]"
     ]
    },
    {
     "name": "stdout",
     "output_type": "stream",
     "text": [
      "Confusion matrix:\n",
      " [[73  0]\n",
      " [12  0]]\n",
      "{'dropout': 0.9, 'hidden_size': 50, 'learning_rate': 0.0001, 'batch_size': 64, 'n_hidden': 2, 'accuracy': 0.8588, 'f1': 0.0}\n"
     ]
    },
    {
     "name": "stderr",
     "output_type": "stream",
     "text": [
      "879it [8:23:16, 34.17s/it]"
     ]
    },
    {
     "name": "stdout",
     "output_type": "stream",
     "text": [
      "Confusion matrix:\n",
      " [[64  9]\n",
      " [ 1 11]]\n",
      "{'dropout': 0.9, 'hidden_size': 50, 'learning_rate': 0.0001, 'batch_size': 64, 'n_hidden': 3, 'accuracy': 0.8824, 'f1': 0.69}\n"
     ]
    },
    {
     "name": "stderr",
     "output_type": "stream",
     "text": [
      "880it [8:24:05, 38.81s/it]"
     ]
    },
    {
     "name": "stdout",
     "output_type": "stream",
     "text": [
      "Confusion matrix:\n",
      " [[55 18]\n",
      " [ 2 10]]\n",
      "{'dropout': 0.9, 'hidden_size': 50, 'learning_rate': 0.0001, 'batch_size': 64, 'n_hidden': 4, 'accuracy': 0.7647, 'f1': 0.5}\n"
     ]
    },
    {
     "name": "stderr",
     "output_type": "stream",
     "text": [
      "C:\\Users\\William\\AppData\\Roaming\\Python\\Python311\\site-packages\\torch\\nn\\modules\\rnn.py:82: UserWarning: dropout option adds dropout after all but last recurrent layer, so non-zero dropout expects num_layers greater than 1, but got dropout=0.9 and num_layers=1\n",
      "  warnings.warn(\"dropout option adds dropout after all but last \"\n",
      "C:\\Users\\William\\AppData\\Roaming\\Python\\Python311\\site-packages\\torch\\nn\\modules\\rnn.py:82: UserWarning: dropout option adds dropout after all but last recurrent layer, so non-zero dropout expects num_layers greater than 1, but got dropout=0.9 and num_layers=1\n",
      "  warnings.warn(\"dropout option adds dropout after all but last \"\n",
      "881it [8:25:33, 53.35s/it]"
     ]
    },
    {
     "name": "stdout",
     "output_type": "stream",
     "text": [
      "Confusion matrix:\n",
      " [[73  0]\n",
      " [12  0]]\n",
      "{'dropout': 0.9, 'hidden_size': 50, 'learning_rate': 1e-05, 'batch_size': 8, 'n_hidden': 1, 'accuracy': 0.8588, 'f1': 0.0}\n"
     ]
    },
    {
     "name": "stderr",
     "output_type": "stream",
     "text": [
      "882it [8:26:48, 60.02s/it]"
     ]
    },
    {
     "name": "stdout",
     "output_type": "stream",
     "text": [
      "Confusion matrix:\n",
      " [[73  0]\n",
      " [12  0]]\n",
      "{'dropout': 0.9, 'hidden_size': 50, 'learning_rate': 1e-05, 'batch_size': 8, 'n_hidden': 2, 'accuracy': 0.8588, 'f1': 0.0}\n"
     ]
    },
    {
     "name": "stderr",
     "output_type": "stream",
     "text": [
      "883it [8:28:43, 76.55s/it]"
     ]
    },
    {
     "name": "stdout",
     "output_type": "stream",
     "text": [
      "Confusion matrix:\n",
      " [[73  0]\n",
      " [12  0]]\n",
      "{'dropout': 0.9, 'hidden_size': 50, 'learning_rate': 1e-05, 'batch_size': 8, 'n_hidden': 3, 'accuracy': 0.8588, 'f1': 0.0}\n"
     ]
    },
    {
     "name": "stderr",
     "output_type": "stream",
     "text": [
      "884it [8:30:16, 81.23s/it]"
     ]
    },
    {
     "name": "stdout",
     "output_type": "stream",
     "text": [
      "Confusion matrix:\n",
      " [[73  0]\n",
      " [12  0]]\n",
      "{'dropout': 0.9, 'hidden_size': 50, 'learning_rate': 1e-05, 'batch_size': 8, 'n_hidden': 4, 'accuracy': 0.8588, 'f1': 0.0}\n"
     ]
    },
    {
     "name": "stderr",
     "output_type": "stream",
     "text": [
      "C:\\Users\\William\\AppData\\Roaming\\Python\\Python311\\site-packages\\torch\\nn\\modules\\rnn.py:82: UserWarning: dropout option adds dropout after all but last recurrent layer, so non-zero dropout expects num_layers greater than 1, but got dropout=0.9 and num_layers=1\n",
      "  warnings.warn(\"dropout option adds dropout after all but last \"\n",
      "C:\\Users\\William\\AppData\\Roaming\\Python\\Python311\\site-packages\\torch\\nn\\modules\\rnn.py:82: UserWarning: dropout option adds dropout after all but last recurrent layer, so non-zero dropout expects num_layers greater than 1, but got dropout=0.9 and num_layers=1\n",
      "  warnings.warn(\"dropout option adds dropout after all but last \"\n",
      "885it [8:31:09, 72.87s/it]"
     ]
    },
    {
     "name": "stdout",
     "output_type": "stream",
     "text": [
      "Confusion matrix:\n",
      " [[71  2]\n",
      " [12  0]]\n",
      "{'dropout': 0.9, 'hidden_size': 50, 'learning_rate': 1e-05, 'batch_size': 16, 'n_hidden': 1, 'accuracy': 0.8353, 'f1': 0.0}\n"
     ]
    },
    {
     "name": "stderr",
     "output_type": "stream",
     "text": [
      "886it [8:31:51, 63.55s/it]"
     ]
    },
    {
     "name": "stdout",
     "output_type": "stream",
     "text": [
      "Confusion matrix:\n",
      " [[73  0]\n",
      " [12  0]]\n",
      "{'dropout': 0.9, 'hidden_size': 50, 'learning_rate': 1e-05, 'batch_size': 16, 'n_hidden': 2, 'accuracy': 0.8588, 'f1': 0.0}\n"
     ]
    },
    {
     "name": "stderr",
     "output_type": "stream",
     "text": [
      "887it [8:32:43, 60.20s/it]"
     ]
    },
    {
     "name": "stdout",
     "output_type": "stream",
     "text": [
      "Confusion matrix:\n",
      " [[73  0]\n",
      " [12  0]]\n",
      "{'dropout': 0.9, 'hidden_size': 50, 'learning_rate': 1e-05, 'batch_size': 16, 'n_hidden': 3, 'accuracy': 0.8588, 'f1': 0.0}\n"
     ]
    },
    {
     "name": "stderr",
     "output_type": "stream",
     "text": [
      "888it [8:33:37, 58.16s/it]"
     ]
    },
    {
     "name": "stdout",
     "output_type": "stream",
     "text": [
      "Confusion matrix:\n",
      " [[73  0]\n",
      " [12  0]]\n",
      "{'dropout': 0.9, 'hidden_size': 50, 'learning_rate': 1e-05, 'batch_size': 16, 'n_hidden': 4, 'accuracy': 0.8588, 'f1': 0.0}\n"
     ]
    },
    {
     "name": "stderr",
     "output_type": "stream",
     "text": [
      "C:\\Users\\William\\AppData\\Roaming\\Python\\Python311\\site-packages\\torch\\nn\\modules\\rnn.py:82: UserWarning: dropout option adds dropout after all but last recurrent layer, so non-zero dropout expects num_layers greater than 1, but got dropout=0.9 and num_layers=1\n",
      "  warnings.warn(\"dropout option adds dropout after all but last \"\n",
      "C:\\Users\\William\\AppData\\Roaming\\Python\\Python311\\site-packages\\torch\\nn\\modules\\rnn.py:82: UserWarning: dropout option adds dropout after all but last recurrent layer, so non-zero dropout expects num_layers greater than 1, but got dropout=0.9 and num_layers=1\n",
      "  warnings.warn(\"dropout option adds dropout after all but last \"\n",
      "889it [8:34:08, 50.05s/it]"
     ]
    },
    {
     "name": "stdout",
     "output_type": "stream",
     "text": [
      "Confusion matrix:\n",
      " [[65  8]\n",
      " [10  2]]\n",
      "{'dropout': 0.9, 'hidden_size': 50, 'learning_rate': 1e-05, 'batch_size': 32, 'n_hidden': 1, 'accuracy': 0.7882, 'f1': 0.18}\n"
     ]
    },
    {
     "name": "stderr",
     "output_type": "stream",
     "text": [
      "890it [8:34:20, 38.62s/it]"
     ]
    },
    {
     "name": "stdout",
     "output_type": "stream",
     "text": [
      "Confusion matrix:\n",
      " [[73  0]\n",
      " [12  0]]\n",
      "{'dropout': 0.9, 'hidden_size': 50, 'learning_rate': 1e-05, 'batch_size': 32, 'n_hidden': 2, 'accuracy': 0.8588, 'f1': 0.0}\n"
     ]
    },
    {
     "name": "stderr",
     "output_type": "stream",
     "text": [
      "891it [8:35:08, 41.67s/it]"
     ]
    },
    {
     "name": "stdout",
     "output_type": "stream",
     "text": [
      "Confusion matrix:\n",
      " [[73  0]\n",
      " [12  0]]\n",
      "{'dropout': 0.9, 'hidden_size': 50, 'learning_rate': 1e-05, 'batch_size': 32, 'n_hidden': 3, 'accuracy': 0.8588, 'f1': 0.0}\n"
     ]
    },
    {
     "name": "stderr",
     "output_type": "stream",
     "text": [
      "892it [8:36:00, 44.63s/it]"
     ]
    },
    {
     "name": "stdout",
     "output_type": "stream",
     "text": [
      "Confusion matrix:\n",
      " [[73  0]\n",
      " [12  0]]\n",
      "{'dropout': 0.9, 'hidden_size': 50, 'learning_rate': 1e-05, 'batch_size': 32, 'n_hidden': 4, 'accuracy': 0.8588, 'f1': 0.0}\n"
     ]
    },
    {
     "name": "stderr",
     "output_type": "stream",
     "text": [
      "C:\\Users\\William\\AppData\\Roaming\\Python\\Python311\\site-packages\\torch\\nn\\modules\\rnn.py:82: UserWarning: dropout option adds dropout after all but last recurrent layer, so non-zero dropout expects num_layers greater than 1, but got dropout=0.9 and num_layers=1\n",
      "  warnings.warn(\"dropout option adds dropout after all but last \"\n",
      "C:\\Users\\William\\AppData\\Roaming\\Python\\Python311\\site-packages\\torch\\nn\\modules\\rnn.py:82: UserWarning: dropout option adds dropout after all but last recurrent layer, so non-zero dropout expects num_layers greater than 1, but got dropout=0.9 and num_layers=1\n",
      "  warnings.warn(\"dropout option adds dropout after all but last \"\n",
      "893it [8:36:17, 36.35s/it]"
     ]
    },
    {
     "name": "stdout",
     "output_type": "stream",
     "text": [
      "Confusion matrix:\n",
      " [[45 28]\n",
      " [ 5  7]]\n",
      "{'dropout': 0.9, 'hidden_size': 50, 'learning_rate': 1e-05, 'batch_size': 64, 'n_hidden': 1, 'accuracy': 0.6118, 'f1': 0.3}\n"
     ]
    },
    {
     "name": "stderr",
     "output_type": "stream",
     "text": [
      "894it [8:36:28, 28.70s/it]"
     ]
    },
    {
     "name": "stdout",
     "output_type": "stream",
     "text": [
      "Confusion matrix:\n",
      " [[73  0]\n",
      " [12  0]]\n",
      "{'dropout': 0.9, 'hidden_size': 50, 'learning_rate': 1e-05, 'batch_size': 64, 'n_hidden': 2, 'accuracy': 0.8588, 'f1': 0.0}\n"
     ]
    },
    {
     "name": "stderr",
     "output_type": "stream",
     "text": [
      "895it [8:37:22, 36.41s/it]"
     ]
    },
    {
     "name": "stdout",
     "output_type": "stream",
     "text": [
      "Confusion matrix:\n",
      " [[72  1]\n",
      " [12  0]]\n",
      "{'dropout': 0.9, 'hidden_size': 50, 'learning_rate': 1e-05, 'batch_size': 64, 'n_hidden': 3, 'accuracy': 0.8471, 'f1': 0.0}\n"
     ]
    },
    {
     "name": "stderr",
     "output_type": "stream",
     "text": [
      "896it [8:37:29, 27.54s/it]"
     ]
    },
    {
     "name": "stdout",
     "output_type": "stream",
     "text": [
      "Confusion matrix:\n",
      " [[ 0 73]\n",
      " [ 0 12]]\n",
      "{'dropout': 0.9, 'hidden_size': 50, 'learning_rate': 1e-05, 'batch_size': 64, 'n_hidden': 4, 'accuracy': 0.1412, 'f1': 0.25}\n"
     ]
    },
    {
     "name": "stderr",
     "output_type": "stream",
     "text": [
      "C:\\Users\\William\\AppData\\Roaming\\Python\\Python311\\site-packages\\torch\\nn\\modules\\rnn.py:82: UserWarning: dropout option adds dropout after all but last recurrent layer, so non-zero dropout expects num_layers greater than 1, but got dropout=0.9 and num_layers=1\n",
      "  warnings.warn(\"dropout option adds dropout after all but last \"\n",
      "C:\\Users\\William\\AppData\\Roaming\\Python\\Python311\\site-packages\\torch\\nn\\modules\\rnn.py:82: UserWarning: dropout option adds dropout after all but last recurrent layer, so non-zero dropout expects num_layers greater than 1, but got dropout=0.9 and num_layers=1\n",
      "  warnings.warn(\"dropout option adds dropout after all but last \"\n",
      "897it [8:38:07, 30.67s/it]"
     ]
    },
    {
     "name": "stdout",
     "output_type": "stream",
     "text": [
      "Confusion matrix:\n",
      " [[68  5]\n",
      " [ 1 11]]\n",
      "{'dropout': 0.9, 'hidden_size': 75, 'learning_rate': 0.01, 'batch_size': 8, 'n_hidden': 1, 'accuracy': 0.9294, 'f1': 0.79}\n"
     ]
    },
    {
     "name": "stderr",
     "output_type": "stream",
     "text": [
      "898it [8:38:48, 33.81s/it]"
     ]
    },
    {
     "name": "stdout",
     "output_type": "stream",
     "text": [
      "Confusion matrix:\n",
      " [[73  0]\n",
      " [12  0]]\n",
      "{'dropout': 0.9, 'hidden_size': 75, 'learning_rate': 0.01, 'batch_size': 8, 'n_hidden': 2, 'accuracy': 0.8588, 'f1': 0.0}\n"
     ]
    },
    {
     "name": "stderr",
     "output_type": "stream",
     "text": [
      "899it [8:39:19, 32.83s/it]"
     ]
    },
    {
     "name": "stdout",
     "output_type": "stream",
     "text": [
      "Confusion matrix:\n",
      " [[73  0]\n",
      " [12  0]]\n",
      "{'dropout': 0.9, 'hidden_size': 75, 'learning_rate': 0.01, 'batch_size': 8, 'n_hidden': 3, 'accuracy': 0.8588, 'f1': 0.0}\n"
     ]
    },
    {
     "name": "stderr",
     "output_type": "stream",
     "text": [
      "899it [8:39:30, 34.67s/it]\n"
     ]
    },
    {
     "ename": "KeyboardInterrupt",
     "evalue": "",
     "output_type": "error",
     "traceback": [
      "\u001b[1;31m---------------------------------------------------------------------------\u001b[0m",
      "\u001b[1;31mKeyboardInterrupt\u001b[0m                         Traceback (most recent call last)",
      "Cell \u001b[1;32mIn[224], line 4\u001b[0m\n\u001b[0;32m      2\u001b[0m \u001b[38;5;28;01mfor\u001b[39;00m i, p \u001b[38;5;129;01min\u001b[39;00m tqdm(\u001b[38;5;28menumerate\u001b[39m(parameter_expansion)):\n\u001b[0;32m      3\u001b[0m     dropout, hidden_size, learning_rate, batch_size, n_hidden \u001b[38;5;241m=\u001b[39m p\n\u001b[1;32m----> 4\u001b[0m     accuracy, f1, confusion \u001b[38;5;241m=\u001b[39m \u001b[43mevaluate\u001b[49m\u001b[43m(\u001b[49m\u001b[43mp\u001b[49m\u001b[43m)\u001b[49m\n\u001b[0;32m      5\u001b[0m     model_performance \u001b[38;5;241m=\u001b[39m {\u001b[38;5;124m\"\u001b[39m\u001b[38;5;124mdropout\u001b[39m\u001b[38;5;124m\"\u001b[39m: dropout, \u001b[38;5;124m\"\u001b[39m\u001b[38;5;124mhidden_size\u001b[39m\u001b[38;5;124m\"\u001b[39m: hidden_size, \u001b[38;5;124m\"\u001b[39m\u001b[38;5;124mlearning_rate\u001b[39m\u001b[38;5;124m\"\u001b[39m: learning_rate, \n\u001b[0;32m      6\u001b[0m               \u001b[38;5;124m\"\u001b[39m\u001b[38;5;124mbatch_size\u001b[39m\u001b[38;5;124m\"\u001b[39m: batch_size, \u001b[38;5;124m\"\u001b[39m\u001b[38;5;124mn_hidden\u001b[39m\u001b[38;5;124m\"\u001b[39m: n_hidden, \u001b[38;5;124m\"\u001b[39m\u001b[38;5;124maccuracy\u001b[39m\u001b[38;5;124m\"\u001b[39m: accuracy, \u001b[38;5;124m\"\u001b[39m\u001b[38;5;124mf1\u001b[39m\u001b[38;5;124m\"\u001b[39m: f1}\n\u001b[0;32m      7\u001b[0m     results[i] \u001b[38;5;241m=\u001b[39m model_performance\n",
      "Cell \u001b[1;32mIn[222], line 21\u001b[0m, in \u001b[0;36mevaluate\u001b[1;34m(params)\u001b[0m\n\u001b[0;32m     17\u001b[0m optimizer \u001b[38;5;241m=\u001b[39m torch\u001b[38;5;241m.\u001b[39moptim\u001b[38;5;241m.\u001b[39mAdamW(model\u001b[38;5;241m.\u001b[39mparameters(), lr\u001b[38;5;241m=\u001b[39mlearning_rate)\n\u001b[0;32m     19\u001b[0m \u001b[38;5;28;01mfor\u001b[39;00m epoch \u001b[38;5;129;01min\u001b[39;00m \u001b[38;5;28mrange\u001b[39m(max_epochs):\n\u001b[0;32m     20\u001b[0m     \u001b[38;5;66;03m# training\u001b[39;00m\n\u001b[1;32m---> 21\u001b[0m     train_loss, train_accuracy, train_f1, train_confusion \u001b[38;5;241m=\u001b[39m \u001b[43mtrain_test\u001b[49m\u001b[43m(\u001b[49m\u001b[43mmodel\u001b[49m\u001b[43m,\u001b[49m\u001b[43m \u001b[49m\u001b[43mtrain_dataloader\u001b[49m\u001b[43m,\u001b[49m\u001b[43m \u001b[49m\u001b[43moptimizer\u001b[49m\u001b[43m,\u001b[49m\u001b[43m \u001b[49m\u001b[43mtraining\u001b[49m\u001b[38;5;241;43m=\u001b[39;49m\u001b[38;5;124;43m\"\u001b[39;49m\u001b[38;5;124;43mtrain\u001b[39;49m\u001b[38;5;124;43m\"\u001b[39;49m\u001b[43m)\u001b[49m\n\u001b[0;32m     22\u001b[0m     train_loss, train_accuracy, train_f1 \u001b[38;5;241m=\u001b[39m train_loss, \u001b[38;5;28mround\u001b[39m(train_accuracy, \u001b[38;5;241m4\u001b[39m), \u001b[38;5;28mround\u001b[39m(train_f1, \u001b[38;5;241m2\u001b[39m)\n\u001b[0;32m     23\u001b[0m     \u001b[38;5;66;03m# validation at end of epoch\u001b[39;00m\n",
      "Cell \u001b[1;32mIn[97], line 32\u001b[0m, in \u001b[0;36mtrain_test\u001b[1;34m(model, dataloader, optimizer, training)\u001b[0m\n\u001b[0;32m     30\u001b[0m \u001b[38;5;28;01mif\u001b[39;00m training \u001b[38;5;241m==\u001b[39m \u001b[38;5;124m\"\u001b[39m\u001b[38;5;124mtrain\u001b[39m\u001b[38;5;124m\"\u001b[39m:\n\u001b[0;32m     31\u001b[0m     optimizer\u001b[38;5;241m.\u001b[39mzero_grad()\n\u001b[1;32m---> 32\u001b[0m     \u001b[43mloss_value\u001b[49m\u001b[38;5;241;43m.\u001b[39;49m\u001b[43msum\u001b[49m\u001b[43m(\u001b[49m\u001b[43m)\u001b[49m\u001b[38;5;241;43m.\u001b[39;49m\u001b[43mbackward\u001b[49m\u001b[43m(\u001b[49m\u001b[43m)\u001b[49m\n\u001b[0;32m     33\u001b[0m     optimizer\u001b[38;5;241m.\u001b[39mstep()\n\u001b[0;32m     35\u001b[0m predictions \u001b[38;5;241m=\u001b[39m output\u001b[38;5;241m.\u001b[39mto(\u001b[38;5;124m'\u001b[39m\u001b[38;5;124mcpu\u001b[39m\u001b[38;5;124m'\u001b[39m)\u001b[38;5;241m.\u001b[39mdetach()\u001b[38;5;241m.\u001b[39mnumpy()\u001b[38;5;241m.\u001b[39margmax(axis\u001b[38;5;241m=\u001b[39m\u001b[38;5;241m1\u001b[39m)\n",
      "File \u001b[1;32m~\\AppData\\Roaming\\Python\\Python311\\site-packages\\torch\\_tensor.py:492\u001b[0m, in \u001b[0;36mTensor.backward\u001b[1;34m(self, gradient, retain_graph, create_graph, inputs)\u001b[0m\n\u001b[0;32m    482\u001b[0m \u001b[38;5;28;01mif\u001b[39;00m has_torch_function_unary(\u001b[38;5;28mself\u001b[39m):\n\u001b[0;32m    483\u001b[0m     \u001b[38;5;28;01mreturn\u001b[39;00m handle_torch_function(\n\u001b[0;32m    484\u001b[0m         Tensor\u001b[38;5;241m.\u001b[39mbackward,\n\u001b[0;32m    485\u001b[0m         (\u001b[38;5;28mself\u001b[39m,),\n\u001b[1;32m   (...)\u001b[0m\n\u001b[0;32m    490\u001b[0m         inputs\u001b[38;5;241m=\u001b[39minputs,\n\u001b[0;32m    491\u001b[0m     )\n\u001b[1;32m--> 492\u001b[0m \u001b[43mtorch\u001b[49m\u001b[38;5;241;43m.\u001b[39;49m\u001b[43mautograd\u001b[49m\u001b[38;5;241;43m.\u001b[39;49m\u001b[43mbackward\u001b[49m\u001b[43m(\u001b[49m\n\u001b[0;32m    493\u001b[0m \u001b[43m    \u001b[49m\u001b[38;5;28;43mself\u001b[39;49m\u001b[43m,\u001b[49m\u001b[43m \u001b[49m\u001b[43mgradient\u001b[49m\u001b[43m,\u001b[49m\u001b[43m \u001b[49m\u001b[43mretain_graph\u001b[49m\u001b[43m,\u001b[49m\u001b[43m \u001b[49m\u001b[43mcreate_graph\u001b[49m\u001b[43m,\u001b[49m\u001b[43m \u001b[49m\u001b[43minputs\u001b[49m\u001b[38;5;241;43m=\u001b[39;49m\u001b[43minputs\u001b[49m\n\u001b[0;32m    494\u001b[0m \u001b[43m\u001b[49m\u001b[43m)\u001b[49m\n",
      "File \u001b[1;32m~\\AppData\\Roaming\\Python\\Python311\\site-packages\\torch\\autograd\\__init__.py:251\u001b[0m, in \u001b[0;36mbackward\u001b[1;34m(tensors, grad_tensors, retain_graph, create_graph, grad_variables, inputs)\u001b[0m\n\u001b[0;32m    246\u001b[0m     retain_graph \u001b[38;5;241m=\u001b[39m create_graph\n\u001b[0;32m    248\u001b[0m \u001b[38;5;66;03m# The reason we repeat the same comment below is that\u001b[39;00m\n\u001b[0;32m    249\u001b[0m \u001b[38;5;66;03m# some Python versions print out the first line of a multi-line function\u001b[39;00m\n\u001b[0;32m    250\u001b[0m \u001b[38;5;66;03m# calls in the traceback and some print out the last line\u001b[39;00m\n\u001b[1;32m--> 251\u001b[0m \u001b[43mVariable\u001b[49m\u001b[38;5;241;43m.\u001b[39;49m\u001b[43m_execution_engine\u001b[49m\u001b[38;5;241;43m.\u001b[39;49m\u001b[43mrun_backward\u001b[49m\u001b[43m(\u001b[49m\u001b[43m  \u001b[49m\u001b[38;5;66;43;03m# Calls into the C++ engine to run the backward pass\u001b[39;49;00m\n\u001b[0;32m    252\u001b[0m \u001b[43m    \u001b[49m\u001b[43mtensors\u001b[49m\u001b[43m,\u001b[49m\n\u001b[0;32m    253\u001b[0m \u001b[43m    \u001b[49m\u001b[43mgrad_tensors_\u001b[49m\u001b[43m,\u001b[49m\n\u001b[0;32m    254\u001b[0m \u001b[43m    \u001b[49m\u001b[43mretain_graph\u001b[49m\u001b[43m,\u001b[49m\n\u001b[0;32m    255\u001b[0m \u001b[43m    \u001b[49m\u001b[43mcreate_graph\u001b[49m\u001b[43m,\u001b[49m\n\u001b[0;32m    256\u001b[0m \u001b[43m    \u001b[49m\u001b[43minputs\u001b[49m\u001b[43m,\u001b[49m\n\u001b[0;32m    257\u001b[0m \u001b[43m    \u001b[49m\u001b[43mallow_unreachable\u001b[49m\u001b[38;5;241;43m=\u001b[39;49m\u001b[38;5;28;43;01mTrue\u001b[39;49;00m\u001b[43m,\u001b[49m\n\u001b[0;32m    258\u001b[0m \u001b[43m    \u001b[49m\u001b[43maccumulate_grad\u001b[49m\u001b[38;5;241;43m=\u001b[39;49m\u001b[38;5;28;43;01mTrue\u001b[39;49;00m\u001b[43m,\u001b[49m\n\u001b[0;32m    259\u001b[0m \u001b[43m\u001b[49m\u001b[43m)\u001b[49m\n",
      "\u001b[1;31mKeyboardInterrupt\u001b[0m: "
     ]
    }
   ],
   "source": [
    "results = {}\n",
    "for i, p in tqdm(enumerate(parameter_expansion)):\n",
    "    dropout, hidden_size, learning_rate, batch_size, n_hidden = p\n",
    "    accuracy, f1, confusion = evaluate(p)\n",
    "    model_performance = {\"dropout\": dropout, \"hidden_size\": hidden_size, \"learning_rate\": learning_rate, \n",
    "              \"batch_size\": batch_size, \"n_hidden\": n_hidden, \"accuracy\": accuracy, \"f1\": f1}\n",
    "    results[i] = model_performance\n",
    "    print(\"Confusion matrix:\\n\", confusion)\n",
    "    print(model_performance)"
   ]
  },
  {
   "cell_type": "code",
   "execution_count": 175,
   "metadata": {},
   "outputs": [
    {
     "name": "stdout",
     "output_type": "stream",
     "text": [
      "Epoch 1\n",
      "validation loss: 2.07\n",
      "Epoch 2\n",
      "validation loss: 2.05\n",
      "Epoch 3\n",
      "validation loss: 2.05\n",
      "Epoch 4\n",
      "validation loss: 2.04\n",
      "Epoch 5\n",
      "validation loss: 2.02\n",
      "Epoch 6\n",
      "validation loss: 2.02\n",
      "Epoch 7\n",
      "validation loss: 2.02\n",
      "Epoch 8\n",
      "validation loss: 1.99\n",
      "Epoch 9\n",
      "validation loss: 1.96\n",
      "Epoch 10\n",
      "validation loss: 1.86\n",
      "Epoch 11\n",
      "validation loss: 1.86\n",
      "Epoch 12\n",
      "validation loss: 1.88\n",
      "Epoch 13\n",
      "validation loss: 1.76\n",
      "Epoch 14\n",
      "validation loss: 1.8\n",
      "Epoch 15\n",
      "validation loss: 1.74\n",
      "Epoch 16\n",
      "validation loss: 1.76\n",
      "Epoch 17\n",
      "validation loss: 1.74\n",
      "Epoch 18\n",
      "validation loss: 1.72\n",
      "Epoch 19\n",
      "validation loss: 1.72\n",
      "Epoch 20\n",
      "validation loss: 1.58\n",
      "Epoch 21\n",
      "validation loss: 1.54\n",
      "Epoch 22\n",
      "validation loss: 1.6\n",
      "Epoch 23\n",
      "validation loss: 1.55\n",
      "Epoch 24\n",
      "validation loss: 1.56\n",
      "Epoch 25\n",
      "validation loss: 1.63\n",
      "Epoch 26\n",
      "validation loss: 1.57\n",
      "Epoch 27\n",
      "validation loss: 1.59\n",
      "Epoch 28\n",
      "validation loss: 1.5\n",
      "Epoch 29\n",
      "validation loss: 1.54\n",
      "Epoch 30\n",
      "validation loss: 1.52\n",
      "Epoch 31\n",
      "validation loss: 1.45\n",
      "Epoch 32\n",
      "validation loss: 1.42\n",
      "Epoch 33\n",
      "validation loss: 1.42\n",
      "Epoch 34\n",
      "validation loss: 1.38\n",
      "Epoch 35\n",
      "validation loss: 1.41\n",
      "Epoch 36\n",
      "validation loss: 1.35\n",
      "Epoch 37\n",
      "validation loss: 1.27\n",
      "Epoch 38\n",
      "validation loss: 1.41\n",
      "Epoch 39\n",
      "validation loss: 1.11\n",
      "Epoch 40\n",
      "validation loss: 1.18\n",
      "Epoch 41\n",
      "validation loss: 1.11\n",
      "Epoch 42\n",
      "validation loss: 1.01\n",
      "Epoch 43\n",
      "validation loss: 1.01\n",
      "Epoch 44\n",
      "validation loss: 1.01\n",
      "Epoch 45\n",
      "validation loss: 1.01\n",
      "Epoch 46\n",
      "validation loss: 1.02\n",
      "Epoch 47\n",
      "validation loss: 0.99\n",
      "Epoch 48\n",
      "validation loss: 1.07\n",
      "Epoch 49\n",
      "validation loss: 1.07\n",
      "Epoch 50\n",
      "validation loss: 1.02\n",
      "Epoch 51\n",
      "validation loss: 1.0\n",
      "Epoch 52\n",
      "validation loss: 1.1\n",
      "Epoch 53\n",
      "validation loss: 1.44\n",
      "Epoch 54\n",
      "validation loss: 0.91\n",
      "Epoch 55\n",
      "validation loss: 1.05\n",
      "Epoch 56\n",
      "validation loss: 1.2\n",
      "Epoch 57\n",
      "validation loss: 0.93\n",
      "Epoch 58\n",
      "validation loss: 1.09\n",
      "Epoch 59\n",
      "validation loss: 1.07\n",
      "Epoch 60\n",
      "validation loss: 0.96\n",
      "Epoch 61\n",
      "validation loss: 0.93\n",
      "Epoch 62\n",
      "validation loss: 1.14\n",
      "Epoch 63\n",
      "validation loss: 1.03\n",
      "Epoch 64\n",
      "validation loss: 1.27\n",
      "Epoch 65\n",
      "validation loss: 1.04\n",
      "Epoch 66\n",
      "validation loss: 1.16\n",
      "Epoch 67\n",
      "validation loss: 1.36\n",
      "Epoch 68\n",
      "validation loss: 1.17\n",
      "Epoch 69\n",
      "validation loss: 1.27\n",
      "Epoch 70\n",
      "validation loss: 1.2\n",
      "Epoch 71\n",
      "validation loss: 1.26\n",
      "Epoch 72\n",
      "validation loss: 1.18\n",
      "Epoch 73\n",
      "validation loss: 1.73\n",
      "Confusion matrix:\n",
      " [[63 10]\n",
      " [ 2 10]]\n",
      "Accuracy and f1 for best parameters:  0.8588 0.62\n"
     ]
    }
   ],
   "source": [
    "best_params = (0.1, 40, 0.0002, 32, 2)\n",
    "accuracy, f1, confusion = evaluate(best_params)\n",
    "print(\"Confusion matrix:\\n\", confusion)\n",
    "print(\"Accuracy and f1 for best parameters: \", accuracy, f1)"
   ]
  },
  {
   "cell_type": "code",
   "execution_count": null,
   "metadata": {},
   "outputs": [],
   "source": [
    "results_dataframe = pd.DataFrame.from_dict(results)"
   ]
  }
 ],
 "metadata": {
  "kernelspec": {
   "display_name": "Python 3",
   "language": "python",
   "name": "python3"
  },
  "language_info": {
   "codemirror_mode": {
    "name": "ipython",
    "version": 3
   },
   "file_extension": ".py",
   "mimetype": "text/x-python",
   "name": "python",
   "nbconvert_exporter": "python",
   "pygments_lexer": "ipython3",
   "version": "3.11.5"
  }
 },
 "nbformat": 4,
 "nbformat_minor": 2
}
